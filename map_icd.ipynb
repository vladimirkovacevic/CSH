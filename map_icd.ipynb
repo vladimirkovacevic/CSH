{
 "cells": [
  {
   "cell_type": "code",
   "execution_count": 378,
   "id": "ca074cce",
   "metadata": {},
   "outputs": [],
   "source": [
    "import glob\n",
    "\n",
    "import pandas as pd\n",
    "from tqdm import tqdm\n",
    "# from rapidfuzz import process, fuzz\n",
    "from concurrent.futures import ThreadPoolExecutor\n",
    "import numpy as np\n",
    "import pyreadr\n",
    "import icd10\n",
    "from scipy.stats import pearsonr\n",
    "import matplotlib.pyplot as plt\n",
    "from matplotlib.lines import Line2D\n",
    "import seaborn as sns\n",
    "\n",
    "# # Load the disease dataset\n",
    "# # df_diseases = pd.read_csv(\"../CTD/data/target_disease/sample_cor_99.csv\")\n",
    "# # df_diseases = pd.read_csv(\"../CTD/data/open_targets/sample_cor_99.csv\n",
    "# with open('../CTD/data/open_targets/cor_matrix_95_nolit.csv', 'r') as f:\n",
    "#     diseases = f.readline().strip().split(',')\n",
    "# diseases = [d.replace(\"_\", \" \").lower() for d in diseases]\n",
    "\n",
    "# # Load the ICD-10 dataset\n",
    "# df_icd = pd.read_csv(\"data/DiagAll_Eng.csv\")\n",
    "# df_icd = df_icd.drop_duplicates(subset=[\"ShortDescription\"])  # Ensure unique descriptions\n",
    "# icd_dict = dict(zip(df_icd[\"ShortDescription\"].str.lower(), df_icd[\"Code\"]))\n",
    "# icd_descriptions = set(icd_dict.keys())  # Convert to set for faster lookup\n",
    "\n",
    "# def map_disease(disease_name):\n",
    "#     # Check for exact match first\n",
    "#     if disease_name in icd_descriptions:\n",
    "#         return disease_name\n",
    "    \n",
    "#     # If no exact match, use faster fuzzy string matching\n",
    "#     best_match = process.extractOne(disease_name, icd_descriptions, scorer=fuzz.WRatio)\n",
    "#     return best_match[0] if best_match and best_match[1] > 60 else \"UNKNOWN\"\n",
    "\n",
    "# # Use multithreading to speed up mapping (max 6 threads)\n",
    "# with ThreadPoolExecutor(max_workers=6) as executor:\n",
    "#     results = list(tqdm(executor.map(map_disease, diseases), total=len(diseases), desc=\"Mapping diseases to ICD-10 codes\"))\n",
    "\n",
    "# diseases_mapping = dict(zip(diseases, results))\n",
    "\n",
    "# # Print each mapping on a new line\n",
    "# for disease, icd in list(diseases_mapping.items())[:50]:\n",
    "#     print(f\"{disease}: {icd}\")\n"
   ]
  },
  {
   "cell_type": "code",
   "execution_count": 221,
   "id": "1d5dbd75",
   "metadata": {},
   "outputs": [
    {
     "data": {
      "text/html": [
       "<div>\n",
       "<style scoped>\n",
       "    .dataframe tbody tr th:only-of-type {\n",
       "        vertical-align: middle;\n",
       "    }\n",
       "\n",
       "    .dataframe tbody tr th {\n",
       "        vertical-align: top;\n",
       "    }\n",
       "\n",
       "    .dataframe thead th {\n",
       "        text-align: right;\n",
       "    }\n",
       "</style>\n",
       "<table border=\"1\" class=\"dataframe\">\n",
       "  <thead>\n",
       "    <tr style=\"text-align: right;\">\n",
       "      <th></th>\n",
       "      <th>15q overgrowth syndrome</th>\n",
       "      <th>17,20-lyase deficiency, isolated</th>\n",
       "      <th>17-alpha-hydroxylase/17,20-lyase deficiency, combined complete</th>\n",
       "      <th>17-alpha-hydroxylase/17,20-lyase deficiency, combined partial</th>\n",
       "      <th>2-3 finger syndactyly</th>\n",
       "      <th>2-3 toe syndactyly</th>\n",
       "      <th>2-aminoadipic 2-oxoadipic aciduria</th>\n",
       "      <th>2-hydroxyglutaric aciduria</th>\n",
       "      <th>2-methylbutyryl-CoA dehydrogenase deficiency</th>\n",
       "      <th>3-4 toe syndactyly</th>\n",
       "      <th>...</th>\n",
       "      <th>xeroderma pigmentosum group G</th>\n",
       "      <th>xeroderma pigmentosum variant type</th>\n",
       "      <th>xeroderma pigmentosum-Cockayne syndrome complex</th>\n",
       "      <th>xerosis and growth failure with immune and pulmonary dysfunction syndrome</th>\n",
       "      <th>xerostomia</th>\n",
       "      <th>young-onset Parkinson disease</th>\n",
       "      <th>zebra body myopathy</th>\n",
       "      <th>zinc deficiency, transient neonatal</th>\n",
       "      <th>zygodactyly type 3</th>\n",
       "      <th>Åland Islands eye disease</th>\n",
       "    </tr>\n",
       "  </thead>\n",
       "  <tbody>\n",
       "    <tr>\n",
       "      <th>15q overgrowth syndrome</th>\n",
       "      <td>0.0</td>\n",
       "      <td>0.000000</td>\n",
       "      <td>0.000000</td>\n",
       "      <td>0.000000</td>\n",
       "      <td>0.000000</td>\n",
       "      <td>0.0</td>\n",
       "      <td>0.0</td>\n",
       "      <td>0.0</td>\n",
       "      <td>0.0</td>\n",
       "      <td>0.0</td>\n",
       "      <td>...</td>\n",
       "      <td>0.281958</td>\n",
       "      <td>0.0</td>\n",
       "      <td>0.0</td>\n",
       "      <td>0.0</td>\n",
       "      <td>0.0</td>\n",
       "      <td>0.0</td>\n",
       "      <td>0.000000</td>\n",
       "      <td>0.000000</td>\n",
       "      <td>0.0</td>\n",
       "      <td>0.0</td>\n",
       "    </tr>\n",
       "    <tr>\n",
       "      <th>17,20-lyase deficiency, isolated</th>\n",
       "      <td>0.0</td>\n",
       "      <td>0.000000</td>\n",
       "      <td>0.871953</td>\n",
       "      <td>0.847936</td>\n",
       "      <td>0.000000</td>\n",
       "      <td>0.0</td>\n",
       "      <td>0.0</td>\n",
       "      <td>0.0</td>\n",
       "      <td>0.0</td>\n",
       "      <td>0.0</td>\n",
       "      <td>...</td>\n",
       "      <td>0.000000</td>\n",
       "      <td>0.0</td>\n",
       "      <td>0.0</td>\n",
       "      <td>0.0</td>\n",
       "      <td>0.0</td>\n",
       "      <td>0.0</td>\n",
       "      <td>0.000000</td>\n",
       "      <td>0.000000</td>\n",
       "      <td>0.0</td>\n",
       "      <td>0.0</td>\n",
       "    </tr>\n",
       "    <tr>\n",
       "      <th>17-alpha-hydroxylase/17,20-lyase deficiency, combined complete</th>\n",
       "      <td>0.0</td>\n",
       "      <td>0.871953</td>\n",
       "      <td>0.000000</td>\n",
       "      <td>0.847936</td>\n",
       "      <td>0.000000</td>\n",
       "      <td>0.0</td>\n",
       "      <td>0.0</td>\n",
       "      <td>0.0</td>\n",
       "      <td>0.0</td>\n",
       "      <td>0.0</td>\n",
       "      <td>...</td>\n",
       "      <td>0.000000</td>\n",
       "      <td>0.0</td>\n",
       "      <td>0.0</td>\n",
       "      <td>0.0</td>\n",
       "      <td>0.0</td>\n",
       "      <td>0.0</td>\n",
       "      <td>0.000000</td>\n",
       "      <td>0.000000</td>\n",
       "      <td>0.0</td>\n",
       "      <td>0.0</td>\n",
       "    </tr>\n",
       "    <tr>\n",
       "      <th>17-alpha-hydroxylase/17,20-lyase deficiency, combined partial</th>\n",
       "      <td>0.0</td>\n",
       "      <td>0.847936</td>\n",
       "      <td>0.847936</td>\n",
       "      <td>0.000000</td>\n",
       "      <td>0.000000</td>\n",
       "      <td>0.0</td>\n",
       "      <td>0.0</td>\n",
       "      <td>0.0</td>\n",
       "      <td>0.0</td>\n",
       "      <td>0.0</td>\n",
       "      <td>...</td>\n",
       "      <td>0.000000</td>\n",
       "      <td>0.0</td>\n",
       "      <td>0.0</td>\n",
       "      <td>0.0</td>\n",
       "      <td>0.0</td>\n",
       "      <td>0.0</td>\n",
       "      <td>0.000000</td>\n",
       "      <td>0.000000</td>\n",
       "      <td>0.0</td>\n",
       "      <td>0.0</td>\n",
       "    </tr>\n",
       "    <tr>\n",
       "      <th>2-3 finger syndactyly</th>\n",
       "      <td>0.0</td>\n",
       "      <td>0.000000</td>\n",
       "      <td>0.000000</td>\n",
       "      <td>0.000000</td>\n",
       "      <td>0.000000</td>\n",
       "      <td>0.0</td>\n",
       "      <td>0.0</td>\n",
       "      <td>0.0</td>\n",
       "      <td>0.0</td>\n",
       "      <td>0.0</td>\n",
       "      <td>...</td>\n",
       "      <td>0.000000</td>\n",
       "      <td>0.0</td>\n",
       "      <td>0.0</td>\n",
       "      <td>0.0</td>\n",
       "      <td>0.0</td>\n",
       "      <td>0.0</td>\n",
       "      <td>0.251987</td>\n",
       "      <td>0.000000</td>\n",
       "      <td>0.0</td>\n",
       "      <td>0.0</td>\n",
       "    </tr>\n",
       "    <tr>\n",
       "      <th>...</th>\n",
       "      <td>...</td>\n",
       "      <td>...</td>\n",
       "      <td>...</td>\n",
       "      <td>...</td>\n",
       "      <td>...</td>\n",
       "      <td>...</td>\n",
       "      <td>...</td>\n",
       "      <td>...</td>\n",
       "      <td>...</td>\n",
       "      <td>...</td>\n",
       "      <td>...</td>\n",
       "      <td>...</td>\n",
       "      <td>...</td>\n",
       "      <td>...</td>\n",
       "      <td>...</td>\n",
       "      <td>...</td>\n",
       "      <td>...</td>\n",
       "      <td>...</td>\n",
       "      <td>...</td>\n",
       "      <td>...</td>\n",
       "      <td>...</td>\n",
       "    </tr>\n",
       "    <tr>\n",
       "      <th>young-onset Parkinson disease</th>\n",
       "      <td>0.0</td>\n",
       "      <td>0.000000</td>\n",
       "      <td>0.000000</td>\n",
       "      <td>0.000000</td>\n",
       "      <td>0.000000</td>\n",
       "      <td>0.0</td>\n",
       "      <td>0.0</td>\n",
       "      <td>0.0</td>\n",
       "      <td>0.0</td>\n",
       "      <td>0.0</td>\n",
       "      <td>...</td>\n",
       "      <td>0.257915</td>\n",
       "      <td>0.0</td>\n",
       "      <td>0.0</td>\n",
       "      <td>0.0</td>\n",
       "      <td>0.0</td>\n",
       "      <td>0.0</td>\n",
       "      <td>0.000000</td>\n",
       "      <td>0.000000</td>\n",
       "      <td>0.0</td>\n",
       "      <td>0.0</td>\n",
       "    </tr>\n",
       "    <tr>\n",
       "      <th>zebra body myopathy</th>\n",
       "      <td>0.0</td>\n",
       "      <td>0.000000</td>\n",
       "      <td>0.000000</td>\n",
       "      <td>0.000000</td>\n",
       "      <td>0.251987</td>\n",
       "      <td>0.0</td>\n",
       "      <td>0.0</td>\n",
       "      <td>0.0</td>\n",
       "      <td>0.0</td>\n",
       "      <td>0.0</td>\n",
       "      <td>...</td>\n",
       "      <td>0.285332</td>\n",
       "      <td>0.0</td>\n",
       "      <td>0.0</td>\n",
       "      <td>0.0</td>\n",
       "      <td>0.0</td>\n",
       "      <td>0.0</td>\n",
       "      <td>0.000000</td>\n",
       "      <td>0.274217</td>\n",
       "      <td>0.0</td>\n",
       "      <td>0.0</td>\n",
       "    </tr>\n",
       "    <tr>\n",
       "      <th>zinc deficiency, transient neonatal</th>\n",
       "      <td>0.0</td>\n",
       "      <td>0.000000</td>\n",
       "      <td>0.000000</td>\n",
       "      <td>0.000000</td>\n",
       "      <td>0.000000</td>\n",
       "      <td>0.0</td>\n",
       "      <td>0.0</td>\n",
       "      <td>0.0</td>\n",
       "      <td>0.0</td>\n",
       "      <td>0.0</td>\n",
       "      <td>...</td>\n",
       "      <td>0.000000</td>\n",
       "      <td>0.0</td>\n",
       "      <td>0.0</td>\n",
       "      <td>0.0</td>\n",
       "      <td>0.0</td>\n",
       "      <td>0.0</td>\n",
       "      <td>0.274217</td>\n",
       "      <td>0.000000</td>\n",
       "      <td>0.0</td>\n",
       "      <td>0.0</td>\n",
       "    </tr>\n",
       "    <tr>\n",
       "      <th>zygodactyly type 3</th>\n",
       "      <td>0.0</td>\n",
       "      <td>0.000000</td>\n",
       "      <td>0.000000</td>\n",
       "      <td>0.000000</td>\n",
       "      <td>0.000000</td>\n",
       "      <td>0.0</td>\n",
       "      <td>0.0</td>\n",
       "      <td>0.0</td>\n",
       "      <td>0.0</td>\n",
       "      <td>0.0</td>\n",
       "      <td>...</td>\n",
       "      <td>0.000000</td>\n",
       "      <td>0.0</td>\n",
       "      <td>0.0</td>\n",
       "      <td>0.0</td>\n",
       "      <td>0.0</td>\n",
       "      <td>0.0</td>\n",
       "      <td>0.000000</td>\n",
       "      <td>0.000000</td>\n",
       "      <td>0.0</td>\n",
       "      <td>0.0</td>\n",
       "    </tr>\n",
       "    <tr>\n",
       "      <th>Åland Islands eye disease</th>\n",
       "      <td>0.0</td>\n",
       "      <td>0.000000</td>\n",
       "      <td>0.000000</td>\n",
       "      <td>0.000000</td>\n",
       "      <td>0.000000</td>\n",
       "      <td>0.0</td>\n",
       "      <td>0.0</td>\n",
       "      <td>0.0</td>\n",
       "      <td>0.0</td>\n",
       "      <td>0.0</td>\n",
       "      <td>...</td>\n",
       "      <td>0.327857</td>\n",
       "      <td>0.0</td>\n",
       "      <td>0.0</td>\n",
       "      <td>0.0</td>\n",
       "      <td>0.0</td>\n",
       "      <td>0.0</td>\n",
       "      <td>0.000000</td>\n",
       "      <td>0.000000</td>\n",
       "      <td>0.0</td>\n",
       "      <td>0.0</td>\n",
       "    </tr>\n",
       "  </tbody>\n",
       "</table>\n",
       "<p>13227 rows × 13227 columns</p>\n",
       "</div>"
      ],
      "text/plain": [
       "                                                                15q overgrowth syndrome  \\\n",
       "15q overgrowth syndrome                                                             0.0   \n",
       "17,20-lyase deficiency, isolated                                                    0.0   \n",
       "17-alpha-hydroxylase/17,20-lyase deficiency, combined complete                      0.0   \n",
       "17-alpha-hydroxylase/17,20-lyase deficiency, combined partial                       0.0   \n",
       "2-3 finger syndactyly                                                               0.0   \n",
       "...                                                                                 ...   \n",
       "young-onset Parkinson disease                                                       0.0   \n",
       "zebra body myopathy                                                                 0.0   \n",
       "zinc deficiency, transient neonatal                                                 0.0   \n",
       "zygodactyly type 3                                                                  0.0   \n",
       "Åland Islands eye disease                                                           0.0   \n",
       "\n",
       "                                                                17,20-lyase deficiency, isolated  \\\n",
       "15q overgrowth syndrome                                                                 0.000000   \n",
       "17,20-lyase deficiency, isolated                                                        0.000000   \n",
       "17-alpha-hydroxylase/17,20-lyase deficiency, combined complete                          0.871953   \n",
       "17-alpha-hydroxylase/17,20-lyase deficiency, combined partial                           0.847936   \n",
       "2-3 finger syndactyly                                                                   0.000000   \n",
       "...                                                                                          ...   \n",
       "young-onset Parkinson disease                                                           0.000000   \n",
       "zebra body myopathy                                                                     0.000000   \n",
       "zinc deficiency, transient neonatal                                                     0.000000   \n",
       "zygodactyly type 3                                                                      0.000000   \n",
       "Åland Islands eye disease                                                               0.000000   \n",
       "\n",
       "                                                                17-alpha-hydroxylase/17,20-lyase deficiency, combined complete  \\\n",
       "15q overgrowth syndrome                                                                                               0.000000   \n",
       "17,20-lyase deficiency, isolated                                                                                      0.871953   \n",
       "17-alpha-hydroxylase/17,20-lyase deficiency, combined complete                                                        0.000000   \n",
       "17-alpha-hydroxylase/17,20-lyase deficiency, combined partial                                                         0.847936   \n",
       "2-3 finger syndactyly                                                                                                 0.000000   \n",
       "...                                                                                                                        ...   \n",
       "young-onset Parkinson disease                                                                                         0.000000   \n",
       "zebra body myopathy                                                                                                   0.000000   \n",
       "zinc deficiency, transient neonatal                                                                                   0.000000   \n",
       "zygodactyly type 3                                                                                                    0.000000   \n",
       "Åland Islands eye disease                                                                                             0.000000   \n",
       "\n",
       "                                                                17-alpha-hydroxylase/17,20-lyase deficiency, combined partial  \\\n",
       "15q overgrowth syndrome                                                                                              0.000000   \n",
       "17,20-lyase deficiency, isolated                                                                                     0.847936   \n",
       "17-alpha-hydroxylase/17,20-lyase deficiency, combined complete                                                       0.847936   \n",
       "17-alpha-hydroxylase/17,20-lyase deficiency, combined partial                                                        0.000000   \n",
       "2-3 finger syndactyly                                                                                                0.000000   \n",
       "...                                                                                                                       ...   \n",
       "young-onset Parkinson disease                                                                                        0.000000   \n",
       "zebra body myopathy                                                                                                  0.000000   \n",
       "zinc deficiency, transient neonatal                                                                                  0.000000   \n",
       "zygodactyly type 3                                                                                                   0.000000   \n",
       "Åland Islands eye disease                                                                                            0.000000   \n",
       "\n",
       "                                                                2-3 finger syndactyly  \\\n",
       "15q overgrowth syndrome                                                      0.000000   \n",
       "17,20-lyase deficiency, isolated                                             0.000000   \n",
       "17-alpha-hydroxylase/17,20-lyase deficiency, combined complete               0.000000   \n",
       "17-alpha-hydroxylase/17,20-lyase deficiency, combined partial                0.000000   \n",
       "2-3 finger syndactyly                                                        0.000000   \n",
       "...                                                                               ...   \n",
       "young-onset Parkinson disease                                                0.000000   \n",
       "zebra body myopathy                                                          0.251987   \n",
       "zinc deficiency, transient neonatal                                          0.000000   \n",
       "zygodactyly type 3                                                           0.000000   \n",
       "Åland Islands eye disease                                                    0.000000   \n",
       "\n",
       "                                                                2-3 toe syndactyly  \\\n",
       "15q overgrowth syndrome                                                        0.0   \n",
       "17,20-lyase deficiency, isolated                                               0.0   \n",
       "17-alpha-hydroxylase/17,20-lyase deficiency, combined complete                 0.0   \n",
       "17-alpha-hydroxylase/17,20-lyase deficiency, combined partial                  0.0   \n",
       "2-3 finger syndactyly                                                          0.0   \n",
       "...                                                                            ...   \n",
       "young-onset Parkinson disease                                                  0.0   \n",
       "zebra body myopathy                                                            0.0   \n",
       "zinc deficiency, transient neonatal                                            0.0   \n",
       "zygodactyly type 3                                                             0.0   \n",
       "Åland Islands eye disease                                                      0.0   \n",
       "\n",
       "                                                                2-aminoadipic 2-oxoadipic aciduria  \\\n",
       "15q overgrowth syndrome                                                                        0.0   \n",
       "17,20-lyase deficiency, isolated                                                               0.0   \n",
       "17-alpha-hydroxylase/17,20-lyase deficiency, combined complete                                 0.0   \n",
       "17-alpha-hydroxylase/17,20-lyase deficiency, combined partial                                  0.0   \n",
       "2-3 finger syndactyly                                                                          0.0   \n",
       "...                                                                                            ...   \n",
       "young-onset Parkinson disease                                                                  0.0   \n",
       "zebra body myopathy                                                                            0.0   \n",
       "zinc deficiency, transient neonatal                                                            0.0   \n",
       "zygodactyly type 3                                                                             0.0   \n",
       "Åland Islands eye disease                                                                      0.0   \n",
       "\n",
       "                                                                2-hydroxyglutaric aciduria  \\\n",
       "15q overgrowth syndrome                                                                0.0   \n",
       "17,20-lyase deficiency, isolated                                                       0.0   \n",
       "17-alpha-hydroxylase/17,20-lyase deficiency, combined complete                         0.0   \n",
       "17-alpha-hydroxylase/17,20-lyase deficiency, combined partial                          0.0   \n",
       "2-3 finger syndactyly                                                                  0.0   \n",
       "...                                                                                    ...   \n",
       "young-onset Parkinson disease                                                          0.0   \n",
       "zebra body myopathy                                                                    0.0   \n",
       "zinc deficiency, transient neonatal                                                    0.0   \n",
       "zygodactyly type 3                                                                     0.0   \n",
       "Åland Islands eye disease                                                              0.0   \n",
       "\n",
       "                                                                2-methylbutyryl-CoA dehydrogenase deficiency  \\\n",
       "15q overgrowth syndrome                                                                                  0.0   \n",
       "17,20-lyase deficiency, isolated                                                                         0.0   \n",
       "17-alpha-hydroxylase/17,20-lyase deficiency, combined complete                                           0.0   \n",
       "17-alpha-hydroxylase/17,20-lyase deficiency, combined partial                                            0.0   \n",
       "2-3 finger syndactyly                                                                                    0.0   \n",
       "...                                                                                                      ...   \n",
       "young-onset Parkinson disease                                                                            0.0   \n",
       "zebra body myopathy                                                                                      0.0   \n",
       "zinc deficiency, transient neonatal                                                                      0.0   \n",
       "zygodactyly type 3                                                                                       0.0   \n",
       "Åland Islands eye disease                                                                                0.0   \n",
       "\n",
       "                                                                3-4 toe syndactyly  \\\n",
       "15q overgrowth syndrome                                                        0.0   \n",
       "17,20-lyase deficiency, isolated                                               0.0   \n",
       "17-alpha-hydroxylase/17,20-lyase deficiency, combined complete                 0.0   \n",
       "17-alpha-hydroxylase/17,20-lyase deficiency, combined partial                  0.0   \n",
       "2-3 finger syndactyly                                                          0.0   \n",
       "...                                                                            ...   \n",
       "young-onset Parkinson disease                                                  0.0   \n",
       "zebra body myopathy                                                            0.0   \n",
       "zinc deficiency, transient neonatal                                            0.0   \n",
       "zygodactyly type 3                                                             0.0   \n",
       "Åland Islands eye disease                                                      0.0   \n",
       "\n",
       "                                                                ...  \\\n",
       "15q overgrowth syndrome                                         ...   \n",
       "17,20-lyase deficiency, isolated                                ...   \n",
       "17-alpha-hydroxylase/17,20-lyase deficiency, combined complete  ...   \n",
       "17-alpha-hydroxylase/17,20-lyase deficiency, combined partial   ...   \n",
       "2-3 finger syndactyly                                           ...   \n",
       "...                                                             ...   \n",
       "young-onset Parkinson disease                                   ...   \n",
       "zebra body myopathy                                             ...   \n",
       "zinc deficiency, transient neonatal                             ...   \n",
       "zygodactyly type 3                                              ...   \n",
       "Åland Islands eye disease                                       ...   \n",
       "\n",
       "                                                                xeroderma pigmentosum group G  \\\n",
       "15q overgrowth syndrome                                                              0.281958   \n",
       "17,20-lyase deficiency, isolated                                                     0.000000   \n",
       "17-alpha-hydroxylase/17,20-lyase deficiency, combined complete                       0.000000   \n",
       "17-alpha-hydroxylase/17,20-lyase deficiency, combined partial                        0.000000   \n",
       "2-3 finger syndactyly                                                                0.000000   \n",
       "...                                                                                       ...   \n",
       "young-onset Parkinson disease                                                        0.257915   \n",
       "zebra body myopathy                                                                  0.285332   \n",
       "zinc deficiency, transient neonatal                                                  0.000000   \n",
       "zygodactyly type 3                                                                   0.000000   \n",
       "Åland Islands eye disease                                                            0.327857   \n",
       "\n",
       "                                                                xeroderma pigmentosum variant type  \\\n",
       "15q overgrowth syndrome                                                                        0.0   \n",
       "17,20-lyase deficiency, isolated                                                               0.0   \n",
       "17-alpha-hydroxylase/17,20-lyase deficiency, combined complete                                 0.0   \n",
       "17-alpha-hydroxylase/17,20-lyase deficiency, combined partial                                  0.0   \n",
       "2-3 finger syndactyly                                                                          0.0   \n",
       "...                                                                                            ...   \n",
       "young-onset Parkinson disease                                                                  0.0   \n",
       "zebra body myopathy                                                                            0.0   \n",
       "zinc deficiency, transient neonatal                                                            0.0   \n",
       "zygodactyly type 3                                                                             0.0   \n",
       "Åland Islands eye disease                                                                      0.0   \n",
       "\n",
       "                                                                xeroderma pigmentosum-Cockayne syndrome complex  \\\n",
       "15q overgrowth syndrome                                                                                     0.0   \n",
       "17,20-lyase deficiency, isolated                                                                            0.0   \n",
       "17-alpha-hydroxylase/17,20-lyase deficiency, combined complete                                              0.0   \n",
       "17-alpha-hydroxylase/17,20-lyase deficiency, combined partial                                               0.0   \n",
       "2-3 finger syndactyly                                                                                       0.0   \n",
       "...                                                                                                         ...   \n",
       "young-onset Parkinson disease                                                                               0.0   \n",
       "zebra body myopathy                                                                                         0.0   \n",
       "zinc deficiency, transient neonatal                                                                         0.0   \n",
       "zygodactyly type 3                                                                                          0.0   \n",
       "Åland Islands eye disease                                                                                   0.0   \n",
       "\n",
       "                                                                xerosis and growth failure with immune and pulmonary dysfunction syndrome  \\\n",
       "15q overgrowth syndrome                                                                                                               0.0   \n",
       "17,20-lyase deficiency, isolated                                                                                                      0.0   \n",
       "17-alpha-hydroxylase/17,20-lyase deficiency, combined complete                                                                        0.0   \n",
       "17-alpha-hydroxylase/17,20-lyase deficiency, combined partial                                                                         0.0   \n",
       "2-3 finger syndactyly                                                                                                                 0.0   \n",
       "...                                                                                                                                   ...   \n",
       "young-onset Parkinson disease                                                                                                         0.0   \n",
       "zebra body myopathy                                                                                                                   0.0   \n",
       "zinc deficiency, transient neonatal                                                                                                   0.0   \n",
       "zygodactyly type 3                                                                                                                    0.0   \n",
       "Åland Islands eye disease                                                                                                             0.0   \n",
       "\n",
       "                                                                xerostomia  \\\n",
       "15q overgrowth syndrome                                                0.0   \n",
       "17,20-lyase deficiency, isolated                                       0.0   \n",
       "17-alpha-hydroxylase/17,20-lyase deficiency, combined complete         0.0   \n",
       "17-alpha-hydroxylase/17,20-lyase deficiency, combined partial          0.0   \n",
       "2-3 finger syndactyly                                                  0.0   \n",
       "...                                                                    ...   \n",
       "young-onset Parkinson disease                                          0.0   \n",
       "zebra body myopathy                                                    0.0   \n",
       "zinc deficiency, transient neonatal                                    0.0   \n",
       "zygodactyly type 3                                                     0.0   \n",
       "Åland Islands eye disease                                              0.0   \n",
       "\n",
       "                                                                young-onset Parkinson disease  \\\n",
       "15q overgrowth syndrome                                                                   0.0   \n",
       "17,20-lyase deficiency, isolated                                                          0.0   \n",
       "17-alpha-hydroxylase/17,20-lyase deficiency, combined complete                            0.0   \n",
       "17-alpha-hydroxylase/17,20-lyase deficiency, combined partial                             0.0   \n",
       "2-3 finger syndactyly                                                                     0.0   \n",
       "...                                                                                       ...   \n",
       "young-onset Parkinson disease                                                             0.0   \n",
       "zebra body myopathy                                                                       0.0   \n",
       "zinc deficiency, transient neonatal                                                       0.0   \n",
       "zygodactyly type 3                                                                        0.0   \n",
       "Åland Islands eye disease                                                                 0.0   \n",
       "\n",
       "                                                                zebra body myopathy  \\\n",
       "15q overgrowth syndrome                                                    0.000000   \n",
       "17,20-lyase deficiency, isolated                                           0.000000   \n",
       "17-alpha-hydroxylase/17,20-lyase deficiency, combined complete             0.000000   \n",
       "17-alpha-hydroxylase/17,20-lyase deficiency, combined partial              0.000000   \n",
       "2-3 finger syndactyly                                                      0.251987   \n",
       "...                                                                             ...   \n",
       "young-onset Parkinson disease                                              0.000000   \n",
       "zebra body myopathy                                                        0.000000   \n",
       "zinc deficiency, transient neonatal                                        0.274217   \n",
       "zygodactyly type 3                                                         0.000000   \n",
       "Åland Islands eye disease                                                  0.000000   \n",
       "\n",
       "                                                                zinc deficiency, transient neonatal  \\\n",
       "15q overgrowth syndrome                                                                    0.000000   \n",
       "17,20-lyase deficiency, isolated                                                           0.000000   \n",
       "17-alpha-hydroxylase/17,20-lyase deficiency, combined complete                             0.000000   \n",
       "17-alpha-hydroxylase/17,20-lyase deficiency, combined partial                              0.000000   \n",
       "2-3 finger syndactyly                                                                      0.000000   \n",
       "...                                                                                             ...   \n",
       "young-onset Parkinson disease                                                              0.000000   \n",
       "zebra body myopathy                                                                        0.274217   \n",
       "zinc deficiency, transient neonatal                                                        0.000000   \n",
       "zygodactyly type 3                                                                         0.000000   \n",
       "Åland Islands eye disease                                                                  0.000000   \n",
       "\n",
       "                                                                zygodactyly type 3  \\\n",
       "15q overgrowth syndrome                                                        0.0   \n",
       "17,20-lyase deficiency, isolated                                               0.0   \n",
       "17-alpha-hydroxylase/17,20-lyase deficiency, combined complete                 0.0   \n",
       "17-alpha-hydroxylase/17,20-lyase deficiency, combined partial                  0.0   \n",
       "2-3 finger syndactyly                                                          0.0   \n",
       "...                                                                            ...   \n",
       "young-onset Parkinson disease                                                  0.0   \n",
       "zebra body myopathy                                                            0.0   \n",
       "zinc deficiency, transient neonatal                                            0.0   \n",
       "zygodactyly type 3                                                             0.0   \n",
       "Åland Islands eye disease                                                      0.0   \n",
       "\n",
       "                                                                Åland Islands eye disease  \n",
       "15q overgrowth syndrome                                                               0.0  \n",
       "17,20-lyase deficiency, isolated                                                      0.0  \n",
       "17-alpha-hydroxylase/17,20-lyase deficiency, combined complete                        0.0  \n",
       "17-alpha-hydroxylase/17,20-lyase deficiency, combined partial                         0.0  \n",
       "2-3 finger syndactyly                                                                 0.0  \n",
       "...                                                                                   ...  \n",
       "young-onset Parkinson disease                                                         0.0  \n",
       "zebra body myopathy                                                                   0.0  \n",
       "zinc deficiency, transient neonatal                                                   0.0  \n",
       "zygodactyly type 3                                                                    0.0  \n",
       "Åland Islands eye disease                                                             0.0  \n",
       "\n",
       "[13227 rows x 13227 columns]"
      ]
     },
     "execution_count": 221,
     "metadata": {},
     "output_type": "execute_result"
    }
   ],
   "source": [
    "# open_target_df = pd.read_csv('../CTD/data/open_targets/cor_matrix_95_nolit.csv')\n",
    "# open_target_df = pd.read_csv('../CTD/data/target_disease/cor_matrix_99.csv.csv')\n",
    "open_target_df = pd.read_csv('../CTD/data/open_targets/dis_dis_nolit.csv')\n",
    "open_target_df.index = open_target_df.columns\n",
    "open_target_df\n",
    "# for col in open_target_df.columns:\n",
    "#     if 'ementia' in col:\n",
    "#         print(col)"
   ]
  },
  {
   "cell_type": "code",
   "execution_count": 222,
   "id": "4de2a658",
   "metadata": {},
   "outputs": [],
   "source": [
    "# # Add one umbrella for all dementia related diseases\n",
    "# # Identify columns/rows related to 'dementia' or 'alzheimer' (case-insensitive)\n",
    "# disease_mask = open_target_df.columns.str.contains('dementia', case=False, regex=True)  # |alzheimer\n",
    "# selected_diseases = open_target_df.columns[disease_mask]\n",
    "\n",
    "# # Compute the mean correlation of the selected diseases with all diseases\n",
    "# merged_row = open_target_df.loc[selected_diseases].mean()\n",
    "# merged_col = open_target_df[selected_diseases].mean(axis=1)\n",
    "\n",
    "# # Add the new row and column to the DataFrame\n",
    "# open_target_df[\"Dementia in Alzheimer's disease\"] = merged_col\n",
    "# open_target_df.loc[\"Dementia in Alzheimer's disease\"] = list(merged_row) + [0.0]  # correlation with itself\n",
    "# open_target_df"
   ]
  },
  {
   "cell_type": "markdown",
   "id": "d3222551",
   "metadata": {},
   "source": [
    "# Map OpenTargets disease names to ICD10 codes"
   ]
  },
  {
   "cell_type": "code",
   "execution_count": 223,
   "id": "b77d248e",
   "metadata": {},
   "outputs": [
    {
     "name": "stdout",
     "output_type": "stream",
     "text": [
      "Creating ICD10 embeddings...\n",
      "Precompute disease embeddings...\n"
     ]
    }
   ],
   "source": [
    "# Precompute disease embeddings\n",
    "import torch\n",
    "from tqdm import tqdm\n",
    "from sentence_transformers import SentenceTransformer, util\n",
    "\n",
    "# with open('../CTD/data/open_targets/cor_matrix_95_nolit.csv', 'r') as f:\n",
    "#     diseases = f.readline().strip().split(',')\n",
    "diseases = open_target_df.columns  #[d.replace(\"_\", \" \").lower() for d in open_target_df.columns]\n",
    "\n",
    "# Load the ICD-10 dataset\n",
    "df_icd = pd.read_csv(\"data/DiagAll_Eng.csv\")\n",
    "df_icd['ShortDescription'] = df_icd['ShortDescription'].replace(\n",
    "    \"Dementia in Alzheimer\\'s disease\", \"Dementia\"\n",
    ")\n",
    "df_icd = df_icd.drop_duplicates(subset=[\"ShortDescription\"])  # Ensure unique descriptions\n",
    "icd_dict = dict(zip(df_icd[\"ShortDescription\"], df_icd[\"Code\"]))\n",
    "icd_descriptions = list(icd_dict.keys())\n",
    "icd_codes = list(icd_dict.values())\n",
    "\n",
    "# Load a pre-trained sentence transformer model\n",
    "model = SentenceTransformer(\"NeuML/pubmedbert-base-embeddings\")\n",
    "\n",
    "print('Creating ICD10 embeddings...')\n",
    "# Encode ICD-10 descriptions as embeddings without converting to tensor\n",
    "icd_embeddings = model.encode(icd_descriptions, convert_to_tensor=False)\n",
    "\n",
    "print('Precompute disease embeddings...')\n",
    "disease_embeddings = {disease: model.encode(disease, convert_to_tensor=False) for disease in diseases}\n"
   ]
  },
  {
   "cell_type": "code",
   "execution_count": 224,
   "id": "93f24f0e",
   "metadata": {},
   "outputs": [
    {
     "name": "stderr",
     "output_type": "stream",
     "text": [
      "Mapping disease names to ICD-10: 100%|████████████████████████████████████████████████████████████████████████████████████████████████████████████████| 13227/13227 [00:05<00:00, 2296.07it/s]"
     ]
    },
    {
     "name": "stdout",
     "output_type": "stream",
     "text": [
      "15q overgrowth syndrome: UNKNOWN\n",
      "17,20-lyase deficiency, isolated: UNKNOWN\n",
      "17-alpha-hydroxylase/17,20-lyase deficiency, combined complete: UNKNOWN\n",
      "17-alpha-hydroxylase/17,20-lyase deficiency, combined partial: UNKNOWN\n",
      "2-3 finger syndactyly: Acquired deformities of fingers and toes\n",
      "2-3 toe syndactyly: Acquired deformities of fingers and toes\n",
      "2-aminoadipic 2-oxoadipic aciduria: UNKNOWN\n",
      "2-hydroxyglutaric aciduria: UNKNOWN\n",
      "2-methylbutyryl-CoA dehydrogenase deficiency: Disorders of branched-chain amino-acid metabolism and fatty-acid metabolism\n",
      "3-4 toe syndactyly: Acquired deformities of fingers and toes\n",
      "3-M syndrome: UNKNOWN\n",
      "3-Methylglutaric aciduria: Disorders of branched-chain amino-acid metabolism and fatty-acid metabolism\n",
      "3-hydroxy-3-methylglutaric aciduria: UNKNOWN\n",
      "3-hydroxy-3-methylglutaryl-CoA synthase deficiency: UNKNOWN\n",
      "3-hydroxyacyl-CoA dehydrogenase deficiency: UNKNOWN\n",
      "3-hydroxyisobutyric aciduria: UNKNOWN\n",
      "3-hydroxyisobutyryl-CoA hydrolase deficiency: UNKNOWN\n",
      "3-methylcrotonyl-CoA carboxylase 2 deficiency: UNKNOWN\n",
      "3-methylcrotonyl-CoA carboxylase deficiency: UNKNOWN\n",
      "3-methylglutaconic aciduria: Disorders of branched-chain amino-acid metabolism and fatty-acid metabolism\n",
      "3-methylglutaconic aciduria type 1: UNKNOWN\n",
      "3-methylglutaconic aciduria type 3: UNKNOWN\n",
      "3-methylglutaconic aciduria type 4: UNKNOWN\n",
      "3-methylglutaconic aciduria type 5: UNKNOWN\n",
      "3-methylglutaconic aciduria type 8: UNKNOWN\n",
      "3-methylglutaconic aciduria type 9: UNKNOWN\n",
      "3-methylglutaconic aciduria with cataracts, neurologic involvement, and neutropenia: UNKNOWN\n",
      "3-methylglutaconic aciduria with deafness, encephalopathy, and Leigh-like syndrome: UNKNOWN\n",
      "3-methylglutaconic aciduria, type VIIB: UNKNOWN\n",
      "3-phosphoglycerate dehydrogenase deficiency, infantile/juvenile form: UNKNOWN\n",
      "3-phosphoserine phosphatase deficiency: UNKNOWN\n",
      "3C syndrome: Cushing's syndrome\n",
      "3M syndrome: UNKNOWN\n",
      "3MC syndrome: UNKNOWN\n",
      "3MC syndrome 1: UNKNOWN\n",
      "3MC syndrome 2: UNKNOWN\n",
      "3p- syndrome: UNKNOWN\n",
      "4-5 finger syndactyly: Acquired deformities of fingers and toes\n",
      "45,X/46,XY mixed gonadal dysgenesis: UNKNOWN\n",
      "46 XX gonadal dysgenesis: UNKNOWN\n",
      "46,XX disorder of sex development: UNKNOWN\n",
      "46,XX disorder of sex development - anorectal anomalies: UNKNOWN\n",
      "46,XX disorder of sex development - skeletal anomalies: UNKNOWN\n",
      "46,XX disorder of sex development-skeletal anomalies syndrome: UNKNOWN\n",
      "46,XX gonadal dysgenesis: UNKNOWN\n",
      "46,XX ovotesticular disorder of sex development: Ovarian dysfunction\n",
      "46,XX sex reversal 1: UNKNOWN\n",
      "46,XX testicular disorder of sex development: Testicular dysfunction\n",
      "46,XY complete gonadal dysgenesis: UNKNOWN\n",
      "46,XY disorder of sex development: UNKNOWN\n"
     ]
    },
    {
     "name": "stderr",
     "output_type": "stream",
     "text": [
      "\n"
     ]
    }
   ],
   "source": [
    "def map_diseases(disease_name_1, disease_embedding, icd_dict, icd_descriptions, icd_codes, icd_embeddings):\n",
    "#     disease_name_1_cleaned = disease_name_1.replace(\"_\", \" \").lower()\n",
    "    \n",
    "    # Check for exact match first\n",
    "    if disease_name_1 in icd_dict:\n",
    "        return disease_name_1\n",
    "    \n",
    "    # If no exact match, use semantic similarity\n",
    "    disease_embedding_tensor = torch.tensor(disease_embedding)  # Ensure it's a tensor\n",
    "    icd_embeddings_tensor = torch.tensor(icd_embeddings)  # Convert stored embeddings\n",
    "    \n",
    "    similarities = util.pytorch_cos_sim(disease_embedding_tensor, icd_embeddings_tensor)[0]\n",
    "    best_match_idx = similarities.argmax().item()\n",
    "    return icd_descriptions[best_match_idx] if similarities[best_match_idx] > 0.5 else \"UNKNOWN\"\n",
    "\n",
    "# Map diseases to ICD-10 codes with progress tracking\n",
    "diseases_mapping = {}\n",
    "for disease in tqdm(diseases, desc=\"Mapping disease names to ICD-10\"):\n",
    "    diseases_mapping[disease] = map_diseases(disease, disease_embeddings[disease], icd_dict, icd_descriptions, icd_codes, icd_embeddings)\n",
    "\n",
    "# Print a sample output\n",
    "# Print each mapping on a new line\n",
    "for disease, icd in list(diseases_mapping.items())[:50]:\n",
    "    print(f\"{disease}: {icd}\")"
   ]
  },
  {
   "cell_type": "code",
   "execution_count": 225,
   "id": "5b37e67c",
   "metadata": {},
   "outputs": [
    {
     "name": "stdout",
     "output_type": "stream",
     "text": [
      "Filtering columns based on valid diseases (not 'UNKNOWN')...\n",
      "Selecting 7880 valid diseases from the matrix...\n",
      "Renaming rows and columns according to diseases_mapping...\n",
      "Matrix shape: (7880, 7880)\n",
      "New matrix shape: (7737, 7737)\n",
      "New matrix shape: (7655, 7655)\n",
      "New matrix shape: (7368, 7368)\n",
      "New matrix shape: (7359, 7359)\n",
      "New matrix shape: (7257, 7257)\n",
      "New matrix shape: (7199, 7199)\n",
      "New matrix shape: (7165, 7165)\n",
      "New matrix shape: (7132, 7132)\n",
      "New matrix shape: (7124, 7124)\n",
      "New matrix shape: (7090, 7090)\n",
      "New matrix shape: (6954, 6954)\n",
      "New matrix shape: (6909, 6909)\n",
      "New matrix shape: (6871, 6871)\n",
      "New matrix shape: (6834, 6834)\n",
      "New matrix shape: (6755, 6755)\n",
      "New matrix shape: (6532, 6532)\n",
      "New matrix shape: (6530, 6530)\n",
      "New matrix shape: (6369, 6369)\n",
      "New matrix shape: (6357, 6357)\n",
      "New matrix shape: (6330, 6330)\n",
      "New matrix shape: (6308, 6308)\n",
      "New matrix shape: (6280, 6280)\n",
      "New matrix shape: (6244, 6244)\n",
      "New matrix shape: (6241, 6241)\n",
      "New matrix shape: (6189, 6189)\n",
      "New matrix shape: (6125, 6125)\n",
      "New matrix shape: (6027, 6027)\n",
      "New matrix shape: (5976, 5976)\n",
      "New matrix shape: (5889, 5889)\n",
      "New matrix shape: (5815, 5815)\n",
      "New matrix shape: (5807, 5807)\n",
      "New matrix shape: (5776, 5776)\n",
      "New matrix shape: (5649, 5649)\n",
      "New matrix shape: (5618, 5618)\n",
      "New matrix shape: (5604, 5604)\n",
      "New matrix shape: (5578, 5578)\n",
      "New matrix shape: (5561, 5561)\n",
      "New matrix shape: (5558, 5558)\n",
      "New matrix shape: (5546, 5546)\n",
      "New matrix shape: (5543, 5543)\n",
      "New matrix shape: (5536, 5536)\n",
      "New matrix shape: (5524, 5524)\n",
      "New matrix shape: (5456, 5456)\n",
      "New matrix shape: (5452, 5452)\n",
      "New matrix shape: (5422, 5422)\n",
      "New matrix shape: (5379, 5379)\n",
      "New matrix shape: (5354, 5354)\n",
      "New matrix shape: (5347, 5347)\n",
      "New matrix shape: (5317, 5317)\n",
      "New matrix shape: (5295, 5295)\n",
      "New matrix shape: (5284, 5284)\n",
      "New matrix shape: (5270, 5270)\n",
      "New matrix shape: (5257, 5257)\n",
      "New matrix shape: (5243, 5243)\n",
      "New matrix shape: (5223, 5223)\n",
      "New matrix shape: (5155, 5155)\n",
      "New matrix shape: (5134, 5134)\n",
      "New matrix shape: (5094, 5094)\n",
      "New matrix shape: (5069, 5069)\n",
      "New matrix shape: (5053, 5053)\n",
      "New matrix shape: (5041, 5041)\n",
      "New matrix shape: (5033, 5033)\n",
      "New matrix shape: (5025, 5025)\n",
      "New matrix shape: (5019, 5019)\n",
      "New matrix shape: (5009, 5009)\n",
      "New matrix shape: (5000, 5000)\n",
      "New matrix shape: (4949, 4949)\n",
      "New matrix shape: (4936, 4936)\n",
      "New matrix shape: (4911, 4911)\n",
      "New matrix shape: (4876, 4876)\n",
      "New matrix shape: (4861, 4861)\n",
      "New matrix shape: (4854, 4854)\n",
      "New matrix shape: (4850, 4850)\n",
      "New matrix shape: (4835, 4835)\n",
      "New matrix shape: (4828, 4828)\n",
      "New matrix shape: (4819, 4819)\n",
      "New matrix shape: (4789, 4789)\n",
      "New matrix shape: (4780, 4780)\n",
      "New matrix shape: (4775, 4775)\n",
      "New matrix shape: (4728, 4728)\n",
      "New matrix shape: (4724, 4724)\n",
      "New matrix shape: (4695, 4695)\n",
      "New matrix shape: (4650, 4650)\n",
      "New matrix shape: (4644, 4644)\n",
      "New matrix shape: (4623, 4623)\n",
      "New matrix shape: (4609, 4609)\n",
      "New matrix shape: (4592, 4592)\n",
      "New matrix shape: (4588, 4588)\n",
      "New matrix shape: (4576, 4576)\n",
      "New matrix shape: (4568, 4568)\n",
      "New matrix shape: (4557, 4557)\n",
      "New matrix shape: (4534, 4534)\n",
      "New matrix shape: (4518, 4518)\n",
      "New matrix shape: (4492, 4492)\n",
      "New matrix shape: (4469, 4469)\n",
      "New matrix shape: (4453, 4453)\n",
      "New matrix shape: (4435, 4435)\n",
      "New matrix shape: (4427, 4427)\n",
      "New matrix shape: (4399, 4399)\n"
     ]
    },
    {
     "name": "stderr",
     "output_type": "stream",
     "text": [
      "/var/folders/2h/45bqs84942sfxfwfndsxtgs40000gn/T/ipykernel_12494/2066196414.py:35: PerformanceWarning: DataFrame is highly fragmented.  This is usually the result of calling `frame.insert` many times, which has poor performance.  Consider joining all columns at once using pd.concat(axis=1) instead. To get a de-fragmented frame, use `newframe = frame.copy()`\n",
      "  filtered_open_target_df[col + '_temp'] = cols_to_mean.max(axis=1)\n"
     ]
    },
    {
     "name": "stdout",
     "output_type": "stream",
     "text": [
      "New matrix shape: (4359, 4359)\n"
     ]
    },
    {
     "name": "stderr",
     "output_type": "stream",
     "text": [
      "/var/folders/2h/45bqs84942sfxfwfndsxtgs40000gn/T/ipykernel_12494/2066196414.py:35: PerformanceWarning: DataFrame is highly fragmented.  This is usually the result of calling `frame.insert` many times, which has poor performance.  Consider joining all columns at once using pd.concat(axis=1) instead. To get a de-fragmented frame, use `newframe = frame.copy()`\n",
      "  filtered_open_target_df[col + '_temp'] = cols_to_mean.max(axis=1)\n"
     ]
    },
    {
     "name": "stdout",
     "output_type": "stream",
     "text": [
      "New matrix shape: (4326, 4326)\n"
     ]
    },
    {
     "name": "stderr",
     "output_type": "stream",
     "text": [
      "/var/folders/2h/45bqs84942sfxfwfndsxtgs40000gn/T/ipykernel_12494/2066196414.py:35: PerformanceWarning: DataFrame is highly fragmented.  This is usually the result of calling `frame.insert` many times, which has poor performance.  Consider joining all columns at once using pd.concat(axis=1) instead. To get a de-fragmented frame, use `newframe = frame.copy()`\n",
      "  filtered_open_target_df[col + '_temp'] = cols_to_mean.max(axis=1)\n"
     ]
    },
    {
     "name": "stdout",
     "output_type": "stream",
     "text": [
      "New matrix shape: (4320, 4320)\n"
     ]
    },
    {
     "name": "stderr",
     "output_type": "stream",
     "text": [
      "/var/folders/2h/45bqs84942sfxfwfndsxtgs40000gn/T/ipykernel_12494/2066196414.py:35: PerformanceWarning: DataFrame is highly fragmented.  This is usually the result of calling `frame.insert` many times, which has poor performance.  Consider joining all columns at once using pd.concat(axis=1) instead. To get a de-fragmented frame, use `newframe = frame.copy()`\n",
      "  filtered_open_target_df[col + '_temp'] = cols_to_mean.max(axis=1)\n"
     ]
    },
    {
     "name": "stdout",
     "output_type": "stream",
     "text": [
      "New matrix shape: (4311, 4311)\n"
     ]
    },
    {
     "name": "stderr",
     "output_type": "stream",
     "text": [
      "/var/folders/2h/45bqs84942sfxfwfndsxtgs40000gn/T/ipykernel_12494/2066196414.py:35: PerformanceWarning: DataFrame is highly fragmented.  This is usually the result of calling `frame.insert` many times, which has poor performance.  Consider joining all columns at once using pd.concat(axis=1) instead. To get a de-fragmented frame, use `newframe = frame.copy()`\n",
      "  filtered_open_target_df[col + '_temp'] = cols_to_mean.max(axis=1)\n"
     ]
    },
    {
     "name": "stdout",
     "output_type": "stream",
     "text": [
      "New matrix shape: (4304, 4304)\n"
     ]
    },
    {
     "name": "stderr",
     "output_type": "stream",
     "text": [
      "/var/folders/2h/45bqs84942sfxfwfndsxtgs40000gn/T/ipykernel_12494/2066196414.py:35: PerformanceWarning: DataFrame is highly fragmented.  This is usually the result of calling `frame.insert` many times, which has poor performance.  Consider joining all columns at once using pd.concat(axis=1) instead. To get a de-fragmented frame, use `newframe = frame.copy()`\n",
      "  filtered_open_target_df[col + '_temp'] = cols_to_mean.max(axis=1)\n"
     ]
    },
    {
     "name": "stdout",
     "output_type": "stream",
     "text": [
      "New matrix shape: (4280, 4280)\n"
     ]
    },
    {
     "name": "stderr",
     "output_type": "stream",
     "text": [
      "/var/folders/2h/45bqs84942sfxfwfndsxtgs40000gn/T/ipykernel_12494/2066196414.py:35: PerformanceWarning: DataFrame is highly fragmented.  This is usually the result of calling `frame.insert` many times, which has poor performance.  Consider joining all columns at once using pd.concat(axis=1) instead. To get a de-fragmented frame, use `newframe = frame.copy()`\n",
      "  filtered_open_target_df[col + '_temp'] = cols_to_mean.max(axis=1)\n"
     ]
    },
    {
     "name": "stdout",
     "output_type": "stream",
     "text": [
      "New matrix shape: (4263, 4263)\n"
     ]
    },
    {
     "name": "stderr",
     "output_type": "stream",
     "text": [
      "/var/folders/2h/45bqs84942sfxfwfndsxtgs40000gn/T/ipykernel_12494/2066196414.py:35: PerformanceWarning: DataFrame is highly fragmented.  This is usually the result of calling `frame.insert` many times, which has poor performance.  Consider joining all columns at once using pd.concat(axis=1) instead. To get a de-fragmented frame, use `newframe = frame.copy()`\n",
      "  filtered_open_target_df[col + '_temp'] = cols_to_mean.max(axis=1)\n"
     ]
    },
    {
     "name": "stdout",
     "output_type": "stream",
     "text": [
      "New matrix shape: (4247, 4247)\n"
     ]
    },
    {
     "name": "stderr",
     "output_type": "stream",
     "text": [
      "/var/folders/2h/45bqs84942sfxfwfndsxtgs40000gn/T/ipykernel_12494/2066196414.py:35: PerformanceWarning: DataFrame is highly fragmented.  This is usually the result of calling `frame.insert` many times, which has poor performance.  Consider joining all columns at once using pd.concat(axis=1) instead. To get a de-fragmented frame, use `newframe = frame.copy()`\n",
      "  filtered_open_target_df[col + '_temp'] = cols_to_mean.max(axis=1)\n"
     ]
    },
    {
     "name": "stdout",
     "output_type": "stream",
     "text": [
      "New matrix shape: (4241, 4241)\n"
     ]
    },
    {
     "name": "stderr",
     "output_type": "stream",
     "text": [
      "/var/folders/2h/45bqs84942sfxfwfndsxtgs40000gn/T/ipykernel_12494/2066196414.py:35: PerformanceWarning: DataFrame is highly fragmented.  This is usually the result of calling `frame.insert` many times, which has poor performance.  Consider joining all columns at once using pd.concat(axis=1) instead. To get a de-fragmented frame, use `newframe = frame.copy()`\n",
      "  filtered_open_target_df[col + '_temp'] = cols_to_mean.max(axis=1)\n"
     ]
    },
    {
     "name": "stdout",
     "output_type": "stream",
     "text": [
      "New matrix shape: (4215, 4215)\n"
     ]
    },
    {
     "name": "stderr",
     "output_type": "stream",
     "text": [
      "/var/folders/2h/45bqs84942sfxfwfndsxtgs40000gn/T/ipykernel_12494/2066196414.py:35: PerformanceWarning: DataFrame is highly fragmented.  This is usually the result of calling `frame.insert` many times, which has poor performance.  Consider joining all columns at once using pd.concat(axis=1) instead. To get a de-fragmented frame, use `newframe = frame.copy()`\n",
      "  filtered_open_target_df[col + '_temp'] = cols_to_mean.max(axis=1)\n"
     ]
    },
    {
     "name": "stdout",
     "output_type": "stream",
     "text": [
      "New matrix shape: (4201, 4201)\n"
     ]
    },
    {
     "name": "stderr",
     "output_type": "stream",
     "text": [
      "/var/folders/2h/45bqs84942sfxfwfndsxtgs40000gn/T/ipykernel_12494/2066196414.py:35: PerformanceWarning: DataFrame is highly fragmented.  This is usually the result of calling `frame.insert` many times, which has poor performance.  Consider joining all columns at once using pd.concat(axis=1) instead. To get a de-fragmented frame, use `newframe = frame.copy()`\n",
      "  filtered_open_target_df[col + '_temp'] = cols_to_mean.max(axis=1)\n"
     ]
    },
    {
     "name": "stdout",
     "output_type": "stream",
     "text": [
      "New matrix shape: (4190, 4190)\n"
     ]
    },
    {
     "name": "stderr",
     "output_type": "stream",
     "text": [
      "/var/folders/2h/45bqs84942sfxfwfndsxtgs40000gn/T/ipykernel_12494/2066196414.py:35: PerformanceWarning: DataFrame is highly fragmented.  This is usually the result of calling `frame.insert` many times, which has poor performance.  Consider joining all columns at once using pd.concat(axis=1) instead. To get a de-fragmented frame, use `newframe = frame.copy()`\n",
      "  filtered_open_target_df[col + '_temp'] = cols_to_mean.max(axis=1)\n"
     ]
    },
    {
     "name": "stdout",
     "output_type": "stream",
     "text": [
      "New matrix shape: (4173, 4173)\n"
     ]
    },
    {
     "name": "stderr",
     "output_type": "stream",
     "text": [
      "/var/folders/2h/45bqs84942sfxfwfndsxtgs40000gn/T/ipykernel_12494/2066196414.py:35: PerformanceWarning: DataFrame is highly fragmented.  This is usually the result of calling `frame.insert` many times, which has poor performance.  Consider joining all columns at once using pd.concat(axis=1) instead. To get a de-fragmented frame, use `newframe = frame.copy()`\n",
      "  filtered_open_target_df[col + '_temp'] = cols_to_mean.max(axis=1)\n"
     ]
    },
    {
     "name": "stdout",
     "output_type": "stream",
     "text": [
      "New matrix shape: (4137, 4137)\n"
     ]
    },
    {
     "name": "stderr",
     "output_type": "stream",
     "text": [
      "/var/folders/2h/45bqs84942sfxfwfndsxtgs40000gn/T/ipykernel_12494/2066196414.py:35: PerformanceWarning: DataFrame is highly fragmented.  This is usually the result of calling `frame.insert` many times, which has poor performance.  Consider joining all columns at once using pd.concat(axis=1) instead. To get a de-fragmented frame, use `newframe = frame.copy()`\n",
      "  filtered_open_target_df[col + '_temp'] = cols_to_mean.max(axis=1)\n"
     ]
    },
    {
     "name": "stdout",
     "output_type": "stream",
     "text": [
      "New matrix shape: (4122, 4122)\n"
     ]
    },
    {
     "name": "stderr",
     "output_type": "stream",
     "text": [
      "/var/folders/2h/45bqs84942sfxfwfndsxtgs40000gn/T/ipykernel_12494/2066196414.py:35: PerformanceWarning: DataFrame is highly fragmented.  This is usually the result of calling `frame.insert` many times, which has poor performance.  Consider joining all columns at once using pd.concat(axis=1) instead. To get a de-fragmented frame, use `newframe = frame.copy()`\n",
      "  filtered_open_target_df[col + '_temp'] = cols_to_mean.max(axis=1)\n"
     ]
    },
    {
     "name": "stdout",
     "output_type": "stream",
     "text": [
      "New matrix shape: (4112, 4112)\n"
     ]
    },
    {
     "name": "stderr",
     "output_type": "stream",
     "text": [
      "/var/folders/2h/45bqs84942sfxfwfndsxtgs40000gn/T/ipykernel_12494/2066196414.py:35: PerformanceWarning: DataFrame is highly fragmented.  This is usually the result of calling `frame.insert` many times, which has poor performance.  Consider joining all columns at once using pd.concat(axis=1) instead. To get a de-fragmented frame, use `newframe = frame.copy()`\n",
      "  filtered_open_target_df[col + '_temp'] = cols_to_mean.max(axis=1)\n"
     ]
    },
    {
     "name": "stdout",
     "output_type": "stream",
     "text": [
      "New matrix shape: (4093, 4093)\n"
     ]
    },
    {
     "name": "stderr",
     "output_type": "stream",
     "text": [
      "/var/folders/2h/45bqs84942sfxfwfndsxtgs40000gn/T/ipykernel_12494/2066196414.py:35: PerformanceWarning: DataFrame is highly fragmented.  This is usually the result of calling `frame.insert` many times, which has poor performance.  Consider joining all columns at once using pd.concat(axis=1) instead. To get a de-fragmented frame, use `newframe = frame.copy()`\n",
      "  filtered_open_target_df[col + '_temp'] = cols_to_mean.max(axis=1)\n"
     ]
    },
    {
     "name": "stdout",
     "output_type": "stream",
     "text": [
      "New matrix shape: (4078, 4078)\n"
     ]
    },
    {
     "name": "stderr",
     "output_type": "stream",
     "text": [
      "/var/folders/2h/45bqs84942sfxfwfndsxtgs40000gn/T/ipykernel_12494/2066196414.py:35: PerformanceWarning: DataFrame is highly fragmented.  This is usually the result of calling `frame.insert` many times, which has poor performance.  Consider joining all columns at once using pd.concat(axis=1) instead. To get a de-fragmented frame, use `newframe = frame.copy()`\n",
      "  filtered_open_target_df[col + '_temp'] = cols_to_mean.max(axis=1)\n"
     ]
    },
    {
     "name": "stdout",
     "output_type": "stream",
     "text": [
      "New matrix shape: (4068, 4068)\n"
     ]
    },
    {
     "name": "stderr",
     "output_type": "stream",
     "text": [
      "/var/folders/2h/45bqs84942sfxfwfndsxtgs40000gn/T/ipykernel_12494/2066196414.py:35: PerformanceWarning: DataFrame is highly fragmented.  This is usually the result of calling `frame.insert` many times, which has poor performance.  Consider joining all columns at once using pd.concat(axis=1) instead. To get a de-fragmented frame, use `newframe = frame.copy()`\n",
      "  filtered_open_target_df[col + '_temp'] = cols_to_mean.max(axis=1)\n"
     ]
    },
    {
     "name": "stdout",
     "output_type": "stream",
     "text": [
      "New matrix shape: (4059, 4059)\n"
     ]
    },
    {
     "name": "stderr",
     "output_type": "stream",
     "text": [
      "/var/folders/2h/45bqs84942sfxfwfndsxtgs40000gn/T/ipykernel_12494/2066196414.py:35: PerformanceWarning: DataFrame is highly fragmented.  This is usually the result of calling `frame.insert` many times, which has poor performance.  Consider joining all columns at once using pd.concat(axis=1) instead. To get a de-fragmented frame, use `newframe = frame.copy()`\n",
      "  filtered_open_target_df[col + '_temp'] = cols_to_mean.max(axis=1)\n"
     ]
    },
    {
     "name": "stdout",
     "output_type": "stream",
     "text": [
      "New matrix shape: (4029, 4029)\n"
     ]
    },
    {
     "name": "stderr",
     "output_type": "stream",
     "text": [
      "/var/folders/2h/45bqs84942sfxfwfndsxtgs40000gn/T/ipykernel_12494/2066196414.py:35: PerformanceWarning: DataFrame is highly fragmented.  This is usually the result of calling `frame.insert` many times, which has poor performance.  Consider joining all columns at once using pd.concat(axis=1) instead. To get a de-fragmented frame, use `newframe = frame.copy()`\n",
      "  filtered_open_target_df[col + '_temp'] = cols_to_mean.max(axis=1)\n"
     ]
    },
    {
     "name": "stdout",
     "output_type": "stream",
     "text": [
      "New matrix shape: (4011, 4011)\n"
     ]
    },
    {
     "name": "stderr",
     "output_type": "stream",
     "text": [
      "/var/folders/2h/45bqs84942sfxfwfndsxtgs40000gn/T/ipykernel_12494/2066196414.py:35: PerformanceWarning: DataFrame is highly fragmented.  This is usually the result of calling `frame.insert` many times, which has poor performance.  Consider joining all columns at once using pd.concat(axis=1) instead. To get a de-fragmented frame, use `newframe = frame.copy()`\n",
      "  filtered_open_target_df[col + '_temp'] = cols_to_mean.max(axis=1)\n"
     ]
    },
    {
     "name": "stdout",
     "output_type": "stream",
     "text": [
      "New matrix shape: (4006, 4006)\n"
     ]
    },
    {
     "name": "stderr",
     "output_type": "stream",
     "text": [
      "/var/folders/2h/45bqs84942sfxfwfndsxtgs40000gn/T/ipykernel_12494/2066196414.py:35: PerformanceWarning: DataFrame is highly fragmented.  This is usually the result of calling `frame.insert` many times, which has poor performance.  Consider joining all columns at once using pd.concat(axis=1) instead. To get a de-fragmented frame, use `newframe = frame.copy()`\n",
      "  filtered_open_target_df[col + '_temp'] = cols_to_mean.max(axis=1)\n"
     ]
    },
    {
     "name": "stdout",
     "output_type": "stream",
     "text": [
      "New matrix shape: (3993, 3993)\n"
     ]
    },
    {
     "name": "stderr",
     "output_type": "stream",
     "text": [
      "/var/folders/2h/45bqs84942sfxfwfndsxtgs40000gn/T/ipykernel_12494/2066196414.py:35: PerformanceWarning: DataFrame is highly fragmented.  This is usually the result of calling `frame.insert` many times, which has poor performance.  Consider joining all columns at once using pd.concat(axis=1) instead. To get a de-fragmented frame, use `newframe = frame.copy()`\n",
      "  filtered_open_target_df[col + '_temp'] = cols_to_mean.max(axis=1)\n"
     ]
    },
    {
     "name": "stdout",
     "output_type": "stream",
     "text": [
      "New matrix shape: (3989, 3989)\n"
     ]
    },
    {
     "name": "stderr",
     "output_type": "stream",
     "text": [
      "/var/folders/2h/45bqs84942sfxfwfndsxtgs40000gn/T/ipykernel_12494/2066196414.py:35: PerformanceWarning: DataFrame is highly fragmented.  This is usually the result of calling `frame.insert` many times, which has poor performance.  Consider joining all columns at once using pd.concat(axis=1) instead. To get a de-fragmented frame, use `newframe = frame.copy()`\n",
      "  filtered_open_target_df[col + '_temp'] = cols_to_mean.max(axis=1)\n"
     ]
    },
    {
     "name": "stdout",
     "output_type": "stream",
     "text": [
      "New matrix shape: (3946, 3946)\n"
     ]
    },
    {
     "name": "stderr",
     "output_type": "stream",
     "text": [
      "/var/folders/2h/45bqs84942sfxfwfndsxtgs40000gn/T/ipykernel_12494/2066196414.py:35: PerformanceWarning: DataFrame is highly fragmented.  This is usually the result of calling `frame.insert` many times, which has poor performance.  Consider joining all columns at once using pd.concat(axis=1) instead. To get a de-fragmented frame, use `newframe = frame.copy()`\n",
      "  filtered_open_target_df[col + '_temp'] = cols_to_mean.max(axis=1)\n"
     ]
    },
    {
     "name": "stdout",
     "output_type": "stream",
     "text": [
      "New matrix shape: (3939, 3939)\n"
     ]
    },
    {
     "name": "stderr",
     "output_type": "stream",
     "text": [
      "/var/folders/2h/45bqs84942sfxfwfndsxtgs40000gn/T/ipykernel_12494/2066196414.py:35: PerformanceWarning: DataFrame is highly fragmented.  This is usually the result of calling `frame.insert` many times, which has poor performance.  Consider joining all columns at once using pd.concat(axis=1) instead. To get a de-fragmented frame, use `newframe = frame.copy()`\n",
      "  filtered_open_target_df[col + '_temp'] = cols_to_mean.max(axis=1)\n"
     ]
    },
    {
     "name": "stdout",
     "output_type": "stream",
     "text": [
      "New matrix shape: (3929, 3929)\n"
     ]
    },
    {
     "name": "stderr",
     "output_type": "stream",
     "text": [
      "/var/folders/2h/45bqs84942sfxfwfndsxtgs40000gn/T/ipykernel_12494/2066196414.py:35: PerformanceWarning: DataFrame is highly fragmented.  This is usually the result of calling `frame.insert` many times, which has poor performance.  Consider joining all columns at once using pd.concat(axis=1) instead. To get a de-fragmented frame, use `newframe = frame.copy()`\n",
      "  filtered_open_target_df[col + '_temp'] = cols_to_mean.max(axis=1)\n"
     ]
    },
    {
     "name": "stdout",
     "output_type": "stream",
     "text": [
      "New matrix shape: (3912, 3912)\n"
     ]
    },
    {
     "name": "stderr",
     "output_type": "stream",
     "text": [
      "/var/folders/2h/45bqs84942sfxfwfndsxtgs40000gn/T/ipykernel_12494/2066196414.py:35: PerformanceWarning: DataFrame is highly fragmented.  This is usually the result of calling `frame.insert` many times, which has poor performance.  Consider joining all columns at once using pd.concat(axis=1) instead. To get a de-fragmented frame, use `newframe = frame.copy()`\n",
      "  filtered_open_target_df[col + '_temp'] = cols_to_mean.max(axis=1)\n"
     ]
    },
    {
     "name": "stdout",
     "output_type": "stream",
     "text": [
      "New matrix shape: (3895, 3895)\n"
     ]
    },
    {
     "name": "stderr",
     "output_type": "stream",
     "text": [
      "/var/folders/2h/45bqs84942sfxfwfndsxtgs40000gn/T/ipykernel_12494/2066196414.py:35: PerformanceWarning: DataFrame is highly fragmented.  This is usually the result of calling `frame.insert` many times, which has poor performance.  Consider joining all columns at once using pd.concat(axis=1) instead. To get a de-fragmented frame, use `newframe = frame.copy()`\n",
      "  filtered_open_target_df[col + '_temp'] = cols_to_mean.max(axis=1)\n"
     ]
    },
    {
     "name": "stdout",
     "output_type": "stream",
     "text": [
      "New matrix shape: (3881, 3881)\n"
     ]
    },
    {
     "name": "stderr",
     "output_type": "stream",
     "text": [
      "/var/folders/2h/45bqs84942sfxfwfndsxtgs40000gn/T/ipykernel_12494/2066196414.py:35: PerformanceWarning: DataFrame is highly fragmented.  This is usually the result of calling `frame.insert` many times, which has poor performance.  Consider joining all columns at once using pd.concat(axis=1) instead. To get a de-fragmented frame, use `newframe = frame.copy()`\n",
      "  filtered_open_target_df[col + '_temp'] = cols_to_mean.max(axis=1)\n"
     ]
    },
    {
     "name": "stdout",
     "output_type": "stream",
     "text": [
      "New matrix shape: (3859, 3859)\n"
     ]
    },
    {
     "name": "stderr",
     "output_type": "stream",
     "text": [
      "/var/folders/2h/45bqs84942sfxfwfndsxtgs40000gn/T/ipykernel_12494/2066196414.py:35: PerformanceWarning: DataFrame is highly fragmented.  This is usually the result of calling `frame.insert` many times, which has poor performance.  Consider joining all columns at once using pd.concat(axis=1) instead. To get a de-fragmented frame, use `newframe = frame.copy()`\n",
      "  filtered_open_target_df[col + '_temp'] = cols_to_mean.max(axis=1)\n"
     ]
    },
    {
     "name": "stdout",
     "output_type": "stream",
     "text": [
      "New matrix shape: (3853, 3853)\n"
     ]
    },
    {
     "name": "stderr",
     "output_type": "stream",
     "text": [
      "/var/folders/2h/45bqs84942sfxfwfndsxtgs40000gn/T/ipykernel_12494/2066196414.py:35: PerformanceWarning: DataFrame is highly fragmented.  This is usually the result of calling `frame.insert` many times, which has poor performance.  Consider joining all columns at once using pd.concat(axis=1) instead. To get a de-fragmented frame, use `newframe = frame.copy()`\n",
      "  filtered_open_target_df[col + '_temp'] = cols_to_mean.max(axis=1)\n"
     ]
    },
    {
     "name": "stdout",
     "output_type": "stream",
     "text": [
      "New matrix shape: (3827, 3827)\n"
     ]
    },
    {
     "name": "stderr",
     "output_type": "stream",
     "text": [
      "/var/folders/2h/45bqs84942sfxfwfndsxtgs40000gn/T/ipykernel_12494/2066196414.py:35: PerformanceWarning: DataFrame is highly fragmented.  This is usually the result of calling `frame.insert` many times, which has poor performance.  Consider joining all columns at once using pd.concat(axis=1) instead. To get a de-fragmented frame, use `newframe = frame.copy()`\n",
      "  filtered_open_target_df[col + '_temp'] = cols_to_mean.max(axis=1)\n"
     ]
    },
    {
     "name": "stdout",
     "output_type": "stream",
     "text": [
      "New matrix shape: (3806, 3806)\n"
     ]
    },
    {
     "name": "stderr",
     "output_type": "stream",
     "text": [
      "/var/folders/2h/45bqs84942sfxfwfndsxtgs40000gn/T/ipykernel_12494/2066196414.py:35: PerformanceWarning: DataFrame is highly fragmented.  This is usually the result of calling `frame.insert` many times, which has poor performance.  Consider joining all columns at once using pd.concat(axis=1) instead. To get a de-fragmented frame, use `newframe = frame.copy()`\n",
      "  filtered_open_target_df[col + '_temp'] = cols_to_mean.max(axis=1)\n"
     ]
    },
    {
     "name": "stdout",
     "output_type": "stream",
     "text": [
      "New matrix shape: (3798, 3798)\n"
     ]
    },
    {
     "name": "stderr",
     "output_type": "stream",
     "text": [
      "/var/folders/2h/45bqs84942sfxfwfndsxtgs40000gn/T/ipykernel_12494/2066196414.py:35: PerformanceWarning: DataFrame is highly fragmented.  This is usually the result of calling `frame.insert` many times, which has poor performance.  Consider joining all columns at once using pd.concat(axis=1) instead. To get a de-fragmented frame, use `newframe = frame.copy()`\n",
      "  filtered_open_target_df[col + '_temp'] = cols_to_mean.max(axis=1)\n"
     ]
    },
    {
     "name": "stdout",
     "output_type": "stream",
     "text": [
      "New matrix shape: (3786, 3786)\n"
     ]
    },
    {
     "name": "stderr",
     "output_type": "stream",
     "text": [
      "/var/folders/2h/45bqs84942sfxfwfndsxtgs40000gn/T/ipykernel_12494/2066196414.py:35: PerformanceWarning: DataFrame is highly fragmented.  This is usually the result of calling `frame.insert` many times, which has poor performance.  Consider joining all columns at once using pd.concat(axis=1) instead. To get a de-fragmented frame, use `newframe = frame.copy()`\n",
      "  filtered_open_target_df[col + '_temp'] = cols_to_mean.max(axis=1)\n"
     ]
    },
    {
     "name": "stdout",
     "output_type": "stream",
     "text": [
      "New matrix shape: (3758, 3758)\n"
     ]
    },
    {
     "name": "stderr",
     "output_type": "stream",
     "text": [
      "/var/folders/2h/45bqs84942sfxfwfndsxtgs40000gn/T/ipykernel_12494/2066196414.py:35: PerformanceWarning: DataFrame is highly fragmented.  This is usually the result of calling `frame.insert` many times, which has poor performance.  Consider joining all columns at once using pd.concat(axis=1) instead. To get a de-fragmented frame, use `newframe = frame.copy()`\n",
      "  filtered_open_target_df[col + '_temp'] = cols_to_mean.max(axis=1)\n"
     ]
    },
    {
     "name": "stdout",
     "output_type": "stream",
     "text": [
      "New matrix shape: (3739, 3739)\n"
     ]
    },
    {
     "name": "stderr",
     "output_type": "stream",
     "text": [
      "/var/folders/2h/45bqs84942sfxfwfndsxtgs40000gn/T/ipykernel_12494/2066196414.py:35: PerformanceWarning: DataFrame is highly fragmented.  This is usually the result of calling `frame.insert` many times, which has poor performance.  Consider joining all columns at once using pd.concat(axis=1) instead. To get a de-fragmented frame, use `newframe = frame.copy()`\n",
      "  filtered_open_target_df[col + '_temp'] = cols_to_mean.max(axis=1)\n"
     ]
    },
    {
     "name": "stdout",
     "output_type": "stream",
     "text": [
      "New matrix shape: (3714, 3714)\n"
     ]
    },
    {
     "name": "stderr",
     "output_type": "stream",
     "text": [
      "/var/folders/2h/45bqs84942sfxfwfndsxtgs40000gn/T/ipykernel_12494/2066196414.py:35: PerformanceWarning: DataFrame is highly fragmented.  This is usually the result of calling `frame.insert` many times, which has poor performance.  Consider joining all columns at once using pd.concat(axis=1) instead. To get a de-fragmented frame, use `newframe = frame.copy()`\n",
      "  filtered_open_target_df[col + '_temp'] = cols_to_mean.max(axis=1)\n"
     ]
    },
    {
     "name": "stdout",
     "output_type": "stream",
     "text": [
      "New matrix shape: (3704, 3704)\n"
     ]
    },
    {
     "name": "stderr",
     "output_type": "stream",
     "text": [
      "/var/folders/2h/45bqs84942sfxfwfndsxtgs40000gn/T/ipykernel_12494/2066196414.py:35: PerformanceWarning: DataFrame is highly fragmented.  This is usually the result of calling `frame.insert` many times, which has poor performance.  Consider joining all columns at once using pd.concat(axis=1) instead. To get a de-fragmented frame, use `newframe = frame.copy()`\n",
      "  filtered_open_target_df[col + '_temp'] = cols_to_mean.max(axis=1)\n"
     ]
    },
    {
     "name": "stdout",
     "output_type": "stream",
     "text": [
      "New matrix shape: (3669, 3669)\n"
     ]
    },
    {
     "name": "stderr",
     "output_type": "stream",
     "text": [
      "/var/folders/2h/45bqs84942sfxfwfndsxtgs40000gn/T/ipykernel_12494/2066196414.py:35: PerformanceWarning: DataFrame is highly fragmented.  This is usually the result of calling `frame.insert` many times, which has poor performance.  Consider joining all columns at once using pd.concat(axis=1) instead. To get a de-fragmented frame, use `newframe = frame.copy()`\n",
      "  filtered_open_target_df[col + '_temp'] = cols_to_mean.max(axis=1)\n"
     ]
    },
    {
     "name": "stdout",
     "output_type": "stream",
     "text": [
      "New matrix shape: (3639, 3639)\n"
     ]
    },
    {
     "name": "stderr",
     "output_type": "stream",
     "text": [
      "/var/folders/2h/45bqs84942sfxfwfndsxtgs40000gn/T/ipykernel_12494/2066196414.py:35: PerformanceWarning: DataFrame is highly fragmented.  This is usually the result of calling `frame.insert` many times, which has poor performance.  Consider joining all columns at once using pd.concat(axis=1) instead. To get a de-fragmented frame, use `newframe = frame.copy()`\n",
      "  filtered_open_target_df[col + '_temp'] = cols_to_mean.max(axis=1)\n"
     ]
    },
    {
     "name": "stdout",
     "output_type": "stream",
     "text": [
      "New matrix shape: (3595, 3595)\n"
     ]
    },
    {
     "name": "stderr",
     "output_type": "stream",
     "text": [
      "/var/folders/2h/45bqs84942sfxfwfndsxtgs40000gn/T/ipykernel_12494/2066196414.py:35: PerformanceWarning: DataFrame is highly fragmented.  This is usually the result of calling `frame.insert` many times, which has poor performance.  Consider joining all columns at once using pd.concat(axis=1) instead. To get a de-fragmented frame, use `newframe = frame.copy()`\n",
      "  filtered_open_target_df[col + '_temp'] = cols_to_mean.max(axis=1)\n"
     ]
    },
    {
     "name": "stdout",
     "output_type": "stream",
     "text": [
      "New matrix shape: (3581, 3581)\n"
     ]
    },
    {
     "name": "stderr",
     "output_type": "stream",
     "text": [
      "/var/folders/2h/45bqs84942sfxfwfndsxtgs40000gn/T/ipykernel_12494/2066196414.py:35: PerformanceWarning: DataFrame is highly fragmented.  This is usually the result of calling `frame.insert` many times, which has poor performance.  Consider joining all columns at once using pd.concat(axis=1) instead. To get a de-fragmented frame, use `newframe = frame.copy()`\n",
      "  filtered_open_target_df[col + '_temp'] = cols_to_mean.max(axis=1)\n"
     ]
    },
    {
     "name": "stdout",
     "output_type": "stream",
     "text": [
      "New matrix shape: (3573, 3573)\n"
     ]
    },
    {
     "name": "stderr",
     "output_type": "stream",
     "text": [
      "/var/folders/2h/45bqs84942sfxfwfndsxtgs40000gn/T/ipykernel_12494/2066196414.py:35: PerformanceWarning: DataFrame is highly fragmented.  This is usually the result of calling `frame.insert` many times, which has poor performance.  Consider joining all columns at once using pd.concat(axis=1) instead. To get a de-fragmented frame, use `newframe = frame.copy()`\n",
      "  filtered_open_target_df[col + '_temp'] = cols_to_mean.max(axis=1)\n"
     ]
    },
    {
     "name": "stdout",
     "output_type": "stream",
     "text": [
      "New matrix shape: (3558, 3558)\n"
     ]
    },
    {
     "name": "stderr",
     "output_type": "stream",
     "text": [
      "/var/folders/2h/45bqs84942sfxfwfndsxtgs40000gn/T/ipykernel_12494/2066196414.py:35: PerformanceWarning: DataFrame is highly fragmented.  This is usually the result of calling `frame.insert` many times, which has poor performance.  Consider joining all columns at once using pd.concat(axis=1) instead. To get a de-fragmented frame, use `newframe = frame.copy()`\n",
      "  filtered_open_target_df[col + '_temp'] = cols_to_mean.max(axis=1)\n"
     ]
    },
    {
     "name": "stdout",
     "output_type": "stream",
     "text": [
      "New matrix shape: (3540, 3540)\n"
     ]
    },
    {
     "name": "stderr",
     "output_type": "stream",
     "text": [
      "/var/folders/2h/45bqs84942sfxfwfndsxtgs40000gn/T/ipykernel_12494/2066196414.py:35: PerformanceWarning: DataFrame is highly fragmented.  This is usually the result of calling `frame.insert` many times, which has poor performance.  Consider joining all columns at once using pd.concat(axis=1) instead. To get a de-fragmented frame, use `newframe = frame.copy()`\n",
      "  filtered_open_target_df[col + '_temp'] = cols_to_mean.max(axis=1)\n"
     ]
    },
    {
     "name": "stdout",
     "output_type": "stream",
     "text": [
      "New matrix shape: (3527, 3527)\n"
     ]
    },
    {
     "name": "stderr",
     "output_type": "stream",
     "text": [
      "/var/folders/2h/45bqs84942sfxfwfndsxtgs40000gn/T/ipykernel_12494/2066196414.py:35: PerformanceWarning: DataFrame is highly fragmented.  This is usually the result of calling `frame.insert` many times, which has poor performance.  Consider joining all columns at once using pd.concat(axis=1) instead. To get a de-fragmented frame, use `newframe = frame.copy()`\n",
      "  filtered_open_target_df[col + '_temp'] = cols_to_mean.max(axis=1)\n"
     ]
    },
    {
     "name": "stdout",
     "output_type": "stream",
     "text": [
      "New matrix shape: (3510, 3510)\n"
     ]
    },
    {
     "name": "stderr",
     "output_type": "stream",
     "text": [
      "/var/folders/2h/45bqs84942sfxfwfndsxtgs40000gn/T/ipykernel_12494/2066196414.py:35: PerformanceWarning: DataFrame is highly fragmented.  This is usually the result of calling `frame.insert` many times, which has poor performance.  Consider joining all columns at once using pd.concat(axis=1) instead. To get a de-fragmented frame, use `newframe = frame.copy()`\n",
      "  filtered_open_target_df[col + '_temp'] = cols_to_mean.max(axis=1)\n"
     ]
    },
    {
     "name": "stdout",
     "output_type": "stream",
     "text": [
      "New matrix shape: (3474, 3474)\n"
     ]
    },
    {
     "name": "stderr",
     "output_type": "stream",
     "text": [
      "/var/folders/2h/45bqs84942sfxfwfndsxtgs40000gn/T/ipykernel_12494/2066196414.py:35: PerformanceWarning: DataFrame is highly fragmented.  This is usually the result of calling `frame.insert` many times, which has poor performance.  Consider joining all columns at once using pd.concat(axis=1) instead. To get a de-fragmented frame, use `newframe = frame.copy()`\n",
      "  filtered_open_target_df[col + '_temp'] = cols_to_mean.max(axis=1)\n"
     ]
    },
    {
     "name": "stdout",
     "output_type": "stream",
     "text": [
      "New matrix shape: (3447, 3447)\n"
     ]
    },
    {
     "name": "stderr",
     "output_type": "stream",
     "text": [
      "/var/folders/2h/45bqs84942sfxfwfndsxtgs40000gn/T/ipykernel_12494/2066196414.py:35: PerformanceWarning: DataFrame is highly fragmented.  This is usually the result of calling `frame.insert` many times, which has poor performance.  Consider joining all columns at once using pd.concat(axis=1) instead. To get a de-fragmented frame, use `newframe = frame.copy()`\n",
      "  filtered_open_target_df[col + '_temp'] = cols_to_mean.max(axis=1)\n"
     ]
    },
    {
     "name": "stdout",
     "output_type": "stream",
     "text": [
      "New matrix shape: (3441, 3441)\n"
     ]
    },
    {
     "name": "stderr",
     "output_type": "stream",
     "text": [
      "/var/folders/2h/45bqs84942sfxfwfndsxtgs40000gn/T/ipykernel_12494/2066196414.py:35: PerformanceWarning: DataFrame is highly fragmented.  This is usually the result of calling `frame.insert` many times, which has poor performance.  Consider joining all columns at once using pd.concat(axis=1) instead. To get a de-fragmented frame, use `newframe = frame.copy()`\n",
      "  filtered_open_target_df[col + '_temp'] = cols_to_mean.max(axis=1)\n"
     ]
    },
    {
     "name": "stdout",
     "output_type": "stream",
     "text": [
      "New matrix shape: (3424, 3424)\n"
     ]
    },
    {
     "name": "stderr",
     "output_type": "stream",
     "text": [
      "/var/folders/2h/45bqs84942sfxfwfndsxtgs40000gn/T/ipykernel_12494/2066196414.py:35: PerformanceWarning: DataFrame is highly fragmented.  This is usually the result of calling `frame.insert` many times, which has poor performance.  Consider joining all columns at once using pd.concat(axis=1) instead. To get a de-fragmented frame, use `newframe = frame.copy()`\n",
      "  filtered_open_target_df[col + '_temp'] = cols_to_mean.max(axis=1)\n"
     ]
    },
    {
     "name": "stdout",
     "output_type": "stream",
     "text": [
      "New matrix shape: (3414, 3414)\n"
     ]
    },
    {
     "name": "stderr",
     "output_type": "stream",
     "text": [
      "/var/folders/2h/45bqs84942sfxfwfndsxtgs40000gn/T/ipykernel_12494/2066196414.py:35: PerformanceWarning: DataFrame is highly fragmented.  This is usually the result of calling `frame.insert` many times, which has poor performance.  Consider joining all columns at once using pd.concat(axis=1) instead. To get a de-fragmented frame, use `newframe = frame.copy()`\n",
      "  filtered_open_target_df[col + '_temp'] = cols_to_mean.max(axis=1)\n"
     ]
    },
    {
     "name": "stdout",
     "output_type": "stream",
     "text": [
      "New matrix shape: (3410, 3410)\n"
     ]
    },
    {
     "name": "stderr",
     "output_type": "stream",
     "text": [
      "/var/folders/2h/45bqs84942sfxfwfndsxtgs40000gn/T/ipykernel_12494/2066196414.py:35: PerformanceWarning: DataFrame is highly fragmented.  This is usually the result of calling `frame.insert` many times, which has poor performance.  Consider joining all columns at once using pd.concat(axis=1) instead. To get a de-fragmented frame, use `newframe = frame.copy()`\n",
      "  filtered_open_target_df[col + '_temp'] = cols_to_mean.max(axis=1)\n"
     ]
    },
    {
     "name": "stdout",
     "output_type": "stream",
     "text": [
      "New matrix shape: (3409, 3409)\n"
     ]
    },
    {
     "name": "stderr",
     "output_type": "stream",
     "text": [
      "/var/folders/2h/45bqs84942sfxfwfndsxtgs40000gn/T/ipykernel_12494/2066196414.py:35: PerformanceWarning: DataFrame is highly fragmented.  This is usually the result of calling `frame.insert` many times, which has poor performance.  Consider joining all columns at once using pd.concat(axis=1) instead. To get a de-fragmented frame, use `newframe = frame.copy()`\n",
      "  filtered_open_target_df[col + '_temp'] = cols_to_mean.max(axis=1)\n"
     ]
    },
    {
     "name": "stdout",
     "output_type": "stream",
     "text": [
      "New matrix shape: (3392, 3392)\n"
     ]
    },
    {
     "name": "stderr",
     "output_type": "stream",
     "text": [
      "/var/folders/2h/45bqs84942sfxfwfndsxtgs40000gn/T/ipykernel_12494/2066196414.py:35: PerformanceWarning: DataFrame is highly fragmented.  This is usually the result of calling `frame.insert` many times, which has poor performance.  Consider joining all columns at once using pd.concat(axis=1) instead. To get a de-fragmented frame, use `newframe = frame.copy()`\n",
      "  filtered_open_target_df[col + '_temp'] = cols_to_mean.max(axis=1)\n"
     ]
    },
    {
     "name": "stdout",
     "output_type": "stream",
     "text": [
      "New matrix shape: (3377, 3377)\n"
     ]
    },
    {
     "name": "stderr",
     "output_type": "stream",
     "text": [
      "/var/folders/2h/45bqs84942sfxfwfndsxtgs40000gn/T/ipykernel_12494/2066196414.py:35: PerformanceWarning: DataFrame is highly fragmented.  This is usually the result of calling `frame.insert` many times, which has poor performance.  Consider joining all columns at once using pd.concat(axis=1) instead. To get a de-fragmented frame, use `newframe = frame.copy()`\n",
      "  filtered_open_target_df[col + '_temp'] = cols_to_mean.max(axis=1)\n"
     ]
    },
    {
     "name": "stdout",
     "output_type": "stream",
     "text": [
      "New matrix shape: (3372, 3372)\n"
     ]
    },
    {
     "name": "stderr",
     "output_type": "stream",
     "text": [
      "/var/folders/2h/45bqs84942sfxfwfndsxtgs40000gn/T/ipykernel_12494/2066196414.py:35: PerformanceWarning: DataFrame is highly fragmented.  This is usually the result of calling `frame.insert` many times, which has poor performance.  Consider joining all columns at once using pd.concat(axis=1) instead. To get a de-fragmented frame, use `newframe = frame.copy()`\n",
      "  filtered_open_target_df[col + '_temp'] = cols_to_mean.max(axis=1)\n"
     ]
    },
    {
     "name": "stdout",
     "output_type": "stream",
     "text": [
      "New matrix shape: (3364, 3364)\n"
     ]
    },
    {
     "name": "stderr",
     "output_type": "stream",
     "text": [
      "/var/folders/2h/45bqs84942sfxfwfndsxtgs40000gn/T/ipykernel_12494/2066196414.py:35: PerformanceWarning: DataFrame is highly fragmented.  This is usually the result of calling `frame.insert` many times, which has poor performance.  Consider joining all columns at once using pd.concat(axis=1) instead. To get a de-fragmented frame, use `newframe = frame.copy()`\n",
      "  filtered_open_target_df[col + '_temp'] = cols_to_mean.max(axis=1)\n"
     ]
    },
    {
     "name": "stdout",
     "output_type": "stream",
     "text": [
      "New matrix shape: (3358, 3358)\n"
     ]
    },
    {
     "name": "stderr",
     "output_type": "stream",
     "text": [
      "/var/folders/2h/45bqs84942sfxfwfndsxtgs40000gn/T/ipykernel_12494/2066196414.py:35: PerformanceWarning: DataFrame is highly fragmented.  This is usually the result of calling `frame.insert` many times, which has poor performance.  Consider joining all columns at once using pd.concat(axis=1) instead. To get a de-fragmented frame, use `newframe = frame.copy()`\n",
      "  filtered_open_target_df[col + '_temp'] = cols_to_mean.max(axis=1)\n"
     ]
    },
    {
     "name": "stdout",
     "output_type": "stream",
     "text": [
      "New matrix shape: (3352, 3352)\n"
     ]
    },
    {
     "name": "stderr",
     "output_type": "stream",
     "text": [
      "/var/folders/2h/45bqs84942sfxfwfndsxtgs40000gn/T/ipykernel_12494/2066196414.py:35: PerformanceWarning: DataFrame is highly fragmented.  This is usually the result of calling `frame.insert` many times, which has poor performance.  Consider joining all columns at once using pd.concat(axis=1) instead. To get a de-fragmented frame, use `newframe = frame.copy()`\n",
      "  filtered_open_target_df[col + '_temp'] = cols_to_mean.max(axis=1)\n"
     ]
    },
    {
     "name": "stdout",
     "output_type": "stream",
     "text": [
      "New matrix shape: (3330, 3330)\n"
     ]
    },
    {
     "name": "stderr",
     "output_type": "stream",
     "text": [
      "/var/folders/2h/45bqs84942sfxfwfndsxtgs40000gn/T/ipykernel_12494/2066196414.py:35: PerformanceWarning: DataFrame is highly fragmented.  This is usually the result of calling `frame.insert` many times, which has poor performance.  Consider joining all columns at once using pd.concat(axis=1) instead. To get a de-fragmented frame, use `newframe = frame.copy()`\n",
      "  filtered_open_target_df[col + '_temp'] = cols_to_mean.max(axis=1)\n"
     ]
    },
    {
     "name": "stdout",
     "output_type": "stream",
     "text": [
      "New matrix shape: (3305, 3305)\n"
     ]
    },
    {
     "name": "stderr",
     "output_type": "stream",
     "text": [
      "/var/folders/2h/45bqs84942sfxfwfndsxtgs40000gn/T/ipykernel_12494/2066196414.py:35: PerformanceWarning: DataFrame is highly fragmented.  This is usually the result of calling `frame.insert` many times, which has poor performance.  Consider joining all columns at once using pd.concat(axis=1) instead. To get a de-fragmented frame, use `newframe = frame.copy()`\n",
      "  filtered_open_target_df[col + '_temp'] = cols_to_mean.max(axis=1)\n"
     ]
    },
    {
     "name": "stdout",
     "output_type": "stream",
     "text": [
      "New matrix shape: (3296, 3296)\n"
     ]
    },
    {
     "name": "stderr",
     "output_type": "stream",
     "text": [
      "/var/folders/2h/45bqs84942sfxfwfndsxtgs40000gn/T/ipykernel_12494/2066196414.py:35: PerformanceWarning: DataFrame is highly fragmented.  This is usually the result of calling `frame.insert` many times, which has poor performance.  Consider joining all columns at once using pd.concat(axis=1) instead. To get a de-fragmented frame, use `newframe = frame.copy()`\n",
      "  filtered_open_target_df[col + '_temp'] = cols_to_mean.max(axis=1)\n"
     ]
    },
    {
     "name": "stdout",
     "output_type": "stream",
     "text": [
      "New matrix shape: (3295, 3295)\n"
     ]
    },
    {
     "name": "stderr",
     "output_type": "stream",
     "text": [
      "/var/folders/2h/45bqs84942sfxfwfndsxtgs40000gn/T/ipykernel_12494/2066196414.py:35: PerformanceWarning: DataFrame is highly fragmented.  This is usually the result of calling `frame.insert` many times, which has poor performance.  Consider joining all columns at once using pd.concat(axis=1) instead. To get a de-fragmented frame, use `newframe = frame.copy()`\n",
      "  filtered_open_target_df[col + '_temp'] = cols_to_mean.max(axis=1)\n"
     ]
    },
    {
     "name": "stdout",
     "output_type": "stream",
     "text": [
      "New matrix shape: (3285, 3285)\n"
     ]
    },
    {
     "name": "stderr",
     "output_type": "stream",
     "text": [
      "/var/folders/2h/45bqs84942sfxfwfndsxtgs40000gn/T/ipykernel_12494/2066196414.py:35: PerformanceWarning: DataFrame is highly fragmented.  This is usually the result of calling `frame.insert` many times, which has poor performance.  Consider joining all columns at once using pd.concat(axis=1) instead. To get a de-fragmented frame, use `newframe = frame.copy()`\n",
      "  filtered_open_target_df[col + '_temp'] = cols_to_mean.max(axis=1)\n"
     ]
    },
    {
     "name": "stdout",
     "output_type": "stream",
     "text": [
      "New matrix shape: (3267, 3267)\n"
     ]
    },
    {
     "name": "stderr",
     "output_type": "stream",
     "text": [
      "/var/folders/2h/45bqs84942sfxfwfndsxtgs40000gn/T/ipykernel_12494/2066196414.py:35: PerformanceWarning: DataFrame is highly fragmented.  This is usually the result of calling `frame.insert` many times, which has poor performance.  Consider joining all columns at once using pd.concat(axis=1) instead. To get a de-fragmented frame, use `newframe = frame.copy()`\n",
      "  filtered_open_target_df[col + '_temp'] = cols_to_mean.max(axis=1)\n"
     ]
    },
    {
     "name": "stdout",
     "output_type": "stream",
     "text": [
      "New matrix shape: (3254, 3254)\n"
     ]
    },
    {
     "name": "stderr",
     "output_type": "stream",
     "text": [
      "/var/folders/2h/45bqs84942sfxfwfndsxtgs40000gn/T/ipykernel_12494/2066196414.py:35: PerformanceWarning: DataFrame is highly fragmented.  This is usually the result of calling `frame.insert` many times, which has poor performance.  Consider joining all columns at once using pd.concat(axis=1) instead. To get a de-fragmented frame, use `newframe = frame.copy()`\n",
      "  filtered_open_target_df[col + '_temp'] = cols_to_mean.max(axis=1)\n"
     ]
    },
    {
     "name": "stdout",
     "output_type": "stream",
     "text": [
      "New matrix shape: (3243, 3243)\n"
     ]
    },
    {
     "name": "stderr",
     "output_type": "stream",
     "text": [
      "/var/folders/2h/45bqs84942sfxfwfndsxtgs40000gn/T/ipykernel_12494/2066196414.py:35: PerformanceWarning: DataFrame is highly fragmented.  This is usually the result of calling `frame.insert` many times, which has poor performance.  Consider joining all columns at once using pd.concat(axis=1) instead. To get a de-fragmented frame, use `newframe = frame.copy()`\n",
      "  filtered_open_target_df[col + '_temp'] = cols_to_mean.max(axis=1)\n"
     ]
    },
    {
     "name": "stdout",
     "output_type": "stream",
     "text": [
      "New matrix shape: (3236, 3236)\n"
     ]
    },
    {
     "name": "stderr",
     "output_type": "stream",
     "text": [
      "/var/folders/2h/45bqs84942sfxfwfndsxtgs40000gn/T/ipykernel_12494/2066196414.py:35: PerformanceWarning: DataFrame is highly fragmented.  This is usually the result of calling `frame.insert` many times, which has poor performance.  Consider joining all columns at once using pd.concat(axis=1) instead. To get a de-fragmented frame, use `newframe = frame.copy()`\n",
      "  filtered_open_target_df[col + '_temp'] = cols_to_mean.max(axis=1)\n"
     ]
    },
    {
     "name": "stdout",
     "output_type": "stream",
     "text": [
      "New matrix shape: (3212, 3212)\n"
     ]
    },
    {
     "name": "stderr",
     "output_type": "stream",
     "text": [
      "/var/folders/2h/45bqs84942sfxfwfndsxtgs40000gn/T/ipykernel_12494/2066196414.py:35: PerformanceWarning: DataFrame is highly fragmented.  This is usually the result of calling `frame.insert` many times, which has poor performance.  Consider joining all columns at once using pd.concat(axis=1) instead. To get a de-fragmented frame, use `newframe = frame.copy()`\n",
      "  filtered_open_target_df[col + '_temp'] = cols_to_mean.max(axis=1)\n"
     ]
    },
    {
     "name": "stdout",
     "output_type": "stream",
     "text": [
      "New matrix shape: (3207, 3207)\n"
     ]
    },
    {
     "name": "stderr",
     "output_type": "stream",
     "text": [
      "/var/folders/2h/45bqs84942sfxfwfndsxtgs40000gn/T/ipykernel_12494/2066196414.py:35: PerformanceWarning: DataFrame is highly fragmented.  This is usually the result of calling `frame.insert` many times, which has poor performance.  Consider joining all columns at once using pd.concat(axis=1) instead. To get a de-fragmented frame, use `newframe = frame.copy()`\n",
      "  filtered_open_target_df[col + '_temp'] = cols_to_mean.max(axis=1)\n"
     ]
    },
    {
     "name": "stdout",
     "output_type": "stream",
     "text": [
      "New matrix shape: (3185, 3185)\n"
     ]
    },
    {
     "name": "stderr",
     "output_type": "stream",
     "text": [
      "/var/folders/2h/45bqs84942sfxfwfndsxtgs40000gn/T/ipykernel_12494/2066196414.py:35: PerformanceWarning: DataFrame is highly fragmented.  This is usually the result of calling `frame.insert` many times, which has poor performance.  Consider joining all columns at once using pd.concat(axis=1) instead. To get a de-fragmented frame, use `newframe = frame.copy()`\n",
      "  filtered_open_target_df[col + '_temp'] = cols_to_mean.max(axis=1)\n"
     ]
    },
    {
     "name": "stdout",
     "output_type": "stream",
     "text": [
      "New matrix shape: (3177, 3177)\n"
     ]
    },
    {
     "name": "stderr",
     "output_type": "stream",
     "text": [
      "/var/folders/2h/45bqs84942sfxfwfndsxtgs40000gn/T/ipykernel_12494/2066196414.py:35: PerformanceWarning: DataFrame is highly fragmented.  This is usually the result of calling `frame.insert` many times, which has poor performance.  Consider joining all columns at once using pd.concat(axis=1) instead. To get a de-fragmented frame, use `newframe = frame.copy()`\n",
      "  filtered_open_target_df[col + '_temp'] = cols_to_mean.max(axis=1)\n"
     ]
    },
    {
     "name": "stdout",
     "output_type": "stream",
     "text": [
      "New matrix shape: (3168, 3168)\n"
     ]
    },
    {
     "name": "stderr",
     "output_type": "stream",
     "text": [
      "/var/folders/2h/45bqs84942sfxfwfndsxtgs40000gn/T/ipykernel_12494/2066196414.py:35: PerformanceWarning: DataFrame is highly fragmented.  This is usually the result of calling `frame.insert` many times, which has poor performance.  Consider joining all columns at once using pd.concat(axis=1) instead. To get a de-fragmented frame, use `newframe = frame.copy()`\n",
      "  filtered_open_target_df[col + '_temp'] = cols_to_mean.max(axis=1)\n"
     ]
    },
    {
     "name": "stdout",
     "output_type": "stream",
     "text": [
      "New matrix shape: (3163, 3163)\n"
     ]
    },
    {
     "name": "stderr",
     "output_type": "stream",
     "text": [
      "/var/folders/2h/45bqs84942sfxfwfndsxtgs40000gn/T/ipykernel_12494/2066196414.py:35: PerformanceWarning: DataFrame is highly fragmented.  This is usually the result of calling `frame.insert` many times, which has poor performance.  Consider joining all columns at once using pd.concat(axis=1) instead. To get a de-fragmented frame, use `newframe = frame.copy()`\n",
      "  filtered_open_target_df[col + '_temp'] = cols_to_mean.max(axis=1)\n"
     ]
    },
    {
     "name": "stdout",
     "output_type": "stream",
     "text": [
      "New matrix shape: (3146, 3146)\n"
     ]
    },
    {
     "name": "stderr",
     "output_type": "stream",
     "text": [
      "/var/folders/2h/45bqs84942sfxfwfndsxtgs40000gn/T/ipykernel_12494/2066196414.py:35: PerformanceWarning: DataFrame is highly fragmented.  This is usually the result of calling `frame.insert` many times, which has poor performance.  Consider joining all columns at once using pd.concat(axis=1) instead. To get a de-fragmented frame, use `newframe = frame.copy()`\n",
      "  filtered_open_target_df[col + '_temp'] = cols_to_mean.max(axis=1)\n"
     ]
    },
    {
     "name": "stdout",
     "output_type": "stream",
     "text": [
      "New matrix shape: (3139, 3139)\n"
     ]
    },
    {
     "name": "stderr",
     "output_type": "stream",
     "text": [
      "/var/folders/2h/45bqs84942sfxfwfndsxtgs40000gn/T/ipykernel_12494/2066196414.py:35: PerformanceWarning: DataFrame is highly fragmented.  This is usually the result of calling `frame.insert` many times, which has poor performance.  Consider joining all columns at once using pd.concat(axis=1) instead. To get a de-fragmented frame, use `newframe = frame.copy()`\n",
      "  filtered_open_target_df[col + '_temp'] = cols_to_mean.max(axis=1)\n"
     ]
    },
    {
     "name": "stdout",
     "output_type": "stream",
     "text": [
      "New matrix shape: (3125, 3125)\n"
     ]
    },
    {
     "name": "stderr",
     "output_type": "stream",
     "text": [
      "/var/folders/2h/45bqs84942sfxfwfndsxtgs40000gn/T/ipykernel_12494/2066196414.py:35: PerformanceWarning: DataFrame is highly fragmented.  This is usually the result of calling `frame.insert` many times, which has poor performance.  Consider joining all columns at once using pd.concat(axis=1) instead. To get a de-fragmented frame, use `newframe = frame.copy()`\n",
      "  filtered_open_target_df[col + '_temp'] = cols_to_mean.max(axis=1)\n"
     ]
    },
    {
     "name": "stdout",
     "output_type": "stream",
     "text": [
      "New matrix shape: (3111, 3111)\n"
     ]
    },
    {
     "name": "stderr",
     "output_type": "stream",
     "text": [
      "/var/folders/2h/45bqs84942sfxfwfndsxtgs40000gn/T/ipykernel_12494/2066196414.py:35: PerformanceWarning: DataFrame is highly fragmented.  This is usually the result of calling `frame.insert` many times, which has poor performance.  Consider joining all columns at once using pd.concat(axis=1) instead. To get a de-fragmented frame, use `newframe = frame.copy()`\n",
      "  filtered_open_target_df[col + '_temp'] = cols_to_mean.max(axis=1)\n"
     ]
    },
    {
     "name": "stdout",
     "output_type": "stream",
     "text": [
      "New matrix shape: (3094, 3094)\n"
     ]
    },
    {
     "name": "stderr",
     "output_type": "stream",
     "text": [
      "/var/folders/2h/45bqs84942sfxfwfndsxtgs40000gn/T/ipykernel_12494/2066196414.py:35: PerformanceWarning: DataFrame is highly fragmented.  This is usually the result of calling `frame.insert` many times, which has poor performance.  Consider joining all columns at once using pd.concat(axis=1) instead. To get a de-fragmented frame, use `newframe = frame.copy()`\n",
      "  filtered_open_target_df[col + '_temp'] = cols_to_mean.max(axis=1)\n"
     ]
    },
    {
     "name": "stdout",
     "output_type": "stream",
     "text": [
      "New matrix shape: (3081, 3081)\n"
     ]
    },
    {
     "name": "stderr",
     "output_type": "stream",
     "text": [
      "/var/folders/2h/45bqs84942sfxfwfndsxtgs40000gn/T/ipykernel_12494/2066196414.py:35: PerformanceWarning: DataFrame is highly fragmented.  This is usually the result of calling `frame.insert` many times, which has poor performance.  Consider joining all columns at once using pd.concat(axis=1) instead. To get a de-fragmented frame, use `newframe = frame.copy()`\n",
      "  filtered_open_target_df[col + '_temp'] = cols_to_mean.max(axis=1)\n"
     ]
    },
    {
     "name": "stdout",
     "output_type": "stream",
     "text": [
      "New matrix shape: (3074, 3074)\n"
     ]
    },
    {
     "name": "stderr",
     "output_type": "stream",
     "text": [
      "/var/folders/2h/45bqs84942sfxfwfndsxtgs40000gn/T/ipykernel_12494/2066196414.py:35: PerformanceWarning: DataFrame is highly fragmented.  This is usually the result of calling `frame.insert` many times, which has poor performance.  Consider joining all columns at once using pd.concat(axis=1) instead. To get a de-fragmented frame, use `newframe = frame.copy()`\n",
      "  filtered_open_target_df[col + '_temp'] = cols_to_mean.max(axis=1)\n"
     ]
    },
    {
     "name": "stdout",
     "output_type": "stream",
     "text": [
      "New matrix shape: (3056, 3056)\n"
     ]
    },
    {
     "name": "stderr",
     "output_type": "stream",
     "text": [
      "/var/folders/2h/45bqs84942sfxfwfndsxtgs40000gn/T/ipykernel_12494/2066196414.py:35: PerformanceWarning: DataFrame is highly fragmented.  This is usually the result of calling `frame.insert` many times, which has poor performance.  Consider joining all columns at once using pd.concat(axis=1) instead. To get a de-fragmented frame, use `newframe = frame.copy()`\n",
      "  filtered_open_target_df[col + '_temp'] = cols_to_mean.max(axis=1)\n"
     ]
    },
    {
     "name": "stdout",
     "output_type": "stream",
     "text": [
      "New matrix shape: (3051, 3051)\n"
     ]
    },
    {
     "name": "stderr",
     "output_type": "stream",
     "text": [
      "/var/folders/2h/45bqs84942sfxfwfndsxtgs40000gn/T/ipykernel_12494/2066196414.py:35: PerformanceWarning: DataFrame is highly fragmented.  This is usually the result of calling `frame.insert` many times, which has poor performance.  Consider joining all columns at once using pd.concat(axis=1) instead. To get a de-fragmented frame, use `newframe = frame.copy()`\n",
      "  filtered_open_target_df[col + '_temp'] = cols_to_mean.max(axis=1)\n"
     ]
    },
    {
     "name": "stdout",
     "output_type": "stream",
     "text": [
      "New matrix shape: (3044, 3044)\n"
     ]
    },
    {
     "name": "stderr",
     "output_type": "stream",
     "text": [
      "/var/folders/2h/45bqs84942sfxfwfndsxtgs40000gn/T/ipykernel_12494/2066196414.py:35: PerformanceWarning: DataFrame is highly fragmented.  This is usually the result of calling `frame.insert` many times, which has poor performance.  Consider joining all columns at once using pd.concat(axis=1) instead. To get a de-fragmented frame, use `newframe = frame.copy()`\n",
      "  filtered_open_target_df[col + '_temp'] = cols_to_mean.max(axis=1)\n"
     ]
    },
    {
     "name": "stdout",
     "output_type": "stream",
     "text": [
      "New matrix shape: (3037, 3037)\n"
     ]
    },
    {
     "name": "stderr",
     "output_type": "stream",
     "text": [
      "/var/folders/2h/45bqs84942sfxfwfndsxtgs40000gn/T/ipykernel_12494/2066196414.py:35: PerformanceWarning: DataFrame is highly fragmented.  This is usually the result of calling `frame.insert` many times, which has poor performance.  Consider joining all columns at once using pd.concat(axis=1) instead. To get a de-fragmented frame, use `newframe = frame.copy()`\n",
      "  filtered_open_target_df[col + '_temp'] = cols_to_mean.max(axis=1)\n"
     ]
    },
    {
     "name": "stdout",
     "output_type": "stream",
     "text": [
      "New matrix shape: (3027, 3027)\n"
     ]
    },
    {
     "name": "stderr",
     "output_type": "stream",
     "text": [
      "/var/folders/2h/45bqs84942sfxfwfndsxtgs40000gn/T/ipykernel_12494/2066196414.py:35: PerformanceWarning: DataFrame is highly fragmented.  This is usually the result of calling `frame.insert` many times, which has poor performance.  Consider joining all columns at once using pd.concat(axis=1) instead. To get a de-fragmented frame, use `newframe = frame.copy()`\n",
      "  filtered_open_target_df[col + '_temp'] = cols_to_mean.max(axis=1)\n"
     ]
    },
    {
     "name": "stdout",
     "output_type": "stream",
     "text": [
      "New matrix shape: (3021, 3021)\n"
     ]
    },
    {
     "name": "stderr",
     "output_type": "stream",
     "text": [
      "/var/folders/2h/45bqs84942sfxfwfndsxtgs40000gn/T/ipykernel_12494/2066196414.py:35: PerformanceWarning: DataFrame is highly fragmented.  This is usually the result of calling `frame.insert` many times, which has poor performance.  Consider joining all columns at once using pd.concat(axis=1) instead. To get a de-fragmented frame, use `newframe = frame.copy()`\n",
      "  filtered_open_target_df[col + '_temp'] = cols_to_mean.max(axis=1)\n"
     ]
    },
    {
     "name": "stdout",
     "output_type": "stream",
     "text": [
      "New matrix shape: (3009, 3009)\n"
     ]
    },
    {
     "name": "stderr",
     "output_type": "stream",
     "text": [
      "/var/folders/2h/45bqs84942sfxfwfndsxtgs40000gn/T/ipykernel_12494/2066196414.py:35: PerformanceWarning: DataFrame is highly fragmented.  This is usually the result of calling `frame.insert` many times, which has poor performance.  Consider joining all columns at once using pd.concat(axis=1) instead. To get a de-fragmented frame, use `newframe = frame.copy()`\n",
      "  filtered_open_target_df[col + '_temp'] = cols_to_mean.max(axis=1)\n"
     ]
    },
    {
     "name": "stdout",
     "output_type": "stream",
     "text": [
      "New matrix shape: (3001, 3001)\n"
     ]
    },
    {
     "name": "stderr",
     "output_type": "stream",
     "text": [
      "/var/folders/2h/45bqs84942sfxfwfndsxtgs40000gn/T/ipykernel_12494/2066196414.py:35: PerformanceWarning: DataFrame is highly fragmented.  This is usually the result of calling `frame.insert` many times, which has poor performance.  Consider joining all columns at once using pd.concat(axis=1) instead. To get a de-fragmented frame, use `newframe = frame.copy()`\n",
      "  filtered_open_target_df[col + '_temp'] = cols_to_mean.max(axis=1)\n"
     ]
    },
    {
     "name": "stdout",
     "output_type": "stream",
     "text": [
      "New matrix shape: (2986, 2986)\n"
     ]
    },
    {
     "name": "stderr",
     "output_type": "stream",
     "text": [
      "/var/folders/2h/45bqs84942sfxfwfndsxtgs40000gn/T/ipykernel_12494/2066196414.py:35: PerformanceWarning: DataFrame is highly fragmented.  This is usually the result of calling `frame.insert` many times, which has poor performance.  Consider joining all columns at once using pd.concat(axis=1) instead. To get a de-fragmented frame, use `newframe = frame.copy()`\n",
      "  filtered_open_target_df[col + '_temp'] = cols_to_mean.max(axis=1)\n"
     ]
    },
    {
     "name": "stdout",
     "output_type": "stream",
     "text": [
      "New matrix shape: (2973, 2973)\n"
     ]
    },
    {
     "name": "stderr",
     "output_type": "stream",
     "text": [
      "/var/folders/2h/45bqs84942sfxfwfndsxtgs40000gn/T/ipykernel_12494/2066196414.py:35: PerformanceWarning: DataFrame is highly fragmented.  This is usually the result of calling `frame.insert` many times, which has poor performance.  Consider joining all columns at once using pd.concat(axis=1) instead. To get a de-fragmented frame, use `newframe = frame.copy()`\n",
      "  filtered_open_target_df[col + '_temp'] = cols_to_mean.max(axis=1)\n"
     ]
    },
    {
     "name": "stdout",
     "output_type": "stream",
     "text": [
      "New matrix shape: (2959, 2959)\n"
     ]
    },
    {
     "name": "stderr",
     "output_type": "stream",
     "text": [
      "/var/folders/2h/45bqs84942sfxfwfndsxtgs40000gn/T/ipykernel_12494/2066196414.py:35: PerformanceWarning: DataFrame is highly fragmented.  This is usually the result of calling `frame.insert` many times, which has poor performance.  Consider joining all columns at once using pd.concat(axis=1) instead. To get a de-fragmented frame, use `newframe = frame.copy()`\n",
      "  filtered_open_target_df[col + '_temp'] = cols_to_mean.max(axis=1)\n"
     ]
    },
    {
     "name": "stdout",
     "output_type": "stream",
     "text": [
      "New matrix shape: (2935, 2935)\n"
     ]
    },
    {
     "name": "stderr",
     "output_type": "stream",
     "text": [
      "/var/folders/2h/45bqs84942sfxfwfndsxtgs40000gn/T/ipykernel_12494/2066196414.py:35: PerformanceWarning: DataFrame is highly fragmented.  This is usually the result of calling `frame.insert` many times, which has poor performance.  Consider joining all columns at once using pd.concat(axis=1) instead. To get a de-fragmented frame, use `newframe = frame.copy()`\n",
      "  filtered_open_target_df[col + '_temp'] = cols_to_mean.max(axis=1)\n"
     ]
    },
    {
     "name": "stdout",
     "output_type": "stream",
     "text": [
      "New matrix shape: (2911, 2911)\n"
     ]
    },
    {
     "name": "stderr",
     "output_type": "stream",
     "text": [
      "/var/folders/2h/45bqs84942sfxfwfndsxtgs40000gn/T/ipykernel_12494/2066196414.py:35: PerformanceWarning: DataFrame is highly fragmented.  This is usually the result of calling `frame.insert` many times, which has poor performance.  Consider joining all columns at once using pd.concat(axis=1) instead. To get a de-fragmented frame, use `newframe = frame.copy()`\n",
      "  filtered_open_target_df[col + '_temp'] = cols_to_mean.max(axis=1)\n"
     ]
    },
    {
     "name": "stdout",
     "output_type": "stream",
     "text": [
      "New matrix shape: (2903, 2903)\n"
     ]
    },
    {
     "name": "stderr",
     "output_type": "stream",
     "text": [
      "/var/folders/2h/45bqs84942sfxfwfndsxtgs40000gn/T/ipykernel_12494/2066196414.py:35: PerformanceWarning: DataFrame is highly fragmented.  This is usually the result of calling `frame.insert` many times, which has poor performance.  Consider joining all columns at once using pd.concat(axis=1) instead. To get a de-fragmented frame, use `newframe = frame.copy()`\n",
      "  filtered_open_target_df[col + '_temp'] = cols_to_mean.max(axis=1)\n"
     ]
    },
    {
     "name": "stdout",
     "output_type": "stream",
     "text": [
      "New matrix shape: (2882, 2882)\n"
     ]
    },
    {
     "name": "stderr",
     "output_type": "stream",
     "text": [
      "/var/folders/2h/45bqs84942sfxfwfndsxtgs40000gn/T/ipykernel_12494/2066196414.py:35: PerformanceWarning: DataFrame is highly fragmented.  This is usually the result of calling `frame.insert` many times, which has poor performance.  Consider joining all columns at once using pd.concat(axis=1) instead. To get a de-fragmented frame, use `newframe = frame.copy()`\n",
      "  filtered_open_target_df[col + '_temp'] = cols_to_mean.max(axis=1)\n"
     ]
    },
    {
     "name": "stdout",
     "output_type": "stream",
     "text": [
      "New matrix shape: (2877, 2877)\n"
     ]
    },
    {
     "name": "stderr",
     "output_type": "stream",
     "text": [
      "/var/folders/2h/45bqs84942sfxfwfndsxtgs40000gn/T/ipykernel_12494/2066196414.py:35: PerformanceWarning: DataFrame is highly fragmented.  This is usually the result of calling `frame.insert` many times, which has poor performance.  Consider joining all columns at once using pd.concat(axis=1) instead. To get a de-fragmented frame, use `newframe = frame.copy()`\n",
      "  filtered_open_target_df[col + '_temp'] = cols_to_mean.max(axis=1)\n"
     ]
    },
    {
     "name": "stdout",
     "output_type": "stream",
     "text": [
      "New matrix shape: (2870, 2870)\n"
     ]
    },
    {
     "name": "stderr",
     "output_type": "stream",
     "text": [
      "/var/folders/2h/45bqs84942sfxfwfndsxtgs40000gn/T/ipykernel_12494/2066196414.py:35: PerformanceWarning: DataFrame is highly fragmented.  This is usually the result of calling `frame.insert` many times, which has poor performance.  Consider joining all columns at once using pd.concat(axis=1) instead. To get a de-fragmented frame, use `newframe = frame.copy()`\n",
      "  filtered_open_target_df[col + '_temp'] = cols_to_mean.max(axis=1)\n"
     ]
    },
    {
     "name": "stdout",
     "output_type": "stream",
     "text": [
      "New matrix shape: (2866, 2866)\n"
     ]
    },
    {
     "name": "stderr",
     "output_type": "stream",
     "text": [
      "/var/folders/2h/45bqs84942sfxfwfndsxtgs40000gn/T/ipykernel_12494/2066196414.py:35: PerformanceWarning: DataFrame is highly fragmented.  This is usually the result of calling `frame.insert` many times, which has poor performance.  Consider joining all columns at once using pd.concat(axis=1) instead. To get a de-fragmented frame, use `newframe = frame.copy()`\n",
      "  filtered_open_target_df[col + '_temp'] = cols_to_mean.max(axis=1)\n"
     ]
    },
    {
     "name": "stdout",
     "output_type": "stream",
     "text": [
      "New matrix shape: (2854, 2854)\n"
     ]
    },
    {
     "name": "stderr",
     "output_type": "stream",
     "text": [
      "/var/folders/2h/45bqs84942sfxfwfndsxtgs40000gn/T/ipykernel_12494/2066196414.py:35: PerformanceWarning: DataFrame is highly fragmented.  This is usually the result of calling `frame.insert` many times, which has poor performance.  Consider joining all columns at once using pd.concat(axis=1) instead. To get a de-fragmented frame, use `newframe = frame.copy()`\n",
      "  filtered_open_target_df[col + '_temp'] = cols_to_mean.max(axis=1)\n"
     ]
    },
    {
     "name": "stdout",
     "output_type": "stream",
     "text": [
      "New matrix shape: (2842, 2842)\n"
     ]
    },
    {
     "name": "stderr",
     "output_type": "stream",
     "text": [
      "/var/folders/2h/45bqs84942sfxfwfndsxtgs40000gn/T/ipykernel_12494/2066196414.py:35: PerformanceWarning: DataFrame is highly fragmented.  This is usually the result of calling `frame.insert` many times, which has poor performance.  Consider joining all columns at once using pd.concat(axis=1) instead. To get a de-fragmented frame, use `newframe = frame.copy()`\n",
      "  filtered_open_target_df[col + '_temp'] = cols_to_mean.max(axis=1)\n"
     ]
    },
    {
     "name": "stdout",
     "output_type": "stream",
     "text": [
      "New matrix shape: (2794, 2794)\n"
     ]
    },
    {
     "name": "stderr",
     "output_type": "stream",
     "text": [
      "/var/folders/2h/45bqs84942sfxfwfndsxtgs40000gn/T/ipykernel_12494/2066196414.py:35: PerformanceWarning: DataFrame is highly fragmented.  This is usually the result of calling `frame.insert` many times, which has poor performance.  Consider joining all columns at once using pd.concat(axis=1) instead. To get a de-fragmented frame, use `newframe = frame.copy()`\n",
      "  filtered_open_target_df[col + '_temp'] = cols_to_mean.max(axis=1)\n"
     ]
    },
    {
     "name": "stdout",
     "output_type": "stream",
     "text": [
      "New matrix shape: (2764, 2764)\n"
     ]
    },
    {
     "name": "stderr",
     "output_type": "stream",
     "text": [
      "/var/folders/2h/45bqs84942sfxfwfndsxtgs40000gn/T/ipykernel_12494/2066196414.py:35: PerformanceWarning: DataFrame is highly fragmented.  This is usually the result of calling `frame.insert` many times, which has poor performance.  Consider joining all columns at once using pd.concat(axis=1) instead. To get a de-fragmented frame, use `newframe = frame.copy()`\n",
      "  filtered_open_target_df[col + '_temp'] = cols_to_mean.max(axis=1)\n"
     ]
    },
    {
     "name": "stdout",
     "output_type": "stream",
     "text": [
      "New matrix shape: (2760, 2760)\n"
     ]
    },
    {
     "name": "stderr",
     "output_type": "stream",
     "text": [
      "/var/folders/2h/45bqs84942sfxfwfndsxtgs40000gn/T/ipykernel_12494/2066196414.py:35: PerformanceWarning: DataFrame is highly fragmented.  This is usually the result of calling `frame.insert` many times, which has poor performance.  Consider joining all columns at once using pd.concat(axis=1) instead. To get a de-fragmented frame, use `newframe = frame.copy()`\n",
      "  filtered_open_target_df[col + '_temp'] = cols_to_mean.max(axis=1)\n"
     ]
    },
    {
     "name": "stdout",
     "output_type": "stream",
     "text": [
      "New matrix shape: (2751, 2751)\n"
     ]
    },
    {
     "name": "stderr",
     "output_type": "stream",
     "text": [
      "/var/folders/2h/45bqs84942sfxfwfndsxtgs40000gn/T/ipykernel_12494/2066196414.py:35: PerformanceWarning: DataFrame is highly fragmented.  This is usually the result of calling `frame.insert` many times, which has poor performance.  Consider joining all columns at once using pd.concat(axis=1) instead. To get a de-fragmented frame, use `newframe = frame.copy()`\n",
      "  filtered_open_target_df[col + '_temp'] = cols_to_mean.max(axis=1)\n"
     ]
    },
    {
     "name": "stdout",
     "output_type": "stream",
     "text": [
      "New matrix shape: (2747, 2747)\n"
     ]
    },
    {
     "name": "stderr",
     "output_type": "stream",
     "text": [
      "/var/folders/2h/45bqs84942sfxfwfndsxtgs40000gn/T/ipykernel_12494/2066196414.py:35: PerformanceWarning: DataFrame is highly fragmented.  This is usually the result of calling `frame.insert` many times, which has poor performance.  Consider joining all columns at once using pd.concat(axis=1) instead. To get a de-fragmented frame, use `newframe = frame.copy()`\n",
      "  filtered_open_target_df[col + '_temp'] = cols_to_mean.max(axis=1)\n"
     ]
    },
    {
     "name": "stdout",
     "output_type": "stream",
     "text": [
      "New matrix shape: (2737, 2737)\n"
     ]
    },
    {
     "name": "stderr",
     "output_type": "stream",
     "text": [
      "/var/folders/2h/45bqs84942sfxfwfndsxtgs40000gn/T/ipykernel_12494/2066196414.py:35: PerformanceWarning: DataFrame is highly fragmented.  This is usually the result of calling `frame.insert` many times, which has poor performance.  Consider joining all columns at once using pd.concat(axis=1) instead. To get a de-fragmented frame, use `newframe = frame.copy()`\n",
      "  filtered_open_target_df[col + '_temp'] = cols_to_mean.max(axis=1)\n"
     ]
    },
    {
     "name": "stdout",
     "output_type": "stream",
     "text": [
      "New matrix shape: (2727, 2727)\n"
     ]
    },
    {
     "name": "stderr",
     "output_type": "stream",
     "text": [
      "/var/folders/2h/45bqs84942sfxfwfndsxtgs40000gn/T/ipykernel_12494/2066196414.py:35: PerformanceWarning: DataFrame is highly fragmented.  This is usually the result of calling `frame.insert` many times, which has poor performance.  Consider joining all columns at once using pd.concat(axis=1) instead. To get a de-fragmented frame, use `newframe = frame.copy()`\n",
      "  filtered_open_target_df[col + '_temp'] = cols_to_mean.max(axis=1)\n"
     ]
    },
    {
     "name": "stdout",
     "output_type": "stream",
     "text": [
      "New matrix shape: (2722, 2722)\n"
     ]
    },
    {
     "name": "stderr",
     "output_type": "stream",
     "text": [
      "/var/folders/2h/45bqs84942sfxfwfndsxtgs40000gn/T/ipykernel_12494/2066196414.py:35: PerformanceWarning: DataFrame is highly fragmented.  This is usually the result of calling `frame.insert` many times, which has poor performance.  Consider joining all columns at once using pd.concat(axis=1) instead. To get a de-fragmented frame, use `newframe = frame.copy()`\n",
      "  filtered_open_target_df[col + '_temp'] = cols_to_mean.max(axis=1)\n"
     ]
    },
    {
     "name": "stdout",
     "output_type": "stream",
     "text": [
      "New matrix shape: (2712, 2712)\n"
     ]
    },
    {
     "name": "stderr",
     "output_type": "stream",
     "text": [
      "/var/folders/2h/45bqs84942sfxfwfndsxtgs40000gn/T/ipykernel_12494/2066196414.py:35: PerformanceWarning: DataFrame is highly fragmented.  This is usually the result of calling `frame.insert` many times, which has poor performance.  Consider joining all columns at once using pd.concat(axis=1) instead. To get a de-fragmented frame, use `newframe = frame.copy()`\n",
      "  filtered_open_target_df[col + '_temp'] = cols_to_mean.max(axis=1)\n"
     ]
    },
    {
     "name": "stdout",
     "output_type": "stream",
     "text": [
      "New matrix shape: (2699, 2699)\n"
     ]
    },
    {
     "name": "stderr",
     "output_type": "stream",
     "text": [
      "/var/folders/2h/45bqs84942sfxfwfndsxtgs40000gn/T/ipykernel_12494/2066196414.py:35: PerformanceWarning: DataFrame is highly fragmented.  This is usually the result of calling `frame.insert` many times, which has poor performance.  Consider joining all columns at once using pd.concat(axis=1) instead. To get a de-fragmented frame, use `newframe = frame.copy()`\n",
      "  filtered_open_target_df[col + '_temp'] = cols_to_mean.max(axis=1)\n"
     ]
    },
    {
     "name": "stdout",
     "output_type": "stream",
     "text": [
      "New matrix shape: (2692, 2692)\n"
     ]
    },
    {
     "name": "stderr",
     "output_type": "stream",
     "text": [
      "/var/folders/2h/45bqs84942sfxfwfndsxtgs40000gn/T/ipykernel_12494/2066196414.py:35: PerformanceWarning: DataFrame is highly fragmented.  This is usually the result of calling `frame.insert` many times, which has poor performance.  Consider joining all columns at once using pd.concat(axis=1) instead. To get a de-fragmented frame, use `newframe = frame.copy()`\n",
      "  filtered_open_target_df[col + '_temp'] = cols_to_mean.max(axis=1)\n"
     ]
    },
    {
     "name": "stdout",
     "output_type": "stream",
     "text": [
      "New matrix shape: (2675, 2675)\n"
     ]
    },
    {
     "name": "stderr",
     "output_type": "stream",
     "text": [
      "/var/folders/2h/45bqs84942sfxfwfndsxtgs40000gn/T/ipykernel_12494/2066196414.py:35: PerformanceWarning: DataFrame is highly fragmented.  This is usually the result of calling `frame.insert` many times, which has poor performance.  Consider joining all columns at once using pd.concat(axis=1) instead. To get a de-fragmented frame, use `newframe = frame.copy()`\n",
      "  filtered_open_target_df[col + '_temp'] = cols_to_mean.max(axis=1)\n"
     ]
    },
    {
     "name": "stdout",
     "output_type": "stream",
     "text": [
      "New matrix shape: (2661, 2661)\n"
     ]
    },
    {
     "name": "stderr",
     "output_type": "stream",
     "text": [
      "/var/folders/2h/45bqs84942sfxfwfndsxtgs40000gn/T/ipykernel_12494/2066196414.py:35: PerformanceWarning: DataFrame is highly fragmented.  This is usually the result of calling `frame.insert` many times, which has poor performance.  Consider joining all columns at once using pd.concat(axis=1) instead. To get a de-fragmented frame, use `newframe = frame.copy()`\n",
      "  filtered_open_target_df[col + '_temp'] = cols_to_mean.max(axis=1)\n"
     ]
    },
    {
     "name": "stdout",
     "output_type": "stream",
     "text": [
      "New matrix shape: (2635, 2635)\n"
     ]
    },
    {
     "name": "stderr",
     "output_type": "stream",
     "text": [
      "/var/folders/2h/45bqs84942sfxfwfndsxtgs40000gn/T/ipykernel_12494/2066196414.py:35: PerformanceWarning: DataFrame is highly fragmented.  This is usually the result of calling `frame.insert` many times, which has poor performance.  Consider joining all columns at once using pd.concat(axis=1) instead. To get a de-fragmented frame, use `newframe = frame.copy()`\n",
      "  filtered_open_target_df[col + '_temp'] = cols_to_mean.max(axis=1)\n"
     ]
    },
    {
     "name": "stdout",
     "output_type": "stream",
     "text": [
      "New matrix shape: (2622, 2622)\n"
     ]
    },
    {
     "name": "stderr",
     "output_type": "stream",
     "text": [
      "/var/folders/2h/45bqs84942sfxfwfndsxtgs40000gn/T/ipykernel_12494/2066196414.py:35: PerformanceWarning: DataFrame is highly fragmented.  This is usually the result of calling `frame.insert` many times, which has poor performance.  Consider joining all columns at once using pd.concat(axis=1) instead. To get a de-fragmented frame, use `newframe = frame.copy()`\n",
      "  filtered_open_target_df[col + '_temp'] = cols_to_mean.max(axis=1)\n"
     ]
    },
    {
     "name": "stdout",
     "output_type": "stream",
     "text": [
      "New matrix shape: (2619, 2619)\n"
     ]
    },
    {
     "name": "stderr",
     "output_type": "stream",
     "text": [
      "/var/folders/2h/45bqs84942sfxfwfndsxtgs40000gn/T/ipykernel_12494/2066196414.py:35: PerformanceWarning: DataFrame is highly fragmented.  This is usually the result of calling `frame.insert` many times, which has poor performance.  Consider joining all columns at once using pd.concat(axis=1) instead. To get a de-fragmented frame, use `newframe = frame.copy()`\n",
      "  filtered_open_target_df[col + '_temp'] = cols_to_mean.max(axis=1)\n"
     ]
    },
    {
     "name": "stdout",
     "output_type": "stream",
     "text": [
      "New matrix shape: (2615, 2615)\n"
     ]
    },
    {
     "name": "stderr",
     "output_type": "stream",
     "text": [
      "/var/folders/2h/45bqs84942sfxfwfndsxtgs40000gn/T/ipykernel_12494/2066196414.py:35: PerformanceWarning: DataFrame is highly fragmented.  This is usually the result of calling `frame.insert` many times, which has poor performance.  Consider joining all columns at once using pd.concat(axis=1) instead. To get a de-fragmented frame, use `newframe = frame.copy()`\n",
      "  filtered_open_target_df[col + '_temp'] = cols_to_mean.max(axis=1)\n"
     ]
    },
    {
     "name": "stdout",
     "output_type": "stream",
     "text": [
      "New matrix shape: (2592, 2592)\n"
     ]
    },
    {
     "name": "stderr",
     "output_type": "stream",
     "text": [
      "/var/folders/2h/45bqs84942sfxfwfndsxtgs40000gn/T/ipykernel_12494/2066196414.py:35: PerformanceWarning: DataFrame is highly fragmented.  This is usually the result of calling `frame.insert` many times, which has poor performance.  Consider joining all columns at once using pd.concat(axis=1) instead. To get a de-fragmented frame, use `newframe = frame.copy()`\n",
      "  filtered_open_target_df[col + '_temp'] = cols_to_mean.max(axis=1)\n"
     ]
    },
    {
     "name": "stdout",
     "output_type": "stream",
     "text": [
      "New matrix shape: (2586, 2586)\n"
     ]
    },
    {
     "name": "stderr",
     "output_type": "stream",
     "text": [
      "/var/folders/2h/45bqs84942sfxfwfndsxtgs40000gn/T/ipykernel_12494/2066196414.py:35: PerformanceWarning: DataFrame is highly fragmented.  This is usually the result of calling `frame.insert` many times, which has poor performance.  Consider joining all columns at once using pd.concat(axis=1) instead. To get a de-fragmented frame, use `newframe = frame.copy()`\n",
      "  filtered_open_target_df[col + '_temp'] = cols_to_mean.max(axis=1)\n"
     ]
    },
    {
     "name": "stdout",
     "output_type": "stream",
     "text": [
      "New matrix shape: (2581, 2581)\n"
     ]
    },
    {
     "name": "stderr",
     "output_type": "stream",
     "text": [
      "/var/folders/2h/45bqs84942sfxfwfndsxtgs40000gn/T/ipykernel_12494/2066196414.py:35: PerformanceWarning: DataFrame is highly fragmented.  This is usually the result of calling `frame.insert` many times, which has poor performance.  Consider joining all columns at once using pd.concat(axis=1) instead. To get a de-fragmented frame, use `newframe = frame.copy()`\n",
      "  filtered_open_target_df[col + '_temp'] = cols_to_mean.max(axis=1)\n"
     ]
    },
    {
     "name": "stdout",
     "output_type": "stream",
     "text": [
      "New matrix shape: (2571, 2571)\n"
     ]
    },
    {
     "name": "stderr",
     "output_type": "stream",
     "text": [
      "/var/folders/2h/45bqs84942sfxfwfndsxtgs40000gn/T/ipykernel_12494/2066196414.py:35: PerformanceWarning: DataFrame is highly fragmented.  This is usually the result of calling `frame.insert` many times, which has poor performance.  Consider joining all columns at once using pd.concat(axis=1) instead. To get a de-fragmented frame, use `newframe = frame.copy()`\n",
      "  filtered_open_target_df[col + '_temp'] = cols_to_mean.max(axis=1)\n"
     ]
    },
    {
     "name": "stdout",
     "output_type": "stream",
     "text": [
      "New matrix shape: (2557, 2557)\n"
     ]
    },
    {
     "name": "stderr",
     "output_type": "stream",
     "text": [
      "/var/folders/2h/45bqs84942sfxfwfndsxtgs40000gn/T/ipykernel_12494/2066196414.py:35: PerformanceWarning: DataFrame is highly fragmented.  This is usually the result of calling `frame.insert` many times, which has poor performance.  Consider joining all columns at once using pd.concat(axis=1) instead. To get a de-fragmented frame, use `newframe = frame.copy()`\n",
      "  filtered_open_target_df[col + '_temp'] = cols_to_mean.max(axis=1)\n"
     ]
    },
    {
     "name": "stdout",
     "output_type": "stream",
     "text": [
      "New matrix shape: (2555, 2555)\n"
     ]
    },
    {
     "name": "stderr",
     "output_type": "stream",
     "text": [
      "/var/folders/2h/45bqs84942sfxfwfndsxtgs40000gn/T/ipykernel_12494/2066196414.py:35: PerformanceWarning: DataFrame is highly fragmented.  This is usually the result of calling `frame.insert` many times, which has poor performance.  Consider joining all columns at once using pd.concat(axis=1) instead. To get a de-fragmented frame, use `newframe = frame.copy()`\n",
      "  filtered_open_target_df[col + '_temp'] = cols_to_mean.max(axis=1)\n"
     ]
    },
    {
     "name": "stdout",
     "output_type": "stream",
     "text": [
      "New matrix shape: (2526, 2526)\n"
     ]
    },
    {
     "name": "stderr",
     "output_type": "stream",
     "text": [
      "/var/folders/2h/45bqs84942sfxfwfndsxtgs40000gn/T/ipykernel_12494/2066196414.py:35: PerformanceWarning: DataFrame is highly fragmented.  This is usually the result of calling `frame.insert` many times, which has poor performance.  Consider joining all columns at once using pd.concat(axis=1) instead. To get a de-fragmented frame, use `newframe = frame.copy()`\n",
      "  filtered_open_target_df[col + '_temp'] = cols_to_mean.max(axis=1)\n"
     ]
    },
    {
     "name": "stdout",
     "output_type": "stream",
     "text": [
      "New matrix shape: (2506, 2506)\n"
     ]
    },
    {
     "name": "stderr",
     "output_type": "stream",
     "text": [
      "/var/folders/2h/45bqs84942sfxfwfndsxtgs40000gn/T/ipykernel_12494/2066196414.py:35: PerformanceWarning: DataFrame is highly fragmented.  This is usually the result of calling `frame.insert` many times, which has poor performance.  Consider joining all columns at once using pd.concat(axis=1) instead. To get a de-fragmented frame, use `newframe = frame.copy()`\n",
      "  filtered_open_target_df[col + '_temp'] = cols_to_mean.max(axis=1)\n"
     ]
    },
    {
     "name": "stdout",
     "output_type": "stream",
     "text": [
      "New matrix shape: (2499, 2499)\n"
     ]
    },
    {
     "name": "stderr",
     "output_type": "stream",
     "text": [
      "/var/folders/2h/45bqs84942sfxfwfndsxtgs40000gn/T/ipykernel_12494/2066196414.py:35: PerformanceWarning: DataFrame is highly fragmented.  This is usually the result of calling `frame.insert` many times, which has poor performance.  Consider joining all columns at once using pd.concat(axis=1) instead. To get a de-fragmented frame, use `newframe = frame.copy()`\n",
      "  filtered_open_target_df[col + '_temp'] = cols_to_mean.max(axis=1)\n"
     ]
    },
    {
     "name": "stdout",
     "output_type": "stream",
     "text": [
      "New matrix shape: (2492, 2492)\n"
     ]
    },
    {
     "name": "stderr",
     "output_type": "stream",
     "text": [
      "/var/folders/2h/45bqs84942sfxfwfndsxtgs40000gn/T/ipykernel_12494/2066196414.py:35: PerformanceWarning: DataFrame is highly fragmented.  This is usually the result of calling `frame.insert` many times, which has poor performance.  Consider joining all columns at once using pd.concat(axis=1) instead. To get a de-fragmented frame, use `newframe = frame.copy()`\n",
      "  filtered_open_target_df[col + '_temp'] = cols_to_mean.max(axis=1)\n"
     ]
    },
    {
     "name": "stdout",
     "output_type": "stream",
     "text": [
      "New matrix shape: (2477, 2477)\n"
     ]
    },
    {
     "name": "stderr",
     "output_type": "stream",
     "text": [
      "/var/folders/2h/45bqs84942sfxfwfndsxtgs40000gn/T/ipykernel_12494/2066196414.py:35: PerformanceWarning: DataFrame is highly fragmented.  This is usually the result of calling `frame.insert` many times, which has poor performance.  Consider joining all columns at once using pd.concat(axis=1) instead. To get a de-fragmented frame, use `newframe = frame.copy()`\n",
      "  filtered_open_target_df[col + '_temp'] = cols_to_mean.max(axis=1)\n"
     ]
    },
    {
     "name": "stdout",
     "output_type": "stream",
     "text": [
      "New matrix shape: (2473, 2473)\n"
     ]
    },
    {
     "name": "stderr",
     "output_type": "stream",
     "text": [
      "/var/folders/2h/45bqs84942sfxfwfndsxtgs40000gn/T/ipykernel_12494/2066196414.py:35: PerformanceWarning: DataFrame is highly fragmented.  This is usually the result of calling `frame.insert` many times, which has poor performance.  Consider joining all columns at once using pd.concat(axis=1) instead. To get a de-fragmented frame, use `newframe = frame.copy()`\n",
      "  filtered_open_target_df[col + '_temp'] = cols_to_mean.max(axis=1)\n"
     ]
    },
    {
     "name": "stdout",
     "output_type": "stream",
     "text": [
      "New matrix shape: (2462, 2462)\n"
     ]
    },
    {
     "name": "stderr",
     "output_type": "stream",
     "text": [
      "/var/folders/2h/45bqs84942sfxfwfndsxtgs40000gn/T/ipykernel_12494/2066196414.py:35: PerformanceWarning: DataFrame is highly fragmented.  This is usually the result of calling `frame.insert` many times, which has poor performance.  Consider joining all columns at once using pd.concat(axis=1) instead. To get a de-fragmented frame, use `newframe = frame.copy()`\n",
      "  filtered_open_target_df[col + '_temp'] = cols_to_mean.max(axis=1)\n"
     ]
    },
    {
     "name": "stdout",
     "output_type": "stream",
     "text": [
      "New matrix shape: (2455, 2455)\n"
     ]
    },
    {
     "name": "stderr",
     "output_type": "stream",
     "text": [
      "/var/folders/2h/45bqs84942sfxfwfndsxtgs40000gn/T/ipykernel_12494/2066196414.py:35: PerformanceWarning: DataFrame is highly fragmented.  This is usually the result of calling `frame.insert` many times, which has poor performance.  Consider joining all columns at once using pd.concat(axis=1) instead. To get a de-fragmented frame, use `newframe = frame.copy()`\n",
      "  filtered_open_target_df[col + '_temp'] = cols_to_mean.max(axis=1)\n"
     ]
    },
    {
     "name": "stdout",
     "output_type": "stream",
     "text": [
      "New matrix shape: (2446, 2446)\n"
     ]
    },
    {
     "name": "stderr",
     "output_type": "stream",
     "text": [
      "/var/folders/2h/45bqs84942sfxfwfndsxtgs40000gn/T/ipykernel_12494/2066196414.py:35: PerformanceWarning: DataFrame is highly fragmented.  This is usually the result of calling `frame.insert` many times, which has poor performance.  Consider joining all columns at once using pd.concat(axis=1) instead. To get a de-fragmented frame, use `newframe = frame.copy()`\n",
      "  filtered_open_target_df[col + '_temp'] = cols_to_mean.max(axis=1)\n"
     ]
    },
    {
     "name": "stdout",
     "output_type": "stream",
     "text": [
      "New matrix shape: (2430, 2430)\n"
     ]
    },
    {
     "name": "stderr",
     "output_type": "stream",
     "text": [
      "/var/folders/2h/45bqs84942sfxfwfndsxtgs40000gn/T/ipykernel_12494/2066196414.py:35: PerformanceWarning: DataFrame is highly fragmented.  This is usually the result of calling `frame.insert` many times, which has poor performance.  Consider joining all columns at once using pd.concat(axis=1) instead. To get a de-fragmented frame, use `newframe = frame.copy()`\n",
      "  filtered_open_target_df[col + '_temp'] = cols_to_mean.max(axis=1)\n"
     ]
    },
    {
     "name": "stdout",
     "output_type": "stream",
     "text": [
      "New matrix shape: (2403, 2403)\n"
     ]
    },
    {
     "name": "stderr",
     "output_type": "stream",
     "text": [
      "/var/folders/2h/45bqs84942sfxfwfndsxtgs40000gn/T/ipykernel_12494/2066196414.py:35: PerformanceWarning: DataFrame is highly fragmented.  This is usually the result of calling `frame.insert` many times, which has poor performance.  Consider joining all columns at once using pd.concat(axis=1) instead. To get a de-fragmented frame, use `newframe = frame.copy()`\n",
      "  filtered_open_target_df[col + '_temp'] = cols_to_mean.max(axis=1)\n"
     ]
    },
    {
     "name": "stdout",
     "output_type": "stream",
     "text": [
      "New matrix shape: (2395, 2395)\n"
     ]
    },
    {
     "name": "stderr",
     "output_type": "stream",
     "text": [
      "/var/folders/2h/45bqs84942sfxfwfndsxtgs40000gn/T/ipykernel_12494/2066196414.py:35: PerformanceWarning: DataFrame is highly fragmented.  This is usually the result of calling `frame.insert` many times, which has poor performance.  Consider joining all columns at once using pd.concat(axis=1) instead. To get a de-fragmented frame, use `newframe = frame.copy()`\n",
      "  filtered_open_target_df[col + '_temp'] = cols_to_mean.max(axis=1)\n"
     ]
    },
    {
     "name": "stdout",
     "output_type": "stream",
     "text": [
      "New matrix shape: (2386, 2386)\n"
     ]
    },
    {
     "name": "stderr",
     "output_type": "stream",
     "text": [
      "/var/folders/2h/45bqs84942sfxfwfndsxtgs40000gn/T/ipykernel_12494/2066196414.py:35: PerformanceWarning: DataFrame is highly fragmented.  This is usually the result of calling `frame.insert` many times, which has poor performance.  Consider joining all columns at once using pd.concat(axis=1) instead. To get a de-fragmented frame, use `newframe = frame.copy()`\n",
      "  filtered_open_target_df[col + '_temp'] = cols_to_mean.max(axis=1)\n"
     ]
    },
    {
     "name": "stdout",
     "output_type": "stream",
     "text": [
      "New matrix shape: (2379, 2379)\n"
     ]
    },
    {
     "name": "stderr",
     "output_type": "stream",
     "text": [
      "/var/folders/2h/45bqs84942sfxfwfndsxtgs40000gn/T/ipykernel_12494/2066196414.py:35: PerformanceWarning: DataFrame is highly fragmented.  This is usually the result of calling `frame.insert` many times, which has poor performance.  Consider joining all columns at once using pd.concat(axis=1) instead. To get a de-fragmented frame, use `newframe = frame.copy()`\n",
      "  filtered_open_target_df[col + '_temp'] = cols_to_mean.max(axis=1)\n"
     ]
    },
    {
     "name": "stdout",
     "output_type": "stream",
     "text": [
      "New matrix shape: (2373, 2373)\n"
     ]
    },
    {
     "name": "stderr",
     "output_type": "stream",
     "text": [
      "/var/folders/2h/45bqs84942sfxfwfndsxtgs40000gn/T/ipykernel_12494/2066196414.py:35: PerformanceWarning: DataFrame is highly fragmented.  This is usually the result of calling `frame.insert` many times, which has poor performance.  Consider joining all columns at once using pd.concat(axis=1) instead. To get a de-fragmented frame, use `newframe = frame.copy()`\n",
      "  filtered_open_target_df[col + '_temp'] = cols_to_mean.max(axis=1)\n"
     ]
    },
    {
     "name": "stdout",
     "output_type": "stream",
     "text": [
      "New matrix shape: (2360, 2360)\n"
     ]
    },
    {
     "name": "stderr",
     "output_type": "stream",
     "text": [
      "/var/folders/2h/45bqs84942sfxfwfndsxtgs40000gn/T/ipykernel_12494/2066196414.py:35: PerformanceWarning: DataFrame is highly fragmented.  This is usually the result of calling `frame.insert` many times, which has poor performance.  Consider joining all columns at once using pd.concat(axis=1) instead. To get a de-fragmented frame, use `newframe = frame.copy()`\n",
      "  filtered_open_target_df[col + '_temp'] = cols_to_mean.max(axis=1)\n"
     ]
    },
    {
     "name": "stdout",
     "output_type": "stream",
     "text": [
      "New matrix shape: (2358, 2358)\n"
     ]
    },
    {
     "name": "stderr",
     "output_type": "stream",
     "text": [
      "/var/folders/2h/45bqs84942sfxfwfndsxtgs40000gn/T/ipykernel_12494/2066196414.py:35: PerformanceWarning: DataFrame is highly fragmented.  This is usually the result of calling `frame.insert` many times, which has poor performance.  Consider joining all columns at once using pd.concat(axis=1) instead. To get a de-fragmented frame, use `newframe = frame.copy()`\n",
      "  filtered_open_target_df[col + '_temp'] = cols_to_mean.max(axis=1)\n"
     ]
    },
    {
     "name": "stdout",
     "output_type": "stream",
     "text": [
      "New matrix shape: (2350, 2350)\n"
     ]
    },
    {
     "name": "stderr",
     "output_type": "stream",
     "text": [
      "/var/folders/2h/45bqs84942sfxfwfndsxtgs40000gn/T/ipykernel_12494/2066196414.py:35: PerformanceWarning: DataFrame is highly fragmented.  This is usually the result of calling `frame.insert` many times, which has poor performance.  Consider joining all columns at once using pd.concat(axis=1) instead. To get a de-fragmented frame, use `newframe = frame.copy()`\n",
      "  filtered_open_target_df[col + '_temp'] = cols_to_mean.max(axis=1)\n"
     ]
    },
    {
     "name": "stdout",
     "output_type": "stream",
     "text": [
      "New matrix shape: (2345, 2345)\n"
     ]
    },
    {
     "name": "stderr",
     "output_type": "stream",
     "text": [
      "/var/folders/2h/45bqs84942sfxfwfndsxtgs40000gn/T/ipykernel_12494/2066196414.py:35: PerformanceWarning: DataFrame is highly fragmented.  This is usually the result of calling `frame.insert` many times, which has poor performance.  Consider joining all columns at once using pd.concat(axis=1) instead. To get a de-fragmented frame, use `newframe = frame.copy()`\n",
      "  filtered_open_target_df[col + '_temp'] = cols_to_mean.max(axis=1)\n"
     ]
    },
    {
     "name": "stdout",
     "output_type": "stream",
     "text": [
      "New matrix shape: (2326, 2326)\n"
     ]
    },
    {
     "name": "stderr",
     "output_type": "stream",
     "text": [
      "/var/folders/2h/45bqs84942sfxfwfndsxtgs40000gn/T/ipykernel_12494/2066196414.py:35: PerformanceWarning: DataFrame is highly fragmented.  This is usually the result of calling `frame.insert` many times, which has poor performance.  Consider joining all columns at once using pd.concat(axis=1) instead. To get a de-fragmented frame, use `newframe = frame.copy()`\n",
      "  filtered_open_target_df[col + '_temp'] = cols_to_mean.max(axis=1)\n"
     ]
    },
    {
     "name": "stdout",
     "output_type": "stream",
     "text": [
      "New matrix shape: (2314, 2314)\n"
     ]
    },
    {
     "name": "stderr",
     "output_type": "stream",
     "text": [
      "/var/folders/2h/45bqs84942sfxfwfndsxtgs40000gn/T/ipykernel_12494/2066196414.py:35: PerformanceWarning: DataFrame is highly fragmented.  This is usually the result of calling `frame.insert` many times, which has poor performance.  Consider joining all columns at once using pd.concat(axis=1) instead. To get a de-fragmented frame, use `newframe = frame.copy()`\n",
      "  filtered_open_target_df[col + '_temp'] = cols_to_mean.max(axis=1)\n"
     ]
    },
    {
     "name": "stdout",
     "output_type": "stream",
     "text": [
      "New matrix shape: (2307, 2307)\n"
     ]
    },
    {
     "name": "stderr",
     "output_type": "stream",
     "text": [
      "/var/folders/2h/45bqs84942sfxfwfndsxtgs40000gn/T/ipykernel_12494/2066196414.py:35: PerformanceWarning: DataFrame is highly fragmented.  This is usually the result of calling `frame.insert` many times, which has poor performance.  Consider joining all columns at once using pd.concat(axis=1) instead. To get a de-fragmented frame, use `newframe = frame.copy()`\n",
      "  filtered_open_target_df[col + '_temp'] = cols_to_mean.max(axis=1)\n"
     ]
    },
    {
     "name": "stdout",
     "output_type": "stream",
     "text": [
      "New matrix shape: (2279, 2279)\n"
     ]
    },
    {
     "name": "stderr",
     "output_type": "stream",
     "text": [
      "/var/folders/2h/45bqs84942sfxfwfndsxtgs40000gn/T/ipykernel_12494/2066196414.py:35: PerformanceWarning: DataFrame is highly fragmented.  This is usually the result of calling `frame.insert` many times, which has poor performance.  Consider joining all columns at once using pd.concat(axis=1) instead. To get a de-fragmented frame, use `newframe = frame.copy()`\n",
      "  filtered_open_target_df[col + '_temp'] = cols_to_mean.max(axis=1)\n"
     ]
    },
    {
     "name": "stdout",
     "output_type": "stream",
     "text": [
      "New matrix shape: (2267, 2267)\n"
     ]
    },
    {
     "name": "stderr",
     "output_type": "stream",
     "text": [
      "/var/folders/2h/45bqs84942sfxfwfndsxtgs40000gn/T/ipykernel_12494/2066196414.py:35: PerformanceWarning: DataFrame is highly fragmented.  This is usually the result of calling `frame.insert` many times, which has poor performance.  Consider joining all columns at once using pd.concat(axis=1) instead. To get a de-fragmented frame, use `newframe = frame.copy()`\n",
      "  filtered_open_target_df[col + '_temp'] = cols_to_mean.max(axis=1)\n"
     ]
    },
    {
     "name": "stdout",
     "output_type": "stream",
     "text": [
      "New matrix shape: (2264, 2264)\n"
     ]
    },
    {
     "name": "stderr",
     "output_type": "stream",
     "text": [
      "/var/folders/2h/45bqs84942sfxfwfndsxtgs40000gn/T/ipykernel_12494/2066196414.py:35: PerformanceWarning: DataFrame is highly fragmented.  This is usually the result of calling `frame.insert` many times, which has poor performance.  Consider joining all columns at once using pd.concat(axis=1) instead. To get a de-fragmented frame, use `newframe = frame.copy()`\n",
      "  filtered_open_target_df[col + '_temp'] = cols_to_mean.max(axis=1)\n"
     ]
    },
    {
     "name": "stdout",
     "output_type": "stream",
     "text": [
      "New matrix shape: (2259, 2259)\n"
     ]
    },
    {
     "name": "stderr",
     "output_type": "stream",
     "text": [
      "/var/folders/2h/45bqs84942sfxfwfndsxtgs40000gn/T/ipykernel_12494/2066196414.py:35: PerformanceWarning: DataFrame is highly fragmented.  This is usually the result of calling `frame.insert` many times, which has poor performance.  Consider joining all columns at once using pd.concat(axis=1) instead. To get a de-fragmented frame, use `newframe = frame.copy()`\n",
      "  filtered_open_target_df[col + '_temp'] = cols_to_mean.max(axis=1)\n"
     ]
    },
    {
     "name": "stdout",
     "output_type": "stream",
     "text": [
      "New matrix shape: (2256, 2256)\n"
     ]
    },
    {
     "name": "stderr",
     "output_type": "stream",
     "text": [
      "/var/folders/2h/45bqs84942sfxfwfndsxtgs40000gn/T/ipykernel_12494/2066196414.py:35: PerformanceWarning: DataFrame is highly fragmented.  This is usually the result of calling `frame.insert` many times, which has poor performance.  Consider joining all columns at once using pd.concat(axis=1) instead. To get a de-fragmented frame, use `newframe = frame.copy()`\n",
      "  filtered_open_target_df[col + '_temp'] = cols_to_mean.max(axis=1)\n"
     ]
    },
    {
     "name": "stdout",
     "output_type": "stream",
     "text": [
      "New matrix shape: (2250, 2250)\n"
     ]
    },
    {
     "name": "stderr",
     "output_type": "stream",
     "text": [
      "/var/folders/2h/45bqs84942sfxfwfndsxtgs40000gn/T/ipykernel_12494/2066196414.py:35: PerformanceWarning: DataFrame is highly fragmented.  This is usually the result of calling `frame.insert` many times, which has poor performance.  Consider joining all columns at once using pd.concat(axis=1) instead. To get a de-fragmented frame, use `newframe = frame.copy()`\n",
      "  filtered_open_target_df[col + '_temp'] = cols_to_mean.max(axis=1)\n"
     ]
    },
    {
     "name": "stdout",
     "output_type": "stream",
     "text": [
      "New matrix shape: (2242, 2242)\n"
     ]
    },
    {
     "name": "stderr",
     "output_type": "stream",
     "text": [
      "/var/folders/2h/45bqs84942sfxfwfndsxtgs40000gn/T/ipykernel_12494/2066196414.py:35: PerformanceWarning: DataFrame is highly fragmented.  This is usually the result of calling `frame.insert` many times, which has poor performance.  Consider joining all columns at once using pd.concat(axis=1) instead. To get a de-fragmented frame, use `newframe = frame.copy()`\n",
      "  filtered_open_target_df[col + '_temp'] = cols_to_mean.max(axis=1)\n"
     ]
    },
    {
     "name": "stdout",
     "output_type": "stream",
     "text": [
      "New matrix shape: (2219, 2219)\n"
     ]
    },
    {
     "name": "stderr",
     "output_type": "stream",
     "text": [
      "/var/folders/2h/45bqs84942sfxfwfndsxtgs40000gn/T/ipykernel_12494/2066196414.py:35: PerformanceWarning: DataFrame is highly fragmented.  This is usually the result of calling `frame.insert` many times, which has poor performance.  Consider joining all columns at once using pd.concat(axis=1) instead. To get a de-fragmented frame, use `newframe = frame.copy()`\n",
      "  filtered_open_target_df[col + '_temp'] = cols_to_mean.max(axis=1)\n"
     ]
    },
    {
     "name": "stdout",
     "output_type": "stream",
     "text": [
      "New matrix shape: (2214, 2214)\n"
     ]
    },
    {
     "name": "stderr",
     "output_type": "stream",
     "text": [
      "/var/folders/2h/45bqs84942sfxfwfndsxtgs40000gn/T/ipykernel_12494/2066196414.py:35: PerformanceWarning: DataFrame is highly fragmented.  This is usually the result of calling `frame.insert` many times, which has poor performance.  Consider joining all columns at once using pd.concat(axis=1) instead. To get a de-fragmented frame, use `newframe = frame.copy()`\n",
      "  filtered_open_target_df[col + '_temp'] = cols_to_mean.max(axis=1)\n"
     ]
    },
    {
     "name": "stdout",
     "output_type": "stream",
     "text": [
      "New matrix shape: (2210, 2210)\n"
     ]
    },
    {
     "name": "stderr",
     "output_type": "stream",
     "text": [
      "/var/folders/2h/45bqs84942sfxfwfndsxtgs40000gn/T/ipykernel_12494/2066196414.py:35: PerformanceWarning: DataFrame is highly fragmented.  This is usually the result of calling `frame.insert` many times, which has poor performance.  Consider joining all columns at once using pd.concat(axis=1) instead. To get a de-fragmented frame, use `newframe = frame.copy()`\n",
      "  filtered_open_target_df[col + '_temp'] = cols_to_mean.max(axis=1)\n"
     ]
    },
    {
     "name": "stdout",
     "output_type": "stream",
     "text": [
      "New matrix shape: (2203, 2203)\n"
     ]
    },
    {
     "name": "stderr",
     "output_type": "stream",
     "text": [
      "/var/folders/2h/45bqs84942sfxfwfndsxtgs40000gn/T/ipykernel_12494/2066196414.py:35: PerformanceWarning: DataFrame is highly fragmented.  This is usually the result of calling `frame.insert` many times, which has poor performance.  Consider joining all columns at once using pd.concat(axis=1) instead. To get a de-fragmented frame, use `newframe = frame.copy()`\n",
      "  filtered_open_target_df[col + '_temp'] = cols_to_mean.max(axis=1)\n"
     ]
    },
    {
     "name": "stdout",
     "output_type": "stream",
     "text": [
      "New matrix shape: (2191, 2191)\n"
     ]
    },
    {
     "name": "stderr",
     "output_type": "stream",
     "text": [
      "/var/folders/2h/45bqs84942sfxfwfndsxtgs40000gn/T/ipykernel_12494/2066196414.py:35: PerformanceWarning: DataFrame is highly fragmented.  This is usually the result of calling `frame.insert` many times, which has poor performance.  Consider joining all columns at once using pd.concat(axis=1) instead. To get a de-fragmented frame, use `newframe = frame.copy()`\n",
      "  filtered_open_target_df[col + '_temp'] = cols_to_mean.max(axis=1)\n"
     ]
    },
    {
     "name": "stdout",
     "output_type": "stream",
     "text": [
      "New matrix shape: (2183, 2183)\n"
     ]
    },
    {
     "name": "stderr",
     "output_type": "stream",
     "text": [
      "/var/folders/2h/45bqs84942sfxfwfndsxtgs40000gn/T/ipykernel_12494/2066196414.py:35: PerformanceWarning: DataFrame is highly fragmented.  This is usually the result of calling `frame.insert` many times, which has poor performance.  Consider joining all columns at once using pd.concat(axis=1) instead. To get a de-fragmented frame, use `newframe = frame.copy()`\n",
      "  filtered_open_target_df[col + '_temp'] = cols_to_mean.max(axis=1)\n"
     ]
    },
    {
     "name": "stdout",
     "output_type": "stream",
     "text": [
      "New matrix shape: (2169, 2169)\n"
     ]
    },
    {
     "name": "stderr",
     "output_type": "stream",
     "text": [
      "/var/folders/2h/45bqs84942sfxfwfndsxtgs40000gn/T/ipykernel_12494/2066196414.py:35: PerformanceWarning: DataFrame is highly fragmented.  This is usually the result of calling `frame.insert` many times, which has poor performance.  Consider joining all columns at once using pd.concat(axis=1) instead. To get a de-fragmented frame, use `newframe = frame.copy()`\n",
      "  filtered_open_target_df[col + '_temp'] = cols_to_mean.max(axis=1)\n"
     ]
    },
    {
     "name": "stdout",
     "output_type": "stream",
     "text": [
      "New matrix shape: (2168, 2168)\n"
     ]
    },
    {
     "name": "stderr",
     "output_type": "stream",
     "text": [
      "/var/folders/2h/45bqs84942sfxfwfndsxtgs40000gn/T/ipykernel_12494/2066196414.py:35: PerformanceWarning: DataFrame is highly fragmented.  This is usually the result of calling `frame.insert` many times, which has poor performance.  Consider joining all columns at once using pd.concat(axis=1) instead. To get a de-fragmented frame, use `newframe = frame.copy()`\n",
      "  filtered_open_target_df[col + '_temp'] = cols_to_mean.max(axis=1)\n"
     ]
    },
    {
     "name": "stdout",
     "output_type": "stream",
     "text": [
      "New matrix shape: (2148, 2148)\n"
     ]
    },
    {
     "name": "stderr",
     "output_type": "stream",
     "text": [
      "/var/folders/2h/45bqs84942sfxfwfndsxtgs40000gn/T/ipykernel_12494/2066196414.py:35: PerformanceWarning: DataFrame is highly fragmented.  This is usually the result of calling `frame.insert` many times, which has poor performance.  Consider joining all columns at once using pd.concat(axis=1) instead. To get a de-fragmented frame, use `newframe = frame.copy()`\n",
      "  filtered_open_target_df[col + '_temp'] = cols_to_mean.max(axis=1)\n"
     ]
    },
    {
     "name": "stdout",
     "output_type": "stream",
     "text": [
      "New matrix shape: (2141, 2141)\n"
     ]
    },
    {
     "name": "stderr",
     "output_type": "stream",
     "text": [
      "/var/folders/2h/45bqs84942sfxfwfndsxtgs40000gn/T/ipykernel_12494/2066196414.py:35: PerformanceWarning: DataFrame is highly fragmented.  This is usually the result of calling `frame.insert` many times, which has poor performance.  Consider joining all columns at once using pd.concat(axis=1) instead. To get a de-fragmented frame, use `newframe = frame.copy()`\n",
      "  filtered_open_target_df[col + '_temp'] = cols_to_mean.max(axis=1)\n"
     ]
    },
    {
     "name": "stdout",
     "output_type": "stream",
     "text": [
      "New matrix shape: (2137, 2137)\n"
     ]
    },
    {
     "name": "stderr",
     "output_type": "stream",
     "text": [
      "/var/folders/2h/45bqs84942sfxfwfndsxtgs40000gn/T/ipykernel_12494/2066196414.py:35: PerformanceWarning: DataFrame is highly fragmented.  This is usually the result of calling `frame.insert` many times, which has poor performance.  Consider joining all columns at once using pd.concat(axis=1) instead. To get a de-fragmented frame, use `newframe = frame.copy()`\n",
      "  filtered_open_target_df[col + '_temp'] = cols_to_mean.max(axis=1)\n"
     ]
    },
    {
     "name": "stdout",
     "output_type": "stream",
     "text": [
      "New matrix shape: (2131, 2131)\n"
     ]
    },
    {
     "name": "stderr",
     "output_type": "stream",
     "text": [
      "/var/folders/2h/45bqs84942sfxfwfndsxtgs40000gn/T/ipykernel_12494/2066196414.py:35: PerformanceWarning: DataFrame is highly fragmented.  This is usually the result of calling `frame.insert` many times, which has poor performance.  Consider joining all columns at once using pd.concat(axis=1) instead. To get a de-fragmented frame, use `newframe = frame.copy()`\n",
      "  filtered_open_target_df[col + '_temp'] = cols_to_mean.max(axis=1)\n"
     ]
    },
    {
     "name": "stdout",
     "output_type": "stream",
     "text": [
      "New matrix shape: (2128, 2128)\n"
     ]
    },
    {
     "name": "stderr",
     "output_type": "stream",
     "text": [
      "/var/folders/2h/45bqs84942sfxfwfndsxtgs40000gn/T/ipykernel_12494/2066196414.py:35: PerformanceWarning: DataFrame is highly fragmented.  This is usually the result of calling `frame.insert` many times, which has poor performance.  Consider joining all columns at once using pd.concat(axis=1) instead. To get a de-fragmented frame, use `newframe = frame.copy()`\n",
      "  filtered_open_target_df[col + '_temp'] = cols_to_mean.max(axis=1)\n"
     ]
    },
    {
     "name": "stdout",
     "output_type": "stream",
     "text": [
      "New matrix shape: (2122, 2122)\n"
     ]
    },
    {
     "name": "stderr",
     "output_type": "stream",
     "text": [
      "/var/folders/2h/45bqs84942sfxfwfndsxtgs40000gn/T/ipykernel_12494/2066196414.py:35: PerformanceWarning: DataFrame is highly fragmented.  This is usually the result of calling `frame.insert` many times, which has poor performance.  Consider joining all columns at once using pd.concat(axis=1) instead. To get a de-fragmented frame, use `newframe = frame.copy()`\n",
      "  filtered_open_target_df[col + '_temp'] = cols_to_mean.max(axis=1)\n"
     ]
    },
    {
     "name": "stdout",
     "output_type": "stream",
     "text": [
      "New matrix shape: (2113, 2113)\n"
     ]
    },
    {
     "name": "stderr",
     "output_type": "stream",
     "text": [
      "/var/folders/2h/45bqs84942sfxfwfndsxtgs40000gn/T/ipykernel_12494/2066196414.py:35: PerformanceWarning: DataFrame is highly fragmented.  This is usually the result of calling `frame.insert` many times, which has poor performance.  Consider joining all columns at once using pd.concat(axis=1) instead. To get a de-fragmented frame, use `newframe = frame.copy()`\n",
      "  filtered_open_target_df[col + '_temp'] = cols_to_mean.max(axis=1)\n"
     ]
    },
    {
     "name": "stdout",
     "output_type": "stream",
     "text": [
      "New matrix shape: (2107, 2107)\n"
     ]
    },
    {
     "name": "stderr",
     "output_type": "stream",
     "text": [
      "/var/folders/2h/45bqs84942sfxfwfndsxtgs40000gn/T/ipykernel_12494/2066196414.py:35: PerformanceWarning: DataFrame is highly fragmented.  This is usually the result of calling `frame.insert` many times, which has poor performance.  Consider joining all columns at once using pd.concat(axis=1) instead. To get a de-fragmented frame, use `newframe = frame.copy()`\n",
      "  filtered_open_target_df[col + '_temp'] = cols_to_mean.max(axis=1)\n"
     ]
    },
    {
     "name": "stdout",
     "output_type": "stream",
     "text": [
      "New matrix shape: (2088, 2088)\n"
     ]
    },
    {
     "name": "stderr",
     "output_type": "stream",
     "text": [
      "/var/folders/2h/45bqs84942sfxfwfndsxtgs40000gn/T/ipykernel_12494/2066196414.py:35: PerformanceWarning: DataFrame is highly fragmented.  This is usually the result of calling `frame.insert` many times, which has poor performance.  Consider joining all columns at once using pd.concat(axis=1) instead. To get a de-fragmented frame, use `newframe = frame.copy()`\n",
      "  filtered_open_target_df[col + '_temp'] = cols_to_mean.max(axis=1)\n"
     ]
    },
    {
     "name": "stdout",
     "output_type": "stream",
     "text": [
      "New matrix shape: (2084, 2084)\n"
     ]
    },
    {
     "name": "stderr",
     "output_type": "stream",
     "text": [
      "/var/folders/2h/45bqs84942sfxfwfndsxtgs40000gn/T/ipykernel_12494/2066196414.py:35: PerformanceWarning: DataFrame is highly fragmented.  This is usually the result of calling `frame.insert` many times, which has poor performance.  Consider joining all columns at once using pd.concat(axis=1) instead. To get a de-fragmented frame, use `newframe = frame.copy()`\n",
      "  filtered_open_target_df[col + '_temp'] = cols_to_mean.max(axis=1)\n"
     ]
    },
    {
     "name": "stdout",
     "output_type": "stream",
     "text": [
      "New matrix shape: (2077, 2077)\n"
     ]
    },
    {
     "name": "stderr",
     "output_type": "stream",
     "text": [
      "/var/folders/2h/45bqs84942sfxfwfndsxtgs40000gn/T/ipykernel_12494/2066196414.py:35: PerformanceWarning: DataFrame is highly fragmented.  This is usually the result of calling `frame.insert` many times, which has poor performance.  Consider joining all columns at once using pd.concat(axis=1) instead. To get a de-fragmented frame, use `newframe = frame.copy()`\n",
      "  filtered_open_target_df[col + '_temp'] = cols_to_mean.max(axis=1)\n"
     ]
    },
    {
     "name": "stdout",
     "output_type": "stream",
     "text": [
      "New matrix shape: (2067, 2067)\n"
     ]
    },
    {
     "name": "stderr",
     "output_type": "stream",
     "text": [
      "/var/folders/2h/45bqs84942sfxfwfndsxtgs40000gn/T/ipykernel_12494/2066196414.py:35: PerformanceWarning: DataFrame is highly fragmented.  This is usually the result of calling `frame.insert` many times, which has poor performance.  Consider joining all columns at once using pd.concat(axis=1) instead. To get a de-fragmented frame, use `newframe = frame.copy()`\n",
      "  filtered_open_target_df[col + '_temp'] = cols_to_mean.max(axis=1)\n"
     ]
    },
    {
     "name": "stdout",
     "output_type": "stream",
     "text": [
      "New matrix shape: (2066, 2066)\n"
     ]
    },
    {
     "name": "stderr",
     "output_type": "stream",
     "text": [
      "/var/folders/2h/45bqs84942sfxfwfndsxtgs40000gn/T/ipykernel_12494/2066196414.py:35: PerformanceWarning: DataFrame is highly fragmented.  This is usually the result of calling `frame.insert` many times, which has poor performance.  Consider joining all columns at once using pd.concat(axis=1) instead. To get a de-fragmented frame, use `newframe = frame.copy()`\n",
      "  filtered_open_target_df[col + '_temp'] = cols_to_mean.max(axis=1)\n"
     ]
    },
    {
     "name": "stdout",
     "output_type": "stream",
     "text": [
      "New matrix shape: (2056, 2056)\n"
     ]
    },
    {
     "name": "stderr",
     "output_type": "stream",
     "text": [
      "/var/folders/2h/45bqs84942sfxfwfndsxtgs40000gn/T/ipykernel_12494/2066196414.py:35: PerformanceWarning: DataFrame is highly fragmented.  This is usually the result of calling `frame.insert` many times, which has poor performance.  Consider joining all columns at once using pd.concat(axis=1) instead. To get a de-fragmented frame, use `newframe = frame.copy()`\n",
      "  filtered_open_target_df[col + '_temp'] = cols_to_mean.max(axis=1)\n"
     ]
    },
    {
     "name": "stdout",
     "output_type": "stream",
     "text": [
      "New matrix shape: (2053, 2053)\n"
     ]
    },
    {
     "name": "stderr",
     "output_type": "stream",
     "text": [
      "/var/folders/2h/45bqs84942sfxfwfndsxtgs40000gn/T/ipykernel_12494/2066196414.py:35: PerformanceWarning: DataFrame is highly fragmented.  This is usually the result of calling `frame.insert` many times, which has poor performance.  Consider joining all columns at once using pd.concat(axis=1) instead. To get a de-fragmented frame, use `newframe = frame.copy()`\n",
      "  filtered_open_target_df[col + '_temp'] = cols_to_mean.max(axis=1)\n"
     ]
    },
    {
     "name": "stdout",
     "output_type": "stream",
     "text": [
      "New matrix shape: (2047, 2047)\n"
     ]
    },
    {
     "name": "stderr",
     "output_type": "stream",
     "text": [
      "/var/folders/2h/45bqs84942sfxfwfndsxtgs40000gn/T/ipykernel_12494/2066196414.py:35: PerformanceWarning: DataFrame is highly fragmented.  This is usually the result of calling `frame.insert` many times, which has poor performance.  Consider joining all columns at once using pd.concat(axis=1) instead. To get a de-fragmented frame, use `newframe = frame.copy()`\n",
      "  filtered_open_target_df[col + '_temp'] = cols_to_mean.max(axis=1)\n"
     ]
    },
    {
     "name": "stdout",
     "output_type": "stream",
     "text": [
      "New matrix shape: (2040, 2040)\n"
     ]
    },
    {
     "name": "stderr",
     "output_type": "stream",
     "text": [
      "/var/folders/2h/45bqs84942sfxfwfndsxtgs40000gn/T/ipykernel_12494/2066196414.py:35: PerformanceWarning: DataFrame is highly fragmented.  This is usually the result of calling `frame.insert` many times, which has poor performance.  Consider joining all columns at once using pd.concat(axis=1) instead. To get a de-fragmented frame, use `newframe = frame.copy()`\n",
      "  filtered_open_target_df[col + '_temp'] = cols_to_mean.max(axis=1)\n"
     ]
    },
    {
     "name": "stdout",
     "output_type": "stream",
     "text": [
      "New matrix shape: (2029, 2029)\n"
     ]
    },
    {
     "name": "stderr",
     "output_type": "stream",
     "text": [
      "/var/folders/2h/45bqs84942sfxfwfndsxtgs40000gn/T/ipykernel_12494/2066196414.py:35: PerformanceWarning: DataFrame is highly fragmented.  This is usually the result of calling `frame.insert` many times, which has poor performance.  Consider joining all columns at once using pd.concat(axis=1) instead. To get a de-fragmented frame, use `newframe = frame.copy()`\n",
      "  filtered_open_target_df[col + '_temp'] = cols_to_mean.max(axis=1)\n"
     ]
    },
    {
     "name": "stdout",
     "output_type": "stream",
     "text": [
      "New matrix shape: (2026, 2026)\n"
     ]
    },
    {
     "name": "stderr",
     "output_type": "stream",
     "text": [
      "/var/folders/2h/45bqs84942sfxfwfndsxtgs40000gn/T/ipykernel_12494/2066196414.py:35: PerformanceWarning: DataFrame is highly fragmented.  This is usually the result of calling `frame.insert` many times, which has poor performance.  Consider joining all columns at once using pd.concat(axis=1) instead. To get a de-fragmented frame, use `newframe = frame.copy()`\n",
      "  filtered_open_target_df[col + '_temp'] = cols_to_mean.max(axis=1)\n"
     ]
    },
    {
     "name": "stdout",
     "output_type": "stream",
     "text": [
      "New matrix shape: (2021, 2021)\n"
     ]
    },
    {
     "name": "stderr",
     "output_type": "stream",
     "text": [
      "/var/folders/2h/45bqs84942sfxfwfndsxtgs40000gn/T/ipykernel_12494/2066196414.py:35: PerformanceWarning: DataFrame is highly fragmented.  This is usually the result of calling `frame.insert` many times, which has poor performance.  Consider joining all columns at once using pd.concat(axis=1) instead. To get a de-fragmented frame, use `newframe = frame.copy()`\n",
      "  filtered_open_target_df[col + '_temp'] = cols_to_mean.max(axis=1)\n"
     ]
    },
    {
     "name": "stdout",
     "output_type": "stream",
     "text": [
      "New matrix shape: (2009, 2009)\n"
     ]
    },
    {
     "name": "stderr",
     "output_type": "stream",
     "text": [
      "/var/folders/2h/45bqs84942sfxfwfndsxtgs40000gn/T/ipykernel_12494/2066196414.py:35: PerformanceWarning: DataFrame is highly fragmented.  This is usually the result of calling `frame.insert` many times, which has poor performance.  Consider joining all columns at once using pd.concat(axis=1) instead. To get a de-fragmented frame, use `newframe = frame.copy()`\n",
      "  filtered_open_target_df[col + '_temp'] = cols_to_mean.max(axis=1)\n"
     ]
    },
    {
     "name": "stdout",
     "output_type": "stream",
     "text": [
      "New matrix shape: (2007, 2007)\n"
     ]
    },
    {
     "name": "stderr",
     "output_type": "stream",
     "text": [
      "/var/folders/2h/45bqs84942sfxfwfndsxtgs40000gn/T/ipykernel_12494/2066196414.py:35: PerformanceWarning: DataFrame is highly fragmented.  This is usually the result of calling `frame.insert` many times, which has poor performance.  Consider joining all columns at once using pd.concat(axis=1) instead. To get a de-fragmented frame, use `newframe = frame.copy()`\n",
      "  filtered_open_target_df[col + '_temp'] = cols_to_mean.max(axis=1)\n"
     ]
    },
    {
     "name": "stdout",
     "output_type": "stream",
     "text": [
      "New matrix shape: (1993, 1993)\n"
     ]
    },
    {
     "name": "stderr",
     "output_type": "stream",
     "text": [
      "/var/folders/2h/45bqs84942sfxfwfndsxtgs40000gn/T/ipykernel_12494/2066196414.py:35: PerformanceWarning: DataFrame is highly fragmented.  This is usually the result of calling `frame.insert` many times, which has poor performance.  Consider joining all columns at once using pd.concat(axis=1) instead. To get a de-fragmented frame, use `newframe = frame.copy()`\n",
      "  filtered_open_target_df[col + '_temp'] = cols_to_mean.max(axis=1)\n"
     ]
    },
    {
     "name": "stdout",
     "output_type": "stream",
     "text": [
      "New matrix shape: (1980, 1980)\n"
     ]
    },
    {
     "name": "stderr",
     "output_type": "stream",
     "text": [
      "/var/folders/2h/45bqs84942sfxfwfndsxtgs40000gn/T/ipykernel_12494/2066196414.py:35: PerformanceWarning: DataFrame is highly fragmented.  This is usually the result of calling `frame.insert` many times, which has poor performance.  Consider joining all columns at once using pd.concat(axis=1) instead. To get a de-fragmented frame, use `newframe = frame.copy()`\n",
      "  filtered_open_target_df[col + '_temp'] = cols_to_mean.max(axis=1)\n"
     ]
    },
    {
     "name": "stdout",
     "output_type": "stream",
     "text": [
      "New matrix shape: (1967, 1967)\n"
     ]
    },
    {
     "name": "stderr",
     "output_type": "stream",
     "text": [
      "/var/folders/2h/45bqs84942sfxfwfndsxtgs40000gn/T/ipykernel_12494/2066196414.py:35: PerformanceWarning: DataFrame is highly fragmented.  This is usually the result of calling `frame.insert` many times, which has poor performance.  Consider joining all columns at once using pd.concat(axis=1) instead. To get a de-fragmented frame, use `newframe = frame.copy()`\n",
      "  filtered_open_target_df[col + '_temp'] = cols_to_mean.max(axis=1)\n"
     ]
    },
    {
     "name": "stdout",
     "output_type": "stream",
     "text": [
      "New matrix shape: (1966, 1966)\n"
     ]
    },
    {
     "name": "stderr",
     "output_type": "stream",
     "text": [
      "/var/folders/2h/45bqs84942sfxfwfndsxtgs40000gn/T/ipykernel_12494/2066196414.py:35: PerformanceWarning: DataFrame is highly fragmented.  This is usually the result of calling `frame.insert` many times, which has poor performance.  Consider joining all columns at once using pd.concat(axis=1) instead. To get a de-fragmented frame, use `newframe = frame.copy()`\n",
      "  filtered_open_target_df[col + '_temp'] = cols_to_mean.max(axis=1)\n"
     ]
    },
    {
     "name": "stdout",
     "output_type": "stream",
     "text": [
      "New matrix shape: (1959, 1959)\n"
     ]
    },
    {
     "name": "stderr",
     "output_type": "stream",
     "text": [
      "/var/folders/2h/45bqs84942sfxfwfndsxtgs40000gn/T/ipykernel_12494/2066196414.py:35: PerformanceWarning: DataFrame is highly fragmented.  This is usually the result of calling `frame.insert` many times, which has poor performance.  Consider joining all columns at once using pd.concat(axis=1) instead. To get a de-fragmented frame, use `newframe = frame.copy()`\n",
      "  filtered_open_target_df[col + '_temp'] = cols_to_mean.max(axis=1)\n"
     ]
    },
    {
     "name": "stdout",
     "output_type": "stream",
     "text": [
      "New matrix shape: (1942, 1942)\n"
     ]
    },
    {
     "name": "stderr",
     "output_type": "stream",
     "text": [
      "/var/folders/2h/45bqs84942sfxfwfndsxtgs40000gn/T/ipykernel_12494/2066196414.py:35: PerformanceWarning: DataFrame is highly fragmented.  This is usually the result of calling `frame.insert` many times, which has poor performance.  Consider joining all columns at once using pd.concat(axis=1) instead. To get a de-fragmented frame, use `newframe = frame.copy()`\n",
      "  filtered_open_target_df[col + '_temp'] = cols_to_mean.max(axis=1)\n"
     ]
    },
    {
     "name": "stdout",
     "output_type": "stream",
     "text": [
      "New matrix shape: (1941, 1941)\n"
     ]
    },
    {
     "name": "stderr",
     "output_type": "stream",
     "text": [
      "/var/folders/2h/45bqs84942sfxfwfndsxtgs40000gn/T/ipykernel_12494/2066196414.py:35: PerformanceWarning: DataFrame is highly fragmented.  This is usually the result of calling `frame.insert` many times, which has poor performance.  Consider joining all columns at once using pd.concat(axis=1) instead. To get a de-fragmented frame, use `newframe = frame.copy()`\n",
      "  filtered_open_target_df[col + '_temp'] = cols_to_mean.max(axis=1)\n"
     ]
    },
    {
     "name": "stdout",
     "output_type": "stream",
     "text": [
      "New matrix shape: (1921, 1921)\n"
     ]
    },
    {
     "name": "stderr",
     "output_type": "stream",
     "text": [
      "/var/folders/2h/45bqs84942sfxfwfndsxtgs40000gn/T/ipykernel_12494/2066196414.py:35: PerformanceWarning: DataFrame is highly fragmented.  This is usually the result of calling `frame.insert` many times, which has poor performance.  Consider joining all columns at once using pd.concat(axis=1) instead. To get a de-fragmented frame, use `newframe = frame.copy()`\n",
      "  filtered_open_target_df[col + '_temp'] = cols_to_mean.max(axis=1)\n"
     ]
    },
    {
     "name": "stdout",
     "output_type": "stream",
     "text": [
      "New matrix shape: (1916, 1916)\n"
     ]
    },
    {
     "name": "stderr",
     "output_type": "stream",
     "text": [
      "/var/folders/2h/45bqs84942sfxfwfndsxtgs40000gn/T/ipykernel_12494/2066196414.py:35: PerformanceWarning: DataFrame is highly fragmented.  This is usually the result of calling `frame.insert` many times, which has poor performance.  Consider joining all columns at once using pd.concat(axis=1) instead. To get a de-fragmented frame, use `newframe = frame.copy()`\n",
      "  filtered_open_target_df[col + '_temp'] = cols_to_mean.max(axis=1)\n"
     ]
    },
    {
     "name": "stdout",
     "output_type": "stream",
     "text": [
      "New matrix shape: (1910, 1910)\n"
     ]
    },
    {
     "name": "stderr",
     "output_type": "stream",
     "text": [
      "/var/folders/2h/45bqs84942sfxfwfndsxtgs40000gn/T/ipykernel_12494/2066196414.py:35: PerformanceWarning: DataFrame is highly fragmented.  This is usually the result of calling `frame.insert` many times, which has poor performance.  Consider joining all columns at once using pd.concat(axis=1) instead. To get a de-fragmented frame, use `newframe = frame.copy()`\n",
      "  filtered_open_target_df[col + '_temp'] = cols_to_mean.max(axis=1)\n"
     ]
    },
    {
     "name": "stdout",
     "output_type": "stream",
     "text": [
      "New matrix shape: (1909, 1909)\n"
     ]
    },
    {
     "name": "stderr",
     "output_type": "stream",
     "text": [
      "/var/folders/2h/45bqs84942sfxfwfndsxtgs40000gn/T/ipykernel_12494/2066196414.py:35: PerformanceWarning: DataFrame is highly fragmented.  This is usually the result of calling `frame.insert` many times, which has poor performance.  Consider joining all columns at once using pd.concat(axis=1) instead. To get a de-fragmented frame, use `newframe = frame.copy()`\n",
      "  filtered_open_target_df[col + '_temp'] = cols_to_mean.max(axis=1)\n"
     ]
    },
    {
     "name": "stdout",
     "output_type": "stream",
     "text": [
      "New matrix shape: (1892, 1892)\n"
     ]
    },
    {
     "name": "stderr",
     "output_type": "stream",
     "text": [
      "/var/folders/2h/45bqs84942sfxfwfndsxtgs40000gn/T/ipykernel_12494/2066196414.py:35: PerformanceWarning: DataFrame is highly fragmented.  This is usually the result of calling `frame.insert` many times, which has poor performance.  Consider joining all columns at once using pd.concat(axis=1) instead. To get a de-fragmented frame, use `newframe = frame.copy()`\n",
      "  filtered_open_target_df[col + '_temp'] = cols_to_mean.max(axis=1)\n"
     ]
    },
    {
     "name": "stdout",
     "output_type": "stream",
     "text": [
      "New matrix shape: (1890, 1890)\n"
     ]
    },
    {
     "name": "stderr",
     "output_type": "stream",
     "text": [
      "/var/folders/2h/45bqs84942sfxfwfndsxtgs40000gn/T/ipykernel_12494/2066196414.py:35: PerformanceWarning: DataFrame is highly fragmented.  This is usually the result of calling `frame.insert` many times, which has poor performance.  Consider joining all columns at once using pd.concat(axis=1) instead. To get a de-fragmented frame, use `newframe = frame.copy()`\n",
      "  filtered_open_target_df[col + '_temp'] = cols_to_mean.max(axis=1)\n"
     ]
    },
    {
     "name": "stdout",
     "output_type": "stream",
     "text": [
      "New matrix shape: (1884, 1884)\n"
     ]
    },
    {
     "name": "stderr",
     "output_type": "stream",
     "text": [
      "/var/folders/2h/45bqs84942sfxfwfndsxtgs40000gn/T/ipykernel_12494/2066196414.py:35: PerformanceWarning: DataFrame is highly fragmented.  This is usually the result of calling `frame.insert` many times, which has poor performance.  Consider joining all columns at once using pd.concat(axis=1) instead. To get a de-fragmented frame, use `newframe = frame.copy()`\n",
      "  filtered_open_target_df[col + '_temp'] = cols_to_mean.max(axis=1)\n"
     ]
    },
    {
     "name": "stdout",
     "output_type": "stream",
     "text": [
      "New matrix shape: (1876, 1876)\n"
     ]
    },
    {
     "name": "stderr",
     "output_type": "stream",
     "text": [
      "/var/folders/2h/45bqs84942sfxfwfndsxtgs40000gn/T/ipykernel_12494/2066196414.py:35: PerformanceWarning: DataFrame is highly fragmented.  This is usually the result of calling `frame.insert` many times, which has poor performance.  Consider joining all columns at once using pd.concat(axis=1) instead. To get a de-fragmented frame, use `newframe = frame.copy()`\n",
      "  filtered_open_target_df[col + '_temp'] = cols_to_mean.max(axis=1)\n"
     ]
    },
    {
     "name": "stdout",
     "output_type": "stream",
     "text": [
      "New matrix shape: (1874, 1874)\n"
     ]
    },
    {
     "name": "stderr",
     "output_type": "stream",
     "text": [
      "/var/folders/2h/45bqs84942sfxfwfndsxtgs40000gn/T/ipykernel_12494/2066196414.py:35: PerformanceWarning: DataFrame is highly fragmented.  This is usually the result of calling `frame.insert` many times, which has poor performance.  Consider joining all columns at once using pd.concat(axis=1) instead. To get a de-fragmented frame, use `newframe = frame.copy()`\n",
      "  filtered_open_target_df[col + '_temp'] = cols_to_mean.max(axis=1)\n"
     ]
    },
    {
     "name": "stdout",
     "output_type": "stream",
     "text": [
      "New matrix shape: (1869, 1869)\n"
     ]
    },
    {
     "name": "stderr",
     "output_type": "stream",
     "text": [
      "/var/folders/2h/45bqs84942sfxfwfndsxtgs40000gn/T/ipykernel_12494/2066196414.py:35: PerformanceWarning: DataFrame is highly fragmented.  This is usually the result of calling `frame.insert` many times, which has poor performance.  Consider joining all columns at once using pd.concat(axis=1) instead. To get a de-fragmented frame, use `newframe = frame.copy()`\n",
      "  filtered_open_target_df[col + '_temp'] = cols_to_mean.max(axis=1)\n"
     ]
    },
    {
     "name": "stdout",
     "output_type": "stream",
     "text": [
      "New matrix shape: (1865, 1865)\n"
     ]
    },
    {
     "name": "stderr",
     "output_type": "stream",
     "text": [
      "/var/folders/2h/45bqs84942sfxfwfndsxtgs40000gn/T/ipykernel_12494/2066196414.py:35: PerformanceWarning: DataFrame is highly fragmented.  This is usually the result of calling `frame.insert` many times, which has poor performance.  Consider joining all columns at once using pd.concat(axis=1) instead. To get a de-fragmented frame, use `newframe = frame.copy()`\n",
      "  filtered_open_target_df[col + '_temp'] = cols_to_mean.max(axis=1)\n"
     ]
    },
    {
     "name": "stdout",
     "output_type": "stream",
     "text": [
      "New matrix shape: (1848, 1848)\n"
     ]
    },
    {
     "name": "stderr",
     "output_type": "stream",
     "text": [
      "/var/folders/2h/45bqs84942sfxfwfndsxtgs40000gn/T/ipykernel_12494/2066196414.py:35: PerformanceWarning: DataFrame is highly fragmented.  This is usually the result of calling `frame.insert` many times, which has poor performance.  Consider joining all columns at once using pd.concat(axis=1) instead. To get a de-fragmented frame, use `newframe = frame.copy()`\n",
      "  filtered_open_target_df[col + '_temp'] = cols_to_mean.max(axis=1)\n"
     ]
    },
    {
     "name": "stdout",
     "output_type": "stream",
     "text": [
      "New matrix shape: (1841, 1841)\n"
     ]
    },
    {
     "name": "stderr",
     "output_type": "stream",
     "text": [
      "/var/folders/2h/45bqs84942sfxfwfndsxtgs40000gn/T/ipykernel_12494/2066196414.py:35: PerformanceWarning: DataFrame is highly fragmented.  This is usually the result of calling `frame.insert` many times, which has poor performance.  Consider joining all columns at once using pd.concat(axis=1) instead. To get a de-fragmented frame, use `newframe = frame.copy()`\n",
      "  filtered_open_target_df[col + '_temp'] = cols_to_mean.max(axis=1)\n"
     ]
    },
    {
     "name": "stdout",
     "output_type": "stream",
     "text": [
      "New matrix shape: (1832, 1832)\n"
     ]
    },
    {
     "name": "stderr",
     "output_type": "stream",
     "text": [
      "/var/folders/2h/45bqs84942sfxfwfndsxtgs40000gn/T/ipykernel_12494/2066196414.py:35: PerformanceWarning: DataFrame is highly fragmented.  This is usually the result of calling `frame.insert` many times, which has poor performance.  Consider joining all columns at once using pd.concat(axis=1) instead. To get a de-fragmented frame, use `newframe = frame.copy()`\n",
      "  filtered_open_target_df[col + '_temp'] = cols_to_mean.max(axis=1)\n"
     ]
    },
    {
     "name": "stdout",
     "output_type": "stream",
     "text": [
      "New matrix shape: (1827, 1827)\n"
     ]
    },
    {
     "name": "stderr",
     "output_type": "stream",
     "text": [
      "/var/folders/2h/45bqs84942sfxfwfndsxtgs40000gn/T/ipykernel_12494/2066196414.py:35: PerformanceWarning: DataFrame is highly fragmented.  This is usually the result of calling `frame.insert` many times, which has poor performance.  Consider joining all columns at once using pd.concat(axis=1) instead. To get a de-fragmented frame, use `newframe = frame.copy()`\n",
      "  filtered_open_target_df[col + '_temp'] = cols_to_mean.max(axis=1)\n"
     ]
    },
    {
     "name": "stdout",
     "output_type": "stream",
     "text": [
      "New matrix shape: (1823, 1823)\n"
     ]
    },
    {
     "name": "stderr",
     "output_type": "stream",
     "text": [
      "/var/folders/2h/45bqs84942sfxfwfndsxtgs40000gn/T/ipykernel_12494/2066196414.py:35: PerformanceWarning: DataFrame is highly fragmented.  This is usually the result of calling `frame.insert` many times, which has poor performance.  Consider joining all columns at once using pd.concat(axis=1) instead. To get a de-fragmented frame, use `newframe = frame.copy()`\n",
      "  filtered_open_target_df[col + '_temp'] = cols_to_mean.max(axis=1)\n"
     ]
    },
    {
     "name": "stdout",
     "output_type": "stream",
     "text": [
      "New matrix shape: (1815, 1815)\n"
     ]
    },
    {
     "name": "stderr",
     "output_type": "stream",
     "text": [
      "/var/folders/2h/45bqs84942sfxfwfndsxtgs40000gn/T/ipykernel_12494/2066196414.py:35: PerformanceWarning: DataFrame is highly fragmented.  This is usually the result of calling `frame.insert` many times, which has poor performance.  Consider joining all columns at once using pd.concat(axis=1) instead. To get a de-fragmented frame, use `newframe = frame.copy()`\n",
      "  filtered_open_target_df[col + '_temp'] = cols_to_mean.max(axis=1)\n"
     ]
    },
    {
     "name": "stdout",
     "output_type": "stream",
     "text": [
      "New matrix shape: (1812, 1812)\n"
     ]
    },
    {
     "name": "stderr",
     "output_type": "stream",
     "text": [
      "/var/folders/2h/45bqs84942sfxfwfndsxtgs40000gn/T/ipykernel_12494/2066196414.py:35: PerformanceWarning: DataFrame is highly fragmented.  This is usually the result of calling `frame.insert` many times, which has poor performance.  Consider joining all columns at once using pd.concat(axis=1) instead. To get a de-fragmented frame, use `newframe = frame.copy()`\n",
      "  filtered_open_target_df[col + '_temp'] = cols_to_mean.max(axis=1)\n"
     ]
    },
    {
     "name": "stdout",
     "output_type": "stream",
     "text": [
      "New matrix shape: (1809, 1809)\n"
     ]
    },
    {
     "name": "stderr",
     "output_type": "stream",
     "text": [
      "/var/folders/2h/45bqs84942sfxfwfndsxtgs40000gn/T/ipykernel_12494/2066196414.py:35: PerformanceWarning: DataFrame is highly fragmented.  This is usually the result of calling `frame.insert` many times, which has poor performance.  Consider joining all columns at once using pd.concat(axis=1) instead. To get a de-fragmented frame, use `newframe = frame.copy()`\n",
      "  filtered_open_target_df[col + '_temp'] = cols_to_mean.max(axis=1)\n"
     ]
    },
    {
     "name": "stdout",
     "output_type": "stream",
     "text": [
      "New matrix shape: (1804, 1804)\n"
     ]
    },
    {
     "name": "stderr",
     "output_type": "stream",
     "text": [
      "/var/folders/2h/45bqs84942sfxfwfndsxtgs40000gn/T/ipykernel_12494/2066196414.py:35: PerformanceWarning: DataFrame is highly fragmented.  This is usually the result of calling `frame.insert` many times, which has poor performance.  Consider joining all columns at once using pd.concat(axis=1) instead. To get a de-fragmented frame, use `newframe = frame.copy()`\n",
      "  filtered_open_target_df[col + '_temp'] = cols_to_mean.max(axis=1)\n"
     ]
    },
    {
     "name": "stdout",
     "output_type": "stream",
     "text": [
      "New matrix shape: (1799, 1799)\n"
     ]
    },
    {
     "name": "stderr",
     "output_type": "stream",
     "text": [
      "/var/folders/2h/45bqs84942sfxfwfndsxtgs40000gn/T/ipykernel_12494/2066196414.py:35: PerformanceWarning: DataFrame is highly fragmented.  This is usually the result of calling `frame.insert` many times, which has poor performance.  Consider joining all columns at once using pd.concat(axis=1) instead. To get a de-fragmented frame, use `newframe = frame.copy()`\n",
      "  filtered_open_target_df[col + '_temp'] = cols_to_mean.max(axis=1)\n"
     ]
    },
    {
     "name": "stdout",
     "output_type": "stream",
     "text": [
      "New matrix shape: (1793, 1793)\n"
     ]
    },
    {
     "name": "stderr",
     "output_type": "stream",
     "text": [
      "/var/folders/2h/45bqs84942sfxfwfndsxtgs40000gn/T/ipykernel_12494/2066196414.py:35: PerformanceWarning: DataFrame is highly fragmented.  This is usually the result of calling `frame.insert` many times, which has poor performance.  Consider joining all columns at once using pd.concat(axis=1) instead. To get a de-fragmented frame, use `newframe = frame.copy()`\n",
      "  filtered_open_target_df[col + '_temp'] = cols_to_mean.max(axis=1)\n"
     ]
    },
    {
     "name": "stdout",
     "output_type": "stream",
     "text": [
      "New matrix shape: (1789, 1789)\n"
     ]
    },
    {
     "name": "stderr",
     "output_type": "stream",
     "text": [
      "/var/folders/2h/45bqs84942sfxfwfndsxtgs40000gn/T/ipykernel_12494/2066196414.py:35: PerformanceWarning: DataFrame is highly fragmented.  This is usually the result of calling `frame.insert` many times, which has poor performance.  Consider joining all columns at once using pd.concat(axis=1) instead. To get a de-fragmented frame, use `newframe = frame.copy()`\n",
      "  filtered_open_target_df[col + '_temp'] = cols_to_mean.max(axis=1)\n"
     ]
    },
    {
     "name": "stdout",
     "output_type": "stream",
     "text": [
      "New matrix shape: (1785, 1785)\n"
     ]
    },
    {
     "name": "stderr",
     "output_type": "stream",
     "text": [
      "/var/folders/2h/45bqs84942sfxfwfndsxtgs40000gn/T/ipykernel_12494/2066196414.py:35: PerformanceWarning: DataFrame is highly fragmented.  This is usually the result of calling `frame.insert` many times, which has poor performance.  Consider joining all columns at once using pd.concat(axis=1) instead. To get a de-fragmented frame, use `newframe = frame.copy()`\n",
      "  filtered_open_target_df[col + '_temp'] = cols_to_mean.max(axis=1)\n"
     ]
    },
    {
     "name": "stdout",
     "output_type": "stream",
     "text": [
      "New matrix shape: (1780, 1780)\n"
     ]
    },
    {
     "name": "stderr",
     "output_type": "stream",
     "text": [
      "/var/folders/2h/45bqs84942sfxfwfndsxtgs40000gn/T/ipykernel_12494/2066196414.py:35: PerformanceWarning: DataFrame is highly fragmented.  This is usually the result of calling `frame.insert` many times, which has poor performance.  Consider joining all columns at once using pd.concat(axis=1) instead. To get a de-fragmented frame, use `newframe = frame.copy()`\n",
      "  filtered_open_target_df[col + '_temp'] = cols_to_mean.max(axis=1)\n"
     ]
    },
    {
     "name": "stdout",
     "output_type": "stream",
     "text": [
      "New matrix shape: (1779, 1779)\n"
     ]
    },
    {
     "name": "stderr",
     "output_type": "stream",
     "text": [
      "/var/folders/2h/45bqs84942sfxfwfndsxtgs40000gn/T/ipykernel_12494/2066196414.py:35: PerformanceWarning: DataFrame is highly fragmented.  This is usually the result of calling `frame.insert` many times, which has poor performance.  Consider joining all columns at once using pd.concat(axis=1) instead. To get a de-fragmented frame, use `newframe = frame.copy()`\n",
      "  filtered_open_target_df[col + '_temp'] = cols_to_mean.max(axis=1)\n"
     ]
    },
    {
     "name": "stdout",
     "output_type": "stream",
     "text": [
      "New matrix shape: (1769, 1769)\n"
     ]
    },
    {
     "name": "stderr",
     "output_type": "stream",
     "text": [
      "/var/folders/2h/45bqs84942sfxfwfndsxtgs40000gn/T/ipykernel_12494/2066196414.py:35: PerformanceWarning: DataFrame is highly fragmented.  This is usually the result of calling `frame.insert` many times, which has poor performance.  Consider joining all columns at once using pd.concat(axis=1) instead. To get a de-fragmented frame, use `newframe = frame.copy()`\n",
      "  filtered_open_target_df[col + '_temp'] = cols_to_mean.max(axis=1)\n"
     ]
    },
    {
     "name": "stdout",
     "output_type": "stream",
     "text": [
      "New matrix shape: (1760, 1760)\n"
     ]
    },
    {
     "name": "stderr",
     "output_type": "stream",
     "text": [
      "/var/folders/2h/45bqs84942sfxfwfndsxtgs40000gn/T/ipykernel_12494/2066196414.py:35: PerformanceWarning: DataFrame is highly fragmented.  This is usually the result of calling `frame.insert` many times, which has poor performance.  Consider joining all columns at once using pd.concat(axis=1) instead. To get a de-fragmented frame, use `newframe = frame.copy()`\n",
      "  filtered_open_target_df[col + '_temp'] = cols_to_mean.max(axis=1)\n"
     ]
    },
    {
     "name": "stdout",
     "output_type": "stream",
     "text": [
      "New matrix shape: (1754, 1754)\n"
     ]
    },
    {
     "name": "stderr",
     "output_type": "stream",
     "text": [
      "/var/folders/2h/45bqs84942sfxfwfndsxtgs40000gn/T/ipykernel_12494/2066196414.py:35: PerformanceWarning: DataFrame is highly fragmented.  This is usually the result of calling `frame.insert` many times, which has poor performance.  Consider joining all columns at once using pd.concat(axis=1) instead. To get a de-fragmented frame, use `newframe = frame.copy()`\n",
      "  filtered_open_target_df[col + '_temp'] = cols_to_mean.max(axis=1)\n"
     ]
    },
    {
     "name": "stdout",
     "output_type": "stream",
     "text": [
      "New matrix shape: (1752, 1752)\n"
     ]
    },
    {
     "name": "stderr",
     "output_type": "stream",
     "text": [
      "/var/folders/2h/45bqs84942sfxfwfndsxtgs40000gn/T/ipykernel_12494/2066196414.py:35: PerformanceWarning: DataFrame is highly fragmented.  This is usually the result of calling `frame.insert` many times, which has poor performance.  Consider joining all columns at once using pd.concat(axis=1) instead. To get a de-fragmented frame, use `newframe = frame.copy()`\n",
      "  filtered_open_target_df[col + '_temp'] = cols_to_mean.max(axis=1)\n"
     ]
    },
    {
     "name": "stdout",
     "output_type": "stream",
     "text": [
      "New matrix shape: (1750, 1750)\n"
     ]
    },
    {
     "name": "stderr",
     "output_type": "stream",
     "text": [
      "/var/folders/2h/45bqs84942sfxfwfndsxtgs40000gn/T/ipykernel_12494/2066196414.py:35: PerformanceWarning: DataFrame is highly fragmented.  This is usually the result of calling `frame.insert` many times, which has poor performance.  Consider joining all columns at once using pd.concat(axis=1) instead. To get a de-fragmented frame, use `newframe = frame.copy()`\n",
      "  filtered_open_target_df[col + '_temp'] = cols_to_mean.max(axis=1)\n"
     ]
    },
    {
     "name": "stdout",
     "output_type": "stream",
     "text": [
      "New matrix shape: (1745, 1745)\n"
     ]
    },
    {
     "name": "stderr",
     "output_type": "stream",
     "text": [
      "/var/folders/2h/45bqs84942sfxfwfndsxtgs40000gn/T/ipykernel_12494/2066196414.py:35: PerformanceWarning: DataFrame is highly fragmented.  This is usually the result of calling `frame.insert` many times, which has poor performance.  Consider joining all columns at once using pd.concat(axis=1) instead. To get a de-fragmented frame, use `newframe = frame.copy()`\n",
      "  filtered_open_target_df[col + '_temp'] = cols_to_mean.max(axis=1)\n"
     ]
    },
    {
     "name": "stdout",
     "output_type": "stream",
     "text": [
      "New matrix shape: (1744, 1744)\n"
     ]
    },
    {
     "name": "stderr",
     "output_type": "stream",
     "text": [
      "/var/folders/2h/45bqs84942sfxfwfndsxtgs40000gn/T/ipykernel_12494/2066196414.py:35: PerformanceWarning: DataFrame is highly fragmented.  This is usually the result of calling `frame.insert` many times, which has poor performance.  Consider joining all columns at once using pd.concat(axis=1) instead. To get a de-fragmented frame, use `newframe = frame.copy()`\n",
      "  filtered_open_target_df[col + '_temp'] = cols_to_mean.max(axis=1)\n"
     ]
    },
    {
     "name": "stdout",
     "output_type": "stream",
     "text": [
      "New matrix shape: (1743, 1743)\n"
     ]
    },
    {
     "name": "stderr",
     "output_type": "stream",
     "text": [
      "/var/folders/2h/45bqs84942sfxfwfndsxtgs40000gn/T/ipykernel_12494/2066196414.py:35: PerformanceWarning: DataFrame is highly fragmented.  This is usually the result of calling `frame.insert` many times, which has poor performance.  Consider joining all columns at once using pd.concat(axis=1) instead. To get a de-fragmented frame, use `newframe = frame.copy()`\n",
      "  filtered_open_target_df[col + '_temp'] = cols_to_mean.max(axis=1)\n"
     ]
    },
    {
     "name": "stdout",
     "output_type": "stream",
     "text": [
      "New matrix shape: (1737, 1737)\n"
     ]
    },
    {
     "name": "stderr",
     "output_type": "stream",
     "text": [
      "/var/folders/2h/45bqs84942sfxfwfndsxtgs40000gn/T/ipykernel_12494/2066196414.py:35: PerformanceWarning: DataFrame is highly fragmented.  This is usually the result of calling `frame.insert` many times, which has poor performance.  Consider joining all columns at once using pd.concat(axis=1) instead. To get a de-fragmented frame, use `newframe = frame.copy()`\n",
      "  filtered_open_target_df[col + '_temp'] = cols_to_mean.max(axis=1)\n"
     ]
    },
    {
     "name": "stdout",
     "output_type": "stream",
     "text": [
      "New matrix shape: (1735, 1735)\n"
     ]
    },
    {
     "name": "stderr",
     "output_type": "stream",
     "text": [
      "/var/folders/2h/45bqs84942sfxfwfndsxtgs40000gn/T/ipykernel_12494/2066196414.py:35: PerformanceWarning: DataFrame is highly fragmented.  This is usually the result of calling `frame.insert` many times, which has poor performance.  Consider joining all columns at once using pd.concat(axis=1) instead. To get a de-fragmented frame, use `newframe = frame.copy()`\n",
      "  filtered_open_target_df[col + '_temp'] = cols_to_mean.max(axis=1)\n"
     ]
    },
    {
     "name": "stdout",
     "output_type": "stream",
     "text": [
      "New matrix shape: (1726, 1726)\n"
     ]
    },
    {
     "name": "stderr",
     "output_type": "stream",
     "text": [
      "/var/folders/2h/45bqs84942sfxfwfndsxtgs40000gn/T/ipykernel_12494/2066196414.py:35: PerformanceWarning: DataFrame is highly fragmented.  This is usually the result of calling `frame.insert` many times, which has poor performance.  Consider joining all columns at once using pd.concat(axis=1) instead. To get a de-fragmented frame, use `newframe = frame.copy()`\n",
      "  filtered_open_target_df[col + '_temp'] = cols_to_mean.max(axis=1)\n"
     ]
    },
    {
     "name": "stdout",
     "output_type": "stream",
     "text": [
      "New matrix shape: (1723, 1723)\n"
     ]
    },
    {
     "name": "stderr",
     "output_type": "stream",
     "text": [
      "/var/folders/2h/45bqs84942sfxfwfndsxtgs40000gn/T/ipykernel_12494/2066196414.py:35: PerformanceWarning: DataFrame is highly fragmented.  This is usually the result of calling `frame.insert` many times, which has poor performance.  Consider joining all columns at once using pd.concat(axis=1) instead. To get a de-fragmented frame, use `newframe = frame.copy()`\n",
      "  filtered_open_target_df[col + '_temp'] = cols_to_mean.max(axis=1)\n"
     ]
    },
    {
     "name": "stdout",
     "output_type": "stream",
     "text": [
      "New matrix shape: (1721, 1721)\n"
     ]
    },
    {
     "name": "stderr",
     "output_type": "stream",
     "text": [
      "/var/folders/2h/45bqs84942sfxfwfndsxtgs40000gn/T/ipykernel_12494/2066196414.py:35: PerformanceWarning: DataFrame is highly fragmented.  This is usually the result of calling `frame.insert` many times, which has poor performance.  Consider joining all columns at once using pd.concat(axis=1) instead. To get a de-fragmented frame, use `newframe = frame.copy()`\n",
      "  filtered_open_target_df[col + '_temp'] = cols_to_mean.max(axis=1)\n"
     ]
    },
    {
     "name": "stdout",
     "output_type": "stream",
     "text": [
      "New matrix shape: (1717, 1717)\n"
     ]
    },
    {
     "name": "stderr",
     "output_type": "stream",
     "text": [
      "/var/folders/2h/45bqs84942sfxfwfndsxtgs40000gn/T/ipykernel_12494/2066196414.py:35: PerformanceWarning: DataFrame is highly fragmented.  This is usually the result of calling `frame.insert` many times, which has poor performance.  Consider joining all columns at once using pd.concat(axis=1) instead. To get a de-fragmented frame, use `newframe = frame.copy()`\n",
      "  filtered_open_target_df[col + '_temp'] = cols_to_mean.max(axis=1)\n"
     ]
    },
    {
     "name": "stdout",
     "output_type": "stream",
     "text": [
      "New matrix shape: (1706, 1706)\n"
     ]
    },
    {
     "name": "stderr",
     "output_type": "stream",
     "text": [
      "/var/folders/2h/45bqs84942sfxfwfndsxtgs40000gn/T/ipykernel_12494/2066196414.py:35: PerformanceWarning: DataFrame is highly fragmented.  This is usually the result of calling `frame.insert` many times, which has poor performance.  Consider joining all columns at once using pd.concat(axis=1) instead. To get a de-fragmented frame, use `newframe = frame.copy()`\n",
      "  filtered_open_target_df[col + '_temp'] = cols_to_mean.max(axis=1)\n"
     ]
    },
    {
     "name": "stdout",
     "output_type": "stream",
     "text": [
      "New matrix shape: (1702, 1702)\n"
     ]
    },
    {
     "name": "stderr",
     "output_type": "stream",
     "text": [
      "/var/folders/2h/45bqs84942sfxfwfndsxtgs40000gn/T/ipykernel_12494/2066196414.py:35: PerformanceWarning: DataFrame is highly fragmented.  This is usually the result of calling `frame.insert` many times, which has poor performance.  Consider joining all columns at once using pd.concat(axis=1) instead. To get a de-fragmented frame, use `newframe = frame.copy()`\n",
      "  filtered_open_target_df[col + '_temp'] = cols_to_mean.max(axis=1)\n"
     ]
    },
    {
     "name": "stdout",
     "output_type": "stream",
     "text": [
      "New matrix shape: (1691, 1691)\n"
     ]
    },
    {
     "name": "stderr",
     "output_type": "stream",
     "text": [
      "/var/folders/2h/45bqs84942sfxfwfndsxtgs40000gn/T/ipykernel_12494/2066196414.py:35: PerformanceWarning: DataFrame is highly fragmented.  This is usually the result of calling `frame.insert` many times, which has poor performance.  Consider joining all columns at once using pd.concat(axis=1) instead. To get a de-fragmented frame, use `newframe = frame.copy()`\n",
      "  filtered_open_target_df[col + '_temp'] = cols_to_mean.max(axis=1)\n"
     ]
    },
    {
     "name": "stdout",
     "output_type": "stream",
     "text": [
      "New matrix shape: (1690, 1690)\n"
     ]
    },
    {
     "name": "stderr",
     "output_type": "stream",
     "text": [
      "/var/folders/2h/45bqs84942sfxfwfndsxtgs40000gn/T/ipykernel_12494/2066196414.py:35: PerformanceWarning: DataFrame is highly fragmented.  This is usually the result of calling `frame.insert` many times, which has poor performance.  Consider joining all columns at once using pd.concat(axis=1) instead. To get a de-fragmented frame, use `newframe = frame.copy()`\n",
      "  filtered_open_target_df[col + '_temp'] = cols_to_mean.max(axis=1)\n"
     ]
    },
    {
     "name": "stdout",
     "output_type": "stream",
     "text": [
      "New matrix shape: (1677, 1677)\n"
     ]
    },
    {
     "name": "stderr",
     "output_type": "stream",
     "text": [
      "/var/folders/2h/45bqs84942sfxfwfndsxtgs40000gn/T/ipykernel_12494/2066196414.py:35: PerformanceWarning: DataFrame is highly fragmented.  This is usually the result of calling `frame.insert` many times, which has poor performance.  Consider joining all columns at once using pd.concat(axis=1) instead. To get a de-fragmented frame, use `newframe = frame.copy()`\n",
      "  filtered_open_target_df[col + '_temp'] = cols_to_mean.max(axis=1)\n"
     ]
    },
    {
     "name": "stdout",
     "output_type": "stream",
     "text": [
      "New matrix shape: (1672, 1672)\n"
     ]
    },
    {
     "name": "stderr",
     "output_type": "stream",
     "text": [
      "/var/folders/2h/45bqs84942sfxfwfndsxtgs40000gn/T/ipykernel_12494/2066196414.py:35: PerformanceWarning: DataFrame is highly fragmented.  This is usually the result of calling `frame.insert` many times, which has poor performance.  Consider joining all columns at once using pd.concat(axis=1) instead. To get a de-fragmented frame, use `newframe = frame.copy()`\n",
      "  filtered_open_target_df[col + '_temp'] = cols_to_mean.max(axis=1)\n"
     ]
    },
    {
     "name": "stdout",
     "output_type": "stream",
     "text": [
      "New matrix shape: (1667, 1667)\n"
     ]
    },
    {
     "name": "stderr",
     "output_type": "stream",
     "text": [
      "/var/folders/2h/45bqs84942sfxfwfndsxtgs40000gn/T/ipykernel_12494/2066196414.py:35: PerformanceWarning: DataFrame is highly fragmented.  This is usually the result of calling `frame.insert` many times, which has poor performance.  Consider joining all columns at once using pd.concat(axis=1) instead. To get a de-fragmented frame, use `newframe = frame.copy()`\n",
      "  filtered_open_target_df[col + '_temp'] = cols_to_mean.max(axis=1)\n"
     ]
    },
    {
     "name": "stdout",
     "output_type": "stream",
     "text": [
      "New matrix shape: (1658, 1658)\n"
     ]
    },
    {
     "name": "stderr",
     "output_type": "stream",
     "text": [
      "/var/folders/2h/45bqs84942sfxfwfndsxtgs40000gn/T/ipykernel_12494/2066196414.py:35: PerformanceWarning: DataFrame is highly fragmented.  This is usually the result of calling `frame.insert` many times, which has poor performance.  Consider joining all columns at once using pd.concat(axis=1) instead. To get a de-fragmented frame, use `newframe = frame.copy()`\n",
      "  filtered_open_target_df[col + '_temp'] = cols_to_mean.max(axis=1)\n"
     ]
    },
    {
     "name": "stdout",
     "output_type": "stream",
     "text": [
      "New matrix shape: (1642, 1642)\n"
     ]
    },
    {
     "name": "stderr",
     "output_type": "stream",
     "text": [
      "/var/folders/2h/45bqs84942sfxfwfndsxtgs40000gn/T/ipykernel_12494/2066196414.py:35: PerformanceWarning: DataFrame is highly fragmented.  This is usually the result of calling `frame.insert` many times, which has poor performance.  Consider joining all columns at once using pd.concat(axis=1) instead. To get a de-fragmented frame, use `newframe = frame.copy()`\n",
      "  filtered_open_target_df[col + '_temp'] = cols_to_mean.max(axis=1)\n"
     ]
    },
    {
     "name": "stdout",
     "output_type": "stream",
     "text": [
      "New matrix shape: (1632, 1632)\n"
     ]
    },
    {
     "name": "stderr",
     "output_type": "stream",
     "text": [
      "/var/folders/2h/45bqs84942sfxfwfndsxtgs40000gn/T/ipykernel_12494/2066196414.py:35: PerformanceWarning: DataFrame is highly fragmented.  This is usually the result of calling `frame.insert` many times, which has poor performance.  Consider joining all columns at once using pd.concat(axis=1) instead. To get a de-fragmented frame, use `newframe = frame.copy()`\n",
      "  filtered_open_target_df[col + '_temp'] = cols_to_mean.max(axis=1)\n"
     ]
    },
    {
     "name": "stdout",
     "output_type": "stream",
     "text": [
      "New matrix shape: (1630, 1630)\n"
     ]
    },
    {
     "name": "stderr",
     "output_type": "stream",
     "text": [
      "/var/folders/2h/45bqs84942sfxfwfndsxtgs40000gn/T/ipykernel_12494/2066196414.py:35: PerformanceWarning: DataFrame is highly fragmented.  This is usually the result of calling `frame.insert` many times, which has poor performance.  Consider joining all columns at once using pd.concat(axis=1) instead. To get a de-fragmented frame, use `newframe = frame.copy()`\n",
      "  filtered_open_target_df[col + '_temp'] = cols_to_mean.max(axis=1)\n"
     ]
    },
    {
     "name": "stdout",
     "output_type": "stream",
     "text": [
      "New matrix shape: (1627, 1627)\n"
     ]
    },
    {
     "name": "stderr",
     "output_type": "stream",
     "text": [
      "/var/folders/2h/45bqs84942sfxfwfndsxtgs40000gn/T/ipykernel_12494/2066196414.py:35: PerformanceWarning: DataFrame is highly fragmented.  This is usually the result of calling `frame.insert` many times, which has poor performance.  Consider joining all columns at once using pd.concat(axis=1) instead. To get a de-fragmented frame, use `newframe = frame.copy()`\n",
      "  filtered_open_target_df[col + '_temp'] = cols_to_mean.max(axis=1)\n"
     ]
    },
    {
     "name": "stdout",
     "output_type": "stream",
     "text": [
      "New matrix shape: (1621, 1621)\n"
     ]
    },
    {
     "name": "stderr",
     "output_type": "stream",
     "text": [
      "/var/folders/2h/45bqs84942sfxfwfndsxtgs40000gn/T/ipykernel_12494/2066196414.py:35: PerformanceWarning: DataFrame is highly fragmented.  This is usually the result of calling `frame.insert` many times, which has poor performance.  Consider joining all columns at once using pd.concat(axis=1) instead. To get a de-fragmented frame, use `newframe = frame.copy()`\n",
      "  filtered_open_target_df[col + '_temp'] = cols_to_mean.max(axis=1)\n"
     ]
    },
    {
     "name": "stdout",
     "output_type": "stream",
     "text": [
      "New matrix shape: (1619, 1619)\n"
     ]
    },
    {
     "name": "stderr",
     "output_type": "stream",
     "text": [
      "/var/folders/2h/45bqs84942sfxfwfndsxtgs40000gn/T/ipykernel_12494/2066196414.py:35: PerformanceWarning: DataFrame is highly fragmented.  This is usually the result of calling `frame.insert` many times, which has poor performance.  Consider joining all columns at once using pd.concat(axis=1) instead. To get a de-fragmented frame, use `newframe = frame.copy()`\n",
      "  filtered_open_target_df[col + '_temp'] = cols_to_mean.max(axis=1)\n"
     ]
    },
    {
     "name": "stdout",
     "output_type": "stream",
     "text": [
      "New matrix shape: (1614, 1614)\n"
     ]
    },
    {
     "name": "stderr",
     "output_type": "stream",
     "text": [
      "/var/folders/2h/45bqs84942sfxfwfndsxtgs40000gn/T/ipykernel_12494/2066196414.py:35: PerformanceWarning: DataFrame is highly fragmented.  This is usually the result of calling `frame.insert` many times, which has poor performance.  Consider joining all columns at once using pd.concat(axis=1) instead. To get a de-fragmented frame, use `newframe = frame.copy()`\n",
      "  filtered_open_target_df[col + '_temp'] = cols_to_mean.max(axis=1)\n"
     ]
    },
    {
     "name": "stdout",
     "output_type": "stream",
     "text": [
      "New matrix shape: (1612, 1612)\n"
     ]
    },
    {
     "name": "stderr",
     "output_type": "stream",
     "text": [
      "/var/folders/2h/45bqs84942sfxfwfndsxtgs40000gn/T/ipykernel_12494/2066196414.py:35: PerformanceWarning: DataFrame is highly fragmented.  This is usually the result of calling `frame.insert` many times, which has poor performance.  Consider joining all columns at once using pd.concat(axis=1) instead. To get a de-fragmented frame, use `newframe = frame.copy()`\n",
      "  filtered_open_target_df[col + '_temp'] = cols_to_mean.max(axis=1)\n"
     ]
    },
    {
     "name": "stdout",
     "output_type": "stream",
     "text": [
      "New matrix shape: (1607, 1607)\n"
     ]
    },
    {
     "name": "stderr",
     "output_type": "stream",
     "text": [
      "/var/folders/2h/45bqs84942sfxfwfndsxtgs40000gn/T/ipykernel_12494/2066196414.py:35: PerformanceWarning: DataFrame is highly fragmented.  This is usually the result of calling `frame.insert` many times, which has poor performance.  Consider joining all columns at once using pd.concat(axis=1) instead. To get a de-fragmented frame, use `newframe = frame.copy()`\n",
      "  filtered_open_target_df[col + '_temp'] = cols_to_mean.max(axis=1)\n"
     ]
    },
    {
     "name": "stdout",
     "output_type": "stream",
     "text": [
      "New matrix shape: (1601, 1601)\n"
     ]
    },
    {
     "name": "stderr",
     "output_type": "stream",
     "text": [
      "/var/folders/2h/45bqs84942sfxfwfndsxtgs40000gn/T/ipykernel_12494/2066196414.py:35: PerformanceWarning: DataFrame is highly fragmented.  This is usually the result of calling `frame.insert` many times, which has poor performance.  Consider joining all columns at once using pd.concat(axis=1) instead. To get a de-fragmented frame, use `newframe = frame.copy()`\n",
      "  filtered_open_target_df[col + '_temp'] = cols_to_mean.max(axis=1)\n"
     ]
    },
    {
     "name": "stdout",
     "output_type": "stream",
     "text": [
      "New matrix shape: (1592, 1592)\n"
     ]
    },
    {
     "name": "stderr",
     "output_type": "stream",
     "text": [
      "/var/folders/2h/45bqs84942sfxfwfndsxtgs40000gn/T/ipykernel_12494/2066196414.py:35: PerformanceWarning: DataFrame is highly fragmented.  This is usually the result of calling `frame.insert` many times, which has poor performance.  Consider joining all columns at once using pd.concat(axis=1) instead. To get a de-fragmented frame, use `newframe = frame.copy()`\n",
      "  filtered_open_target_df[col + '_temp'] = cols_to_mean.max(axis=1)\n"
     ]
    },
    {
     "name": "stdout",
     "output_type": "stream",
     "text": [
      "New matrix shape: (1583, 1583)\n"
     ]
    },
    {
     "name": "stderr",
     "output_type": "stream",
     "text": [
      "/var/folders/2h/45bqs84942sfxfwfndsxtgs40000gn/T/ipykernel_12494/2066196414.py:35: PerformanceWarning: DataFrame is highly fragmented.  This is usually the result of calling `frame.insert` many times, which has poor performance.  Consider joining all columns at once using pd.concat(axis=1) instead. To get a de-fragmented frame, use `newframe = frame.copy()`\n",
      "  filtered_open_target_df[col + '_temp'] = cols_to_mean.max(axis=1)\n"
     ]
    },
    {
     "name": "stdout",
     "output_type": "stream",
     "text": [
      "New matrix shape: (1574, 1574)\n"
     ]
    },
    {
     "name": "stderr",
     "output_type": "stream",
     "text": [
      "/var/folders/2h/45bqs84942sfxfwfndsxtgs40000gn/T/ipykernel_12494/2066196414.py:35: PerformanceWarning: DataFrame is highly fragmented.  This is usually the result of calling `frame.insert` many times, which has poor performance.  Consider joining all columns at once using pd.concat(axis=1) instead. To get a de-fragmented frame, use `newframe = frame.copy()`\n",
      "  filtered_open_target_df[col + '_temp'] = cols_to_mean.max(axis=1)\n"
     ]
    },
    {
     "name": "stdout",
     "output_type": "stream",
     "text": [
      "New matrix shape: (1569, 1569)\n"
     ]
    },
    {
     "name": "stderr",
     "output_type": "stream",
     "text": [
      "/var/folders/2h/45bqs84942sfxfwfndsxtgs40000gn/T/ipykernel_12494/2066196414.py:35: PerformanceWarning: DataFrame is highly fragmented.  This is usually the result of calling `frame.insert` many times, which has poor performance.  Consider joining all columns at once using pd.concat(axis=1) instead. To get a de-fragmented frame, use `newframe = frame.copy()`\n",
      "  filtered_open_target_df[col + '_temp'] = cols_to_mean.max(axis=1)\n"
     ]
    },
    {
     "name": "stdout",
     "output_type": "stream",
     "text": [
      "New matrix shape: (1562, 1562)\n"
     ]
    },
    {
     "name": "stderr",
     "output_type": "stream",
     "text": [
      "/var/folders/2h/45bqs84942sfxfwfndsxtgs40000gn/T/ipykernel_12494/2066196414.py:35: PerformanceWarning: DataFrame is highly fragmented.  This is usually the result of calling `frame.insert` many times, which has poor performance.  Consider joining all columns at once using pd.concat(axis=1) instead. To get a de-fragmented frame, use `newframe = frame.copy()`\n",
      "  filtered_open_target_df[col + '_temp'] = cols_to_mean.max(axis=1)\n"
     ]
    },
    {
     "name": "stdout",
     "output_type": "stream",
     "text": [
      "New matrix shape: (1555, 1555)\n"
     ]
    },
    {
     "name": "stderr",
     "output_type": "stream",
     "text": [
      "/var/folders/2h/45bqs84942sfxfwfndsxtgs40000gn/T/ipykernel_12494/2066196414.py:35: PerformanceWarning: DataFrame is highly fragmented.  This is usually the result of calling `frame.insert` many times, which has poor performance.  Consider joining all columns at once using pd.concat(axis=1) instead. To get a de-fragmented frame, use `newframe = frame.copy()`\n",
      "  filtered_open_target_df[col + '_temp'] = cols_to_mean.max(axis=1)\n"
     ]
    },
    {
     "name": "stdout",
     "output_type": "stream",
     "text": [
      "New matrix shape: (1549, 1549)\n"
     ]
    },
    {
     "name": "stderr",
     "output_type": "stream",
     "text": [
      "/var/folders/2h/45bqs84942sfxfwfndsxtgs40000gn/T/ipykernel_12494/2066196414.py:35: PerformanceWarning: DataFrame is highly fragmented.  This is usually the result of calling `frame.insert` many times, which has poor performance.  Consider joining all columns at once using pd.concat(axis=1) instead. To get a de-fragmented frame, use `newframe = frame.copy()`\n",
      "  filtered_open_target_df[col + '_temp'] = cols_to_mean.max(axis=1)\n"
     ]
    },
    {
     "name": "stdout",
     "output_type": "stream",
     "text": [
      "New matrix shape: (1541, 1541)\n"
     ]
    },
    {
     "name": "stderr",
     "output_type": "stream",
     "text": [
      "/var/folders/2h/45bqs84942sfxfwfndsxtgs40000gn/T/ipykernel_12494/2066196414.py:35: PerformanceWarning: DataFrame is highly fragmented.  This is usually the result of calling `frame.insert` many times, which has poor performance.  Consider joining all columns at once using pd.concat(axis=1) instead. To get a de-fragmented frame, use `newframe = frame.copy()`\n",
      "  filtered_open_target_df[col + '_temp'] = cols_to_mean.max(axis=1)\n"
     ]
    },
    {
     "name": "stdout",
     "output_type": "stream",
     "text": [
      "New matrix shape: (1535, 1535)\n"
     ]
    },
    {
     "name": "stderr",
     "output_type": "stream",
     "text": [
      "/var/folders/2h/45bqs84942sfxfwfndsxtgs40000gn/T/ipykernel_12494/2066196414.py:35: PerformanceWarning: DataFrame is highly fragmented.  This is usually the result of calling `frame.insert` many times, which has poor performance.  Consider joining all columns at once using pd.concat(axis=1) instead. To get a de-fragmented frame, use `newframe = frame.copy()`\n",
      "  filtered_open_target_df[col + '_temp'] = cols_to_mean.max(axis=1)\n"
     ]
    },
    {
     "name": "stdout",
     "output_type": "stream",
     "text": [
      "New matrix shape: (1533, 1533)\n"
     ]
    },
    {
     "name": "stderr",
     "output_type": "stream",
     "text": [
      "/var/folders/2h/45bqs84942sfxfwfndsxtgs40000gn/T/ipykernel_12494/2066196414.py:35: PerformanceWarning: DataFrame is highly fragmented.  This is usually the result of calling `frame.insert` many times, which has poor performance.  Consider joining all columns at once using pd.concat(axis=1) instead. To get a de-fragmented frame, use `newframe = frame.copy()`\n",
      "  filtered_open_target_df[col + '_temp'] = cols_to_mean.max(axis=1)\n"
     ]
    },
    {
     "name": "stdout",
     "output_type": "stream",
     "text": [
      "New matrix shape: (1528, 1528)\n"
     ]
    },
    {
     "name": "stderr",
     "output_type": "stream",
     "text": [
      "/var/folders/2h/45bqs84942sfxfwfndsxtgs40000gn/T/ipykernel_12494/2066196414.py:35: PerformanceWarning: DataFrame is highly fragmented.  This is usually the result of calling `frame.insert` many times, which has poor performance.  Consider joining all columns at once using pd.concat(axis=1) instead. To get a de-fragmented frame, use `newframe = frame.copy()`\n",
      "  filtered_open_target_df[col + '_temp'] = cols_to_mean.max(axis=1)\n"
     ]
    },
    {
     "name": "stdout",
     "output_type": "stream",
     "text": [
      "New matrix shape: (1519, 1519)\n"
     ]
    },
    {
     "name": "stderr",
     "output_type": "stream",
     "text": [
      "/var/folders/2h/45bqs84942sfxfwfndsxtgs40000gn/T/ipykernel_12494/2066196414.py:35: PerformanceWarning: DataFrame is highly fragmented.  This is usually the result of calling `frame.insert` many times, which has poor performance.  Consider joining all columns at once using pd.concat(axis=1) instead. To get a de-fragmented frame, use `newframe = frame.copy()`\n",
      "  filtered_open_target_df[col + '_temp'] = cols_to_mean.max(axis=1)\n"
     ]
    },
    {
     "name": "stdout",
     "output_type": "stream",
     "text": [
      "New matrix shape: (1515, 1515)\n"
     ]
    },
    {
     "name": "stderr",
     "output_type": "stream",
     "text": [
      "/var/folders/2h/45bqs84942sfxfwfndsxtgs40000gn/T/ipykernel_12494/2066196414.py:35: PerformanceWarning: DataFrame is highly fragmented.  This is usually the result of calling `frame.insert` many times, which has poor performance.  Consider joining all columns at once using pd.concat(axis=1) instead. To get a de-fragmented frame, use `newframe = frame.copy()`\n",
      "  filtered_open_target_df[col + '_temp'] = cols_to_mean.max(axis=1)\n"
     ]
    },
    {
     "name": "stdout",
     "output_type": "stream",
     "text": [
      "New matrix shape: (1509, 1509)\n"
     ]
    },
    {
     "name": "stderr",
     "output_type": "stream",
     "text": [
      "/var/folders/2h/45bqs84942sfxfwfndsxtgs40000gn/T/ipykernel_12494/2066196414.py:35: PerformanceWarning: DataFrame is highly fragmented.  This is usually the result of calling `frame.insert` many times, which has poor performance.  Consider joining all columns at once using pd.concat(axis=1) instead. To get a de-fragmented frame, use `newframe = frame.copy()`\n",
      "  filtered_open_target_df[col + '_temp'] = cols_to_mean.max(axis=1)\n"
     ]
    },
    {
     "name": "stdout",
     "output_type": "stream",
     "text": [
      "New matrix shape: (1508, 1508)\n"
     ]
    },
    {
     "name": "stderr",
     "output_type": "stream",
     "text": [
      "/var/folders/2h/45bqs84942sfxfwfndsxtgs40000gn/T/ipykernel_12494/2066196414.py:35: PerformanceWarning: DataFrame is highly fragmented.  This is usually the result of calling `frame.insert` many times, which has poor performance.  Consider joining all columns at once using pd.concat(axis=1) instead. To get a de-fragmented frame, use `newframe = frame.copy()`\n",
      "  filtered_open_target_df[col + '_temp'] = cols_to_mean.max(axis=1)\n"
     ]
    },
    {
     "name": "stdout",
     "output_type": "stream",
     "text": [
      "New matrix shape: (1495, 1495)\n"
     ]
    },
    {
     "name": "stderr",
     "output_type": "stream",
     "text": [
      "/var/folders/2h/45bqs84942sfxfwfndsxtgs40000gn/T/ipykernel_12494/2066196414.py:35: PerformanceWarning: DataFrame is highly fragmented.  This is usually the result of calling `frame.insert` many times, which has poor performance.  Consider joining all columns at once using pd.concat(axis=1) instead. To get a de-fragmented frame, use `newframe = frame.copy()`\n",
      "  filtered_open_target_df[col + '_temp'] = cols_to_mean.max(axis=1)\n"
     ]
    },
    {
     "name": "stdout",
     "output_type": "stream",
     "text": [
      "New matrix shape: (1488, 1488)\n"
     ]
    },
    {
     "name": "stderr",
     "output_type": "stream",
     "text": [
      "/var/folders/2h/45bqs84942sfxfwfndsxtgs40000gn/T/ipykernel_12494/2066196414.py:35: PerformanceWarning: DataFrame is highly fragmented.  This is usually the result of calling `frame.insert` many times, which has poor performance.  Consider joining all columns at once using pd.concat(axis=1) instead. To get a de-fragmented frame, use `newframe = frame.copy()`\n",
      "  filtered_open_target_df[col + '_temp'] = cols_to_mean.max(axis=1)\n"
     ]
    },
    {
     "name": "stdout",
     "output_type": "stream",
     "text": [
      "New matrix shape: (1485, 1485)\n"
     ]
    },
    {
     "name": "stderr",
     "output_type": "stream",
     "text": [
      "/var/folders/2h/45bqs84942sfxfwfndsxtgs40000gn/T/ipykernel_12494/2066196414.py:35: PerformanceWarning: DataFrame is highly fragmented.  This is usually the result of calling `frame.insert` many times, which has poor performance.  Consider joining all columns at once using pd.concat(axis=1) instead. To get a de-fragmented frame, use `newframe = frame.copy()`\n",
      "  filtered_open_target_df[col + '_temp'] = cols_to_mean.max(axis=1)\n"
     ]
    },
    {
     "name": "stdout",
     "output_type": "stream",
     "text": [
      "New matrix shape: (1479, 1479)\n"
     ]
    },
    {
     "name": "stderr",
     "output_type": "stream",
     "text": [
      "/var/folders/2h/45bqs84942sfxfwfndsxtgs40000gn/T/ipykernel_12494/2066196414.py:35: PerformanceWarning: DataFrame is highly fragmented.  This is usually the result of calling `frame.insert` many times, which has poor performance.  Consider joining all columns at once using pd.concat(axis=1) instead. To get a de-fragmented frame, use `newframe = frame.copy()`\n",
      "  filtered_open_target_df[col + '_temp'] = cols_to_mean.max(axis=1)\n"
     ]
    },
    {
     "name": "stdout",
     "output_type": "stream",
     "text": [
      "New matrix shape: (1475, 1475)\n"
     ]
    },
    {
     "name": "stderr",
     "output_type": "stream",
     "text": [
      "/var/folders/2h/45bqs84942sfxfwfndsxtgs40000gn/T/ipykernel_12494/2066196414.py:35: PerformanceWarning: DataFrame is highly fragmented.  This is usually the result of calling `frame.insert` many times, which has poor performance.  Consider joining all columns at once using pd.concat(axis=1) instead. To get a de-fragmented frame, use `newframe = frame.copy()`\n",
      "  filtered_open_target_df[col + '_temp'] = cols_to_mean.max(axis=1)\n"
     ]
    },
    {
     "name": "stdout",
     "output_type": "stream",
     "text": [
      "New matrix shape: (1474, 1474)\n"
     ]
    },
    {
     "name": "stderr",
     "output_type": "stream",
     "text": [
      "/var/folders/2h/45bqs84942sfxfwfndsxtgs40000gn/T/ipykernel_12494/2066196414.py:35: PerformanceWarning: DataFrame is highly fragmented.  This is usually the result of calling `frame.insert` many times, which has poor performance.  Consider joining all columns at once using pd.concat(axis=1) instead. To get a de-fragmented frame, use `newframe = frame.copy()`\n",
      "  filtered_open_target_df[col + '_temp'] = cols_to_mean.max(axis=1)\n"
     ]
    },
    {
     "name": "stdout",
     "output_type": "stream",
     "text": [
      "New matrix shape: (1466, 1466)\n"
     ]
    },
    {
     "name": "stderr",
     "output_type": "stream",
     "text": [
      "/var/folders/2h/45bqs84942sfxfwfndsxtgs40000gn/T/ipykernel_12494/2066196414.py:35: PerformanceWarning: DataFrame is highly fragmented.  This is usually the result of calling `frame.insert` many times, which has poor performance.  Consider joining all columns at once using pd.concat(axis=1) instead. To get a de-fragmented frame, use `newframe = frame.copy()`\n",
      "  filtered_open_target_df[col + '_temp'] = cols_to_mean.max(axis=1)\n"
     ]
    },
    {
     "name": "stdout",
     "output_type": "stream",
     "text": [
      "New matrix shape: (1463, 1463)\n"
     ]
    },
    {
     "name": "stderr",
     "output_type": "stream",
     "text": [
      "/var/folders/2h/45bqs84942sfxfwfndsxtgs40000gn/T/ipykernel_12494/2066196414.py:35: PerformanceWarning: DataFrame is highly fragmented.  This is usually the result of calling `frame.insert` many times, which has poor performance.  Consider joining all columns at once using pd.concat(axis=1) instead. To get a de-fragmented frame, use `newframe = frame.copy()`\n",
      "  filtered_open_target_df[col + '_temp'] = cols_to_mean.max(axis=1)\n"
     ]
    },
    {
     "name": "stdout",
     "output_type": "stream",
     "text": [
      "New matrix shape: (1462, 1462)\n"
     ]
    },
    {
     "name": "stderr",
     "output_type": "stream",
     "text": [
      "/var/folders/2h/45bqs84942sfxfwfndsxtgs40000gn/T/ipykernel_12494/2066196414.py:35: PerformanceWarning: DataFrame is highly fragmented.  This is usually the result of calling `frame.insert` many times, which has poor performance.  Consider joining all columns at once using pd.concat(axis=1) instead. To get a de-fragmented frame, use `newframe = frame.copy()`\n",
      "  filtered_open_target_df[col + '_temp'] = cols_to_mean.max(axis=1)\n"
     ]
    },
    {
     "name": "stdout",
     "output_type": "stream",
     "text": [
      "New matrix shape: (1459, 1459)\n"
     ]
    },
    {
     "name": "stderr",
     "output_type": "stream",
     "text": [
      "/var/folders/2h/45bqs84942sfxfwfndsxtgs40000gn/T/ipykernel_12494/2066196414.py:35: PerformanceWarning: DataFrame is highly fragmented.  This is usually the result of calling `frame.insert` many times, which has poor performance.  Consider joining all columns at once using pd.concat(axis=1) instead. To get a de-fragmented frame, use `newframe = frame.copy()`\n",
      "  filtered_open_target_df[col + '_temp'] = cols_to_mean.max(axis=1)\n"
     ]
    },
    {
     "name": "stdout",
     "output_type": "stream",
     "text": [
      "New matrix shape: (1453, 1453)\n"
     ]
    },
    {
     "name": "stderr",
     "output_type": "stream",
     "text": [
      "/var/folders/2h/45bqs84942sfxfwfndsxtgs40000gn/T/ipykernel_12494/2066196414.py:35: PerformanceWarning: DataFrame is highly fragmented.  This is usually the result of calling `frame.insert` many times, which has poor performance.  Consider joining all columns at once using pd.concat(axis=1) instead. To get a de-fragmented frame, use `newframe = frame.copy()`\n",
      "  filtered_open_target_df[col + '_temp'] = cols_to_mean.max(axis=1)\n"
     ]
    },
    {
     "name": "stdout",
     "output_type": "stream",
     "text": [
      "New matrix shape: (1452, 1452)\n"
     ]
    },
    {
     "name": "stderr",
     "output_type": "stream",
     "text": [
      "/var/folders/2h/45bqs84942sfxfwfndsxtgs40000gn/T/ipykernel_12494/2066196414.py:35: PerformanceWarning: DataFrame is highly fragmented.  This is usually the result of calling `frame.insert` many times, which has poor performance.  Consider joining all columns at once using pd.concat(axis=1) instead. To get a de-fragmented frame, use `newframe = frame.copy()`\n",
      "  filtered_open_target_df[col + '_temp'] = cols_to_mean.max(axis=1)\n"
     ]
    },
    {
     "name": "stdout",
     "output_type": "stream",
     "text": [
      "New matrix shape: (1449, 1449)\n"
     ]
    },
    {
     "name": "stderr",
     "output_type": "stream",
     "text": [
      "/var/folders/2h/45bqs84942sfxfwfndsxtgs40000gn/T/ipykernel_12494/2066196414.py:35: PerformanceWarning: DataFrame is highly fragmented.  This is usually the result of calling `frame.insert` many times, which has poor performance.  Consider joining all columns at once using pd.concat(axis=1) instead. To get a de-fragmented frame, use `newframe = frame.copy()`\n",
      "  filtered_open_target_df[col + '_temp'] = cols_to_mean.max(axis=1)\n"
     ]
    },
    {
     "name": "stdout",
     "output_type": "stream",
     "text": [
      "New matrix shape: (1448, 1448)\n"
     ]
    },
    {
     "name": "stderr",
     "output_type": "stream",
     "text": [
      "/var/folders/2h/45bqs84942sfxfwfndsxtgs40000gn/T/ipykernel_12494/2066196414.py:35: PerformanceWarning: DataFrame is highly fragmented.  This is usually the result of calling `frame.insert` many times, which has poor performance.  Consider joining all columns at once using pd.concat(axis=1) instead. To get a de-fragmented frame, use `newframe = frame.copy()`\n",
      "  filtered_open_target_df[col + '_temp'] = cols_to_mean.max(axis=1)\n"
     ]
    },
    {
     "name": "stdout",
     "output_type": "stream",
     "text": [
      "New matrix shape: (1440, 1440)\n"
     ]
    },
    {
     "name": "stderr",
     "output_type": "stream",
     "text": [
      "/var/folders/2h/45bqs84942sfxfwfndsxtgs40000gn/T/ipykernel_12494/2066196414.py:35: PerformanceWarning: DataFrame is highly fragmented.  This is usually the result of calling `frame.insert` many times, which has poor performance.  Consider joining all columns at once using pd.concat(axis=1) instead. To get a de-fragmented frame, use `newframe = frame.copy()`\n",
      "  filtered_open_target_df[col + '_temp'] = cols_to_mean.max(axis=1)\n"
     ]
    },
    {
     "name": "stdout",
     "output_type": "stream",
     "text": [
      "New matrix shape: (1428, 1428)\n"
     ]
    },
    {
     "name": "stderr",
     "output_type": "stream",
     "text": [
      "/var/folders/2h/45bqs84942sfxfwfndsxtgs40000gn/T/ipykernel_12494/2066196414.py:35: PerformanceWarning: DataFrame is highly fragmented.  This is usually the result of calling `frame.insert` many times, which has poor performance.  Consider joining all columns at once using pd.concat(axis=1) instead. To get a de-fragmented frame, use `newframe = frame.copy()`\n",
      "  filtered_open_target_df[col + '_temp'] = cols_to_mean.max(axis=1)\n"
     ]
    },
    {
     "name": "stdout",
     "output_type": "stream",
     "text": [
      "New matrix shape: (1424, 1424)\n"
     ]
    },
    {
     "name": "stderr",
     "output_type": "stream",
     "text": [
      "/var/folders/2h/45bqs84942sfxfwfndsxtgs40000gn/T/ipykernel_12494/2066196414.py:35: PerformanceWarning: DataFrame is highly fragmented.  This is usually the result of calling `frame.insert` many times, which has poor performance.  Consider joining all columns at once using pd.concat(axis=1) instead. To get a de-fragmented frame, use `newframe = frame.copy()`\n",
      "  filtered_open_target_df[col + '_temp'] = cols_to_mean.max(axis=1)\n"
     ]
    },
    {
     "name": "stdout",
     "output_type": "stream",
     "text": [
      "New matrix shape: (1419, 1419)\n"
     ]
    },
    {
     "name": "stderr",
     "output_type": "stream",
     "text": [
      "/var/folders/2h/45bqs84942sfxfwfndsxtgs40000gn/T/ipykernel_12494/2066196414.py:35: PerformanceWarning: DataFrame is highly fragmented.  This is usually the result of calling `frame.insert` many times, which has poor performance.  Consider joining all columns at once using pd.concat(axis=1) instead. To get a de-fragmented frame, use `newframe = frame.copy()`\n",
      "  filtered_open_target_df[col + '_temp'] = cols_to_mean.max(axis=1)\n"
     ]
    },
    {
     "name": "stdout",
     "output_type": "stream",
     "text": [
      "New matrix shape: (1417, 1417)\n"
     ]
    },
    {
     "name": "stderr",
     "output_type": "stream",
     "text": [
      "/var/folders/2h/45bqs84942sfxfwfndsxtgs40000gn/T/ipykernel_12494/2066196414.py:35: PerformanceWarning: DataFrame is highly fragmented.  This is usually the result of calling `frame.insert` many times, which has poor performance.  Consider joining all columns at once using pd.concat(axis=1) instead. To get a de-fragmented frame, use `newframe = frame.copy()`\n",
      "  filtered_open_target_df[col + '_temp'] = cols_to_mean.max(axis=1)\n"
     ]
    },
    {
     "name": "stdout",
     "output_type": "stream",
     "text": [
      "New matrix shape: (1411, 1411)\n"
     ]
    },
    {
     "name": "stderr",
     "output_type": "stream",
     "text": [
      "/var/folders/2h/45bqs84942sfxfwfndsxtgs40000gn/T/ipykernel_12494/2066196414.py:35: PerformanceWarning: DataFrame is highly fragmented.  This is usually the result of calling `frame.insert` many times, which has poor performance.  Consider joining all columns at once using pd.concat(axis=1) instead. To get a de-fragmented frame, use `newframe = frame.copy()`\n",
      "  filtered_open_target_df[col + '_temp'] = cols_to_mean.max(axis=1)\n"
     ]
    },
    {
     "name": "stdout",
     "output_type": "stream",
     "text": [
      "New matrix shape: (1409, 1409)\n"
     ]
    },
    {
     "name": "stderr",
     "output_type": "stream",
     "text": [
      "/var/folders/2h/45bqs84942sfxfwfndsxtgs40000gn/T/ipykernel_12494/2066196414.py:35: PerformanceWarning: DataFrame is highly fragmented.  This is usually the result of calling `frame.insert` many times, which has poor performance.  Consider joining all columns at once using pd.concat(axis=1) instead. To get a de-fragmented frame, use `newframe = frame.copy()`\n",
      "  filtered_open_target_df[col + '_temp'] = cols_to_mean.max(axis=1)\n"
     ]
    },
    {
     "name": "stdout",
     "output_type": "stream",
     "text": [
      "New matrix shape: (1400, 1400)\n"
     ]
    },
    {
     "name": "stderr",
     "output_type": "stream",
     "text": [
      "/var/folders/2h/45bqs84942sfxfwfndsxtgs40000gn/T/ipykernel_12494/2066196414.py:35: PerformanceWarning: DataFrame is highly fragmented.  This is usually the result of calling `frame.insert` many times, which has poor performance.  Consider joining all columns at once using pd.concat(axis=1) instead. To get a de-fragmented frame, use `newframe = frame.copy()`\n",
      "  filtered_open_target_df[col + '_temp'] = cols_to_mean.max(axis=1)\n"
     ]
    },
    {
     "name": "stdout",
     "output_type": "stream",
     "text": [
      "New matrix shape: (1398, 1398)\n"
     ]
    },
    {
     "name": "stderr",
     "output_type": "stream",
     "text": [
      "/var/folders/2h/45bqs84942sfxfwfndsxtgs40000gn/T/ipykernel_12494/2066196414.py:35: PerformanceWarning: DataFrame is highly fragmented.  This is usually the result of calling `frame.insert` many times, which has poor performance.  Consider joining all columns at once using pd.concat(axis=1) instead. To get a de-fragmented frame, use `newframe = frame.copy()`\n",
      "  filtered_open_target_df[col + '_temp'] = cols_to_mean.max(axis=1)\n"
     ]
    },
    {
     "name": "stdout",
     "output_type": "stream",
     "text": [
      "New matrix shape: (1395, 1395)\n"
     ]
    },
    {
     "name": "stderr",
     "output_type": "stream",
     "text": [
      "/var/folders/2h/45bqs84942sfxfwfndsxtgs40000gn/T/ipykernel_12494/2066196414.py:35: PerformanceWarning: DataFrame is highly fragmented.  This is usually the result of calling `frame.insert` many times, which has poor performance.  Consider joining all columns at once using pd.concat(axis=1) instead. To get a de-fragmented frame, use `newframe = frame.copy()`\n",
      "  filtered_open_target_df[col + '_temp'] = cols_to_mean.max(axis=1)\n"
     ]
    },
    {
     "name": "stdout",
     "output_type": "stream",
     "text": [
      "New matrix shape: (1389, 1389)\n"
     ]
    },
    {
     "name": "stderr",
     "output_type": "stream",
     "text": [
      "/var/folders/2h/45bqs84942sfxfwfndsxtgs40000gn/T/ipykernel_12494/2066196414.py:35: PerformanceWarning: DataFrame is highly fragmented.  This is usually the result of calling `frame.insert` many times, which has poor performance.  Consider joining all columns at once using pd.concat(axis=1) instead. To get a de-fragmented frame, use `newframe = frame.copy()`\n",
      "  filtered_open_target_df[col + '_temp'] = cols_to_mean.max(axis=1)\n"
     ]
    },
    {
     "name": "stdout",
     "output_type": "stream",
     "text": [
      "New matrix shape: (1388, 1388)\n"
     ]
    },
    {
     "name": "stderr",
     "output_type": "stream",
     "text": [
      "/var/folders/2h/45bqs84942sfxfwfndsxtgs40000gn/T/ipykernel_12494/2066196414.py:35: PerformanceWarning: DataFrame is highly fragmented.  This is usually the result of calling `frame.insert` many times, which has poor performance.  Consider joining all columns at once using pd.concat(axis=1) instead. To get a de-fragmented frame, use `newframe = frame.copy()`\n",
      "  filtered_open_target_df[col + '_temp'] = cols_to_mean.max(axis=1)\n"
     ]
    },
    {
     "name": "stdout",
     "output_type": "stream",
     "text": [
      "New matrix shape: (1383, 1383)\n"
     ]
    },
    {
     "name": "stderr",
     "output_type": "stream",
     "text": [
      "/var/folders/2h/45bqs84942sfxfwfndsxtgs40000gn/T/ipykernel_12494/2066196414.py:35: PerformanceWarning: DataFrame is highly fragmented.  This is usually the result of calling `frame.insert` many times, which has poor performance.  Consider joining all columns at once using pd.concat(axis=1) instead. To get a de-fragmented frame, use `newframe = frame.copy()`\n",
      "  filtered_open_target_df[col + '_temp'] = cols_to_mean.max(axis=1)\n"
     ]
    },
    {
     "name": "stdout",
     "output_type": "stream",
     "text": [
      "New matrix shape: (1379, 1379)\n"
     ]
    },
    {
     "name": "stderr",
     "output_type": "stream",
     "text": [
      "/var/folders/2h/45bqs84942sfxfwfndsxtgs40000gn/T/ipykernel_12494/2066196414.py:35: PerformanceWarning: DataFrame is highly fragmented.  This is usually the result of calling `frame.insert` many times, which has poor performance.  Consider joining all columns at once using pd.concat(axis=1) instead. To get a de-fragmented frame, use `newframe = frame.copy()`\n",
      "  filtered_open_target_df[col + '_temp'] = cols_to_mean.max(axis=1)\n"
     ]
    },
    {
     "name": "stdout",
     "output_type": "stream",
     "text": [
      "New matrix shape: (1378, 1378)\n"
     ]
    },
    {
     "name": "stderr",
     "output_type": "stream",
     "text": [
      "/var/folders/2h/45bqs84942sfxfwfndsxtgs40000gn/T/ipykernel_12494/2066196414.py:35: PerformanceWarning: DataFrame is highly fragmented.  This is usually the result of calling `frame.insert` many times, which has poor performance.  Consider joining all columns at once using pd.concat(axis=1) instead. To get a de-fragmented frame, use `newframe = frame.copy()`\n",
      "  filtered_open_target_df[col + '_temp'] = cols_to_mean.max(axis=1)\n"
     ]
    },
    {
     "name": "stdout",
     "output_type": "stream",
     "text": [
      "New matrix shape: (1375, 1375)\n"
     ]
    },
    {
     "name": "stderr",
     "output_type": "stream",
     "text": [
      "/var/folders/2h/45bqs84942sfxfwfndsxtgs40000gn/T/ipykernel_12494/2066196414.py:35: PerformanceWarning: DataFrame is highly fragmented.  This is usually the result of calling `frame.insert` many times, which has poor performance.  Consider joining all columns at once using pd.concat(axis=1) instead. To get a de-fragmented frame, use `newframe = frame.copy()`\n",
      "  filtered_open_target_df[col + '_temp'] = cols_to_mean.max(axis=1)\n"
     ]
    },
    {
     "name": "stdout",
     "output_type": "stream",
     "text": [
      "New matrix shape: (1369, 1369)\n"
     ]
    },
    {
     "name": "stderr",
     "output_type": "stream",
     "text": [
      "/var/folders/2h/45bqs84942sfxfwfndsxtgs40000gn/T/ipykernel_12494/2066196414.py:35: PerformanceWarning: DataFrame is highly fragmented.  This is usually the result of calling `frame.insert` many times, which has poor performance.  Consider joining all columns at once using pd.concat(axis=1) instead. To get a de-fragmented frame, use `newframe = frame.copy()`\n",
      "  filtered_open_target_df[col + '_temp'] = cols_to_mean.max(axis=1)\n"
     ]
    },
    {
     "name": "stdout",
     "output_type": "stream",
     "text": [
      "New matrix shape: (1363, 1363)\n"
     ]
    },
    {
     "name": "stderr",
     "output_type": "stream",
     "text": [
      "/var/folders/2h/45bqs84942sfxfwfndsxtgs40000gn/T/ipykernel_12494/2066196414.py:35: PerformanceWarning: DataFrame is highly fragmented.  This is usually the result of calling `frame.insert` many times, which has poor performance.  Consider joining all columns at once using pd.concat(axis=1) instead. To get a de-fragmented frame, use `newframe = frame.copy()`\n",
      "  filtered_open_target_df[col + '_temp'] = cols_to_mean.max(axis=1)\n"
     ]
    },
    {
     "name": "stdout",
     "output_type": "stream",
     "text": [
      "New matrix shape: (1356, 1356)\n"
     ]
    },
    {
     "name": "stderr",
     "output_type": "stream",
     "text": [
      "/var/folders/2h/45bqs84942sfxfwfndsxtgs40000gn/T/ipykernel_12494/2066196414.py:35: PerformanceWarning: DataFrame is highly fragmented.  This is usually the result of calling `frame.insert` many times, which has poor performance.  Consider joining all columns at once using pd.concat(axis=1) instead. To get a de-fragmented frame, use `newframe = frame.copy()`\n",
      "  filtered_open_target_df[col + '_temp'] = cols_to_mean.max(axis=1)\n"
     ]
    },
    {
     "name": "stdout",
     "output_type": "stream",
     "text": [
      "New matrix shape: (1354, 1354)\n"
     ]
    },
    {
     "name": "stderr",
     "output_type": "stream",
     "text": [
      "/var/folders/2h/45bqs84942sfxfwfndsxtgs40000gn/T/ipykernel_12494/2066196414.py:35: PerformanceWarning: DataFrame is highly fragmented.  This is usually the result of calling `frame.insert` many times, which has poor performance.  Consider joining all columns at once using pd.concat(axis=1) instead. To get a de-fragmented frame, use `newframe = frame.copy()`\n",
      "  filtered_open_target_df[col + '_temp'] = cols_to_mean.max(axis=1)\n"
     ]
    },
    {
     "name": "stdout",
     "output_type": "stream",
     "text": [
      "New matrix shape: (1351, 1351)\n"
     ]
    },
    {
     "name": "stderr",
     "output_type": "stream",
     "text": [
      "/var/folders/2h/45bqs84942sfxfwfndsxtgs40000gn/T/ipykernel_12494/2066196414.py:35: PerformanceWarning: DataFrame is highly fragmented.  This is usually the result of calling `frame.insert` many times, which has poor performance.  Consider joining all columns at once using pd.concat(axis=1) instead. To get a de-fragmented frame, use `newframe = frame.copy()`\n",
      "  filtered_open_target_df[col + '_temp'] = cols_to_mean.max(axis=1)\n"
     ]
    },
    {
     "name": "stdout",
     "output_type": "stream",
     "text": [
      "New matrix shape: (1346, 1346)\n"
     ]
    },
    {
     "name": "stderr",
     "output_type": "stream",
     "text": [
      "/var/folders/2h/45bqs84942sfxfwfndsxtgs40000gn/T/ipykernel_12494/2066196414.py:35: PerformanceWarning: DataFrame is highly fragmented.  This is usually the result of calling `frame.insert` many times, which has poor performance.  Consider joining all columns at once using pd.concat(axis=1) instead. To get a de-fragmented frame, use `newframe = frame.copy()`\n",
      "  filtered_open_target_df[col + '_temp'] = cols_to_mean.max(axis=1)\n"
     ]
    },
    {
     "name": "stdout",
     "output_type": "stream",
     "text": [
      "New matrix shape: (1341, 1341)\n"
     ]
    },
    {
     "name": "stderr",
     "output_type": "stream",
     "text": [
      "/var/folders/2h/45bqs84942sfxfwfndsxtgs40000gn/T/ipykernel_12494/2066196414.py:35: PerformanceWarning: DataFrame is highly fragmented.  This is usually the result of calling `frame.insert` many times, which has poor performance.  Consider joining all columns at once using pd.concat(axis=1) instead. To get a de-fragmented frame, use `newframe = frame.copy()`\n",
      "  filtered_open_target_df[col + '_temp'] = cols_to_mean.max(axis=1)\n"
     ]
    },
    {
     "name": "stdout",
     "output_type": "stream",
     "text": [
      "New matrix shape: (1338, 1338)\n"
     ]
    },
    {
     "name": "stderr",
     "output_type": "stream",
     "text": [
      "/var/folders/2h/45bqs84942sfxfwfndsxtgs40000gn/T/ipykernel_12494/2066196414.py:35: PerformanceWarning: DataFrame is highly fragmented.  This is usually the result of calling `frame.insert` many times, which has poor performance.  Consider joining all columns at once using pd.concat(axis=1) instead. To get a de-fragmented frame, use `newframe = frame.copy()`\n",
      "  filtered_open_target_df[col + '_temp'] = cols_to_mean.max(axis=1)\n"
     ]
    },
    {
     "name": "stdout",
     "output_type": "stream",
     "text": [
      "New matrix shape: (1336, 1336)\n"
     ]
    },
    {
     "name": "stderr",
     "output_type": "stream",
     "text": [
      "/var/folders/2h/45bqs84942sfxfwfndsxtgs40000gn/T/ipykernel_12494/2066196414.py:35: PerformanceWarning: DataFrame is highly fragmented.  This is usually the result of calling `frame.insert` many times, which has poor performance.  Consider joining all columns at once using pd.concat(axis=1) instead. To get a de-fragmented frame, use `newframe = frame.copy()`\n",
      "  filtered_open_target_df[col + '_temp'] = cols_to_mean.max(axis=1)\n"
     ]
    },
    {
     "name": "stdout",
     "output_type": "stream",
     "text": [
      "New matrix shape: (1325, 1325)\n"
     ]
    },
    {
     "name": "stderr",
     "output_type": "stream",
     "text": [
      "/var/folders/2h/45bqs84942sfxfwfndsxtgs40000gn/T/ipykernel_12494/2066196414.py:35: PerformanceWarning: DataFrame is highly fragmented.  This is usually the result of calling `frame.insert` many times, which has poor performance.  Consider joining all columns at once using pd.concat(axis=1) instead. To get a de-fragmented frame, use `newframe = frame.copy()`\n",
      "  filtered_open_target_df[col + '_temp'] = cols_to_mean.max(axis=1)\n"
     ]
    },
    {
     "name": "stdout",
     "output_type": "stream",
     "text": [
      "New matrix shape: (1322, 1322)\n"
     ]
    },
    {
     "name": "stderr",
     "output_type": "stream",
     "text": [
      "/var/folders/2h/45bqs84942sfxfwfndsxtgs40000gn/T/ipykernel_12494/2066196414.py:35: PerformanceWarning: DataFrame is highly fragmented.  This is usually the result of calling `frame.insert` many times, which has poor performance.  Consider joining all columns at once using pd.concat(axis=1) instead. To get a de-fragmented frame, use `newframe = frame.copy()`\n",
      "  filtered_open_target_df[col + '_temp'] = cols_to_mean.max(axis=1)\n"
     ]
    },
    {
     "name": "stdout",
     "output_type": "stream",
     "text": [
      "New matrix shape: (1319, 1319)\n"
     ]
    },
    {
     "name": "stderr",
     "output_type": "stream",
     "text": [
      "/var/folders/2h/45bqs84942sfxfwfndsxtgs40000gn/T/ipykernel_12494/2066196414.py:35: PerformanceWarning: DataFrame is highly fragmented.  This is usually the result of calling `frame.insert` many times, which has poor performance.  Consider joining all columns at once using pd.concat(axis=1) instead. To get a de-fragmented frame, use `newframe = frame.copy()`\n",
      "  filtered_open_target_df[col + '_temp'] = cols_to_mean.max(axis=1)\n"
     ]
    },
    {
     "name": "stdout",
     "output_type": "stream",
     "text": [
      "New matrix shape: (1315, 1315)\n"
     ]
    },
    {
     "name": "stderr",
     "output_type": "stream",
     "text": [
      "/var/folders/2h/45bqs84942sfxfwfndsxtgs40000gn/T/ipykernel_12494/2066196414.py:35: PerformanceWarning: DataFrame is highly fragmented.  This is usually the result of calling `frame.insert` many times, which has poor performance.  Consider joining all columns at once using pd.concat(axis=1) instead. To get a de-fragmented frame, use `newframe = frame.copy()`\n",
      "  filtered_open_target_df[col + '_temp'] = cols_to_mean.max(axis=1)\n"
     ]
    },
    {
     "name": "stdout",
     "output_type": "stream",
     "text": [
      "New matrix shape: (1305, 1305)\n"
     ]
    },
    {
     "name": "stderr",
     "output_type": "stream",
     "text": [
      "/var/folders/2h/45bqs84942sfxfwfndsxtgs40000gn/T/ipykernel_12494/2066196414.py:35: PerformanceWarning: DataFrame is highly fragmented.  This is usually the result of calling `frame.insert` many times, which has poor performance.  Consider joining all columns at once using pd.concat(axis=1) instead. To get a de-fragmented frame, use `newframe = frame.copy()`\n",
      "  filtered_open_target_df[col + '_temp'] = cols_to_mean.max(axis=1)\n"
     ]
    },
    {
     "name": "stdout",
     "output_type": "stream",
     "text": [
      "New matrix shape: (1300, 1300)\n"
     ]
    },
    {
     "name": "stderr",
     "output_type": "stream",
     "text": [
      "/var/folders/2h/45bqs84942sfxfwfndsxtgs40000gn/T/ipykernel_12494/2066196414.py:35: PerformanceWarning: DataFrame is highly fragmented.  This is usually the result of calling `frame.insert` many times, which has poor performance.  Consider joining all columns at once using pd.concat(axis=1) instead. To get a de-fragmented frame, use `newframe = frame.copy()`\n",
      "  filtered_open_target_df[col + '_temp'] = cols_to_mean.max(axis=1)\n"
     ]
    },
    {
     "name": "stdout",
     "output_type": "stream",
     "text": [
      "New matrix shape: (1298, 1298)\n"
     ]
    },
    {
     "name": "stderr",
     "output_type": "stream",
     "text": [
      "/var/folders/2h/45bqs84942sfxfwfndsxtgs40000gn/T/ipykernel_12494/2066196414.py:35: PerformanceWarning: DataFrame is highly fragmented.  This is usually the result of calling `frame.insert` many times, which has poor performance.  Consider joining all columns at once using pd.concat(axis=1) instead. To get a de-fragmented frame, use `newframe = frame.copy()`\n",
      "  filtered_open_target_df[col + '_temp'] = cols_to_mean.max(axis=1)\n"
     ]
    },
    {
     "name": "stdout",
     "output_type": "stream",
     "text": [
      "New matrix shape: (1290, 1290)\n"
     ]
    },
    {
     "name": "stderr",
     "output_type": "stream",
     "text": [
      "/var/folders/2h/45bqs84942sfxfwfndsxtgs40000gn/T/ipykernel_12494/2066196414.py:35: PerformanceWarning: DataFrame is highly fragmented.  This is usually the result of calling `frame.insert` many times, which has poor performance.  Consider joining all columns at once using pd.concat(axis=1) instead. To get a de-fragmented frame, use `newframe = frame.copy()`\n",
      "  filtered_open_target_df[col + '_temp'] = cols_to_mean.max(axis=1)\n"
     ]
    },
    {
     "name": "stdout",
     "output_type": "stream",
     "text": [
      "New matrix shape: (1288, 1288)\n"
     ]
    },
    {
     "name": "stderr",
     "output_type": "stream",
     "text": [
      "/var/folders/2h/45bqs84942sfxfwfndsxtgs40000gn/T/ipykernel_12494/2066196414.py:35: PerformanceWarning: DataFrame is highly fragmented.  This is usually the result of calling `frame.insert` many times, which has poor performance.  Consider joining all columns at once using pd.concat(axis=1) instead. To get a de-fragmented frame, use `newframe = frame.copy()`\n",
      "  filtered_open_target_df[col + '_temp'] = cols_to_mean.max(axis=1)\n"
     ]
    },
    {
     "name": "stdout",
     "output_type": "stream",
     "text": [
      "New matrix shape: (1281, 1281)\n"
     ]
    },
    {
     "name": "stderr",
     "output_type": "stream",
     "text": [
      "/var/folders/2h/45bqs84942sfxfwfndsxtgs40000gn/T/ipykernel_12494/2066196414.py:35: PerformanceWarning: DataFrame is highly fragmented.  This is usually the result of calling `frame.insert` many times, which has poor performance.  Consider joining all columns at once using pd.concat(axis=1) instead. To get a de-fragmented frame, use `newframe = frame.copy()`\n",
      "  filtered_open_target_df[col + '_temp'] = cols_to_mean.max(axis=1)\n"
     ]
    },
    {
     "name": "stdout",
     "output_type": "stream",
     "text": [
      "New matrix shape: (1275, 1275)\n"
     ]
    },
    {
     "name": "stderr",
     "output_type": "stream",
     "text": [
      "/var/folders/2h/45bqs84942sfxfwfndsxtgs40000gn/T/ipykernel_12494/2066196414.py:35: PerformanceWarning: DataFrame is highly fragmented.  This is usually the result of calling `frame.insert` many times, which has poor performance.  Consider joining all columns at once using pd.concat(axis=1) instead. To get a de-fragmented frame, use `newframe = frame.copy()`\n",
      "  filtered_open_target_df[col + '_temp'] = cols_to_mean.max(axis=1)\n"
     ]
    },
    {
     "name": "stdout",
     "output_type": "stream",
     "text": [
      "New matrix shape: (1269, 1269)\n"
     ]
    },
    {
     "name": "stderr",
     "output_type": "stream",
     "text": [
      "/var/folders/2h/45bqs84942sfxfwfndsxtgs40000gn/T/ipykernel_12494/2066196414.py:35: PerformanceWarning: DataFrame is highly fragmented.  This is usually the result of calling `frame.insert` many times, which has poor performance.  Consider joining all columns at once using pd.concat(axis=1) instead. To get a de-fragmented frame, use `newframe = frame.copy()`\n",
      "  filtered_open_target_df[col + '_temp'] = cols_to_mean.max(axis=1)\n"
     ]
    },
    {
     "name": "stdout",
     "output_type": "stream",
     "text": [
      "New matrix shape: (1266, 1266)\n"
     ]
    },
    {
     "name": "stderr",
     "output_type": "stream",
     "text": [
      "/var/folders/2h/45bqs84942sfxfwfndsxtgs40000gn/T/ipykernel_12494/2066196414.py:35: PerformanceWarning: DataFrame is highly fragmented.  This is usually the result of calling `frame.insert` many times, which has poor performance.  Consider joining all columns at once using pd.concat(axis=1) instead. To get a de-fragmented frame, use `newframe = frame.copy()`\n",
      "  filtered_open_target_df[col + '_temp'] = cols_to_mean.max(axis=1)\n"
     ]
    },
    {
     "name": "stdout",
     "output_type": "stream",
     "text": [
      "New matrix shape: (1262, 1262)\n"
     ]
    },
    {
     "name": "stderr",
     "output_type": "stream",
     "text": [
      "/var/folders/2h/45bqs84942sfxfwfndsxtgs40000gn/T/ipykernel_12494/2066196414.py:35: PerformanceWarning: DataFrame is highly fragmented.  This is usually the result of calling `frame.insert` many times, which has poor performance.  Consider joining all columns at once using pd.concat(axis=1) instead. To get a de-fragmented frame, use `newframe = frame.copy()`\n",
      "  filtered_open_target_df[col + '_temp'] = cols_to_mean.max(axis=1)\n"
     ]
    },
    {
     "name": "stdout",
     "output_type": "stream",
     "text": [
      "New matrix shape: (1261, 1261)\n"
     ]
    },
    {
     "name": "stderr",
     "output_type": "stream",
     "text": [
      "/var/folders/2h/45bqs84942sfxfwfndsxtgs40000gn/T/ipykernel_12494/2066196414.py:35: PerformanceWarning: DataFrame is highly fragmented.  This is usually the result of calling `frame.insert` many times, which has poor performance.  Consider joining all columns at once using pd.concat(axis=1) instead. To get a de-fragmented frame, use `newframe = frame.copy()`\n",
      "  filtered_open_target_df[col + '_temp'] = cols_to_mean.max(axis=1)\n"
     ]
    },
    {
     "name": "stdout",
     "output_type": "stream",
     "text": [
      "New matrix shape: (1258, 1258)\n"
     ]
    },
    {
     "name": "stderr",
     "output_type": "stream",
     "text": [
      "/var/folders/2h/45bqs84942sfxfwfndsxtgs40000gn/T/ipykernel_12494/2066196414.py:35: PerformanceWarning: DataFrame is highly fragmented.  This is usually the result of calling `frame.insert` many times, which has poor performance.  Consider joining all columns at once using pd.concat(axis=1) instead. To get a de-fragmented frame, use `newframe = frame.copy()`\n",
      "  filtered_open_target_df[col + '_temp'] = cols_to_mean.max(axis=1)\n"
     ]
    },
    {
     "name": "stdout",
     "output_type": "stream",
     "text": [
      "New matrix shape: (1253, 1253)\n"
     ]
    },
    {
     "name": "stderr",
     "output_type": "stream",
     "text": [
      "/var/folders/2h/45bqs84942sfxfwfndsxtgs40000gn/T/ipykernel_12494/2066196414.py:35: PerformanceWarning: DataFrame is highly fragmented.  This is usually the result of calling `frame.insert` many times, which has poor performance.  Consider joining all columns at once using pd.concat(axis=1) instead. To get a de-fragmented frame, use `newframe = frame.copy()`\n",
      "  filtered_open_target_df[col + '_temp'] = cols_to_mean.max(axis=1)\n"
     ]
    },
    {
     "name": "stdout",
     "output_type": "stream",
     "text": [
      "New matrix shape: (1246, 1246)\n"
     ]
    },
    {
     "name": "stderr",
     "output_type": "stream",
     "text": [
      "/var/folders/2h/45bqs84942sfxfwfndsxtgs40000gn/T/ipykernel_12494/2066196414.py:35: PerformanceWarning: DataFrame is highly fragmented.  This is usually the result of calling `frame.insert` many times, which has poor performance.  Consider joining all columns at once using pd.concat(axis=1) instead. To get a de-fragmented frame, use `newframe = frame.copy()`\n",
      "  filtered_open_target_df[col + '_temp'] = cols_to_mean.max(axis=1)\n"
     ]
    },
    {
     "name": "stdout",
     "output_type": "stream",
     "text": [
      "New matrix shape: (1240, 1240)\n"
     ]
    },
    {
     "name": "stderr",
     "output_type": "stream",
     "text": [
      "/var/folders/2h/45bqs84942sfxfwfndsxtgs40000gn/T/ipykernel_12494/2066196414.py:35: PerformanceWarning: DataFrame is highly fragmented.  This is usually the result of calling `frame.insert` many times, which has poor performance.  Consider joining all columns at once using pd.concat(axis=1) instead. To get a de-fragmented frame, use `newframe = frame.copy()`\n",
      "  filtered_open_target_df[col + '_temp'] = cols_to_mean.max(axis=1)\n"
     ]
    },
    {
     "name": "stdout",
     "output_type": "stream",
     "text": [
      "New matrix shape: (1239, 1239)\n"
     ]
    },
    {
     "name": "stderr",
     "output_type": "stream",
     "text": [
      "/var/folders/2h/45bqs84942sfxfwfndsxtgs40000gn/T/ipykernel_12494/2066196414.py:35: PerformanceWarning: DataFrame is highly fragmented.  This is usually the result of calling `frame.insert` many times, which has poor performance.  Consider joining all columns at once using pd.concat(axis=1) instead. To get a de-fragmented frame, use `newframe = frame.copy()`\n",
      "  filtered_open_target_df[col + '_temp'] = cols_to_mean.max(axis=1)\n"
     ]
    },
    {
     "name": "stdout",
     "output_type": "stream",
     "text": [
      "New matrix shape: (1232, 1232)\n"
     ]
    },
    {
     "name": "stderr",
     "output_type": "stream",
     "text": [
      "/var/folders/2h/45bqs84942sfxfwfndsxtgs40000gn/T/ipykernel_12494/2066196414.py:35: PerformanceWarning: DataFrame is highly fragmented.  This is usually the result of calling `frame.insert` many times, which has poor performance.  Consider joining all columns at once using pd.concat(axis=1) instead. To get a de-fragmented frame, use `newframe = frame.copy()`\n",
      "  filtered_open_target_df[col + '_temp'] = cols_to_mean.max(axis=1)\n"
     ]
    },
    {
     "name": "stdout",
     "output_type": "stream",
     "text": [
      "New matrix shape: (1229, 1229)\n"
     ]
    },
    {
     "name": "stderr",
     "output_type": "stream",
     "text": [
      "/var/folders/2h/45bqs84942sfxfwfndsxtgs40000gn/T/ipykernel_12494/2066196414.py:35: PerformanceWarning: DataFrame is highly fragmented.  This is usually the result of calling `frame.insert` many times, which has poor performance.  Consider joining all columns at once using pd.concat(axis=1) instead. To get a de-fragmented frame, use `newframe = frame.copy()`\n",
      "  filtered_open_target_df[col + '_temp'] = cols_to_mean.max(axis=1)\n"
     ]
    },
    {
     "name": "stdout",
     "output_type": "stream",
     "text": [
      "New matrix shape: (1222, 1222)\n"
     ]
    },
    {
     "name": "stderr",
     "output_type": "stream",
     "text": [
      "/var/folders/2h/45bqs84942sfxfwfndsxtgs40000gn/T/ipykernel_12494/2066196414.py:35: PerformanceWarning: DataFrame is highly fragmented.  This is usually the result of calling `frame.insert` many times, which has poor performance.  Consider joining all columns at once using pd.concat(axis=1) instead. To get a de-fragmented frame, use `newframe = frame.copy()`\n",
      "  filtered_open_target_df[col + '_temp'] = cols_to_mean.max(axis=1)\n"
     ]
    },
    {
     "name": "stdout",
     "output_type": "stream",
     "text": [
      "New matrix shape: (1219, 1219)\n"
     ]
    },
    {
     "name": "stderr",
     "output_type": "stream",
     "text": [
      "/var/folders/2h/45bqs84942sfxfwfndsxtgs40000gn/T/ipykernel_12494/2066196414.py:35: PerformanceWarning: DataFrame is highly fragmented.  This is usually the result of calling `frame.insert` many times, which has poor performance.  Consider joining all columns at once using pd.concat(axis=1) instead. To get a de-fragmented frame, use `newframe = frame.copy()`\n",
      "  filtered_open_target_df[col + '_temp'] = cols_to_mean.max(axis=1)\n"
     ]
    },
    {
     "name": "stdout",
     "output_type": "stream",
     "text": [
      "New matrix shape: (1216, 1216)\n"
     ]
    },
    {
     "name": "stderr",
     "output_type": "stream",
     "text": [
      "/var/folders/2h/45bqs84942sfxfwfndsxtgs40000gn/T/ipykernel_12494/2066196414.py:35: PerformanceWarning: DataFrame is highly fragmented.  This is usually the result of calling `frame.insert` many times, which has poor performance.  Consider joining all columns at once using pd.concat(axis=1) instead. To get a de-fragmented frame, use `newframe = frame.copy()`\n",
      "  filtered_open_target_df[col + '_temp'] = cols_to_mean.max(axis=1)\n"
     ]
    },
    {
     "name": "stdout",
     "output_type": "stream",
     "text": [
      "New matrix shape: (1208, 1208)\n"
     ]
    },
    {
     "name": "stderr",
     "output_type": "stream",
     "text": [
      "/var/folders/2h/45bqs84942sfxfwfndsxtgs40000gn/T/ipykernel_12494/2066196414.py:35: PerformanceWarning: DataFrame is highly fragmented.  This is usually the result of calling `frame.insert` many times, which has poor performance.  Consider joining all columns at once using pd.concat(axis=1) instead. To get a de-fragmented frame, use `newframe = frame.copy()`\n",
      "  filtered_open_target_df[col + '_temp'] = cols_to_mean.max(axis=1)\n"
     ]
    },
    {
     "name": "stdout",
     "output_type": "stream",
     "text": [
      "New matrix shape: (1207, 1207)\n"
     ]
    },
    {
     "name": "stderr",
     "output_type": "stream",
     "text": [
      "/var/folders/2h/45bqs84942sfxfwfndsxtgs40000gn/T/ipykernel_12494/2066196414.py:35: PerformanceWarning: DataFrame is highly fragmented.  This is usually the result of calling `frame.insert` many times, which has poor performance.  Consider joining all columns at once using pd.concat(axis=1) instead. To get a de-fragmented frame, use `newframe = frame.copy()`\n",
      "  filtered_open_target_df[col + '_temp'] = cols_to_mean.max(axis=1)\n"
     ]
    },
    {
     "name": "stdout",
     "output_type": "stream",
     "text": [
      "New matrix shape: (1199, 1199)\n"
     ]
    },
    {
     "name": "stderr",
     "output_type": "stream",
     "text": [
      "/var/folders/2h/45bqs84942sfxfwfndsxtgs40000gn/T/ipykernel_12494/2066196414.py:35: PerformanceWarning: DataFrame is highly fragmented.  This is usually the result of calling `frame.insert` many times, which has poor performance.  Consider joining all columns at once using pd.concat(axis=1) instead. To get a de-fragmented frame, use `newframe = frame.copy()`\n",
      "  filtered_open_target_df[col + '_temp'] = cols_to_mean.max(axis=1)\n"
     ]
    },
    {
     "name": "stdout",
     "output_type": "stream",
     "text": [
      "New matrix shape: (1197, 1197)\n"
     ]
    },
    {
     "name": "stderr",
     "output_type": "stream",
     "text": [
      "/var/folders/2h/45bqs84942sfxfwfndsxtgs40000gn/T/ipykernel_12494/2066196414.py:35: PerformanceWarning: DataFrame is highly fragmented.  This is usually the result of calling `frame.insert` many times, which has poor performance.  Consider joining all columns at once using pd.concat(axis=1) instead. To get a de-fragmented frame, use `newframe = frame.copy()`\n",
      "  filtered_open_target_df[col + '_temp'] = cols_to_mean.max(axis=1)\n"
     ]
    },
    {
     "name": "stdout",
     "output_type": "stream",
     "text": [
      "New matrix shape: (1193, 1193)\n"
     ]
    },
    {
     "name": "stderr",
     "output_type": "stream",
     "text": [
      "/var/folders/2h/45bqs84942sfxfwfndsxtgs40000gn/T/ipykernel_12494/2066196414.py:35: PerformanceWarning: DataFrame is highly fragmented.  This is usually the result of calling `frame.insert` many times, which has poor performance.  Consider joining all columns at once using pd.concat(axis=1) instead. To get a de-fragmented frame, use `newframe = frame.copy()`\n",
      "  filtered_open_target_df[col + '_temp'] = cols_to_mean.max(axis=1)\n"
     ]
    },
    {
     "name": "stdout",
     "output_type": "stream",
     "text": [
      "New matrix shape: (1191, 1191)\n"
     ]
    },
    {
     "name": "stderr",
     "output_type": "stream",
     "text": [
      "/var/folders/2h/45bqs84942sfxfwfndsxtgs40000gn/T/ipykernel_12494/2066196414.py:35: PerformanceWarning: DataFrame is highly fragmented.  This is usually the result of calling `frame.insert` many times, which has poor performance.  Consider joining all columns at once using pd.concat(axis=1) instead. To get a de-fragmented frame, use `newframe = frame.copy()`\n",
      "  filtered_open_target_df[col + '_temp'] = cols_to_mean.max(axis=1)\n"
     ]
    },
    {
     "name": "stdout",
     "output_type": "stream",
     "text": [
      "New matrix shape: (1190, 1190)\n"
     ]
    },
    {
     "name": "stderr",
     "output_type": "stream",
     "text": [
      "/var/folders/2h/45bqs84942sfxfwfndsxtgs40000gn/T/ipykernel_12494/2066196414.py:35: PerformanceWarning: DataFrame is highly fragmented.  This is usually the result of calling `frame.insert` many times, which has poor performance.  Consider joining all columns at once using pd.concat(axis=1) instead. To get a de-fragmented frame, use `newframe = frame.copy()`\n",
      "  filtered_open_target_df[col + '_temp'] = cols_to_mean.max(axis=1)\n"
     ]
    },
    {
     "name": "stdout",
     "output_type": "stream",
     "text": [
      "New matrix shape: (1174, 1174)\n"
     ]
    },
    {
     "name": "stderr",
     "output_type": "stream",
     "text": [
      "/var/folders/2h/45bqs84942sfxfwfndsxtgs40000gn/T/ipykernel_12494/2066196414.py:35: PerformanceWarning: DataFrame is highly fragmented.  This is usually the result of calling `frame.insert` many times, which has poor performance.  Consider joining all columns at once using pd.concat(axis=1) instead. To get a de-fragmented frame, use `newframe = frame.copy()`\n",
      "  filtered_open_target_df[col + '_temp'] = cols_to_mean.max(axis=1)\n"
     ]
    },
    {
     "name": "stdout",
     "output_type": "stream",
     "text": [
      "New matrix shape: (1173, 1173)\n"
     ]
    },
    {
     "name": "stderr",
     "output_type": "stream",
     "text": [
      "/var/folders/2h/45bqs84942sfxfwfndsxtgs40000gn/T/ipykernel_12494/2066196414.py:35: PerformanceWarning: DataFrame is highly fragmented.  This is usually the result of calling `frame.insert` many times, which has poor performance.  Consider joining all columns at once using pd.concat(axis=1) instead. To get a de-fragmented frame, use `newframe = frame.copy()`\n",
      "  filtered_open_target_df[col + '_temp'] = cols_to_mean.max(axis=1)\n"
     ]
    },
    {
     "name": "stdout",
     "output_type": "stream",
     "text": [
      "New matrix shape: (1168, 1168)\n"
     ]
    },
    {
     "name": "stderr",
     "output_type": "stream",
     "text": [
      "/var/folders/2h/45bqs84942sfxfwfndsxtgs40000gn/T/ipykernel_12494/2066196414.py:35: PerformanceWarning: DataFrame is highly fragmented.  This is usually the result of calling `frame.insert` many times, which has poor performance.  Consider joining all columns at once using pd.concat(axis=1) instead. To get a de-fragmented frame, use `newframe = frame.copy()`\n",
      "  filtered_open_target_df[col + '_temp'] = cols_to_mean.max(axis=1)\n"
     ]
    },
    {
     "name": "stdout",
     "output_type": "stream",
     "text": [
      "New matrix shape: (1166, 1166)\n"
     ]
    },
    {
     "name": "stderr",
     "output_type": "stream",
     "text": [
      "/var/folders/2h/45bqs84942sfxfwfndsxtgs40000gn/T/ipykernel_12494/2066196414.py:35: PerformanceWarning: DataFrame is highly fragmented.  This is usually the result of calling `frame.insert` many times, which has poor performance.  Consider joining all columns at once using pd.concat(axis=1) instead. To get a de-fragmented frame, use `newframe = frame.copy()`\n",
      "  filtered_open_target_df[col + '_temp'] = cols_to_mean.max(axis=1)\n"
     ]
    },
    {
     "name": "stdout",
     "output_type": "stream",
     "text": [
      "New matrix shape: (1162, 1162)\n"
     ]
    },
    {
     "name": "stderr",
     "output_type": "stream",
     "text": [
      "/var/folders/2h/45bqs84942sfxfwfndsxtgs40000gn/T/ipykernel_12494/2066196414.py:35: PerformanceWarning: DataFrame is highly fragmented.  This is usually the result of calling `frame.insert` many times, which has poor performance.  Consider joining all columns at once using pd.concat(axis=1) instead. To get a de-fragmented frame, use `newframe = frame.copy()`\n",
      "  filtered_open_target_df[col + '_temp'] = cols_to_mean.max(axis=1)\n"
     ]
    },
    {
     "name": "stdout",
     "output_type": "stream",
     "text": [
      "New matrix shape: (1157, 1157)\n"
     ]
    },
    {
     "name": "stderr",
     "output_type": "stream",
     "text": [
      "/var/folders/2h/45bqs84942sfxfwfndsxtgs40000gn/T/ipykernel_12494/2066196414.py:35: PerformanceWarning: DataFrame is highly fragmented.  This is usually the result of calling `frame.insert` many times, which has poor performance.  Consider joining all columns at once using pd.concat(axis=1) instead. To get a de-fragmented frame, use `newframe = frame.copy()`\n",
      "  filtered_open_target_df[col + '_temp'] = cols_to_mean.max(axis=1)\n"
     ]
    },
    {
     "name": "stdout",
     "output_type": "stream",
     "text": [
      "New matrix shape: (1155, 1155)\n"
     ]
    },
    {
     "name": "stderr",
     "output_type": "stream",
     "text": [
      "/var/folders/2h/45bqs84942sfxfwfndsxtgs40000gn/T/ipykernel_12494/2066196414.py:35: PerformanceWarning: DataFrame is highly fragmented.  This is usually the result of calling `frame.insert` many times, which has poor performance.  Consider joining all columns at once using pd.concat(axis=1) instead. To get a de-fragmented frame, use `newframe = frame.copy()`\n",
      "  filtered_open_target_df[col + '_temp'] = cols_to_mean.max(axis=1)\n"
     ]
    },
    {
     "name": "stdout",
     "output_type": "stream",
     "text": [
      "New matrix shape: (1145, 1145)\n"
     ]
    },
    {
     "name": "stderr",
     "output_type": "stream",
     "text": [
      "/var/folders/2h/45bqs84942sfxfwfndsxtgs40000gn/T/ipykernel_12494/2066196414.py:35: PerformanceWarning: DataFrame is highly fragmented.  This is usually the result of calling `frame.insert` many times, which has poor performance.  Consider joining all columns at once using pd.concat(axis=1) instead. To get a de-fragmented frame, use `newframe = frame.copy()`\n",
      "  filtered_open_target_df[col + '_temp'] = cols_to_mean.max(axis=1)\n"
     ]
    },
    {
     "name": "stdout",
     "output_type": "stream",
     "text": [
      "New matrix shape: (1144, 1144)\n"
     ]
    },
    {
     "name": "stderr",
     "output_type": "stream",
     "text": [
      "/var/folders/2h/45bqs84942sfxfwfndsxtgs40000gn/T/ipykernel_12494/2066196414.py:35: PerformanceWarning: DataFrame is highly fragmented.  This is usually the result of calling `frame.insert` many times, which has poor performance.  Consider joining all columns at once using pd.concat(axis=1) instead. To get a de-fragmented frame, use `newframe = frame.copy()`\n",
      "  filtered_open_target_df[col + '_temp'] = cols_to_mean.max(axis=1)\n"
     ]
    },
    {
     "name": "stdout",
     "output_type": "stream",
     "text": [
      "New matrix shape: (1143, 1143)\n"
     ]
    },
    {
     "name": "stderr",
     "output_type": "stream",
     "text": [
      "/var/folders/2h/45bqs84942sfxfwfndsxtgs40000gn/T/ipykernel_12494/2066196414.py:35: PerformanceWarning: DataFrame is highly fragmented.  This is usually the result of calling `frame.insert` many times, which has poor performance.  Consider joining all columns at once using pd.concat(axis=1) instead. To get a de-fragmented frame, use `newframe = frame.copy()`\n",
      "  filtered_open_target_df[col + '_temp'] = cols_to_mean.max(axis=1)\n"
     ]
    },
    {
     "name": "stdout",
     "output_type": "stream",
     "text": [
      "New matrix shape: (1139, 1139)\n"
     ]
    },
    {
     "name": "stderr",
     "output_type": "stream",
     "text": [
      "/var/folders/2h/45bqs84942sfxfwfndsxtgs40000gn/T/ipykernel_12494/2066196414.py:35: PerformanceWarning: DataFrame is highly fragmented.  This is usually the result of calling `frame.insert` many times, which has poor performance.  Consider joining all columns at once using pd.concat(axis=1) instead. To get a de-fragmented frame, use `newframe = frame.copy()`\n",
      "  filtered_open_target_df[col + '_temp'] = cols_to_mean.max(axis=1)\n"
     ]
    },
    {
     "name": "stdout",
     "output_type": "stream",
     "text": [
      "New matrix shape: (1134, 1134)\n"
     ]
    },
    {
     "name": "stderr",
     "output_type": "stream",
     "text": [
      "/var/folders/2h/45bqs84942sfxfwfndsxtgs40000gn/T/ipykernel_12494/2066196414.py:35: PerformanceWarning: DataFrame is highly fragmented.  This is usually the result of calling `frame.insert` many times, which has poor performance.  Consider joining all columns at once using pd.concat(axis=1) instead. To get a de-fragmented frame, use `newframe = frame.copy()`\n",
      "  filtered_open_target_df[col + '_temp'] = cols_to_mean.max(axis=1)\n"
     ]
    },
    {
     "name": "stdout",
     "output_type": "stream",
     "text": [
      "New matrix shape: (1133, 1133)\n"
     ]
    },
    {
     "name": "stderr",
     "output_type": "stream",
     "text": [
      "/var/folders/2h/45bqs84942sfxfwfndsxtgs40000gn/T/ipykernel_12494/2066196414.py:35: PerformanceWarning: DataFrame is highly fragmented.  This is usually the result of calling `frame.insert` many times, which has poor performance.  Consider joining all columns at once using pd.concat(axis=1) instead. To get a de-fragmented frame, use `newframe = frame.copy()`\n",
      "  filtered_open_target_df[col + '_temp'] = cols_to_mean.max(axis=1)\n"
     ]
    },
    {
     "name": "stdout",
     "output_type": "stream",
     "text": [
      "New matrix shape: (1127, 1127)\n"
     ]
    },
    {
     "name": "stderr",
     "output_type": "stream",
     "text": [
      "/var/folders/2h/45bqs84942sfxfwfndsxtgs40000gn/T/ipykernel_12494/2066196414.py:35: PerformanceWarning: DataFrame is highly fragmented.  This is usually the result of calling `frame.insert` many times, which has poor performance.  Consider joining all columns at once using pd.concat(axis=1) instead. To get a de-fragmented frame, use `newframe = frame.copy()`\n",
      "  filtered_open_target_df[col + '_temp'] = cols_to_mean.max(axis=1)\n"
     ]
    },
    {
     "name": "stdout",
     "output_type": "stream",
     "text": [
      "New matrix shape: (1125, 1125)\n"
     ]
    },
    {
     "name": "stderr",
     "output_type": "stream",
     "text": [
      "/var/folders/2h/45bqs84942sfxfwfndsxtgs40000gn/T/ipykernel_12494/2066196414.py:35: PerformanceWarning: DataFrame is highly fragmented.  This is usually the result of calling `frame.insert` many times, which has poor performance.  Consider joining all columns at once using pd.concat(axis=1) instead. To get a de-fragmented frame, use `newframe = frame.copy()`\n",
      "  filtered_open_target_df[col + '_temp'] = cols_to_mean.max(axis=1)\n"
     ]
    },
    {
     "name": "stdout",
     "output_type": "stream",
     "text": [
      "New matrix shape: (1122, 1122)\n"
     ]
    },
    {
     "name": "stderr",
     "output_type": "stream",
     "text": [
      "/var/folders/2h/45bqs84942sfxfwfndsxtgs40000gn/T/ipykernel_12494/2066196414.py:35: PerformanceWarning: DataFrame is highly fragmented.  This is usually the result of calling `frame.insert` many times, which has poor performance.  Consider joining all columns at once using pd.concat(axis=1) instead. To get a de-fragmented frame, use `newframe = frame.copy()`\n",
      "  filtered_open_target_df[col + '_temp'] = cols_to_mean.max(axis=1)\n"
     ]
    },
    {
     "name": "stdout",
     "output_type": "stream",
     "text": [
      "New matrix shape: (1119, 1119)\n"
     ]
    },
    {
     "name": "stderr",
     "output_type": "stream",
     "text": [
      "/var/folders/2h/45bqs84942sfxfwfndsxtgs40000gn/T/ipykernel_12494/2066196414.py:35: PerformanceWarning: DataFrame is highly fragmented.  This is usually the result of calling `frame.insert` many times, which has poor performance.  Consider joining all columns at once using pd.concat(axis=1) instead. To get a de-fragmented frame, use `newframe = frame.copy()`\n",
      "  filtered_open_target_df[col + '_temp'] = cols_to_mean.max(axis=1)\n"
     ]
    },
    {
     "name": "stdout",
     "output_type": "stream",
     "text": [
      "New matrix shape: (1117, 1117)\n"
     ]
    },
    {
     "name": "stderr",
     "output_type": "stream",
     "text": [
      "/var/folders/2h/45bqs84942sfxfwfndsxtgs40000gn/T/ipykernel_12494/2066196414.py:35: PerformanceWarning: DataFrame is highly fragmented.  This is usually the result of calling `frame.insert` many times, which has poor performance.  Consider joining all columns at once using pd.concat(axis=1) instead. To get a de-fragmented frame, use `newframe = frame.copy()`\n",
      "  filtered_open_target_df[col + '_temp'] = cols_to_mean.max(axis=1)\n"
     ]
    },
    {
     "name": "stdout",
     "output_type": "stream",
     "text": [
      "New matrix shape: (1110, 1110)\n"
     ]
    },
    {
     "name": "stderr",
     "output_type": "stream",
     "text": [
      "/var/folders/2h/45bqs84942sfxfwfndsxtgs40000gn/T/ipykernel_12494/2066196414.py:35: PerformanceWarning: DataFrame is highly fragmented.  This is usually the result of calling `frame.insert` many times, which has poor performance.  Consider joining all columns at once using pd.concat(axis=1) instead. To get a de-fragmented frame, use `newframe = frame.copy()`\n",
      "  filtered_open_target_df[col + '_temp'] = cols_to_mean.max(axis=1)\n"
     ]
    },
    {
     "name": "stdout",
     "output_type": "stream",
     "text": [
      "New matrix shape: (1105, 1105)\n"
     ]
    },
    {
     "name": "stderr",
     "output_type": "stream",
     "text": [
      "/var/folders/2h/45bqs84942sfxfwfndsxtgs40000gn/T/ipykernel_12494/2066196414.py:35: PerformanceWarning: DataFrame is highly fragmented.  This is usually the result of calling `frame.insert` many times, which has poor performance.  Consider joining all columns at once using pd.concat(axis=1) instead. To get a de-fragmented frame, use `newframe = frame.copy()`\n",
      "  filtered_open_target_df[col + '_temp'] = cols_to_mean.max(axis=1)\n"
     ]
    },
    {
     "name": "stdout",
     "output_type": "stream",
     "text": [
      "New matrix shape: (1100, 1100)\n"
     ]
    },
    {
     "name": "stderr",
     "output_type": "stream",
     "text": [
      "/var/folders/2h/45bqs84942sfxfwfndsxtgs40000gn/T/ipykernel_12494/2066196414.py:35: PerformanceWarning: DataFrame is highly fragmented.  This is usually the result of calling `frame.insert` many times, which has poor performance.  Consider joining all columns at once using pd.concat(axis=1) instead. To get a de-fragmented frame, use `newframe = frame.copy()`\n",
      "  filtered_open_target_df[col + '_temp'] = cols_to_mean.max(axis=1)\n"
     ]
    },
    {
     "name": "stdout",
     "output_type": "stream",
     "text": [
      "New matrix shape: (1099, 1099)\n"
     ]
    },
    {
     "name": "stderr",
     "output_type": "stream",
     "text": [
      "/var/folders/2h/45bqs84942sfxfwfndsxtgs40000gn/T/ipykernel_12494/2066196414.py:35: PerformanceWarning: DataFrame is highly fragmented.  This is usually the result of calling `frame.insert` many times, which has poor performance.  Consider joining all columns at once using pd.concat(axis=1) instead. To get a de-fragmented frame, use `newframe = frame.copy()`\n",
      "  filtered_open_target_df[col + '_temp'] = cols_to_mean.max(axis=1)\n"
     ]
    },
    {
     "name": "stdout",
     "output_type": "stream",
     "text": [
      "New matrix shape: (1098, 1098)\n"
     ]
    },
    {
     "name": "stderr",
     "output_type": "stream",
     "text": [
      "/var/folders/2h/45bqs84942sfxfwfndsxtgs40000gn/T/ipykernel_12494/2066196414.py:35: PerformanceWarning: DataFrame is highly fragmented.  This is usually the result of calling `frame.insert` many times, which has poor performance.  Consider joining all columns at once using pd.concat(axis=1) instead. To get a de-fragmented frame, use `newframe = frame.copy()`\n",
      "  filtered_open_target_df[col + '_temp'] = cols_to_mean.max(axis=1)\n"
     ]
    },
    {
     "name": "stdout",
     "output_type": "stream",
     "text": [
      "New matrix shape: (1095, 1095)\n"
     ]
    },
    {
     "name": "stderr",
     "output_type": "stream",
     "text": [
      "/var/folders/2h/45bqs84942sfxfwfndsxtgs40000gn/T/ipykernel_12494/2066196414.py:35: PerformanceWarning: DataFrame is highly fragmented.  This is usually the result of calling `frame.insert` many times, which has poor performance.  Consider joining all columns at once using pd.concat(axis=1) instead. To get a de-fragmented frame, use `newframe = frame.copy()`\n",
      "  filtered_open_target_df[col + '_temp'] = cols_to_mean.max(axis=1)\n"
     ]
    },
    {
     "name": "stdout",
     "output_type": "stream",
     "text": [
      "New matrix shape: (1094, 1094)\n"
     ]
    },
    {
     "name": "stderr",
     "output_type": "stream",
     "text": [
      "/var/folders/2h/45bqs84942sfxfwfndsxtgs40000gn/T/ipykernel_12494/2066196414.py:35: PerformanceWarning: DataFrame is highly fragmented.  This is usually the result of calling `frame.insert` many times, which has poor performance.  Consider joining all columns at once using pd.concat(axis=1) instead. To get a de-fragmented frame, use `newframe = frame.copy()`\n",
      "  filtered_open_target_df[col + '_temp'] = cols_to_mean.max(axis=1)\n"
     ]
    },
    {
     "name": "stdout",
     "output_type": "stream",
     "text": [
      "New matrix shape: (1086, 1086)\n"
     ]
    },
    {
     "name": "stderr",
     "output_type": "stream",
     "text": [
      "/var/folders/2h/45bqs84942sfxfwfndsxtgs40000gn/T/ipykernel_12494/2066196414.py:35: PerformanceWarning: DataFrame is highly fragmented.  This is usually the result of calling `frame.insert` many times, which has poor performance.  Consider joining all columns at once using pd.concat(axis=1) instead. To get a de-fragmented frame, use `newframe = frame.copy()`\n",
      "  filtered_open_target_df[col + '_temp'] = cols_to_mean.max(axis=1)\n"
     ]
    },
    {
     "name": "stdout",
     "output_type": "stream",
     "text": [
      "New matrix shape: (1081, 1081)\n"
     ]
    },
    {
     "name": "stderr",
     "output_type": "stream",
     "text": [
      "/var/folders/2h/45bqs84942sfxfwfndsxtgs40000gn/T/ipykernel_12494/2066196414.py:35: PerformanceWarning: DataFrame is highly fragmented.  This is usually the result of calling `frame.insert` many times, which has poor performance.  Consider joining all columns at once using pd.concat(axis=1) instead. To get a de-fragmented frame, use `newframe = frame.copy()`\n",
      "  filtered_open_target_df[col + '_temp'] = cols_to_mean.max(axis=1)\n"
     ]
    },
    {
     "name": "stdout",
     "output_type": "stream",
     "text": [
      "New matrix shape: (1080, 1080)\n"
     ]
    },
    {
     "name": "stderr",
     "output_type": "stream",
     "text": [
      "/var/folders/2h/45bqs84942sfxfwfndsxtgs40000gn/T/ipykernel_12494/2066196414.py:35: PerformanceWarning: DataFrame is highly fragmented.  This is usually the result of calling `frame.insert` many times, which has poor performance.  Consider joining all columns at once using pd.concat(axis=1) instead. To get a de-fragmented frame, use `newframe = frame.copy()`\n",
      "  filtered_open_target_df[col + '_temp'] = cols_to_mean.max(axis=1)\n"
     ]
    },
    {
     "name": "stdout",
     "output_type": "stream",
     "text": [
      "New matrix shape: (1077, 1077)\n"
     ]
    },
    {
     "name": "stderr",
     "output_type": "stream",
     "text": [
      "/var/folders/2h/45bqs84942sfxfwfndsxtgs40000gn/T/ipykernel_12494/2066196414.py:35: PerformanceWarning: DataFrame is highly fragmented.  This is usually the result of calling `frame.insert` many times, which has poor performance.  Consider joining all columns at once using pd.concat(axis=1) instead. To get a de-fragmented frame, use `newframe = frame.copy()`\n",
      "  filtered_open_target_df[col + '_temp'] = cols_to_mean.max(axis=1)\n"
     ]
    },
    {
     "name": "stdout",
     "output_type": "stream",
     "text": [
      "New matrix shape: (1070, 1070)\n"
     ]
    },
    {
     "name": "stderr",
     "output_type": "stream",
     "text": [
      "/var/folders/2h/45bqs84942sfxfwfndsxtgs40000gn/T/ipykernel_12494/2066196414.py:35: PerformanceWarning: DataFrame is highly fragmented.  This is usually the result of calling `frame.insert` many times, which has poor performance.  Consider joining all columns at once using pd.concat(axis=1) instead. To get a de-fragmented frame, use `newframe = frame.copy()`\n",
      "  filtered_open_target_df[col + '_temp'] = cols_to_mean.max(axis=1)\n"
     ]
    },
    {
     "name": "stdout",
     "output_type": "stream",
     "text": [
      "New matrix shape: (1068, 1068)\n"
     ]
    },
    {
     "name": "stderr",
     "output_type": "stream",
     "text": [
      "/var/folders/2h/45bqs84942sfxfwfndsxtgs40000gn/T/ipykernel_12494/2066196414.py:35: PerformanceWarning: DataFrame is highly fragmented.  This is usually the result of calling `frame.insert` many times, which has poor performance.  Consider joining all columns at once using pd.concat(axis=1) instead. To get a de-fragmented frame, use `newframe = frame.copy()`\n",
      "  filtered_open_target_df[col + '_temp'] = cols_to_mean.max(axis=1)\n"
     ]
    },
    {
     "name": "stdout",
     "output_type": "stream",
     "text": [
      "New matrix shape: (1063, 1063)\n"
     ]
    },
    {
     "name": "stderr",
     "output_type": "stream",
     "text": [
      "/var/folders/2h/45bqs84942sfxfwfndsxtgs40000gn/T/ipykernel_12494/2066196414.py:35: PerformanceWarning: DataFrame is highly fragmented.  This is usually the result of calling `frame.insert` many times, which has poor performance.  Consider joining all columns at once using pd.concat(axis=1) instead. To get a de-fragmented frame, use `newframe = frame.copy()`\n",
      "  filtered_open_target_df[col + '_temp'] = cols_to_mean.max(axis=1)\n"
     ]
    },
    {
     "name": "stdout",
     "output_type": "stream",
     "text": [
      "New matrix shape: (1057, 1057)\n"
     ]
    },
    {
     "name": "stderr",
     "output_type": "stream",
     "text": [
      "/var/folders/2h/45bqs84942sfxfwfndsxtgs40000gn/T/ipykernel_12494/2066196414.py:35: PerformanceWarning: DataFrame is highly fragmented.  This is usually the result of calling `frame.insert` many times, which has poor performance.  Consider joining all columns at once using pd.concat(axis=1) instead. To get a de-fragmented frame, use `newframe = frame.copy()`\n",
      "  filtered_open_target_df[col + '_temp'] = cols_to_mean.max(axis=1)\n"
     ]
    },
    {
     "name": "stdout",
     "output_type": "stream",
     "text": [
      "New matrix shape: (1056, 1056)\n"
     ]
    },
    {
     "name": "stderr",
     "output_type": "stream",
     "text": [
      "/var/folders/2h/45bqs84942sfxfwfndsxtgs40000gn/T/ipykernel_12494/2066196414.py:35: PerformanceWarning: DataFrame is highly fragmented.  This is usually the result of calling `frame.insert` many times, which has poor performance.  Consider joining all columns at once using pd.concat(axis=1) instead. To get a de-fragmented frame, use `newframe = frame.copy()`\n",
      "  filtered_open_target_df[col + '_temp'] = cols_to_mean.max(axis=1)\n"
     ]
    },
    {
     "name": "stdout",
     "output_type": "stream",
     "text": [
      "New matrix shape: (1050, 1050)\n"
     ]
    },
    {
     "name": "stderr",
     "output_type": "stream",
     "text": [
      "/var/folders/2h/45bqs84942sfxfwfndsxtgs40000gn/T/ipykernel_12494/2066196414.py:35: PerformanceWarning: DataFrame is highly fragmented.  This is usually the result of calling `frame.insert` many times, which has poor performance.  Consider joining all columns at once using pd.concat(axis=1) instead. To get a de-fragmented frame, use `newframe = frame.copy()`\n",
      "  filtered_open_target_df[col + '_temp'] = cols_to_mean.max(axis=1)\n"
     ]
    },
    {
     "name": "stdout",
     "output_type": "stream",
     "text": [
      "New matrix shape: (1047, 1047)\n"
     ]
    },
    {
     "name": "stderr",
     "output_type": "stream",
     "text": [
      "/var/folders/2h/45bqs84942sfxfwfndsxtgs40000gn/T/ipykernel_12494/2066196414.py:35: PerformanceWarning: DataFrame is highly fragmented.  This is usually the result of calling `frame.insert` many times, which has poor performance.  Consider joining all columns at once using pd.concat(axis=1) instead. To get a de-fragmented frame, use `newframe = frame.copy()`\n",
      "  filtered_open_target_df[col + '_temp'] = cols_to_mean.max(axis=1)\n"
     ]
    },
    {
     "name": "stdout",
     "output_type": "stream",
     "text": [
      "New matrix shape: (1040, 1040)\n"
     ]
    },
    {
     "name": "stderr",
     "output_type": "stream",
     "text": [
      "/var/folders/2h/45bqs84942sfxfwfndsxtgs40000gn/T/ipykernel_12494/2066196414.py:35: PerformanceWarning: DataFrame is highly fragmented.  This is usually the result of calling `frame.insert` many times, which has poor performance.  Consider joining all columns at once using pd.concat(axis=1) instead. To get a de-fragmented frame, use `newframe = frame.copy()`\n",
      "  filtered_open_target_df[col + '_temp'] = cols_to_mean.max(axis=1)\n"
     ]
    },
    {
     "name": "stdout",
     "output_type": "stream",
     "text": [
      "New matrix shape: (1037, 1037)\n"
     ]
    },
    {
     "name": "stderr",
     "output_type": "stream",
     "text": [
      "/var/folders/2h/45bqs84942sfxfwfndsxtgs40000gn/T/ipykernel_12494/2066196414.py:35: PerformanceWarning: DataFrame is highly fragmented.  This is usually the result of calling `frame.insert` many times, which has poor performance.  Consider joining all columns at once using pd.concat(axis=1) instead. To get a de-fragmented frame, use `newframe = frame.copy()`\n",
      "  filtered_open_target_df[col + '_temp'] = cols_to_mean.max(axis=1)\n"
     ]
    },
    {
     "name": "stdout",
     "output_type": "stream",
     "text": [
      "New matrix shape: (1030, 1030)\n"
     ]
    },
    {
     "name": "stderr",
     "output_type": "stream",
     "text": [
      "/var/folders/2h/45bqs84942sfxfwfndsxtgs40000gn/T/ipykernel_12494/2066196414.py:35: PerformanceWarning: DataFrame is highly fragmented.  This is usually the result of calling `frame.insert` many times, which has poor performance.  Consider joining all columns at once using pd.concat(axis=1) instead. To get a de-fragmented frame, use `newframe = frame.copy()`\n",
      "  filtered_open_target_df[col + '_temp'] = cols_to_mean.max(axis=1)\n"
     ]
    },
    {
     "name": "stdout",
     "output_type": "stream",
     "text": [
      "New matrix shape: (1021, 1021)\n"
     ]
    },
    {
     "name": "stderr",
     "output_type": "stream",
     "text": [
      "/var/folders/2h/45bqs84942sfxfwfndsxtgs40000gn/T/ipykernel_12494/2066196414.py:35: PerformanceWarning: DataFrame is highly fragmented.  This is usually the result of calling `frame.insert` many times, which has poor performance.  Consider joining all columns at once using pd.concat(axis=1) instead. To get a de-fragmented frame, use `newframe = frame.copy()`\n",
      "  filtered_open_target_df[col + '_temp'] = cols_to_mean.max(axis=1)\n"
     ]
    },
    {
     "name": "stdout",
     "output_type": "stream",
     "text": [
      "New matrix shape: (1020, 1020)\n"
     ]
    },
    {
     "name": "stderr",
     "output_type": "stream",
     "text": [
      "/var/folders/2h/45bqs84942sfxfwfndsxtgs40000gn/T/ipykernel_12494/2066196414.py:35: PerformanceWarning: DataFrame is highly fragmented.  This is usually the result of calling `frame.insert` many times, which has poor performance.  Consider joining all columns at once using pd.concat(axis=1) instead. To get a de-fragmented frame, use `newframe = frame.copy()`\n",
      "  filtered_open_target_df[col + '_temp'] = cols_to_mean.max(axis=1)\n"
     ]
    },
    {
     "name": "stdout",
     "output_type": "stream",
     "text": [
      "New matrix shape: (1017, 1017)\n"
     ]
    },
    {
     "name": "stderr",
     "output_type": "stream",
     "text": [
      "/var/folders/2h/45bqs84942sfxfwfndsxtgs40000gn/T/ipykernel_12494/2066196414.py:35: PerformanceWarning: DataFrame is highly fragmented.  This is usually the result of calling `frame.insert` many times, which has poor performance.  Consider joining all columns at once using pd.concat(axis=1) instead. To get a de-fragmented frame, use `newframe = frame.copy()`\n",
      "  filtered_open_target_df[col + '_temp'] = cols_to_mean.max(axis=1)\n"
     ]
    },
    {
     "name": "stdout",
     "output_type": "stream",
     "text": [
      "New matrix shape: (1016, 1016)\n"
     ]
    },
    {
     "name": "stderr",
     "output_type": "stream",
     "text": [
      "/var/folders/2h/45bqs84942sfxfwfndsxtgs40000gn/T/ipykernel_12494/2066196414.py:35: PerformanceWarning: DataFrame is highly fragmented.  This is usually the result of calling `frame.insert` many times, which has poor performance.  Consider joining all columns at once using pd.concat(axis=1) instead. To get a de-fragmented frame, use `newframe = frame.copy()`\n",
      "  filtered_open_target_df[col + '_temp'] = cols_to_mean.max(axis=1)\n"
     ]
    },
    {
     "name": "stdout",
     "output_type": "stream",
     "text": [
      "New matrix shape: (1015, 1015)\n"
     ]
    },
    {
     "name": "stderr",
     "output_type": "stream",
     "text": [
      "/var/folders/2h/45bqs84942sfxfwfndsxtgs40000gn/T/ipykernel_12494/2066196414.py:35: PerformanceWarning: DataFrame is highly fragmented.  This is usually the result of calling `frame.insert` many times, which has poor performance.  Consider joining all columns at once using pd.concat(axis=1) instead. To get a de-fragmented frame, use `newframe = frame.copy()`\n",
      "  filtered_open_target_df[col + '_temp'] = cols_to_mean.max(axis=1)\n"
     ]
    },
    {
     "name": "stdout",
     "output_type": "stream",
     "text": [
      "New matrix shape: (1011, 1011)\n"
     ]
    },
    {
     "name": "stderr",
     "output_type": "stream",
     "text": [
      "/var/folders/2h/45bqs84942sfxfwfndsxtgs40000gn/T/ipykernel_12494/2066196414.py:35: PerformanceWarning: DataFrame is highly fragmented.  This is usually the result of calling `frame.insert` many times, which has poor performance.  Consider joining all columns at once using pd.concat(axis=1) instead. To get a de-fragmented frame, use `newframe = frame.copy()`\n",
      "  filtered_open_target_df[col + '_temp'] = cols_to_mean.max(axis=1)\n"
     ]
    },
    {
     "name": "stdout",
     "output_type": "stream",
     "text": [
      "New matrix shape: (1007, 1007)\n"
     ]
    },
    {
     "name": "stderr",
     "output_type": "stream",
     "text": [
      "/var/folders/2h/45bqs84942sfxfwfndsxtgs40000gn/T/ipykernel_12494/2066196414.py:35: PerformanceWarning: DataFrame is highly fragmented.  This is usually the result of calling `frame.insert` many times, which has poor performance.  Consider joining all columns at once using pd.concat(axis=1) instead. To get a de-fragmented frame, use `newframe = frame.copy()`\n",
      "  filtered_open_target_df[col + '_temp'] = cols_to_mean.max(axis=1)\n"
     ]
    },
    {
     "name": "stdout",
     "output_type": "stream",
     "text": [
      "New matrix shape: (1005, 1005)\n"
     ]
    },
    {
     "name": "stderr",
     "output_type": "stream",
     "text": [
      "/var/folders/2h/45bqs84942sfxfwfndsxtgs40000gn/T/ipykernel_12494/2066196414.py:35: PerformanceWarning: DataFrame is highly fragmented.  This is usually the result of calling `frame.insert` many times, which has poor performance.  Consider joining all columns at once using pd.concat(axis=1) instead. To get a de-fragmented frame, use `newframe = frame.copy()`\n",
      "  filtered_open_target_df[col + '_temp'] = cols_to_mean.max(axis=1)\n"
     ]
    },
    {
     "name": "stdout",
     "output_type": "stream",
     "text": [
      "New matrix shape: (1002, 1002)\n"
     ]
    },
    {
     "name": "stderr",
     "output_type": "stream",
     "text": [
      "/var/folders/2h/45bqs84942sfxfwfndsxtgs40000gn/T/ipykernel_12494/2066196414.py:35: PerformanceWarning: DataFrame is highly fragmented.  This is usually the result of calling `frame.insert` many times, which has poor performance.  Consider joining all columns at once using pd.concat(axis=1) instead. To get a de-fragmented frame, use `newframe = frame.copy()`\n",
      "  filtered_open_target_df[col + '_temp'] = cols_to_mean.max(axis=1)\n"
     ]
    },
    {
     "name": "stdout",
     "output_type": "stream",
     "text": [
      "New matrix shape: (998, 998)\n"
     ]
    },
    {
     "name": "stderr",
     "output_type": "stream",
     "text": [
      "/var/folders/2h/45bqs84942sfxfwfndsxtgs40000gn/T/ipykernel_12494/2066196414.py:35: PerformanceWarning: DataFrame is highly fragmented.  This is usually the result of calling `frame.insert` many times, which has poor performance.  Consider joining all columns at once using pd.concat(axis=1) instead. To get a de-fragmented frame, use `newframe = frame.copy()`\n",
      "  filtered_open_target_df[col + '_temp'] = cols_to_mean.max(axis=1)\n"
     ]
    },
    {
     "name": "stdout",
     "output_type": "stream",
     "text": [
      "New matrix shape: (995, 995)\n"
     ]
    },
    {
     "name": "stderr",
     "output_type": "stream",
     "text": [
      "/var/folders/2h/45bqs84942sfxfwfndsxtgs40000gn/T/ipykernel_12494/2066196414.py:35: PerformanceWarning: DataFrame is highly fragmented.  This is usually the result of calling `frame.insert` many times, which has poor performance.  Consider joining all columns at once using pd.concat(axis=1) instead. To get a de-fragmented frame, use `newframe = frame.copy()`\n",
      "  filtered_open_target_df[col + '_temp'] = cols_to_mean.max(axis=1)\n"
     ]
    },
    {
     "name": "stdout",
     "output_type": "stream",
     "text": [
      "New matrix shape: (986, 986)\n"
     ]
    },
    {
     "name": "stderr",
     "output_type": "stream",
     "text": [
      "/var/folders/2h/45bqs84942sfxfwfndsxtgs40000gn/T/ipykernel_12494/2066196414.py:35: PerformanceWarning: DataFrame is highly fragmented.  This is usually the result of calling `frame.insert` many times, which has poor performance.  Consider joining all columns at once using pd.concat(axis=1) instead. To get a de-fragmented frame, use `newframe = frame.copy()`\n",
      "  filtered_open_target_df[col + '_temp'] = cols_to_mean.max(axis=1)\n"
     ]
    },
    {
     "name": "stdout",
     "output_type": "stream",
     "text": [
      "New matrix shape: (983, 983)\n"
     ]
    },
    {
     "name": "stderr",
     "output_type": "stream",
     "text": [
      "/var/folders/2h/45bqs84942sfxfwfndsxtgs40000gn/T/ipykernel_12494/2066196414.py:35: PerformanceWarning: DataFrame is highly fragmented.  This is usually the result of calling `frame.insert` many times, which has poor performance.  Consider joining all columns at once using pd.concat(axis=1) instead. To get a de-fragmented frame, use `newframe = frame.copy()`\n",
      "  filtered_open_target_df[col + '_temp'] = cols_to_mean.max(axis=1)\n"
     ]
    },
    {
     "name": "stdout",
     "output_type": "stream",
     "text": [
      "New matrix shape: (981, 981)\n"
     ]
    },
    {
     "name": "stderr",
     "output_type": "stream",
     "text": [
      "/var/folders/2h/45bqs84942sfxfwfndsxtgs40000gn/T/ipykernel_12494/2066196414.py:35: PerformanceWarning: DataFrame is highly fragmented.  This is usually the result of calling `frame.insert` many times, which has poor performance.  Consider joining all columns at once using pd.concat(axis=1) instead. To get a de-fragmented frame, use `newframe = frame.copy()`\n",
      "  filtered_open_target_df[col + '_temp'] = cols_to_mean.max(axis=1)\n"
     ]
    },
    {
     "name": "stdout",
     "output_type": "stream",
     "text": [
      "New matrix shape: (979, 979)\n"
     ]
    },
    {
     "name": "stderr",
     "output_type": "stream",
     "text": [
      "/var/folders/2h/45bqs84942sfxfwfndsxtgs40000gn/T/ipykernel_12494/2066196414.py:35: PerformanceWarning: DataFrame is highly fragmented.  This is usually the result of calling `frame.insert` many times, which has poor performance.  Consider joining all columns at once using pd.concat(axis=1) instead. To get a de-fragmented frame, use `newframe = frame.copy()`\n",
      "  filtered_open_target_df[col + '_temp'] = cols_to_mean.max(axis=1)\n"
     ]
    },
    {
     "name": "stdout",
     "output_type": "stream",
     "text": [
      "New matrix shape: (976, 976)\n"
     ]
    },
    {
     "name": "stderr",
     "output_type": "stream",
     "text": [
      "/var/folders/2h/45bqs84942sfxfwfndsxtgs40000gn/T/ipykernel_12494/2066196414.py:35: PerformanceWarning: DataFrame is highly fragmented.  This is usually the result of calling `frame.insert` many times, which has poor performance.  Consider joining all columns at once using pd.concat(axis=1) instead. To get a de-fragmented frame, use `newframe = frame.copy()`\n",
      "  filtered_open_target_df[col + '_temp'] = cols_to_mean.max(axis=1)\n"
     ]
    },
    {
     "name": "stdout",
     "output_type": "stream",
     "text": [
      "New matrix shape: (972, 972)\n"
     ]
    },
    {
     "name": "stderr",
     "output_type": "stream",
     "text": [
      "/var/folders/2h/45bqs84942sfxfwfndsxtgs40000gn/T/ipykernel_12494/2066196414.py:35: PerformanceWarning: DataFrame is highly fragmented.  This is usually the result of calling `frame.insert` many times, which has poor performance.  Consider joining all columns at once using pd.concat(axis=1) instead. To get a de-fragmented frame, use `newframe = frame.copy()`\n",
      "  filtered_open_target_df[col + '_temp'] = cols_to_mean.max(axis=1)\n"
     ]
    },
    {
     "name": "stdout",
     "output_type": "stream",
     "text": [
      "New matrix shape: (966, 966)\n"
     ]
    },
    {
     "name": "stderr",
     "output_type": "stream",
     "text": [
      "/var/folders/2h/45bqs84942sfxfwfndsxtgs40000gn/T/ipykernel_12494/2066196414.py:35: PerformanceWarning: DataFrame is highly fragmented.  This is usually the result of calling `frame.insert` many times, which has poor performance.  Consider joining all columns at once using pd.concat(axis=1) instead. To get a de-fragmented frame, use `newframe = frame.copy()`\n",
      "  filtered_open_target_df[col + '_temp'] = cols_to_mean.max(axis=1)\n"
     ]
    },
    {
     "name": "stdout",
     "output_type": "stream",
     "text": [
      "New matrix shape: (964, 964)\n"
     ]
    },
    {
     "name": "stderr",
     "output_type": "stream",
     "text": [
      "/var/folders/2h/45bqs84942sfxfwfndsxtgs40000gn/T/ipykernel_12494/2066196414.py:35: PerformanceWarning: DataFrame is highly fragmented.  This is usually the result of calling `frame.insert` many times, which has poor performance.  Consider joining all columns at once using pd.concat(axis=1) instead. To get a de-fragmented frame, use `newframe = frame.copy()`\n",
      "  filtered_open_target_df[col + '_temp'] = cols_to_mean.max(axis=1)\n"
     ]
    },
    {
     "name": "stdout",
     "output_type": "stream",
     "text": [
      "New matrix shape: (958, 958)\n"
     ]
    },
    {
     "name": "stderr",
     "output_type": "stream",
     "text": [
      "/var/folders/2h/45bqs84942sfxfwfndsxtgs40000gn/T/ipykernel_12494/2066196414.py:35: PerformanceWarning: DataFrame is highly fragmented.  This is usually the result of calling `frame.insert` many times, which has poor performance.  Consider joining all columns at once using pd.concat(axis=1) instead. To get a de-fragmented frame, use `newframe = frame.copy()`\n",
      "  filtered_open_target_df[col + '_temp'] = cols_to_mean.max(axis=1)\n"
     ]
    },
    {
     "name": "stdout",
     "output_type": "stream",
     "text": [
      "New matrix shape: (956, 956)\n"
     ]
    },
    {
     "name": "stderr",
     "output_type": "stream",
     "text": [
      "/var/folders/2h/45bqs84942sfxfwfndsxtgs40000gn/T/ipykernel_12494/2066196414.py:35: PerformanceWarning: DataFrame is highly fragmented.  This is usually the result of calling `frame.insert` many times, which has poor performance.  Consider joining all columns at once using pd.concat(axis=1) instead. To get a de-fragmented frame, use `newframe = frame.copy()`\n",
      "  filtered_open_target_df[col + '_temp'] = cols_to_mean.max(axis=1)\n"
     ]
    },
    {
     "name": "stdout",
     "output_type": "stream",
     "text": [
      "New matrix shape: (954, 954)\n"
     ]
    },
    {
     "name": "stderr",
     "output_type": "stream",
     "text": [
      "/var/folders/2h/45bqs84942sfxfwfndsxtgs40000gn/T/ipykernel_12494/2066196414.py:35: PerformanceWarning: DataFrame is highly fragmented.  This is usually the result of calling `frame.insert` many times, which has poor performance.  Consider joining all columns at once using pd.concat(axis=1) instead. To get a de-fragmented frame, use `newframe = frame.copy()`\n",
      "  filtered_open_target_df[col + '_temp'] = cols_to_mean.max(axis=1)\n"
     ]
    },
    {
     "name": "stdout",
     "output_type": "stream",
     "text": [
      "New matrix shape: (951, 951)\n"
     ]
    },
    {
     "name": "stderr",
     "output_type": "stream",
     "text": [
      "/var/folders/2h/45bqs84942sfxfwfndsxtgs40000gn/T/ipykernel_12494/2066196414.py:35: PerformanceWarning: DataFrame is highly fragmented.  This is usually the result of calling `frame.insert` many times, which has poor performance.  Consider joining all columns at once using pd.concat(axis=1) instead. To get a de-fragmented frame, use `newframe = frame.copy()`\n",
      "  filtered_open_target_df[col + '_temp'] = cols_to_mean.max(axis=1)\n"
     ]
    },
    {
     "name": "stdout",
     "output_type": "stream",
     "text": [
      "New matrix shape: (949, 949)\n"
     ]
    },
    {
     "name": "stderr",
     "output_type": "stream",
     "text": [
      "/var/folders/2h/45bqs84942sfxfwfndsxtgs40000gn/T/ipykernel_12494/2066196414.py:35: PerformanceWarning: DataFrame is highly fragmented.  This is usually the result of calling `frame.insert` many times, which has poor performance.  Consider joining all columns at once using pd.concat(axis=1) instead. To get a de-fragmented frame, use `newframe = frame.copy()`\n",
      "  filtered_open_target_df[col + '_temp'] = cols_to_mean.max(axis=1)\n"
     ]
    },
    {
     "name": "stdout",
     "output_type": "stream",
     "text": [
      "New matrix shape: (944, 944)\n"
     ]
    },
    {
     "name": "stderr",
     "output_type": "stream",
     "text": [
      "/var/folders/2h/45bqs84942sfxfwfndsxtgs40000gn/T/ipykernel_12494/2066196414.py:35: PerformanceWarning: DataFrame is highly fragmented.  This is usually the result of calling `frame.insert` many times, which has poor performance.  Consider joining all columns at once using pd.concat(axis=1) instead. To get a de-fragmented frame, use `newframe = frame.copy()`\n",
      "  filtered_open_target_df[col + '_temp'] = cols_to_mean.max(axis=1)\n"
     ]
    },
    {
     "name": "stdout",
     "output_type": "stream",
     "text": [
      "New matrix shape: (942, 942)\n"
     ]
    },
    {
     "name": "stderr",
     "output_type": "stream",
     "text": [
      "/var/folders/2h/45bqs84942sfxfwfndsxtgs40000gn/T/ipykernel_12494/2066196414.py:35: PerformanceWarning: DataFrame is highly fragmented.  This is usually the result of calling `frame.insert` many times, which has poor performance.  Consider joining all columns at once using pd.concat(axis=1) instead. To get a de-fragmented frame, use `newframe = frame.copy()`\n",
      "  filtered_open_target_df[col + '_temp'] = cols_to_mean.max(axis=1)\n"
     ]
    },
    {
     "name": "stdout",
     "output_type": "stream",
     "text": [
      "New matrix shape: (939, 939)\n"
     ]
    },
    {
     "name": "stderr",
     "output_type": "stream",
     "text": [
      "/var/folders/2h/45bqs84942sfxfwfndsxtgs40000gn/T/ipykernel_12494/2066196414.py:35: PerformanceWarning: DataFrame is highly fragmented.  This is usually the result of calling `frame.insert` many times, which has poor performance.  Consider joining all columns at once using pd.concat(axis=1) instead. To get a de-fragmented frame, use `newframe = frame.copy()`\n",
      "  filtered_open_target_df[col + '_temp'] = cols_to_mean.max(axis=1)\n"
     ]
    },
    {
     "name": "stdout",
     "output_type": "stream",
     "text": [
      "New matrix shape: (938, 938)\n"
     ]
    },
    {
     "name": "stderr",
     "output_type": "stream",
     "text": [
      "/var/folders/2h/45bqs84942sfxfwfndsxtgs40000gn/T/ipykernel_12494/2066196414.py:35: PerformanceWarning: DataFrame is highly fragmented.  This is usually the result of calling `frame.insert` many times, which has poor performance.  Consider joining all columns at once using pd.concat(axis=1) instead. To get a de-fragmented frame, use `newframe = frame.copy()`\n",
      "  filtered_open_target_df[col + '_temp'] = cols_to_mean.max(axis=1)\n"
     ]
    },
    {
     "name": "stdout",
     "output_type": "stream",
     "text": [
      "New matrix shape: (935, 935)\n"
     ]
    },
    {
     "name": "stderr",
     "output_type": "stream",
     "text": [
      "/var/folders/2h/45bqs84942sfxfwfndsxtgs40000gn/T/ipykernel_12494/2066196414.py:35: PerformanceWarning: DataFrame is highly fragmented.  This is usually the result of calling `frame.insert` many times, which has poor performance.  Consider joining all columns at once using pd.concat(axis=1) instead. To get a de-fragmented frame, use `newframe = frame.copy()`\n",
      "  filtered_open_target_df[col + '_temp'] = cols_to_mean.max(axis=1)\n"
     ]
    },
    {
     "name": "stdout",
     "output_type": "stream",
     "text": [
      "New matrix shape: (934, 934)\n"
     ]
    },
    {
     "name": "stderr",
     "output_type": "stream",
     "text": [
      "/var/folders/2h/45bqs84942sfxfwfndsxtgs40000gn/T/ipykernel_12494/2066196414.py:35: PerformanceWarning: DataFrame is highly fragmented.  This is usually the result of calling `frame.insert` many times, which has poor performance.  Consider joining all columns at once using pd.concat(axis=1) instead. To get a de-fragmented frame, use `newframe = frame.copy()`\n",
      "  filtered_open_target_df[col + '_temp'] = cols_to_mean.max(axis=1)\n"
     ]
    },
    {
     "name": "stdout",
     "output_type": "stream",
     "text": [
      "New matrix shape: (929, 929)\n"
     ]
    },
    {
     "name": "stderr",
     "output_type": "stream",
     "text": [
      "/var/folders/2h/45bqs84942sfxfwfndsxtgs40000gn/T/ipykernel_12494/2066196414.py:35: PerformanceWarning: DataFrame is highly fragmented.  This is usually the result of calling `frame.insert` many times, which has poor performance.  Consider joining all columns at once using pd.concat(axis=1) instead. To get a de-fragmented frame, use `newframe = frame.copy()`\n",
      "  filtered_open_target_df[col + '_temp'] = cols_to_mean.max(axis=1)\n"
     ]
    },
    {
     "name": "stdout",
     "output_type": "stream",
     "text": [
      "New matrix shape: (924, 924)\n"
     ]
    },
    {
     "name": "stderr",
     "output_type": "stream",
     "text": [
      "/var/folders/2h/45bqs84942sfxfwfndsxtgs40000gn/T/ipykernel_12494/2066196414.py:35: PerformanceWarning: DataFrame is highly fragmented.  This is usually the result of calling `frame.insert` many times, which has poor performance.  Consider joining all columns at once using pd.concat(axis=1) instead. To get a de-fragmented frame, use `newframe = frame.copy()`\n",
      "  filtered_open_target_df[col + '_temp'] = cols_to_mean.max(axis=1)\n"
     ]
    },
    {
     "name": "stdout",
     "output_type": "stream",
     "text": [
      "New matrix shape: (921, 921)\n"
     ]
    },
    {
     "name": "stderr",
     "output_type": "stream",
     "text": [
      "/var/folders/2h/45bqs84942sfxfwfndsxtgs40000gn/T/ipykernel_12494/2066196414.py:35: PerformanceWarning: DataFrame is highly fragmented.  This is usually the result of calling `frame.insert` many times, which has poor performance.  Consider joining all columns at once using pd.concat(axis=1) instead. To get a de-fragmented frame, use `newframe = frame.copy()`\n",
      "  filtered_open_target_df[col + '_temp'] = cols_to_mean.max(axis=1)\n"
     ]
    },
    {
     "name": "stdout",
     "output_type": "stream",
     "text": [
      "New matrix shape: (919, 919)\n"
     ]
    },
    {
     "name": "stderr",
     "output_type": "stream",
     "text": [
      "/var/folders/2h/45bqs84942sfxfwfndsxtgs40000gn/T/ipykernel_12494/2066196414.py:35: PerformanceWarning: DataFrame is highly fragmented.  This is usually the result of calling `frame.insert` many times, which has poor performance.  Consider joining all columns at once using pd.concat(axis=1) instead. To get a de-fragmented frame, use `newframe = frame.copy()`\n",
      "  filtered_open_target_df[col + '_temp'] = cols_to_mean.max(axis=1)\n"
     ]
    },
    {
     "name": "stdout",
     "output_type": "stream",
     "text": [
      "New matrix shape: (918, 918)\n"
     ]
    },
    {
     "name": "stderr",
     "output_type": "stream",
     "text": [
      "/var/folders/2h/45bqs84942sfxfwfndsxtgs40000gn/T/ipykernel_12494/2066196414.py:35: PerformanceWarning: DataFrame is highly fragmented.  This is usually the result of calling `frame.insert` many times, which has poor performance.  Consider joining all columns at once using pd.concat(axis=1) instead. To get a de-fragmented frame, use `newframe = frame.copy()`\n",
      "  filtered_open_target_df[col + '_temp'] = cols_to_mean.max(axis=1)\n"
     ]
    },
    {
     "name": "stdout",
     "output_type": "stream",
     "text": [
      "New matrix shape: (916, 916)\n"
     ]
    },
    {
     "name": "stderr",
     "output_type": "stream",
     "text": [
      "/var/folders/2h/45bqs84942sfxfwfndsxtgs40000gn/T/ipykernel_12494/2066196414.py:35: PerformanceWarning: DataFrame is highly fragmented.  This is usually the result of calling `frame.insert` many times, which has poor performance.  Consider joining all columns at once using pd.concat(axis=1) instead. To get a de-fragmented frame, use `newframe = frame.copy()`\n",
      "  filtered_open_target_df[col + '_temp'] = cols_to_mean.max(axis=1)\n"
     ]
    },
    {
     "name": "stdout",
     "output_type": "stream",
     "text": [
      "New matrix shape: (914, 914)\n"
     ]
    },
    {
     "name": "stderr",
     "output_type": "stream",
     "text": [
      "/var/folders/2h/45bqs84942sfxfwfndsxtgs40000gn/T/ipykernel_12494/2066196414.py:35: PerformanceWarning: DataFrame is highly fragmented.  This is usually the result of calling `frame.insert` many times, which has poor performance.  Consider joining all columns at once using pd.concat(axis=1) instead. To get a de-fragmented frame, use `newframe = frame.copy()`\n",
      "  filtered_open_target_df[col + '_temp'] = cols_to_mean.max(axis=1)\n"
     ]
    },
    {
     "name": "stdout",
     "output_type": "stream",
     "text": [
      "New matrix shape: (913, 913)\n"
     ]
    },
    {
     "name": "stderr",
     "output_type": "stream",
     "text": [
      "/var/folders/2h/45bqs84942sfxfwfndsxtgs40000gn/T/ipykernel_12494/2066196414.py:35: PerformanceWarning: DataFrame is highly fragmented.  This is usually the result of calling `frame.insert` many times, which has poor performance.  Consider joining all columns at once using pd.concat(axis=1) instead. To get a de-fragmented frame, use `newframe = frame.copy()`\n",
      "  filtered_open_target_df[col + '_temp'] = cols_to_mean.max(axis=1)\n"
     ]
    },
    {
     "name": "stdout",
     "output_type": "stream",
     "text": [
      "New matrix shape: (912, 912)\n"
     ]
    },
    {
     "name": "stderr",
     "output_type": "stream",
     "text": [
      "/var/folders/2h/45bqs84942sfxfwfndsxtgs40000gn/T/ipykernel_12494/2066196414.py:35: PerformanceWarning: DataFrame is highly fragmented.  This is usually the result of calling `frame.insert` many times, which has poor performance.  Consider joining all columns at once using pd.concat(axis=1) instead. To get a de-fragmented frame, use `newframe = frame.copy()`\n",
      "  filtered_open_target_df[col + '_temp'] = cols_to_mean.max(axis=1)\n"
     ]
    },
    {
     "name": "stdout",
     "output_type": "stream",
     "text": [
      "New matrix shape: (911, 911)\n"
     ]
    },
    {
     "name": "stderr",
     "output_type": "stream",
     "text": [
      "/var/folders/2h/45bqs84942sfxfwfndsxtgs40000gn/T/ipykernel_12494/2066196414.py:35: PerformanceWarning: DataFrame is highly fragmented.  This is usually the result of calling `frame.insert` many times, which has poor performance.  Consider joining all columns at once using pd.concat(axis=1) instead. To get a de-fragmented frame, use `newframe = frame.copy()`\n",
      "  filtered_open_target_df[col + '_temp'] = cols_to_mean.max(axis=1)\n"
     ]
    },
    {
     "name": "stdout",
     "output_type": "stream",
     "text": [
      "New matrix shape: (910, 910)\n"
     ]
    },
    {
     "name": "stderr",
     "output_type": "stream",
     "text": [
      "/var/folders/2h/45bqs84942sfxfwfndsxtgs40000gn/T/ipykernel_12494/2066196414.py:35: PerformanceWarning: DataFrame is highly fragmented.  This is usually the result of calling `frame.insert` many times, which has poor performance.  Consider joining all columns at once using pd.concat(axis=1) instead. To get a de-fragmented frame, use `newframe = frame.copy()`\n",
      "  filtered_open_target_df[col + '_temp'] = cols_to_mean.max(axis=1)\n"
     ]
    },
    {
     "name": "stdout",
     "output_type": "stream",
     "text": [
      "New matrix shape: (909, 909)\n"
     ]
    },
    {
     "name": "stderr",
     "output_type": "stream",
     "text": [
      "/var/folders/2h/45bqs84942sfxfwfndsxtgs40000gn/T/ipykernel_12494/2066196414.py:35: PerformanceWarning: DataFrame is highly fragmented.  This is usually the result of calling `frame.insert` many times, which has poor performance.  Consider joining all columns at once using pd.concat(axis=1) instead. To get a de-fragmented frame, use `newframe = frame.copy()`\n",
      "  filtered_open_target_df[col + '_temp'] = cols_to_mean.max(axis=1)\n"
     ]
    },
    {
     "name": "stdout",
     "output_type": "stream",
     "text": [
      "New matrix shape: (905, 905)\n"
     ]
    },
    {
     "name": "stderr",
     "output_type": "stream",
     "text": [
      "/var/folders/2h/45bqs84942sfxfwfndsxtgs40000gn/T/ipykernel_12494/2066196414.py:35: PerformanceWarning: DataFrame is highly fragmented.  This is usually the result of calling `frame.insert` many times, which has poor performance.  Consider joining all columns at once using pd.concat(axis=1) instead. To get a de-fragmented frame, use `newframe = frame.copy()`\n",
      "  filtered_open_target_df[col + '_temp'] = cols_to_mean.max(axis=1)\n"
     ]
    },
    {
     "name": "stdout",
     "output_type": "stream",
     "text": [
      "New matrix shape: (904, 904)\n"
     ]
    },
    {
     "name": "stderr",
     "output_type": "stream",
     "text": [
      "/var/folders/2h/45bqs84942sfxfwfndsxtgs40000gn/T/ipykernel_12494/2066196414.py:35: PerformanceWarning: DataFrame is highly fragmented.  This is usually the result of calling `frame.insert` many times, which has poor performance.  Consider joining all columns at once using pd.concat(axis=1) instead. To get a de-fragmented frame, use `newframe = frame.copy()`\n",
      "  filtered_open_target_df[col + '_temp'] = cols_to_mean.max(axis=1)\n"
     ]
    },
    {
     "name": "stdout",
     "output_type": "stream",
     "text": [
      "New matrix shape: (901, 901)\n"
     ]
    },
    {
     "name": "stderr",
     "output_type": "stream",
     "text": [
      "/var/folders/2h/45bqs84942sfxfwfndsxtgs40000gn/T/ipykernel_12494/2066196414.py:35: PerformanceWarning: DataFrame is highly fragmented.  This is usually the result of calling `frame.insert` many times, which has poor performance.  Consider joining all columns at once using pd.concat(axis=1) instead. To get a de-fragmented frame, use `newframe = frame.copy()`\n",
      "  filtered_open_target_df[col + '_temp'] = cols_to_mean.max(axis=1)\n"
     ]
    },
    {
     "name": "stdout",
     "output_type": "stream",
     "text": [
      "New matrix shape: (900, 900)\n"
     ]
    },
    {
     "name": "stderr",
     "output_type": "stream",
     "text": [
      "/var/folders/2h/45bqs84942sfxfwfndsxtgs40000gn/T/ipykernel_12494/2066196414.py:35: PerformanceWarning: DataFrame is highly fragmented.  This is usually the result of calling `frame.insert` many times, which has poor performance.  Consider joining all columns at once using pd.concat(axis=1) instead. To get a de-fragmented frame, use `newframe = frame.copy()`\n",
      "  filtered_open_target_df[col + '_temp'] = cols_to_mean.max(axis=1)\n"
     ]
    },
    {
     "name": "stdout",
     "output_type": "stream",
     "text": [
      "New matrix shape: (897, 897)\n"
     ]
    },
    {
     "name": "stderr",
     "output_type": "stream",
     "text": [
      "/var/folders/2h/45bqs84942sfxfwfndsxtgs40000gn/T/ipykernel_12494/2066196414.py:35: PerformanceWarning: DataFrame is highly fragmented.  This is usually the result of calling `frame.insert` many times, which has poor performance.  Consider joining all columns at once using pd.concat(axis=1) instead. To get a de-fragmented frame, use `newframe = frame.copy()`\n",
      "  filtered_open_target_df[col + '_temp'] = cols_to_mean.max(axis=1)\n"
     ]
    },
    {
     "name": "stdout",
     "output_type": "stream",
     "text": [
      "New matrix shape: (896, 896)\n"
     ]
    },
    {
     "name": "stderr",
     "output_type": "stream",
     "text": [
      "/var/folders/2h/45bqs84942sfxfwfndsxtgs40000gn/T/ipykernel_12494/2066196414.py:35: PerformanceWarning: DataFrame is highly fragmented.  This is usually the result of calling `frame.insert` many times, which has poor performance.  Consider joining all columns at once using pd.concat(axis=1) instead. To get a de-fragmented frame, use `newframe = frame.copy()`\n",
      "  filtered_open_target_df[col + '_temp'] = cols_to_mean.max(axis=1)\n"
     ]
    },
    {
     "name": "stdout",
     "output_type": "stream",
     "text": [
      "New matrix shape: (891, 891)\n"
     ]
    },
    {
     "name": "stderr",
     "output_type": "stream",
     "text": [
      "/var/folders/2h/45bqs84942sfxfwfndsxtgs40000gn/T/ipykernel_12494/2066196414.py:35: PerformanceWarning: DataFrame is highly fragmented.  This is usually the result of calling `frame.insert` many times, which has poor performance.  Consider joining all columns at once using pd.concat(axis=1) instead. To get a de-fragmented frame, use `newframe = frame.copy()`\n",
      "  filtered_open_target_df[col + '_temp'] = cols_to_mean.max(axis=1)\n"
     ]
    },
    {
     "name": "stdout",
     "output_type": "stream",
     "text": [
      "New matrix shape: (889, 889)\n"
     ]
    },
    {
     "name": "stderr",
     "output_type": "stream",
     "text": [
      "/var/folders/2h/45bqs84942sfxfwfndsxtgs40000gn/T/ipykernel_12494/2066196414.py:35: PerformanceWarning: DataFrame is highly fragmented.  This is usually the result of calling `frame.insert` many times, which has poor performance.  Consider joining all columns at once using pd.concat(axis=1) instead. To get a de-fragmented frame, use `newframe = frame.copy()`\n",
      "  filtered_open_target_df[col + '_temp'] = cols_to_mean.max(axis=1)\n"
     ]
    },
    {
     "name": "stdout",
     "output_type": "stream",
     "text": [
      "New matrix shape: (888, 888)\n"
     ]
    },
    {
     "name": "stderr",
     "output_type": "stream",
     "text": [
      "/var/folders/2h/45bqs84942sfxfwfndsxtgs40000gn/T/ipykernel_12494/2066196414.py:35: PerformanceWarning: DataFrame is highly fragmented.  This is usually the result of calling `frame.insert` many times, which has poor performance.  Consider joining all columns at once using pd.concat(axis=1) instead. To get a de-fragmented frame, use `newframe = frame.copy()`\n",
      "  filtered_open_target_df[col + '_temp'] = cols_to_mean.max(axis=1)\n"
     ]
    },
    {
     "name": "stdout",
     "output_type": "stream",
     "text": [
      "New matrix shape: (887, 887)\n"
     ]
    },
    {
     "name": "stderr",
     "output_type": "stream",
     "text": [
      "/var/folders/2h/45bqs84942sfxfwfndsxtgs40000gn/T/ipykernel_12494/2066196414.py:35: PerformanceWarning: DataFrame is highly fragmented.  This is usually the result of calling `frame.insert` many times, which has poor performance.  Consider joining all columns at once using pd.concat(axis=1) instead. To get a de-fragmented frame, use `newframe = frame.copy()`\n",
      "  filtered_open_target_df[col + '_temp'] = cols_to_mean.max(axis=1)\n"
     ]
    },
    {
     "name": "stdout",
     "output_type": "stream",
     "text": [
      "New matrix shape: (885, 885)\n"
     ]
    },
    {
     "name": "stderr",
     "output_type": "stream",
     "text": [
      "/var/folders/2h/45bqs84942sfxfwfndsxtgs40000gn/T/ipykernel_12494/2066196414.py:35: PerformanceWarning: DataFrame is highly fragmented.  This is usually the result of calling `frame.insert` many times, which has poor performance.  Consider joining all columns at once using pd.concat(axis=1) instead. To get a de-fragmented frame, use `newframe = frame.copy()`\n",
      "  filtered_open_target_df[col + '_temp'] = cols_to_mean.max(axis=1)\n"
     ]
    },
    {
     "name": "stdout",
     "output_type": "stream",
     "text": [
      "New matrix shape: (883, 883)\n"
     ]
    },
    {
     "name": "stderr",
     "output_type": "stream",
     "text": [
      "/var/folders/2h/45bqs84942sfxfwfndsxtgs40000gn/T/ipykernel_12494/2066196414.py:35: PerformanceWarning: DataFrame is highly fragmented.  This is usually the result of calling `frame.insert` many times, which has poor performance.  Consider joining all columns at once using pd.concat(axis=1) instead. To get a de-fragmented frame, use `newframe = frame.copy()`\n",
      "  filtered_open_target_df[col + '_temp'] = cols_to_mean.max(axis=1)\n"
     ]
    },
    {
     "name": "stdout",
     "output_type": "stream",
     "text": [
      "New matrix shape: (880, 880)\n"
     ]
    },
    {
     "name": "stderr",
     "output_type": "stream",
     "text": [
      "/var/folders/2h/45bqs84942sfxfwfndsxtgs40000gn/T/ipykernel_12494/2066196414.py:35: PerformanceWarning: DataFrame is highly fragmented.  This is usually the result of calling `frame.insert` many times, which has poor performance.  Consider joining all columns at once using pd.concat(axis=1) instead. To get a de-fragmented frame, use `newframe = frame.copy()`\n",
      "  filtered_open_target_df[col + '_temp'] = cols_to_mean.max(axis=1)\n"
     ]
    },
    {
     "name": "stdout",
     "output_type": "stream",
     "text": [
      "New matrix shape: (876, 876)\n"
     ]
    },
    {
     "name": "stderr",
     "output_type": "stream",
     "text": [
      "/var/folders/2h/45bqs84942sfxfwfndsxtgs40000gn/T/ipykernel_12494/2066196414.py:35: PerformanceWarning: DataFrame is highly fragmented.  This is usually the result of calling `frame.insert` many times, which has poor performance.  Consider joining all columns at once using pd.concat(axis=1) instead. To get a de-fragmented frame, use `newframe = frame.copy()`\n",
      "  filtered_open_target_df[col + '_temp'] = cols_to_mean.max(axis=1)\n"
     ]
    },
    {
     "name": "stdout",
     "output_type": "stream",
     "text": [
      "New matrix shape: (875, 875)\n"
     ]
    },
    {
     "name": "stderr",
     "output_type": "stream",
     "text": [
      "/var/folders/2h/45bqs84942sfxfwfndsxtgs40000gn/T/ipykernel_12494/2066196414.py:35: PerformanceWarning: DataFrame is highly fragmented.  This is usually the result of calling `frame.insert` many times, which has poor performance.  Consider joining all columns at once using pd.concat(axis=1) instead. To get a de-fragmented frame, use `newframe = frame.copy()`\n",
      "  filtered_open_target_df[col + '_temp'] = cols_to_mean.max(axis=1)\n"
     ]
    },
    {
     "name": "stdout",
     "output_type": "stream",
     "text": [
      "New matrix shape: (874, 874)\n"
     ]
    },
    {
     "name": "stderr",
     "output_type": "stream",
     "text": [
      "/var/folders/2h/45bqs84942sfxfwfndsxtgs40000gn/T/ipykernel_12494/2066196414.py:35: PerformanceWarning: DataFrame is highly fragmented.  This is usually the result of calling `frame.insert` many times, which has poor performance.  Consider joining all columns at once using pd.concat(axis=1) instead. To get a de-fragmented frame, use `newframe = frame.copy()`\n",
      "  filtered_open_target_df[col + '_temp'] = cols_to_mean.max(axis=1)\n"
     ]
    },
    {
     "name": "stdout",
     "output_type": "stream",
     "text": [
      "New matrix shape: (873, 873)\n"
     ]
    },
    {
     "name": "stderr",
     "output_type": "stream",
     "text": [
      "/var/folders/2h/45bqs84942sfxfwfndsxtgs40000gn/T/ipykernel_12494/2066196414.py:35: PerformanceWarning: DataFrame is highly fragmented.  This is usually the result of calling `frame.insert` many times, which has poor performance.  Consider joining all columns at once using pd.concat(axis=1) instead. To get a de-fragmented frame, use `newframe = frame.copy()`\n",
      "  filtered_open_target_df[col + '_temp'] = cols_to_mean.max(axis=1)\n"
     ]
    },
    {
     "name": "stdout",
     "output_type": "stream",
     "text": [
      "New matrix shape: (872, 872)\n"
     ]
    },
    {
     "name": "stderr",
     "output_type": "stream",
     "text": [
      "/var/folders/2h/45bqs84942sfxfwfndsxtgs40000gn/T/ipykernel_12494/2066196414.py:35: PerformanceWarning: DataFrame is highly fragmented.  This is usually the result of calling `frame.insert` many times, which has poor performance.  Consider joining all columns at once using pd.concat(axis=1) instead. To get a de-fragmented frame, use `newframe = frame.copy()`\n",
      "  filtered_open_target_df[col + '_temp'] = cols_to_mean.max(axis=1)\n"
     ]
    },
    {
     "name": "stdout",
     "output_type": "stream",
     "text": [
      "New matrix shape: (871, 871)\n"
     ]
    },
    {
     "name": "stderr",
     "output_type": "stream",
     "text": [
      "/var/folders/2h/45bqs84942sfxfwfndsxtgs40000gn/T/ipykernel_12494/2066196414.py:35: PerformanceWarning: DataFrame is highly fragmented.  This is usually the result of calling `frame.insert` many times, which has poor performance.  Consider joining all columns at once using pd.concat(axis=1) instead. To get a de-fragmented frame, use `newframe = frame.copy()`\n",
      "  filtered_open_target_df[col + '_temp'] = cols_to_mean.max(axis=1)\n"
     ]
    },
    {
     "name": "stdout",
     "output_type": "stream",
     "text": [
      "New matrix shape: (869, 869)\n"
     ]
    },
    {
     "name": "stderr",
     "output_type": "stream",
     "text": [
      "/var/folders/2h/45bqs84942sfxfwfndsxtgs40000gn/T/ipykernel_12494/2066196414.py:35: PerformanceWarning: DataFrame is highly fragmented.  This is usually the result of calling `frame.insert` many times, which has poor performance.  Consider joining all columns at once using pd.concat(axis=1) instead. To get a de-fragmented frame, use `newframe = frame.copy()`\n",
      "  filtered_open_target_df[col + '_temp'] = cols_to_mean.max(axis=1)\n"
     ]
    },
    {
     "name": "stdout",
     "output_type": "stream",
     "text": [
      "New matrix shape: (868, 868)\n"
     ]
    },
    {
     "name": "stderr",
     "output_type": "stream",
     "text": [
      "/var/folders/2h/45bqs84942sfxfwfndsxtgs40000gn/T/ipykernel_12494/2066196414.py:35: PerformanceWarning: DataFrame is highly fragmented.  This is usually the result of calling `frame.insert` many times, which has poor performance.  Consider joining all columns at once using pd.concat(axis=1) instead. To get a de-fragmented frame, use `newframe = frame.copy()`\n",
      "  filtered_open_target_df[col + '_temp'] = cols_to_mean.max(axis=1)\n"
     ]
    },
    {
     "name": "stdout",
     "output_type": "stream",
     "text": [
      "New matrix shape: (866, 866)\n"
     ]
    },
    {
     "name": "stderr",
     "output_type": "stream",
     "text": [
      "/var/folders/2h/45bqs84942sfxfwfndsxtgs40000gn/T/ipykernel_12494/2066196414.py:35: PerformanceWarning: DataFrame is highly fragmented.  This is usually the result of calling `frame.insert` many times, which has poor performance.  Consider joining all columns at once using pd.concat(axis=1) instead. To get a de-fragmented frame, use `newframe = frame.copy()`\n",
      "  filtered_open_target_df[col + '_temp'] = cols_to_mean.max(axis=1)\n"
     ]
    },
    {
     "name": "stdout",
     "output_type": "stream",
     "text": [
      "New matrix shape: (862, 862)\n"
     ]
    },
    {
     "name": "stderr",
     "output_type": "stream",
     "text": [
      "/var/folders/2h/45bqs84942sfxfwfndsxtgs40000gn/T/ipykernel_12494/2066196414.py:35: PerformanceWarning: DataFrame is highly fragmented.  This is usually the result of calling `frame.insert` many times, which has poor performance.  Consider joining all columns at once using pd.concat(axis=1) instead. To get a de-fragmented frame, use `newframe = frame.copy()`\n",
      "  filtered_open_target_df[col + '_temp'] = cols_to_mean.max(axis=1)\n"
     ]
    },
    {
     "name": "stdout",
     "output_type": "stream",
     "text": [
      "New matrix shape: (861, 861)\n"
     ]
    },
    {
     "name": "stderr",
     "output_type": "stream",
     "text": [
      "/var/folders/2h/45bqs84942sfxfwfndsxtgs40000gn/T/ipykernel_12494/2066196414.py:35: PerformanceWarning: DataFrame is highly fragmented.  This is usually the result of calling `frame.insert` many times, which has poor performance.  Consider joining all columns at once using pd.concat(axis=1) instead. To get a de-fragmented frame, use `newframe = frame.copy()`\n",
      "  filtered_open_target_df[col + '_temp'] = cols_to_mean.max(axis=1)\n"
     ]
    },
    {
     "name": "stdout",
     "output_type": "stream",
     "text": [
      "New matrix shape: (860, 860)\n"
     ]
    },
    {
     "name": "stderr",
     "output_type": "stream",
     "text": [
      "/var/folders/2h/45bqs84942sfxfwfndsxtgs40000gn/T/ipykernel_12494/2066196414.py:35: PerformanceWarning: DataFrame is highly fragmented.  This is usually the result of calling `frame.insert` many times, which has poor performance.  Consider joining all columns at once using pd.concat(axis=1) instead. To get a de-fragmented frame, use `newframe = frame.copy()`\n",
      "  filtered_open_target_df[col + '_temp'] = cols_to_mean.max(axis=1)\n"
     ]
    },
    {
     "name": "stdout",
     "output_type": "stream",
     "text": [
      "New matrix shape: (859, 859)\n"
     ]
    },
    {
     "name": "stderr",
     "output_type": "stream",
     "text": [
      "/var/folders/2h/45bqs84942sfxfwfndsxtgs40000gn/T/ipykernel_12494/2066196414.py:35: PerformanceWarning: DataFrame is highly fragmented.  This is usually the result of calling `frame.insert` many times, which has poor performance.  Consider joining all columns at once using pd.concat(axis=1) instead. To get a de-fragmented frame, use `newframe = frame.copy()`\n",
      "  filtered_open_target_df[col + '_temp'] = cols_to_mean.max(axis=1)\n"
     ]
    },
    {
     "name": "stdout",
     "output_type": "stream",
     "text": [
      "New matrix shape: (854, 854)\n"
     ]
    },
    {
     "name": "stderr",
     "output_type": "stream",
     "text": [
      "/var/folders/2h/45bqs84942sfxfwfndsxtgs40000gn/T/ipykernel_12494/2066196414.py:35: PerformanceWarning: DataFrame is highly fragmented.  This is usually the result of calling `frame.insert` many times, which has poor performance.  Consider joining all columns at once using pd.concat(axis=1) instead. To get a de-fragmented frame, use `newframe = frame.copy()`\n",
      "  filtered_open_target_df[col + '_temp'] = cols_to_mean.max(axis=1)\n"
     ]
    },
    {
     "name": "stdout",
     "output_type": "stream",
     "text": [
      "New matrix shape: (851, 851)\n"
     ]
    },
    {
     "name": "stderr",
     "output_type": "stream",
     "text": [
      "/var/folders/2h/45bqs84942sfxfwfndsxtgs40000gn/T/ipykernel_12494/2066196414.py:35: PerformanceWarning: DataFrame is highly fragmented.  This is usually the result of calling `frame.insert` many times, which has poor performance.  Consider joining all columns at once using pd.concat(axis=1) instead. To get a de-fragmented frame, use `newframe = frame.copy()`\n",
      "  filtered_open_target_df[col + '_temp'] = cols_to_mean.max(axis=1)\n"
     ]
    },
    {
     "name": "stdout",
     "output_type": "stream",
     "text": [
      "New matrix shape: (849, 849)\n"
     ]
    },
    {
     "name": "stderr",
     "output_type": "stream",
     "text": [
      "/var/folders/2h/45bqs84942sfxfwfndsxtgs40000gn/T/ipykernel_12494/2066196414.py:35: PerformanceWarning: DataFrame is highly fragmented.  This is usually the result of calling `frame.insert` many times, which has poor performance.  Consider joining all columns at once using pd.concat(axis=1) instead. To get a de-fragmented frame, use `newframe = frame.copy()`\n",
      "  filtered_open_target_df[col + '_temp'] = cols_to_mean.max(axis=1)\n"
     ]
    },
    {
     "name": "stdout",
     "output_type": "stream",
     "text": [
      "New matrix shape: (848, 848)\n"
     ]
    },
    {
     "name": "stderr",
     "output_type": "stream",
     "text": [
      "/var/folders/2h/45bqs84942sfxfwfndsxtgs40000gn/T/ipykernel_12494/2066196414.py:35: PerformanceWarning: DataFrame is highly fragmented.  This is usually the result of calling `frame.insert` many times, which has poor performance.  Consider joining all columns at once using pd.concat(axis=1) instead. To get a de-fragmented frame, use `newframe = frame.copy()`\n",
      "  filtered_open_target_df[col + '_temp'] = cols_to_mean.max(axis=1)\n"
     ]
    },
    {
     "name": "stdout",
     "output_type": "stream",
     "text": [
      "New matrix shape: (847, 847)\n"
     ]
    },
    {
     "name": "stderr",
     "output_type": "stream",
     "text": [
      "/var/folders/2h/45bqs84942sfxfwfndsxtgs40000gn/T/ipykernel_12494/2066196414.py:35: PerformanceWarning: DataFrame is highly fragmented.  This is usually the result of calling `frame.insert` many times, which has poor performance.  Consider joining all columns at once using pd.concat(axis=1) instead. To get a de-fragmented frame, use `newframe = frame.copy()`\n",
      "  filtered_open_target_df[col + '_temp'] = cols_to_mean.max(axis=1)\n"
     ]
    },
    {
     "name": "stdout",
     "output_type": "stream",
     "text": [
      "New matrix shape: (846, 846)\n"
     ]
    },
    {
     "name": "stderr",
     "output_type": "stream",
     "text": [
      "/var/folders/2h/45bqs84942sfxfwfndsxtgs40000gn/T/ipykernel_12494/2066196414.py:35: PerformanceWarning: DataFrame is highly fragmented.  This is usually the result of calling `frame.insert` many times, which has poor performance.  Consider joining all columns at once using pd.concat(axis=1) instead. To get a de-fragmented frame, use `newframe = frame.copy()`\n",
      "  filtered_open_target_df[col + '_temp'] = cols_to_mean.max(axis=1)\n"
     ]
    },
    {
     "name": "stdout",
     "output_type": "stream",
     "text": [
      "New matrix shape: (844, 844)\n"
     ]
    },
    {
     "name": "stderr",
     "output_type": "stream",
     "text": [
      "/var/folders/2h/45bqs84942sfxfwfndsxtgs40000gn/T/ipykernel_12494/2066196414.py:35: PerformanceWarning: DataFrame is highly fragmented.  This is usually the result of calling `frame.insert` many times, which has poor performance.  Consider joining all columns at once using pd.concat(axis=1) instead. To get a de-fragmented frame, use `newframe = frame.copy()`\n",
      "  filtered_open_target_df[col + '_temp'] = cols_to_mean.max(axis=1)\n"
     ]
    },
    {
     "name": "stdout",
     "output_type": "stream",
     "text": [
      "New matrix shape: (841, 841)\n"
     ]
    },
    {
     "name": "stderr",
     "output_type": "stream",
     "text": [
      "/var/folders/2h/45bqs84942sfxfwfndsxtgs40000gn/T/ipykernel_12494/2066196414.py:35: PerformanceWarning: DataFrame is highly fragmented.  This is usually the result of calling `frame.insert` many times, which has poor performance.  Consider joining all columns at once using pd.concat(axis=1) instead. To get a de-fragmented frame, use `newframe = frame.copy()`\n",
      "  filtered_open_target_df[col + '_temp'] = cols_to_mean.max(axis=1)\n"
     ]
    },
    {
     "name": "stdout",
     "output_type": "stream",
     "text": [
      "New matrix shape: (840, 840)\n"
     ]
    },
    {
     "name": "stderr",
     "output_type": "stream",
     "text": [
      "/var/folders/2h/45bqs84942sfxfwfndsxtgs40000gn/T/ipykernel_12494/2066196414.py:35: PerformanceWarning: DataFrame is highly fragmented.  This is usually the result of calling `frame.insert` many times, which has poor performance.  Consider joining all columns at once using pd.concat(axis=1) instead. To get a de-fragmented frame, use `newframe = frame.copy()`\n",
      "  filtered_open_target_df[col + '_temp'] = cols_to_mean.max(axis=1)\n"
     ]
    },
    {
     "name": "stdout",
     "output_type": "stream",
     "text": [
      "New matrix shape: (839, 839)\n"
     ]
    },
    {
     "name": "stderr",
     "output_type": "stream",
     "text": [
      "/var/folders/2h/45bqs84942sfxfwfndsxtgs40000gn/T/ipykernel_12494/2066196414.py:35: PerformanceWarning: DataFrame is highly fragmented.  This is usually the result of calling `frame.insert` many times, which has poor performance.  Consider joining all columns at once using pd.concat(axis=1) instead. To get a de-fragmented frame, use `newframe = frame.copy()`\n",
      "  filtered_open_target_df[col + '_temp'] = cols_to_mean.max(axis=1)\n"
     ]
    },
    {
     "name": "stdout",
     "output_type": "stream",
     "text": [
      "New matrix shape: (838, 838)\n"
     ]
    },
    {
     "name": "stderr",
     "output_type": "stream",
     "text": [
      "/var/folders/2h/45bqs84942sfxfwfndsxtgs40000gn/T/ipykernel_12494/2066196414.py:35: PerformanceWarning: DataFrame is highly fragmented.  This is usually the result of calling `frame.insert` many times, which has poor performance.  Consider joining all columns at once using pd.concat(axis=1) instead. To get a de-fragmented frame, use `newframe = frame.copy()`\n",
      "  filtered_open_target_df[col + '_temp'] = cols_to_mean.max(axis=1)\n"
     ]
    },
    {
     "name": "stdout",
     "output_type": "stream",
     "text": [
      "New matrix shape: (837, 837)\n"
     ]
    },
    {
     "name": "stderr",
     "output_type": "stream",
     "text": [
      "/var/folders/2h/45bqs84942sfxfwfndsxtgs40000gn/T/ipykernel_12494/2066196414.py:35: PerformanceWarning: DataFrame is highly fragmented.  This is usually the result of calling `frame.insert` many times, which has poor performance.  Consider joining all columns at once using pd.concat(axis=1) instead. To get a de-fragmented frame, use `newframe = frame.copy()`\n",
      "  filtered_open_target_df[col + '_temp'] = cols_to_mean.max(axis=1)\n"
     ]
    },
    {
     "name": "stdout",
     "output_type": "stream",
     "text": [
      "New matrix shape: (836, 836)\n"
     ]
    },
    {
     "name": "stderr",
     "output_type": "stream",
     "text": [
      "/var/folders/2h/45bqs84942sfxfwfndsxtgs40000gn/T/ipykernel_12494/2066196414.py:35: PerformanceWarning: DataFrame is highly fragmented.  This is usually the result of calling `frame.insert` many times, which has poor performance.  Consider joining all columns at once using pd.concat(axis=1) instead. To get a de-fragmented frame, use `newframe = frame.copy()`\n",
      "  filtered_open_target_df[col + '_temp'] = cols_to_mean.max(axis=1)\n"
     ]
    },
    {
     "name": "stdout",
     "output_type": "stream",
     "text": [
      "New matrix shape: (834, 834)\n"
     ]
    },
    {
     "name": "stderr",
     "output_type": "stream",
     "text": [
      "/var/folders/2h/45bqs84942sfxfwfndsxtgs40000gn/T/ipykernel_12494/2066196414.py:35: PerformanceWarning: DataFrame is highly fragmented.  This is usually the result of calling `frame.insert` many times, which has poor performance.  Consider joining all columns at once using pd.concat(axis=1) instead. To get a de-fragmented frame, use `newframe = frame.copy()`\n",
      "  filtered_open_target_df[col + '_temp'] = cols_to_mean.max(axis=1)\n"
     ]
    },
    {
     "name": "stdout",
     "output_type": "stream",
     "text": [
      "New matrix shape: (833, 833)\n"
     ]
    },
    {
     "name": "stderr",
     "output_type": "stream",
     "text": [
      "/var/folders/2h/45bqs84942sfxfwfndsxtgs40000gn/T/ipykernel_12494/2066196414.py:35: PerformanceWarning: DataFrame is highly fragmented.  This is usually the result of calling `frame.insert` many times, which has poor performance.  Consider joining all columns at once using pd.concat(axis=1) instead. To get a de-fragmented frame, use `newframe = frame.copy()`\n",
      "  filtered_open_target_df[col + '_temp'] = cols_to_mean.max(axis=1)\n"
     ]
    },
    {
     "name": "stdout",
     "output_type": "stream",
     "text": [
      "New matrix shape: (832, 832)\n"
     ]
    },
    {
     "name": "stderr",
     "output_type": "stream",
     "text": [
      "/var/folders/2h/45bqs84942sfxfwfndsxtgs40000gn/T/ipykernel_12494/2066196414.py:35: PerformanceWarning: DataFrame is highly fragmented.  This is usually the result of calling `frame.insert` many times, which has poor performance.  Consider joining all columns at once using pd.concat(axis=1) instead. To get a de-fragmented frame, use `newframe = frame.copy()`\n",
      "  filtered_open_target_df[col + '_temp'] = cols_to_mean.max(axis=1)\n"
     ]
    },
    {
     "name": "stdout",
     "output_type": "stream",
     "text": [
      "New matrix shape: (831, 831)\n"
     ]
    },
    {
     "name": "stderr",
     "output_type": "stream",
     "text": [
      "/var/folders/2h/45bqs84942sfxfwfndsxtgs40000gn/T/ipykernel_12494/2066196414.py:35: PerformanceWarning: DataFrame is highly fragmented.  This is usually the result of calling `frame.insert` many times, which has poor performance.  Consider joining all columns at once using pd.concat(axis=1) instead. To get a de-fragmented frame, use `newframe = frame.copy()`\n",
      "  filtered_open_target_df[col + '_temp'] = cols_to_mean.max(axis=1)\n"
     ]
    },
    {
     "name": "stdout",
     "output_type": "stream",
     "text": [
      "New matrix shape: (828, 828)\n"
     ]
    },
    {
     "name": "stderr",
     "output_type": "stream",
     "text": [
      "/var/folders/2h/45bqs84942sfxfwfndsxtgs40000gn/T/ipykernel_12494/2066196414.py:35: PerformanceWarning: DataFrame is highly fragmented.  This is usually the result of calling `frame.insert` many times, which has poor performance.  Consider joining all columns at once using pd.concat(axis=1) instead. To get a de-fragmented frame, use `newframe = frame.copy()`\n",
      "  filtered_open_target_df[col + '_temp'] = cols_to_mean.max(axis=1)\n"
     ]
    },
    {
     "name": "stdout",
     "output_type": "stream",
     "text": [
      "New matrix shape: (827, 827)\n"
     ]
    },
    {
     "name": "stderr",
     "output_type": "stream",
     "text": [
      "/var/folders/2h/45bqs84942sfxfwfndsxtgs40000gn/T/ipykernel_12494/2066196414.py:35: PerformanceWarning: DataFrame is highly fragmented.  This is usually the result of calling `frame.insert` many times, which has poor performance.  Consider joining all columns at once using pd.concat(axis=1) instead. To get a de-fragmented frame, use `newframe = frame.copy()`\n",
      "  filtered_open_target_df[col + '_temp'] = cols_to_mean.max(axis=1)\n"
     ]
    },
    {
     "name": "stdout",
     "output_type": "stream",
     "text": [
      "New matrix shape: (823, 823)\n"
     ]
    },
    {
     "name": "stderr",
     "output_type": "stream",
     "text": [
      "/var/folders/2h/45bqs84942sfxfwfndsxtgs40000gn/T/ipykernel_12494/2066196414.py:35: PerformanceWarning: DataFrame is highly fragmented.  This is usually the result of calling `frame.insert` many times, which has poor performance.  Consider joining all columns at once using pd.concat(axis=1) instead. To get a de-fragmented frame, use `newframe = frame.copy()`\n",
      "  filtered_open_target_df[col + '_temp'] = cols_to_mean.max(axis=1)\n"
     ]
    },
    {
     "name": "stdout",
     "output_type": "stream",
     "text": [
      "New matrix shape: (822, 822)\n"
     ]
    },
    {
     "name": "stderr",
     "output_type": "stream",
     "text": [
      "/var/folders/2h/45bqs84942sfxfwfndsxtgs40000gn/T/ipykernel_12494/2066196414.py:35: PerformanceWarning: DataFrame is highly fragmented.  This is usually the result of calling `frame.insert` many times, which has poor performance.  Consider joining all columns at once using pd.concat(axis=1) instead. To get a de-fragmented frame, use `newframe = frame.copy()`\n",
      "  filtered_open_target_df[col + '_temp'] = cols_to_mean.max(axis=1)\n"
     ]
    },
    {
     "name": "stdout",
     "output_type": "stream",
     "text": [
      "New matrix shape: (820, 820)\n"
     ]
    },
    {
     "name": "stderr",
     "output_type": "stream",
     "text": [
      "/var/folders/2h/45bqs84942sfxfwfndsxtgs40000gn/T/ipykernel_12494/2066196414.py:35: PerformanceWarning: DataFrame is highly fragmented.  This is usually the result of calling `frame.insert` many times, which has poor performance.  Consider joining all columns at once using pd.concat(axis=1) instead. To get a de-fragmented frame, use `newframe = frame.copy()`\n",
      "  filtered_open_target_df[col + '_temp'] = cols_to_mean.max(axis=1)\n"
     ]
    },
    {
     "name": "stdout",
     "output_type": "stream",
     "text": [
      "New matrix shape: (817, 817)\n"
     ]
    },
    {
     "name": "stderr",
     "output_type": "stream",
     "text": [
      "/var/folders/2h/45bqs84942sfxfwfndsxtgs40000gn/T/ipykernel_12494/2066196414.py:35: PerformanceWarning: DataFrame is highly fragmented.  This is usually the result of calling `frame.insert` many times, which has poor performance.  Consider joining all columns at once using pd.concat(axis=1) instead. To get a de-fragmented frame, use `newframe = frame.copy()`\n",
      "  filtered_open_target_df[col + '_temp'] = cols_to_mean.max(axis=1)\n"
     ]
    },
    {
     "name": "stdout",
     "output_type": "stream",
     "text": [
      "New matrix shape: (816, 816)\n"
     ]
    },
    {
     "name": "stderr",
     "output_type": "stream",
     "text": [
      "/var/folders/2h/45bqs84942sfxfwfndsxtgs40000gn/T/ipykernel_12494/2066196414.py:35: PerformanceWarning: DataFrame is highly fragmented.  This is usually the result of calling `frame.insert` many times, which has poor performance.  Consider joining all columns at once using pd.concat(axis=1) instead. To get a de-fragmented frame, use `newframe = frame.copy()`\n",
      "  filtered_open_target_df[col + '_temp'] = cols_to_mean.max(axis=1)\n"
     ]
    },
    {
     "name": "stdout",
     "output_type": "stream",
     "text": [
      "New matrix shape: (815, 815)\n"
     ]
    },
    {
     "name": "stderr",
     "output_type": "stream",
     "text": [
      "/var/folders/2h/45bqs84942sfxfwfndsxtgs40000gn/T/ipykernel_12494/2066196414.py:35: PerformanceWarning: DataFrame is highly fragmented.  This is usually the result of calling `frame.insert` many times, which has poor performance.  Consider joining all columns at once using pd.concat(axis=1) instead. To get a de-fragmented frame, use `newframe = frame.copy()`\n",
      "  filtered_open_target_df[col + '_temp'] = cols_to_mean.max(axis=1)\n"
     ]
    },
    {
     "name": "stdout",
     "output_type": "stream",
     "text": [
      "New matrix shape: (814, 814)\n"
     ]
    },
    {
     "name": "stderr",
     "output_type": "stream",
     "text": [
      "/var/folders/2h/45bqs84942sfxfwfndsxtgs40000gn/T/ipykernel_12494/2066196414.py:35: PerformanceWarning: DataFrame is highly fragmented.  This is usually the result of calling `frame.insert` many times, which has poor performance.  Consider joining all columns at once using pd.concat(axis=1) instead. To get a de-fragmented frame, use `newframe = frame.copy()`\n",
      "  filtered_open_target_df[col + '_temp'] = cols_to_mean.max(axis=1)\n"
     ]
    },
    {
     "name": "stdout",
     "output_type": "stream",
     "text": [
      "New matrix shape: (812, 812)\n"
     ]
    },
    {
     "name": "stderr",
     "output_type": "stream",
     "text": [
      "/var/folders/2h/45bqs84942sfxfwfndsxtgs40000gn/T/ipykernel_12494/2066196414.py:35: PerformanceWarning: DataFrame is highly fragmented.  This is usually the result of calling `frame.insert` many times, which has poor performance.  Consider joining all columns at once using pd.concat(axis=1) instead. To get a de-fragmented frame, use `newframe = frame.copy()`\n",
      "  filtered_open_target_df[col + '_temp'] = cols_to_mean.max(axis=1)\n"
     ]
    },
    {
     "name": "stdout",
     "output_type": "stream",
     "text": [
      "New matrix shape: (811, 811)\n"
     ]
    },
    {
     "name": "stderr",
     "output_type": "stream",
     "text": [
      "/var/folders/2h/45bqs84942sfxfwfndsxtgs40000gn/T/ipykernel_12494/2066196414.py:35: PerformanceWarning: DataFrame is highly fragmented.  This is usually the result of calling `frame.insert` many times, which has poor performance.  Consider joining all columns at once using pd.concat(axis=1) instead. To get a de-fragmented frame, use `newframe = frame.copy()`\n",
      "  filtered_open_target_df[col + '_temp'] = cols_to_mean.max(axis=1)\n"
     ]
    },
    {
     "name": "stdout",
     "output_type": "stream",
     "text": [
      "New matrix shape: (810, 810)\n"
     ]
    },
    {
     "name": "stderr",
     "output_type": "stream",
     "text": [
      "/var/folders/2h/45bqs84942sfxfwfndsxtgs40000gn/T/ipykernel_12494/2066196414.py:35: PerformanceWarning: DataFrame is highly fragmented.  This is usually the result of calling `frame.insert` many times, which has poor performance.  Consider joining all columns at once using pd.concat(axis=1) instead. To get a de-fragmented frame, use `newframe = frame.copy()`\n",
      "  filtered_open_target_df[col + '_temp'] = cols_to_mean.max(axis=1)\n"
     ]
    },
    {
     "name": "stdout",
     "output_type": "stream",
     "text": [
      "New matrix shape: (809, 809)\n"
     ]
    },
    {
     "name": "stderr",
     "output_type": "stream",
     "text": [
      "/var/folders/2h/45bqs84942sfxfwfndsxtgs40000gn/T/ipykernel_12494/2066196414.py:35: PerformanceWarning: DataFrame is highly fragmented.  This is usually the result of calling `frame.insert` many times, which has poor performance.  Consider joining all columns at once using pd.concat(axis=1) instead. To get a de-fragmented frame, use `newframe = frame.copy()`\n",
      "  filtered_open_target_df[col + '_temp'] = cols_to_mean.max(axis=1)\n"
     ]
    },
    {
     "name": "stdout",
     "output_type": "stream",
     "text": [
      "New matrix shape: (808, 808)\n"
     ]
    },
    {
     "name": "stderr",
     "output_type": "stream",
     "text": [
      "/var/folders/2h/45bqs84942sfxfwfndsxtgs40000gn/T/ipykernel_12494/2066196414.py:35: PerformanceWarning: DataFrame is highly fragmented.  This is usually the result of calling `frame.insert` many times, which has poor performance.  Consider joining all columns at once using pd.concat(axis=1) instead. To get a de-fragmented frame, use `newframe = frame.copy()`\n",
      "  filtered_open_target_df[col + '_temp'] = cols_to_mean.max(axis=1)\n"
     ]
    },
    {
     "name": "stdout",
     "output_type": "stream",
     "text": [
      "New matrix shape: (806, 806)\n"
     ]
    },
    {
     "name": "stderr",
     "output_type": "stream",
     "text": [
      "/var/folders/2h/45bqs84942sfxfwfndsxtgs40000gn/T/ipykernel_12494/2066196414.py:35: PerformanceWarning: DataFrame is highly fragmented.  This is usually the result of calling `frame.insert` many times, which has poor performance.  Consider joining all columns at once using pd.concat(axis=1) instead. To get a de-fragmented frame, use `newframe = frame.copy()`\n",
      "  filtered_open_target_df[col + '_temp'] = cols_to_mean.max(axis=1)\n"
     ]
    },
    {
     "name": "stdout",
     "output_type": "stream",
     "text": [
      "New matrix shape: (805, 805)\n"
     ]
    },
    {
     "name": "stderr",
     "output_type": "stream",
     "text": [
      "/var/folders/2h/45bqs84942sfxfwfndsxtgs40000gn/T/ipykernel_12494/2066196414.py:35: PerformanceWarning: DataFrame is highly fragmented.  This is usually the result of calling `frame.insert` many times, which has poor performance.  Consider joining all columns at once using pd.concat(axis=1) instead. To get a de-fragmented frame, use `newframe = frame.copy()`\n",
      "  filtered_open_target_df[col + '_temp'] = cols_to_mean.max(axis=1)\n"
     ]
    },
    {
     "name": "stdout",
     "output_type": "stream",
     "text": [
      "New matrix shape: (803, 803)\n"
     ]
    },
    {
     "name": "stderr",
     "output_type": "stream",
     "text": [
      "/var/folders/2h/45bqs84942sfxfwfndsxtgs40000gn/T/ipykernel_12494/2066196414.py:35: PerformanceWarning: DataFrame is highly fragmented.  This is usually the result of calling `frame.insert` many times, which has poor performance.  Consider joining all columns at once using pd.concat(axis=1) instead. To get a de-fragmented frame, use `newframe = frame.copy()`\n",
      "  filtered_open_target_df[col + '_temp'] = cols_to_mean.max(axis=1)\n"
     ]
    },
    {
     "name": "stdout",
     "output_type": "stream",
     "text": [
      "New matrix shape: (801, 801)\n"
     ]
    },
    {
     "name": "stderr",
     "output_type": "stream",
     "text": [
      "/var/folders/2h/45bqs84942sfxfwfndsxtgs40000gn/T/ipykernel_12494/2066196414.py:35: PerformanceWarning: DataFrame is highly fragmented.  This is usually the result of calling `frame.insert` many times, which has poor performance.  Consider joining all columns at once using pd.concat(axis=1) instead. To get a de-fragmented frame, use `newframe = frame.copy()`\n",
      "  filtered_open_target_df[col + '_temp'] = cols_to_mean.max(axis=1)\n"
     ]
    },
    {
     "name": "stdout",
     "output_type": "stream",
     "text": [
      "New matrix shape: (800, 800)\n"
     ]
    },
    {
     "name": "stderr",
     "output_type": "stream",
     "text": [
      "/var/folders/2h/45bqs84942sfxfwfndsxtgs40000gn/T/ipykernel_12494/2066196414.py:35: PerformanceWarning: DataFrame is highly fragmented.  This is usually the result of calling `frame.insert` many times, which has poor performance.  Consider joining all columns at once using pd.concat(axis=1) instead. To get a de-fragmented frame, use `newframe = frame.copy()`\n",
      "  filtered_open_target_df[col + '_temp'] = cols_to_mean.max(axis=1)\n"
     ]
    },
    {
     "name": "stdout",
     "output_type": "stream",
     "text": [
      "New matrix shape: (798, 798)\n"
     ]
    },
    {
     "name": "stderr",
     "output_type": "stream",
     "text": [
      "/var/folders/2h/45bqs84942sfxfwfndsxtgs40000gn/T/ipykernel_12494/2066196414.py:35: PerformanceWarning: DataFrame is highly fragmented.  This is usually the result of calling `frame.insert` many times, which has poor performance.  Consider joining all columns at once using pd.concat(axis=1) instead. To get a de-fragmented frame, use `newframe = frame.copy()`\n",
      "  filtered_open_target_df[col + '_temp'] = cols_to_mean.max(axis=1)\n"
     ]
    },
    {
     "name": "stdout",
     "output_type": "stream",
     "text": [
      "New matrix shape: (797, 797)\n"
     ]
    },
    {
     "name": "stderr",
     "output_type": "stream",
     "text": [
      "/var/folders/2h/45bqs84942sfxfwfndsxtgs40000gn/T/ipykernel_12494/2066196414.py:35: PerformanceWarning: DataFrame is highly fragmented.  This is usually the result of calling `frame.insert` many times, which has poor performance.  Consider joining all columns at once using pd.concat(axis=1) instead. To get a de-fragmented frame, use `newframe = frame.copy()`\n",
      "  filtered_open_target_df[col + '_temp'] = cols_to_mean.max(axis=1)\n"
     ]
    },
    {
     "name": "stdout",
     "output_type": "stream",
     "text": [
      "New matrix shape: (796, 796)\n"
     ]
    },
    {
     "name": "stderr",
     "output_type": "stream",
     "text": [
      "/var/folders/2h/45bqs84942sfxfwfndsxtgs40000gn/T/ipykernel_12494/2066196414.py:35: PerformanceWarning: DataFrame is highly fragmented.  This is usually the result of calling `frame.insert` many times, which has poor performance.  Consider joining all columns at once using pd.concat(axis=1) instead. To get a de-fragmented frame, use `newframe = frame.copy()`\n",
      "  filtered_open_target_df[col + '_temp'] = cols_to_mean.max(axis=1)\n"
     ]
    },
    {
     "name": "stdout",
     "output_type": "stream",
     "text": [
      "New matrix shape: (795, 795)\n"
     ]
    },
    {
     "name": "stderr",
     "output_type": "stream",
     "text": [
      "/var/folders/2h/45bqs84942sfxfwfndsxtgs40000gn/T/ipykernel_12494/2066196414.py:35: PerformanceWarning: DataFrame is highly fragmented.  This is usually the result of calling `frame.insert` many times, which has poor performance.  Consider joining all columns at once using pd.concat(axis=1) instead. To get a de-fragmented frame, use `newframe = frame.copy()`\n",
      "  filtered_open_target_df[col + '_temp'] = cols_to_mean.max(axis=1)\n"
     ]
    },
    {
     "name": "stdout",
     "output_type": "stream",
     "text": [
      "New matrix shape: (793, 793)\n"
     ]
    },
    {
     "name": "stderr",
     "output_type": "stream",
     "text": [
      "/var/folders/2h/45bqs84942sfxfwfndsxtgs40000gn/T/ipykernel_12494/2066196414.py:35: PerformanceWarning: DataFrame is highly fragmented.  This is usually the result of calling `frame.insert` many times, which has poor performance.  Consider joining all columns at once using pd.concat(axis=1) instead. To get a de-fragmented frame, use `newframe = frame.copy()`\n",
      "  filtered_open_target_df[col + '_temp'] = cols_to_mean.max(axis=1)\n"
     ]
    },
    {
     "name": "stdout",
     "output_type": "stream",
     "text": [
      "New matrix shape: (792, 792)\n"
     ]
    },
    {
     "name": "stderr",
     "output_type": "stream",
     "text": [
      "/var/folders/2h/45bqs84942sfxfwfndsxtgs40000gn/T/ipykernel_12494/2066196414.py:35: PerformanceWarning: DataFrame is highly fragmented.  This is usually the result of calling `frame.insert` many times, which has poor performance.  Consider joining all columns at once using pd.concat(axis=1) instead. To get a de-fragmented frame, use `newframe = frame.copy()`\n",
      "  filtered_open_target_df[col + '_temp'] = cols_to_mean.max(axis=1)\n"
     ]
    },
    {
     "name": "stdout",
     "output_type": "stream",
     "text": [
      "New matrix shape: (791, 791)\n"
     ]
    },
    {
     "name": "stderr",
     "output_type": "stream",
     "text": [
      "/var/folders/2h/45bqs84942sfxfwfndsxtgs40000gn/T/ipykernel_12494/2066196414.py:35: PerformanceWarning: DataFrame is highly fragmented.  This is usually the result of calling `frame.insert` many times, which has poor performance.  Consider joining all columns at once using pd.concat(axis=1) instead. To get a de-fragmented frame, use `newframe = frame.copy()`\n",
      "  filtered_open_target_df[col + '_temp'] = cols_to_mean.max(axis=1)\n"
     ]
    },
    {
     "name": "stdout",
     "output_type": "stream",
     "text": [
      "New matrix shape: (790, 790)\n"
     ]
    },
    {
     "name": "stderr",
     "output_type": "stream",
     "text": [
      "/var/folders/2h/45bqs84942sfxfwfndsxtgs40000gn/T/ipykernel_12494/2066196414.py:35: PerformanceWarning: DataFrame is highly fragmented.  This is usually the result of calling `frame.insert` many times, which has poor performance.  Consider joining all columns at once using pd.concat(axis=1) instead. To get a de-fragmented frame, use `newframe = frame.copy()`\n",
      "  filtered_open_target_df[col + '_temp'] = cols_to_mean.max(axis=1)\n"
     ]
    },
    {
     "name": "stdout",
     "output_type": "stream",
     "text": [
      "New matrix shape: (789, 789)\n"
     ]
    },
    {
     "name": "stderr",
     "output_type": "stream",
     "text": [
      "/var/folders/2h/45bqs84942sfxfwfndsxtgs40000gn/T/ipykernel_12494/2066196414.py:35: PerformanceWarning: DataFrame is highly fragmented.  This is usually the result of calling `frame.insert` many times, which has poor performance.  Consider joining all columns at once using pd.concat(axis=1) instead. To get a de-fragmented frame, use `newframe = frame.copy()`\n",
      "  filtered_open_target_df[col + '_temp'] = cols_to_mean.max(axis=1)\n"
     ]
    },
    {
     "name": "stdout",
     "output_type": "stream",
     "text": [
      "New matrix shape: (788, 788)\n"
     ]
    },
    {
     "name": "stderr",
     "output_type": "stream",
     "text": [
      "/var/folders/2h/45bqs84942sfxfwfndsxtgs40000gn/T/ipykernel_12494/2066196414.py:35: PerformanceWarning: DataFrame is highly fragmented.  This is usually the result of calling `frame.insert` many times, which has poor performance.  Consider joining all columns at once using pd.concat(axis=1) instead. To get a de-fragmented frame, use `newframe = frame.copy()`\n",
      "  filtered_open_target_df[col + '_temp'] = cols_to_mean.max(axis=1)\n"
     ]
    },
    {
     "name": "stdout",
     "output_type": "stream",
     "text": [
      "New matrix shape: (787, 787)\n"
     ]
    },
    {
     "name": "stderr",
     "output_type": "stream",
     "text": [
      "/var/folders/2h/45bqs84942sfxfwfndsxtgs40000gn/T/ipykernel_12494/2066196414.py:35: PerformanceWarning: DataFrame is highly fragmented.  This is usually the result of calling `frame.insert` many times, which has poor performance.  Consider joining all columns at once using pd.concat(axis=1) instead. To get a de-fragmented frame, use `newframe = frame.copy()`\n",
      "  filtered_open_target_df[col + '_temp'] = cols_to_mean.max(axis=1)\n"
     ]
    },
    {
     "name": "stdout",
     "output_type": "stream",
     "text": [
      "New matrix shape: (786, 786)\n"
     ]
    },
    {
     "name": "stderr",
     "output_type": "stream",
     "text": [
      "/var/folders/2h/45bqs84942sfxfwfndsxtgs40000gn/T/ipykernel_12494/2066196414.py:35: PerformanceWarning: DataFrame is highly fragmented.  This is usually the result of calling `frame.insert` many times, which has poor performance.  Consider joining all columns at once using pd.concat(axis=1) instead. To get a de-fragmented frame, use `newframe = frame.copy()`\n",
      "  filtered_open_target_df[col + '_temp'] = cols_to_mean.max(axis=1)\n"
     ]
    },
    {
     "name": "stdout",
     "output_type": "stream",
     "text": [
      "New matrix shape: (785, 785)\n"
     ]
    },
    {
     "name": "stderr",
     "output_type": "stream",
     "text": [
      "/var/folders/2h/45bqs84942sfxfwfndsxtgs40000gn/T/ipykernel_12494/2066196414.py:35: PerformanceWarning: DataFrame is highly fragmented.  This is usually the result of calling `frame.insert` many times, which has poor performance.  Consider joining all columns at once using pd.concat(axis=1) instead. To get a de-fragmented frame, use `newframe = frame.copy()`\n",
      "  filtered_open_target_df[col + '_temp'] = cols_to_mean.max(axis=1)\n"
     ]
    },
    {
     "name": "stdout",
     "output_type": "stream",
     "text": [
      "New matrix shape: (784, 784)\n"
     ]
    },
    {
     "name": "stderr",
     "output_type": "stream",
     "text": [
      "/var/folders/2h/45bqs84942sfxfwfndsxtgs40000gn/T/ipykernel_12494/2066196414.py:35: PerformanceWarning: DataFrame is highly fragmented.  This is usually the result of calling `frame.insert` many times, which has poor performance.  Consider joining all columns at once using pd.concat(axis=1) instead. To get a de-fragmented frame, use `newframe = frame.copy()`\n",
      "  filtered_open_target_df[col + '_temp'] = cols_to_mean.max(axis=1)\n"
     ]
    },
    {
     "name": "stdout",
     "output_type": "stream",
     "text": [
      "New matrix shape: (783, 783)\n"
     ]
    },
    {
     "name": "stderr",
     "output_type": "stream",
     "text": [
      "/var/folders/2h/45bqs84942sfxfwfndsxtgs40000gn/T/ipykernel_12494/2066196414.py:35: PerformanceWarning: DataFrame is highly fragmented.  This is usually the result of calling `frame.insert` many times, which has poor performance.  Consider joining all columns at once using pd.concat(axis=1) instead. To get a de-fragmented frame, use `newframe = frame.copy()`\n",
      "  filtered_open_target_df[col + '_temp'] = cols_to_mean.max(axis=1)\n"
     ]
    },
    {
     "name": "stdout",
     "output_type": "stream",
     "text": [
      "New matrix shape: (782, 782)\n"
     ]
    },
    {
     "name": "stderr",
     "output_type": "stream",
     "text": [
      "/var/folders/2h/45bqs84942sfxfwfndsxtgs40000gn/T/ipykernel_12494/2066196414.py:35: PerformanceWarning: DataFrame is highly fragmented.  This is usually the result of calling `frame.insert` many times, which has poor performance.  Consider joining all columns at once using pd.concat(axis=1) instead. To get a de-fragmented frame, use `newframe = frame.copy()`\n",
      "  filtered_open_target_df[col + '_temp'] = cols_to_mean.max(axis=1)\n"
     ]
    },
    {
     "name": "stdout",
     "output_type": "stream",
     "text": [
      "New matrix shape: (781, 781)\n"
     ]
    },
    {
     "name": "stderr",
     "output_type": "stream",
     "text": [
      "/var/folders/2h/45bqs84942sfxfwfndsxtgs40000gn/T/ipykernel_12494/2066196414.py:35: PerformanceWarning: DataFrame is highly fragmented.  This is usually the result of calling `frame.insert` many times, which has poor performance.  Consider joining all columns at once using pd.concat(axis=1) instead. To get a de-fragmented frame, use `newframe = frame.copy()`\n",
      "  filtered_open_target_df[col + '_temp'] = cols_to_mean.max(axis=1)\n"
     ]
    },
    {
     "name": "stdout",
     "output_type": "stream",
     "text": [
      "New matrix shape: (779, 779)\n"
     ]
    },
    {
     "name": "stderr",
     "output_type": "stream",
     "text": [
      "/var/folders/2h/45bqs84942sfxfwfndsxtgs40000gn/T/ipykernel_12494/2066196414.py:35: PerformanceWarning: DataFrame is highly fragmented.  This is usually the result of calling `frame.insert` many times, which has poor performance.  Consider joining all columns at once using pd.concat(axis=1) instead. To get a de-fragmented frame, use `newframe = frame.copy()`\n",
      "  filtered_open_target_df[col + '_temp'] = cols_to_mean.max(axis=1)\n"
     ]
    },
    {
     "name": "stdout",
     "output_type": "stream",
     "text": [
      "New matrix shape: (778, 778)\n"
     ]
    },
    {
     "name": "stderr",
     "output_type": "stream",
     "text": [
      "/var/folders/2h/45bqs84942sfxfwfndsxtgs40000gn/T/ipykernel_12494/2066196414.py:35: PerformanceWarning: DataFrame is highly fragmented.  This is usually the result of calling `frame.insert` many times, which has poor performance.  Consider joining all columns at once using pd.concat(axis=1) instead. To get a de-fragmented frame, use `newframe = frame.copy()`\n",
      "  filtered_open_target_df[col + '_temp'] = cols_to_mean.max(axis=1)\n"
     ]
    },
    {
     "name": "stdout",
     "output_type": "stream",
     "text": [
      "New matrix shape: (777, 777)\n"
     ]
    },
    {
     "name": "stderr",
     "output_type": "stream",
     "text": [
      "/var/folders/2h/45bqs84942sfxfwfndsxtgs40000gn/T/ipykernel_12494/2066196414.py:35: PerformanceWarning: DataFrame is highly fragmented.  This is usually the result of calling `frame.insert` many times, which has poor performance.  Consider joining all columns at once using pd.concat(axis=1) instead. To get a de-fragmented frame, use `newframe = frame.copy()`\n",
      "  filtered_open_target_df[col + '_temp'] = cols_to_mean.max(axis=1)\n"
     ]
    },
    {
     "name": "stdout",
     "output_type": "stream",
     "text": [
      "New matrix shape: (776, 776)\n"
     ]
    },
    {
     "name": "stderr",
     "output_type": "stream",
     "text": [
      "/var/folders/2h/45bqs84942sfxfwfndsxtgs40000gn/T/ipykernel_12494/2066196414.py:35: PerformanceWarning: DataFrame is highly fragmented.  This is usually the result of calling `frame.insert` many times, which has poor performance.  Consider joining all columns at once using pd.concat(axis=1) instead. To get a de-fragmented frame, use `newframe = frame.copy()`\n",
      "  filtered_open_target_df[col + '_temp'] = cols_to_mean.max(axis=1)\n"
     ]
    },
    {
     "name": "stdout",
     "output_type": "stream",
     "text": [
      "New matrix shape: (775, 775)\n"
     ]
    },
    {
     "name": "stderr",
     "output_type": "stream",
     "text": [
      "/var/folders/2h/45bqs84942sfxfwfndsxtgs40000gn/T/ipykernel_12494/2066196414.py:35: PerformanceWarning: DataFrame is highly fragmented.  This is usually the result of calling `frame.insert` many times, which has poor performance.  Consider joining all columns at once using pd.concat(axis=1) instead. To get a de-fragmented frame, use `newframe = frame.copy()`\n",
      "  filtered_open_target_df[col + '_temp'] = cols_to_mean.max(axis=1)\n"
     ]
    },
    {
     "name": "stdout",
     "output_type": "stream",
     "text": [
      "New matrix shape: (774, 774)\n"
     ]
    },
    {
     "name": "stderr",
     "output_type": "stream",
     "text": [
      "/var/folders/2h/45bqs84942sfxfwfndsxtgs40000gn/T/ipykernel_12494/2066196414.py:35: PerformanceWarning: DataFrame is highly fragmented.  This is usually the result of calling `frame.insert` many times, which has poor performance.  Consider joining all columns at once using pd.concat(axis=1) instead. To get a de-fragmented frame, use `newframe = frame.copy()`\n",
      "  filtered_open_target_df[col + '_temp'] = cols_to_mean.max(axis=1)\n"
     ]
    },
    {
     "name": "stdout",
     "output_type": "stream",
     "text": [
      "New matrix shape: (773, 773)\n"
     ]
    },
    {
     "name": "stderr",
     "output_type": "stream",
     "text": [
      "/var/folders/2h/45bqs84942sfxfwfndsxtgs40000gn/T/ipykernel_12494/2066196414.py:35: PerformanceWarning: DataFrame is highly fragmented.  This is usually the result of calling `frame.insert` many times, which has poor performance.  Consider joining all columns at once using pd.concat(axis=1) instead. To get a de-fragmented frame, use `newframe = frame.copy()`\n",
      "  filtered_open_target_df[col + '_temp'] = cols_to_mean.max(axis=1)\n"
     ]
    },
    {
     "name": "stdout",
     "output_type": "stream",
     "text": [
      "New matrix shape: (771, 771)\n"
     ]
    },
    {
     "name": "stderr",
     "output_type": "stream",
     "text": [
      "/var/folders/2h/45bqs84942sfxfwfndsxtgs40000gn/T/ipykernel_12494/2066196414.py:35: PerformanceWarning: DataFrame is highly fragmented.  This is usually the result of calling `frame.insert` many times, which has poor performance.  Consider joining all columns at once using pd.concat(axis=1) instead. To get a de-fragmented frame, use `newframe = frame.copy()`\n",
      "  filtered_open_target_df[col + '_temp'] = cols_to_mean.max(axis=1)\n"
     ]
    },
    {
     "name": "stdout",
     "output_type": "stream",
     "text": [
      "New matrix shape: (770, 770)\n"
     ]
    },
    {
     "name": "stderr",
     "output_type": "stream",
     "text": [
      "/var/folders/2h/45bqs84942sfxfwfndsxtgs40000gn/T/ipykernel_12494/2066196414.py:35: PerformanceWarning: DataFrame is highly fragmented.  This is usually the result of calling `frame.insert` many times, which has poor performance.  Consider joining all columns at once using pd.concat(axis=1) instead. To get a de-fragmented frame, use `newframe = frame.copy()`\n",
      "  filtered_open_target_df[col + '_temp'] = cols_to_mean.max(axis=1)\n"
     ]
    },
    {
     "name": "stdout",
     "output_type": "stream",
     "text": [
      "New matrix shape: (769, 769)\n",
      "Transformation completed. New matrix shape: (769, 769)\n"
     ]
    }
   ],
   "source": [
    "# Assume open_target_df is your large adjacency matrix and diseases_mapping is your dictionary\n",
    "# Filter columns based on diseases_mapping values that are not 'UNKNOWN'\n",
    "print(\"Filtering columns based on valid diseases (not 'UNKNOWN')...\")\n",
    "valid_diseases = {k: v for k, v in diseases_mapping.items() if v != 'UNKNOWN'}\n",
    "\n",
    "# Ensure only valid keys are used for filtering\n",
    "valid_keys = set(valid_diseases.keys()) & set(open_target_df.columns)\n",
    "print(f\"Selecting {len(valid_keys)} valid diseases from the matrix...\")\n",
    "filtered_open_target_df = open_target_df.loc[list(valid_keys), list(valid_keys)]\n",
    "\n",
    "# Rename only the columns and rows that exist in the mapping\n",
    "rename_mapping = {k: v for k, v in valid_diseases.items() if k in filtered_open_target_df.columns}\n",
    "print(\"Renaming rows and columns according to diseases_mapping...\")\n",
    "filtered_open_target_df = filtered_open_target_df.rename(index=rename_mapping, columns=rename_mapping)\n",
    "print(\"Matrix shape:\", filtered_open_target_df.shape)\n",
    "# Check for duplicated column names after renaming\n",
    "# print(\"Checking for duplicated column names...\")\n",
    "duplicated_columns = filtered_open_target_df.columns[filtered_open_target_df.columns.duplicated()]\n",
    "\n",
    "# Process each set of duplicated columns\n",
    "if len(duplicated_columns) > 0:\n",
    "#     print(f\"Warning: Found duplicate column names after renaming: {duplicated_columns.tolist()}\")\n",
    "    \n",
    "    # Loop through each duplicated column group\n",
    "    for col in duplicated_columns.unique():\n",
    "#         print(f\"Processing duplicated columns for: {col}...\")\n",
    "        cols_to_mean = filtered_open_target_df.loc[:, filtered_open_target_df.columns == col]\n",
    "        rows_to_mean = filtered_open_target_df.loc[filtered_open_target_df.index == col, :]\n",
    "\n",
    "        if cols_to_mean.shape[1] > 1:\n",
    "            # Compute the mean of the duplicated columns\n",
    "#             print(f\"Averaging the duplicated columns: {cols_to_mean.columns.tolist()}...\")\n",
    "            \n",
    "            cols_to_mean = filtered_open_target_df.loc[:, filtered_open_target_df.columns == col]\n",
    "            filtered_open_target_df[col + '_temp'] = cols_to_mean.max(axis=1)\n",
    "            rows_to_mean = filtered_open_target_df.loc[filtered_open_target_df.index == col, :]\n",
    "            filtered_open_target_df.loc[col + '_temp', :] = rows_to_mean.max(axis=0)\n",
    "            filtered_open_target_df = filtered_open_target_df.drop(index=rows_to_mean.index[1:])\n",
    "            filtered_open_target_df = filtered_open_target_df.drop(columns=cols_to_mean.columns[1:])\n",
    "            filtered_open_target_df.rename(index={col + '_temp' : col}, inplace=True)\n",
    "            filtered_open_target_df.rename(columns={col + '_temp' : col}, inplace=True)\n",
    "            \n",
    "            print(\"New matrix shape:\", filtered_open_target_df.shape)\n",
    "                \n",
    "\n",
    "# Display or save the transformed matrix\n",
    "print(\"Transformation completed. New matrix shape:\", filtered_open_target_df.shape)  # To check the new dimensions"
   ]
  },
  {
   "cell_type": "code",
   "execution_count": 226,
   "id": "e999561c",
   "metadata": {},
   "outputs": [
    {
     "name": "stdout",
     "output_type": "stream",
     "text": [
      "AIDS dementia: Dementia\n",
      "Alzheimer disease: Alzheimer's disease\n",
      "Alzheimer disease 18: Alzheimer's disease\n",
      "Alzheimer disease 3: Alzheimer's disease\n",
      "Alzheimer disease type 1: Alzheimer's disease\n",
      "Alzheimer's disease neuropathologic change: Alzheimer's disease\n",
      "Dementia: Dementia\n",
      "Frontotemporal dementia: Dementia\n",
      "Lewy body dementia: Parkinson's disease\n",
      "age of onset of Alzheimer disease: Alzheimer's disease\n",
      "amyotrophic lateral sclerosis 26 with or without frontotemporal dementia: Vascular dementia\n",
      "amyotrophic lateral sclerosis-parkinsonism-dementia complex: Parkinson's disease\n",
      "behavioral variant of frontotemporal dementia: Dementia\n",
      "dementia: Dementia\n",
      "early-onset autosomal dominant Alzheimer disease: Alzheimer's disease\n",
      "familial Alzheimer disease: Alzheimer's disease\n",
      "family history of Alzheimer’s disease: Alzheimer's disease\n",
      "frontotemporal dementia: Dementia\n",
      "frontotemporal dementia and/or amyotrophic lateral sclerosis: Vascular dementia\n",
      "frontotemporal dementia and/or amyotrophic lateral sclerosis 1: Alzheimer's disease\n",
      "frontotemporal dementia and/or amyotrophic lateral sclerosis 4: Vascular dementia\n",
      "frontotemporal dementia and/or amyotrophic lateral sclerosis 6: Vascular dementia\n",
      "frontotemporal dementia with motor neuron disease: Vascular dementia\n",
      "hereditary sensory neuropathy-deafness-dementia syndrome: Hereditary and idiopathic neuropathy\n",
      "inclusion body myopathy with Paget disease of bone and frontotemporal dementia: Osteitis deformans [Paget's disease of bone]\n",
      "inclusion body myopathy with Paget disease of bone and frontotemporal dementia type 1: Osteitis deformans [Paget's disease of bone]\n",
      "late-onset Alzheimers disease: Alzheimer's disease\n",
      "multi-infarct dementia: Vascular dementia\n",
      "semantic dementia: Dementia\n",
      "vascular dementia: Vascular dementia\n"
     ]
    }
   ],
   "source": [
    "for disease, icd in list(diseases_mapping.items()):\n",
    "    if ('ementia' in disease) or ('lzheimer' in disease):\n",
    "        print(f\"{disease}: {icd}\")"
   ]
  },
  {
   "cell_type": "code",
   "execution_count": 283,
   "id": "a0521ea1",
   "metadata": {},
   "outputs": [],
   "source": [
    "harmonized_open_targets = filtered_open_target_df.copy() # List of relevant rows/columns\n",
    "harmonized_open_targets.rename(index={'Dementia': 'Dementia in Alzheimer\\'s disease'}, inplace=True)\n",
    "harmonized_open_targets.rename(columns={'Dementia': 'Dementia in Alzheimer\\'s disease'}, inplace=True)\n",
    "# ['F00', 'F01', 'F02', 'F03', 'G31']\n",
    "target_labels = ['Dementia in Alzheimer\\'s disease', 'Vascular dementia', \n",
    "#                  'Dementia in other diseases classified elsewhere', \n",
    "#                  'Unspecified dementia',\n",
    "                 'Alzheimer\\'s disease']\n",
    "\n",
    "# Apply OR operation across specified rows and columns\n",
    "row_or = harmonized_open_targets.loc[target_labels].max(axis=0).astype(float)\n",
    "# col_or = filtered_open_target_df[target_labels].any(axis=1)\n",
    "\n",
    "# Update the 'F00' row and column\n",
    "harmonized_open_targets.loc['Dementia in Alzheimer\\'s disease'] = row_or\n",
    "harmonized_open_targets['Dementia in Alzheimer\\'s disease'] = row_or\n"
   ]
  },
  {
   "cell_type": "code",
   "execution_count": 284,
   "id": "489de50d",
   "metadata": {},
   "outputs": [],
   "source": [
    "harmonized_fname = 'harmonized_open_target.csv'\n",
    "harmonized_open_targets.to_csv(harmonized_fname, index=False)\n",
    "\n",
    "# Generate matrix with ICD10 codes\n",
    "# filtered_open_target_df = pd.read_csv(harmonized_fname)\n",
    "# Load the ICD-10 dataset\n",
    "df_icd = pd.read_csv(\"data/DiagAll_Eng.csv\")\n",
    "df_icd = df_icd.drop_duplicates(subset=[\"ShortDescription\"])  # Ensure unique descriptions\n",
    "icd_dict = dict(zip(df_icd[\"ShortDescription\"], df_icd[\"Code\"]))\n",
    "harmonized_open_targets.columns = [icd_dict[x] for x in harmonized_open_targets.columns]\n",
    "harmonized_open_targets.to_csv(harmonized_fname.replace('.csv', '_icd.csv'), index=False)"
   ]
  },
  {
   "cell_type": "code",
   "execution_count": 285,
   "id": "3c0646bb",
   "metadata": {},
   "outputs": [
    {
     "name": "stdout",
     "output_type": "stream",
     "text": [
      "Percentage of zeros: 30.56%\n"
     ]
    },
    {
     "data": {
      "image/png": "[encoded data removed]",
      "text/plain": [
       "<Figure size 432x288 with 1 Axes>"
      ]
     },
     "metadata": {
      "needs_background": "light"
     },
     "output_type": "display_data"
    }
   ],
   "source": [
    "# Flatten DataFrame values to 1D array\n",
    "all_values = harmonized_open_targets.values.flatten()\n",
    "\n",
    "# Count zeros and non-zeros\n",
    "total_values = len(all_values)\n",
    "zero_count = np.count_nonzero(all_values == 0)\n",
    "non_zero_values = all_values[all_values != 0]\n",
    "\n",
    "# Calculate percentage of zeros\n",
    "zero_percentage = (zero_count / total_values) * 100\n",
    "print(f\"Percentage of zeros: {zero_percentage:.2f}%\")\n",
    "\n",
    "# Plot histogram of non-zero values\n",
    "plt.hist(non_zero_values, bins=100, edgecolor='black')\n",
    "plt.xlabel('Value')\n",
    "plt.ylabel('Frequency')\n",
    "plt.title('Histogram of Non-Zero Values')\n",
    "plt.show()"
   ]
  },
  {
   "cell_type": "markdown",
   "id": "4ae47377",
   "metadata": {},
   "source": [
    "# Merge with hospital data"
   ]
  },
  {
   "cell_type": "code",
   "execution_count": 286,
   "id": "2608ee6c",
   "metadata": {},
   "outputs": [
    {
     "data": {
      "text/html": [
       "<div>\n",
       "<style scoped>\n",
       "    .dataframe tbody tr th:only-of-type {\n",
       "        vertical-align: middle;\n",
       "    }\n",
       "\n",
       "    .dataframe tbody tr th {\n",
       "        vertical-align: top;\n",
       "    }\n",
       "\n",
       "    .dataframe thead th {\n",
       "        text-align: right;\n",
       "    }\n",
       "</style>\n",
       "<table border=\"1\" class=\"dataframe\">\n",
       "  <thead>\n",
       "    <tr style=\"text-align: right;\">\n",
       "      <th></th>\n",
       "      <th>Unnamed: 0</th>\n",
       "      <th>diagnose_id</th>\n",
       "      <th>icd_code</th>\n",
       "      <th>descr</th>\n",
       "      <th>postion</th>\n",
       "      <th>age_id</th>\n",
       "      <th>age_range</th>\n",
       "      <th>icd_global</th>\n",
       "      <th>ID</th>\n",
       "      <th>English description</th>\n",
       "    </tr>\n",
       "  </thead>\n",
       "  <tbody>\n",
       "    <tr>\n",
       "      <th>0</th>\n",
       "      <td>1</td>\n",
       "      <td>1</td>\n",
       "      <td>A00</td>\n",
       "      <td>Cholera</td>\n",
       "      <td>1</td>\n",
       "      <td>1</td>\n",
       "      <td>0-9</td>\n",
       "      <td>A00-0-9</td>\n",
       "      <td>0</td>\n",
       "      <td>Cholera</td>\n",
       "    </tr>\n",
       "    <tr>\n",
       "      <th>1</th>\n",
       "      <td>2</td>\n",
       "      <td>2</td>\n",
       "      <td>A01</td>\n",
       "      <td>Typhus abdominalis und Paratyphus</td>\n",
       "      <td>2</td>\n",
       "      <td>1</td>\n",
       "      <td>0-9</td>\n",
       "      <td>A01-0-9</td>\n",
       "      <td>1</td>\n",
       "      <td>Typhoid and paratyphoid fevers</td>\n",
       "    </tr>\n",
       "    <tr>\n",
       "      <th>2</th>\n",
       "      <td>3</td>\n",
       "      <td>3</td>\n",
       "      <td>A02</td>\n",
       "      <td>Sonstige Salmonelleninfektionen</td>\n",
       "      <td>3</td>\n",
       "      <td>1</td>\n",
       "      <td>0-9</td>\n",
       "      <td>A02-0-9</td>\n",
       "      <td>2</td>\n",
       "      <td>Other salmonella infections</td>\n",
       "    </tr>\n",
       "    <tr>\n",
       "      <th>3</th>\n",
       "      <td>4</td>\n",
       "      <td>4</td>\n",
       "      <td>A03</td>\n",
       "      <td>Shigellose [Bakterielle Ruhr]</td>\n",
       "      <td>4</td>\n",
       "      <td>1</td>\n",
       "      <td>0-9</td>\n",
       "      <td>A03-0-9</td>\n",
       "      <td>3</td>\n",
       "      <td>Shigellosis</td>\n",
       "    </tr>\n",
       "    <tr>\n",
       "      <th>4</th>\n",
       "      <td>5</td>\n",
       "      <td>5</td>\n",
       "      <td>A04</td>\n",
       "      <td>Sonstige bakterielle Darminfektionen</td>\n",
       "      <td>5</td>\n",
       "      <td>1</td>\n",
       "      <td>0-9</td>\n",
       "      <td>A04-0-9</td>\n",
       "      <td>4</td>\n",
       "      <td>Other bacterial intestinal infections</td>\n",
       "    </tr>\n",
       "    <tr>\n",
       "      <th>...</th>\n",
       "      <td>...</td>\n",
       "      <td>...</td>\n",
       "      <td>...</td>\n",
       "      <td>...</td>\n",
       "      <td>...</td>\n",
       "      <td>...</td>\n",
       "      <td>...</td>\n",
       "      <td>...</td>\n",
       "      <td>...</td>\n",
       "      <td>...</td>\n",
       "    </tr>\n",
       "    <tr>\n",
       "      <th>1075</th>\n",
       "      <td>1076</td>\n",
       "      <td>1070</td>\n",
       "      <td>N95</td>\n",
       "      <td>Klimakterische Störungen</td>\n",
       "      <td>1076</td>\n",
       "      <td>1</td>\n",
       "      <td>0-9</td>\n",
       "      <td>N95-0-9</td>\n",
       "      <td>1075</td>\n",
       "      <td>Menopausal and other perimenopausal disorders</td>\n",
       "    </tr>\n",
       "    <tr>\n",
       "      <th>1076</th>\n",
       "      <td>1077</td>\n",
       "      <td>1071</td>\n",
       "      <td>N96</td>\n",
       "      <td>Neigung zu habituellem Abort, Infertilität, Untersuchung oder Betreuung einer Frau mit Neigung zu habituellem Abort ohne bestehende Schwangerschaft</td>\n",
       "      <td>1077</td>\n",
       "      <td>1</td>\n",
       "      <td>0-9</td>\n",
       "      <td>N96-0-9</td>\n",
       "      <td>1076</td>\n",
       "      <td>Recurrent pregnancy loss</td>\n",
       "    </tr>\n",
       "    <tr>\n",
       "      <th>1077</th>\n",
       "      <td>1078</td>\n",
       "      <td>1072</td>\n",
       "      <td>N97</td>\n",
       "      <td>Sterilität der Frau</td>\n",
       "      <td>1078</td>\n",
       "      <td>1</td>\n",
       "      <td>0-9</td>\n",
       "      <td>N97-0-9</td>\n",
       "      <td>1077</td>\n",
       "      <td>Female infertility</td>\n",
       "    </tr>\n",
       "    <tr>\n",
       "      <th>1078</th>\n",
       "      <td>1079</td>\n",
       "      <td>1073</td>\n",
       "      <td>N98</td>\n",
       "      <td>Komplikationen im Zusammenhang mit künstlicher Befruchtung</td>\n",
       "      <td>1079</td>\n",
       "      <td>1</td>\n",
       "      <td>0-9</td>\n",
       "      <td>N98-0-9</td>\n",
       "      <td>1078</td>\n",
       "      <td>Complications associated with artificial fertilization</td>\n",
       "    </tr>\n",
       "    <tr>\n",
       "      <th>1079</th>\n",
       "      <td>1080</td>\n",
       "      <td>1074</td>\n",
       "      <td>N99</td>\n",
       "      <td>Krankheiten des Urogenitalsystems nach medizinischen Maßnahmen, anderenorts nicht klassifiziert</td>\n",
       "      <td>1080</td>\n",
       "      <td>1</td>\n",
       "      <td>0-9</td>\n",
       "      <td>N99-0-9</td>\n",
       "      <td>1079</td>\n",
       "      <td>Intraoperative and postprocedural complications and disorders of genitourinary system, not elsewhere classified</td>\n",
       "    </tr>\n",
       "  </tbody>\n",
       "</table>\n",
       "<p>1080 rows × 10 columns</p>\n",
       "</div>"
      ],
      "text/plain": [
       "      Unnamed: 0  diagnose_id icd_code  \\\n",
       "0              1            1      A00   \n",
       "1              2            2      A01   \n",
       "2              3            3      A02   \n",
       "3              4            4      A03   \n",
       "4              5            5      A04   \n",
       "...          ...          ...      ...   \n",
       "1075        1076         1070      N95   \n",
       "1076        1077         1071      N96   \n",
       "1077        1078         1072      N97   \n",
       "1078        1079         1073      N98   \n",
       "1079        1080         1074      N99   \n",
       "\n",
       "                                                                                                                                                    descr  \\\n",
       "0                                                                                                                                                 Cholera   \n",
       "1                                                                                                                       Typhus abdominalis und Paratyphus   \n",
       "2                                                                                                                         Sonstige Salmonelleninfektionen   \n",
       "3                                                                                                                           Shigellose [Bakterielle Ruhr]   \n",
       "4                                                                                                                    Sonstige bakterielle Darminfektionen   \n",
       "...                                                                                                                                                   ...   \n",
       "1075                                                                                                                             Klimakterische Störungen   \n",
       "1076  Neigung zu habituellem Abort, Infertilität, Untersuchung oder Betreuung einer Frau mit Neigung zu habituellem Abort ohne bestehende Schwangerschaft   \n",
       "1077                                                                                                                                  Sterilität der Frau   \n",
       "1078                                                                                           Komplikationen im Zusammenhang mit künstlicher Befruchtung   \n",
       "1079                                                      Krankheiten des Urogenitalsystems nach medizinischen Maßnahmen, anderenorts nicht klassifiziert   \n",
       "\n",
       "      postion  age_id age_range icd_global    ID  \\\n",
       "0           1       1       0-9    A00-0-9     0   \n",
       "1           2       1       0-9    A01-0-9     1   \n",
       "2           3       1       0-9    A02-0-9     2   \n",
       "3           4       1       0-9    A03-0-9     3   \n",
       "4           5       1       0-9    A04-0-9     4   \n",
       "...       ...     ...       ...        ...   ...   \n",
       "1075     1076       1       0-9    N95-0-9  1075   \n",
       "1076     1077       1       0-9    N96-0-9  1076   \n",
       "1077     1078       1       0-9    N97-0-9  1077   \n",
       "1078     1079       1       0-9    N98-0-9  1078   \n",
       "1079     1080       1       0-9    N99-0-9  1079   \n",
       "\n",
       "                                                                                                  English description  \n",
       "0                                                                                                             Cholera  \n",
       "1                                                                                      Typhoid and paratyphoid fevers  \n",
       "2                                                                                         Other salmonella infections  \n",
       "3                                                                                                         Shigellosis  \n",
       "4                                                                               Other bacterial intestinal infections  \n",
       "...                                                                                                               ...  \n",
       "1075                                                                    Menopausal and other perimenopausal disorders  \n",
       "1076                                                                                         Recurrent pregnancy loss  \n",
       "1077                                                                                               Female infertility  \n",
       "1078                                                           Complications associated with artificial fertilization  \n",
       "1079  Intraoperative and postprocedural complications and disorders of genitourinary system, not elsewhere classified  \n",
       "\n",
       "[1080 rows x 10 columns]"
      ]
     },
     "execution_count": 286,
     "metadata": {},
     "output_type": "execute_result"
    }
   ],
   "source": [
    "diag_df = pd.read_csv('data/Diagnosis_global_10years.csv')  # Read diagnosis metadata  DiagAll_Eng.csv\n",
    "diag_df = diag_df[diag_df['age_id'] < 9].iloc[:1080, :]\n",
    "# Add an 'ID' column to diag_df starting from 0 up to the number of rows in diag_df\n",
    "diag_df['ID'] = range(0, len(diag_df))\n",
    "diag_df.loc[:, 'English description'] = [icd10.find(x[0]).description if icd10.find(x[0]) else x[1] for x in diag_df[['icd_code', 'descr']].values ]\n",
    "diag_df.loc[:, 'icd_global'] = diag_df['icd_global'].str.replace('__', '-')\n",
    "diag_df"
   ]
  },
  {
   "cell_type": "code",
   "execution_count": 287,
   "id": "6d18c097",
   "metadata": {},
   "outputs": [
    {
     "data": {
      "text/html": [
       "<div>\n",
       "<style scoped>\n",
       "    .dataframe tbody tr th:only-of-type {\n",
       "        vertical-align: middle;\n",
       "    }\n",
       "\n",
       "    .dataframe tbody tr th {\n",
       "        vertical-align: top;\n",
       "    }\n",
       "\n",
       "    .dataframe thead th {\n",
       "        text-align: right;\n",
       "    }\n",
       "</style>\n",
       "<table border=\"1\" class=\"dataframe\">\n",
       "  <thead>\n",
       "    <tr style=\"text-align: right;\">\n",
       "      <th></th>\n",
       "      <th>E30</th>\n",
       "      <th>E45</th>\n",
       "      <th>N86</th>\n",
       "      <th>E40</th>\n",
       "      <th>F62</th>\n",
       "      <th>B38</th>\n",
       "      <th>I83</th>\n",
       "      <th>N64</th>\n",
       "      <th>K10</th>\n",
       "      <th>N19</th>\n",
       "      <th>...</th>\n",
       "      <th>B79</th>\n",
       "      <th>K40</th>\n",
       "      <th>I22</th>\n",
       "      <th>A37</th>\n",
       "      <th>G58</th>\n",
       "      <th>J02</th>\n",
       "      <th>H66</th>\n",
       "      <th>M07</th>\n",
       "      <th>A75</th>\n",
       "      <th>K61</th>\n",
       "    </tr>\n",
       "  </thead>\n",
       "  <tbody>\n",
       "    <tr>\n",
       "      <th>E30</th>\n",
       "      <td>0.000000</td>\n",
       "      <td>0.0</td>\n",
       "      <td>0.0</td>\n",
       "      <td>0.266274</td>\n",
       "      <td>0.0</td>\n",
       "      <td>0.00000</td>\n",
       "      <td>0.0</td>\n",
       "      <td>0.000000</td>\n",
       "      <td>0.0</td>\n",
       "      <td>0.000000</td>\n",
       "      <td>...</td>\n",
       "      <td>0.359545</td>\n",
       "      <td>0.190162</td>\n",
       "      <td>0.000000</td>\n",
       "      <td>0.000000</td>\n",
       "      <td>0.000000</td>\n",
       "      <td>0.000000</td>\n",
       "      <td>0.000000</td>\n",
       "      <td>0.301129</td>\n",
       "      <td>0.000000</td>\n",
       "      <td>0.000000</td>\n",
       "    </tr>\n",
       "    <tr>\n",
       "      <th>E45</th>\n",
       "      <td>0.000000</td>\n",
       "      <td>0.0</td>\n",
       "      <td>0.0</td>\n",
       "      <td>0.000000</td>\n",
       "      <td>0.0</td>\n",
       "      <td>0.00000</td>\n",
       "      <td>0.0</td>\n",
       "      <td>0.000000</td>\n",
       "      <td>0.0</td>\n",
       "      <td>0.000000</td>\n",
       "      <td>...</td>\n",
       "      <td>0.274238</td>\n",
       "      <td>0.000000</td>\n",
       "      <td>0.000000</td>\n",
       "      <td>0.000000</td>\n",
       "      <td>0.000000</td>\n",
       "      <td>0.000000</td>\n",
       "      <td>0.000000</td>\n",
       "      <td>0.000000</td>\n",
       "      <td>0.000000</td>\n",
       "      <td>0.000000</td>\n",
       "    </tr>\n",
       "    <tr>\n",
       "      <th>N86</th>\n",
       "      <td>0.000000</td>\n",
       "      <td>0.0</td>\n",
       "      <td>0.0</td>\n",
       "      <td>0.000000</td>\n",
       "      <td>0.0</td>\n",
       "      <td>0.00000</td>\n",
       "      <td>0.0</td>\n",
       "      <td>0.000000</td>\n",
       "      <td>0.0</td>\n",
       "      <td>0.000000</td>\n",
       "      <td>...</td>\n",
       "      <td>0.000000</td>\n",
       "      <td>0.000000</td>\n",
       "      <td>0.000000</td>\n",
       "      <td>0.000000</td>\n",
       "      <td>0.000000</td>\n",
       "      <td>0.000000</td>\n",
       "      <td>0.000000</td>\n",
       "      <td>0.000000</td>\n",
       "      <td>0.000000</td>\n",
       "      <td>0.000000</td>\n",
       "    </tr>\n",
       "    <tr>\n",
       "      <th>E40</th>\n",
       "      <td>0.266274</td>\n",
       "      <td>0.0</td>\n",
       "      <td>0.0</td>\n",
       "      <td>0.000000</td>\n",
       "      <td>0.0</td>\n",
       "      <td>0.00000</td>\n",
       "      <td>0.0</td>\n",
       "      <td>0.234865</td>\n",
       "      <td>0.0</td>\n",
       "      <td>0.000000</td>\n",
       "      <td>...</td>\n",
       "      <td>0.285006</td>\n",
       "      <td>0.361944</td>\n",
       "      <td>0.280195</td>\n",
       "      <td>0.000000</td>\n",
       "      <td>0.264085</td>\n",
       "      <td>0.000000</td>\n",
       "      <td>0.092184</td>\n",
       "      <td>0.283357</td>\n",
       "      <td>0.303297</td>\n",
       "      <td>0.179931</td>\n",
       "    </tr>\n",
       "    <tr>\n",
       "      <th>F62</th>\n",
       "      <td>0.000000</td>\n",
       "      <td>0.0</td>\n",
       "      <td>0.0</td>\n",
       "      <td>0.000000</td>\n",
       "      <td>0.0</td>\n",
       "      <td>0.00000</td>\n",
       "      <td>0.0</td>\n",
       "      <td>0.000000</td>\n",
       "      <td>0.0</td>\n",
       "      <td>0.000000</td>\n",
       "      <td>...</td>\n",
       "      <td>0.000000</td>\n",
       "      <td>0.000000</td>\n",
       "      <td>0.000000</td>\n",
       "      <td>0.000000</td>\n",
       "      <td>0.000000</td>\n",
       "      <td>0.000000</td>\n",
       "      <td>0.000000</td>\n",
       "      <td>0.000000</td>\n",
       "      <td>0.000000</td>\n",
       "      <td>0.000000</td>\n",
       "    </tr>\n",
       "    <tr>\n",
       "      <th>...</th>\n",
       "      <td>...</td>\n",
       "      <td>...</td>\n",
       "      <td>...</td>\n",
       "      <td>...</td>\n",
       "      <td>...</td>\n",
       "      <td>...</td>\n",
       "      <td>...</td>\n",
       "      <td>...</td>\n",
       "      <td>...</td>\n",
       "      <td>...</td>\n",
       "      <td>...</td>\n",
       "      <td>...</td>\n",
       "      <td>...</td>\n",
       "      <td>...</td>\n",
       "      <td>...</td>\n",
       "      <td>...</td>\n",
       "      <td>...</td>\n",
       "      <td>...</td>\n",
       "      <td>...</td>\n",
       "      <td>...</td>\n",
       "      <td>...</td>\n",
       "    </tr>\n",
       "    <tr>\n",
       "      <th>J02</th>\n",
       "      <td>0.000000</td>\n",
       "      <td>0.0</td>\n",
       "      <td>0.0</td>\n",
       "      <td>0.000000</td>\n",
       "      <td>0.0</td>\n",
       "      <td>0.00000</td>\n",
       "      <td>0.0</td>\n",
       "      <td>0.000000</td>\n",
       "      <td>0.0</td>\n",
       "      <td>0.455948</td>\n",
       "      <td>...</td>\n",
       "      <td>0.346551</td>\n",
       "      <td>0.112625</td>\n",
       "      <td>0.531939</td>\n",
       "      <td>0.405527</td>\n",
       "      <td>0.399718</td>\n",
       "      <td>0.334362</td>\n",
       "      <td>0.000000</td>\n",
       "      <td>0.000000</td>\n",
       "      <td>0.000000</td>\n",
       "      <td>0.000000</td>\n",
       "    </tr>\n",
       "    <tr>\n",
       "      <th>H66</th>\n",
       "      <td>0.000000</td>\n",
       "      <td>0.0</td>\n",
       "      <td>0.0</td>\n",
       "      <td>0.092184</td>\n",
       "      <td>0.0</td>\n",
       "      <td>0.00000</td>\n",
       "      <td>0.0</td>\n",
       "      <td>0.000000</td>\n",
       "      <td>0.0</td>\n",
       "      <td>0.000000</td>\n",
       "      <td>...</td>\n",
       "      <td>0.255939</td>\n",
       "      <td>0.000000</td>\n",
       "      <td>0.000000</td>\n",
       "      <td>0.000000</td>\n",
       "      <td>0.000000</td>\n",
       "      <td>0.000000</td>\n",
       "      <td>0.500488</td>\n",
       "      <td>0.152830</td>\n",
       "      <td>0.000000</td>\n",
       "      <td>0.000000</td>\n",
       "    </tr>\n",
       "    <tr>\n",
       "      <th>M07</th>\n",
       "      <td>0.301129</td>\n",
       "      <td>0.0</td>\n",
       "      <td>0.0</td>\n",
       "      <td>0.283357</td>\n",
       "      <td>0.0</td>\n",
       "      <td>0.26367</td>\n",
       "      <td>0.0</td>\n",
       "      <td>0.060793</td>\n",
       "      <td>0.0</td>\n",
       "      <td>0.000000</td>\n",
       "      <td>...</td>\n",
       "      <td>0.300715</td>\n",
       "      <td>0.257641</td>\n",
       "      <td>0.000000</td>\n",
       "      <td>0.000000</td>\n",
       "      <td>0.000000</td>\n",
       "      <td>0.000000</td>\n",
       "      <td>0.152830</td>\n",
       "      <td>0.607931</td>\n",
       "      <td>0.269192</td>\n",
       "      <td>0.000000</td>\n",
       "    </tr>\n",
       "    <tr>\n",
       "      <th>A75</th>\n",
       "      <td>0.000000</td>\n",
       "      <td>0.0</td>\n",
       "      <td>0.0</td>\n",
       "      <td>0.303297</td>\n",
       "      <td>0.0</td>\n",
       "      <td>0.00000</td>\n",
       "      <td>0.0</td>\n",
       "      <td>0.000000</td>\n",
       "      <td>0.0</td>\n",
       "      <td>0.000000</td>\n",
       "      <td>...</td>\n",
       "      <td>0.282384</td>\n",
       "      <td>0.000000</td>\n",
       "      <td>0.000000</td>\n",
       "      <td>0.000000</td>\n",
       "      <td>0.000000</td>\n",
       "      <td>0.000000</td>\n",
       "      <td>0.000000</td>\n",
       "      <td>0.269192</td>\n",
       "      <td>0.531939</td>\n",
       "      <td>0.000000</td>\n",
       "    </tr>\n",
       "    <tr>\n",
       "      <th>K61</th>\n",
       "      <td>0.000000</td>\n",
       "      <td>0.0</td>\n",
       "      <td>0.0</td>\n",
       "      <td>0.179931</td>\n",
       "      <td>0.0</td>\n",
       "      <td>0.00000</td>\n",
       "      <td>0.0</td>\n",
       "      <td>0.000000</td>\n",
       "      <td>0.0</td>\n",
       "      <td>0.000000</td>\n",
       "      <td>...</td>\n",
       "      <td>0.179931</td>\n",
       "      <td>0.080811</td>\n",
       "      <td>0.000000</td>\n",
       "      <td>0.000000</td>\n",
       "      <td>0.000000</td>\n",
       "      <td>0.000000</td>\n",
       "      <td>0.000000</td>\n",
       "      <td>0.000000</td>\n",
       "      <td>0.000000</td>\n",
       "      <td>0.000000</td>\n",
       "    </tr>\n",
       "  </tbody>\n",
       "</table>\n",
       "<p>769 rows × 769 columns</p>\n",
       "</div>"
      ],
      "text/plain": [
       "          E30  E45  N86       E40  F62      B38  I83       N64  K10       N19  \\\n",
       "E30  0.000000  0.0  0.0  0.266274  0.0  0.00000  0.0  0.000000  0.0  0.000000   \n",
       "E45  0.000000  0.0  0.0  0.000000  0.0  0.00000  0.0  0.000000  0.0  0.000000   \n",
       "N86  0.000000  0.0  0.0  0.000000  0.0  0.00000  0.0  0.000000  0.0  0.000000   \n",
       "E40  0.266274  0.0  0.0  0.000000  0.0  0.00000  0.0  0.234865  0.0  0.000000   \n",
       "F62  0.000000  0.0  0.0  0.000000  0.0  0.00000  0.0  0.000000  0.0  0.000000   \n",
       "..        ...  ...  ...       ...  ...      ...  ...       ...  ...       ...   \n",
       "J02  0.000000  0.0  0.0  0.000000  0.0  0.00000  0.0  0.000000  0.0  0.455948   \n",
       "H66  0.000000  0.0  0.0  0.092184  0.0  0.00000  0.0  0.000000  0.0  0.000000   \n",
       "M07  0.301129  0.0  0.0  0.283357  0.0  0.26367  0.0  0.060793  0.0  0.000000   \n",
       "A75  0.000000  0.0  0.0  0.303297  0.0  0.00000  0.0  0.000000  0.0  0.000000   \n",
       "K61  0.000000  0.0  0.0  0.179931  0.0  0.00000  0.0  0.000000  0.0  0.000000   \n",
       "\n",
       "     ...       B79       K40       I22       A37       G58       J02  \\\n",
       "E30  ...  0.359545  0.190162  0.000000  0.000000  0.000000  0.000000   \n",
       "E45  ...  0.274238  0.000000  0.000000  0.000000  0.000000  0.000000   \n",
       "N86  ...  0.000000  0.000000  0.000000  0.000000  0.000000  0.000000   \n",
       "E40  ...  0.285006  0.361944  0.280195  0.000000  0.264085  0.000000   \n",
       "F62  ...  0.000000  0.000000  0.000000  0.000000  0.000000  0.000000   \n",
       "..   ...       ...       ...       ...       ...       ...       ...   \n",
       "J02  ...  0.346551  0.112625  0.531939  0.405527  0.399718  0.334362   \n",
       "H66  ...  0.255939  0.000000  0.000000  0.000000  0.000000  0.000000   \n",
       "M07  ...  0.300715  0.257641  0.000000  0.000000  0.000000  0.000000   \n",
       "A75  ...  0.282384  0.000000  0.000000  0.000000  0.000000  0.000000   \n",
       "K61  ...  0.179931  0.080811  0.000000  0.000000  0.000000  0.000000   \n",
       "\n",
       "          H66       M07       A75       K61  \n",
       "E30  0.000000  0.301129  0.000000  0.000000  \n",
       "E45  0.000000  0.000000  0.000000  0.000000  \n",
       "N86  0.000000  0.000000  0.000000  0.000000  \n",
       "E40  0.092184  0.283357  0.303297  0.179931  \n",
       "F62  0.000000  0.000000  0.000000  0.000000  \n",
       "..        ...       ...       ...       ...  \n",
       "J02  0.000000  0.000000  0.000000  0.000000  \n",
       "H66  0.500488  0.152830  0.000000  0.000000  \n",
       "M07  0.152830  0.607931  0.269192  0.000000  \n",
       "A75  0.000000  0.269192  0.531939  0.000000  \n",
       "K61  0.000000  0.000000  0.000000  0.000000  \n",
       "\n",
       "[769 rows x 769 columns]"
      ]
     },
     "metadata": {},
     "output_type": "display_data"
    }
   ],
   "source": [
    "open_target_df = pd.read_csv(harmonized_fname.replace('.csv', '_icd.csv'))\n",
    "open_target_df.index = open_target_df.columns\n",
    "# open_target_df = (open_target_df > 0).astype(int)\n",
    "display(open_target_df)"
   ]
  },
  {
   "cell_type": "code",
   "execution_count": 345,
   "id": "8bef79a7",
   "metadata": {},
   "outputs": [],
   "source": [
    "import time\n",
    "import random\n",
    "from Bio import Entrez\n",
    "from urllib.error import HTTPError\n",
    "\n",
    "Entrez.email = \"your_email@example.com\"\n",
    "\n",
    "# Function to search PubMed with retries\n",
    "def search_pubmed_with_retry(disease1, disease2, max_results=20_000, retries=5, delay=0.5):\n",
    "    query = f\"{disease1} AND {disease2}\"\n",
    "    \n",
    "    for attempt in range(retries):\n",
    "        try:\n",
    "            handle = Entrez.esearch(db=\"pubmed\", term=query, retmax=max_results)\n",
    "            record = Entrez.read(handle)\n",
    "            handle.close()\n",
    "            num_articles = len(record[\"IdList\"])\n",
    "#             print(f\"🔍 {disease1}: Found {num_articles} articles.\")\n",
    "            return num_articles\n",
    "        \n",
    "        except HTTPError as e:\n",
    "            print(f\"⚠️ HTTPError for query '{query}': {e}. Retrying in {delay} seconds...\")\n",
    "        except Exception as e:\n",
    "            print(f\"⚠️ Unexpected error for query '{query}': {e}. Retrying in {delay} seconds...\")\n",
    "        \n",
    "        time.sleep(delay)\n",
    "        delay *= 2  # Exponential backoff\n",
    "    \n",
    "    print(f\"❌ Failed to fetch results for '{query}' after {retries} retries.\")\n",
    "    \n",
    "pubmed_cache = {}\n",
    "\n",
    "def get_pubmed_count_cached(disease1, disease2):\n",
    "    key = (disease1.lower(), disease2.lower())\n",
    "    if key not in pubmed_cache:\n",
    "        pubmed_cache[key] = search_pubmed_with_retry(disease1, disease2)\n",
    "    return pubmed_cache[key]\n"
   ]
  },
  {
   "cell_type": "code",
   "execution_count": 412,
   "id": "2948cc78",
   "metadata": {},
   "outputs": [
    {
     "data": {
      "image/png": "[encoded data removed]",
      "text/plain": [
       "<Figure size 2520x1800 with 2 Axes>"
      ]
     },
     "metadata": {
      "needs_background": "light"
     },
     "output_type": "display_data"
    }
   ],
   "source": [
    "dementia_codes = {'F00': 'Dementia', #'Dementia in Alzheimer\\'s disease'\n",
    "                  'F01': 'Vascular dementia',\n",
    "                  'F02': 'Dementia in other diseases classified elsewhere',\n",
    "                  'F03': 'Unspecified dementia',\n",
    "                  'G30': 'Alzheimer\\'s disease'}\n",
    "\n",
    "with open(harmonized_fname, 'r') as f:\n",
    "    disease_names = f.readline().strip().split(',')\n",
    "rds_files = glob.glob(\"data/dementia_age_groups/*.rds\")\n",
    "\n",
    "disease_name_icd10_dict = dict(zip(disease_names, open_target_df.columns))\n",
    "\n",
    "for TOP_K in [50]:\n",
    "    fig, axes = plt.subplots(1, 2, figsize=(35, 25))  # 3 columns, 1 row\n",
    "    for i, code in enumerate(['F00', 'G30']):\n",
    "        if code in df.index:\n",
    "            df_out = pd.DataFrame(columns=['Graph', 'ICD10', 'Correlated disease', 'Num correlated diseases'])\n",
    "            ind = 0\n",
    "            for f in rds_files:\n",
    "                result = pyreadr.read_r(f) # also works for RData\n",
    "                # result is a dictionary where keys are the name of objects and the values python\n",
    "                df = result[None] # extract the pandas data frame \n",
    "                # dfs[gender].columns = [str(col) for col in df.columns]\n",
    "                df.fillna(0, inplace=True)\n",
    "                df.columns = diag_df['icd_code']\n",
    "                df.index = diag_df['icd_code']\n",
    "                df = df.loc[df.index.isin(open_target_df.index), df.columns.isin(open_target_df.columns)]\n",
    "                row1 = open_target_df.loc[code]\n",
    "                row2 = df.loc[code]\n",
    "\n",
    "                # Get the indices of the TOP_K largest elements in row1\n",
    "                top_indices = np.argpartition(row1.values, -TOP_K)[-TOP_K:]\n",
    "                # Sort those indices by the actual values (optional, to have sorted results)\n",
    "                top_indices = top_indices[np.argsort(-row1.values[top_indices])]\n",
    "                top_disease_names = np.array(disease_names)[top_indices]\n",
    "\n",
    "                # Extract subsets\n",
    "                row1_subset = row1.values[top_indices]\n",
    "                row2_subset = row2.values[top_indices]\n",
    "                try:\n",
    "                    correlated_diseases = top_disease_names[np.nonzero(row2_subset)[0]]\n",
    "                except TypeError as e:\n",
    "                    correlated_diseases = [] \n",
    "\n",
    "                df_out.loc[ind] = [f.split('/')[-1].split('.')[0].replace('All_OR_', ''), code, correlated_diseases, len(correlated_diseases)]\n",
    "                ind+=1\n",
    "#         pd.set_option('display.max_colwidth', None)\n",
    "\n",
    "        gr_dis_dict = dict(zip(df_out['Graph'], df_out['Correlated disease']))\n",
    "\n",
    "        dis_gr_dict = dict()\n",
    "        for graph, dis in gr_dis_dict.items():\n",
    "            for d in dis:\n",
    "                if d in dis_gr_dict.keys():\n",
    "                    dis_gr_dict[d].append(graph)\n",
    "                else:\n",
    "                    dis_gr_dict[d] = [graph]\n",
    "        dis_gr_df = pd.DataFrame({(k, ','.join(v)) for k, v in dis_gr_dict.items()}, columns=['Disease', 'Detected in'])\n",
    "        for gr in sorted(gr_dis_dict.keys()):\n",
    "            dis_gr_df.loc[:, gr.replace('_Age_', ' ') + '0s'] = dis_gr_df['Detected in'].apply(lambda x: 1 if gr in x else 0)\n",
    "        dis_gr_df.rename(columns={'Disease': dementia_codes[code]}, inplace=True)\n",
    "\n",
    "        dis_gr_df = dis_gr_df.drop(columns=['Detected in'])\n",
    "        dis_gr_df.set_index(dementia_codes[code], inplace=True)\n",
    "        for col in dis_gr_df.columns:\n",
    "            if 'Male' in col:\n",
    "                dis_gr_df.loc[:, col] = dis_gr_df[col].apply(lambda x: (x + 1) if x else x)  # For painting in different color\n",
    "\n",
    "        # Modify column and index labels to replace \"Female\" and \"Male\" with symbols\n",
    "        dis_gr_df.columns = [la.replace(\"Female\", \"\").replace(\"Male\", \"\") for la in dis_gr_df.columns]\n",
    "        \n",
    "        # Compute PubMed article counts and modify index labels\n",
    "        new_index = []\n",
    "        for disease in dis_gr_df.index:\n",
    "            cleaned_disease = disease.replace(\"\\\"\", \"\")\n",
    "            pubmed_count = get_pubmed_count_cached(dementia_codes[code], cleaned_disease)\n",
    "            new_lab = f\"{disease_name_icd10_dict[disease]} - {disease} ({pubmed_count})\".replace(\"\\\"\", \"\")\n",
    "            new_index.append(new_lab)\n",
    "\n",
    "        dis_gr_df.index = new_index\n",
    "#         dis_gr_df = dis_gr_df.sort_values(by='Detected in', ascending=False)\n",
    "\n",
    "        # Set font to Arial\n",
    "        plt.rcParams[\"font.family\"] = \"Arial\"\n",
    "\n",
    "        # Custom colormap\n",
    "        male_female_color = [\"#ff8ca3\", \"#8ce4ff\"]\n",
    "        cmap = sns.color_palette([\"white\"] + male_female_color) #\"#ded8d7\"])\n",
    "\n",
    "        # Plot heatmap\n",
    "        ax = sns.heatmap(dis_gr_df, cmap=cmap, cbar=False, linewidths=0.5, linecolor='gray', square=True, ax=axes[i])\n",
    "\n",
    "\n",
    "\n",
    "        # Move x-axis labels to the top\n",
    "        ax.xaxis.set_ticks_position('top')\n",
    "        ax.xaxis.set_label_position('top')\n",
    "\n",
    "        # Make x-axis labels horizontal and increase font sizes\n",
    "        ax.tick_params(axis='x', labelrotation=0, labelsize=26)\n",
    "        ax.tick_params(axis='y', labelsize=31)\n",
    "        ax.tick_params(axis='both', which='both', length=0) # Remove tick marks\n",
    "        ax.set_title(f'{dementia_codes[code]} with top {TOP_K} \\ngenetic risk-associated diseases\\n', size=28)\n",
    "        \n",
    "        mid = len(dis_gr_df.columns) //2\n",
    "        ax.axvline(x=mid, color='black', linewidth=7)\n",
    "\n",
    "        \n",
    "        # Add subplot letter labels (a, b, c...)\n",
    "        label = chr(97 + i)  # 'a' for 0, 'b' for 1, etc.\n",
    "        ax.text(-0.5, 1.05, f'{label}', transform=ax.transAxes,\n",
    "                fontsize=36, fontweight='bold', va='bottom', ha='left')\n",
    "    labels = ['♀ ', '♂ ']\n",
    "\n",
    "    # Create custom legend handles\n",
    "    legend_elements = [\n",
    "        Line2D([0], [0], marker='s', color='w', label=labels[i],\n",
    "               markerfacecolor=male_female_color[i], markersize=42)\n",
    "        for i in range(2)\n",
    "    ]\n",
    "\n",
    "    # Create the legend at the bottom\n",
    "    plt.legend(handles=legend_elements, loc='lower center', bbox_to_anchor=(-0.35, -0.3),\n",
    "               ncol=2, frameon=True, fontsize=36)\n",
    "\n",
    "    # Adjust layout and save to PDF\n",
    "    plt.tight_layout()\n",
    "    pos1 = axes[0].get_position()\n",
    "    pos2 = axes[1].get_position()\n",
    "\n",
    "    new_y0 = pos1.y0 + pos1.height - pos2.height\n",
    "    axes[1].set_position([pos2.x0, new_y0, pos2.width, pos2.height])\n",
    "\n",
    "    plt.savefig(f\"dementia_heatmaps_{TOP_K}.pdf\", dpi=200, format='pdf', bbox_inches='tight')\n",
    "    plt.show()"
   ]
  },
  {
   "cell_type": "code",
   "execution_count": 396,
   "id": "08d29c70",
   "metadata": {},
   "outputs": [
    {
     "data": {
      "text/html": [
       "<div>\n",
       "<style scoped>\n",
       "    .dataframe tbody tr th:only-of-type {\n",
       "        vertical-align: middle;\n",
       "    }\n",
       "\n",
       "    .dataframe tbody tr th {\n",
       "        vertical-align: top;\n",
       "    }\n",
       "\n",
       "    .dataframe thead th {\n",
       "        text-align: right;\n",
       "    }\n",
       "</style>\n",
       "<table border=\"1\" class=\"dataframe\">\n",
       "  <thead>\n",
       "    <tr style=\"text-align: right;\">\n",
       "      <th></th>\n",
       "      <th>Graph</th>\n",
       "      <th>ICD10</th>\n",
       "      <th>Correlated disease</th>\n",
       "      <th>Num correlated diseases</th>\n",
       "    </tr>\n",
       "  </thead>\n",
       "  <tbody>\n",
       "    <tr>\n",
       "      <th>0</th>\n",
       "      <td>Female_Age_9</td>\n",
       "      <td>F00</td>\n",
       "      <td>[Pressure ulcer, Gastric ulcer, Otitis externa, Malignant neoplasm of small intestine, Monocytic leukemia, Vasomotor and allergic rhinitis, Dental caries, Vitamin B12 deficiency anemia]</td>\n",
       "      <td>8</td>\n",
       "    </tr>\n",
       "    <tr>\n",
       "      <th>1</th>\n",
       "      <td>Female_Age_8</td>\n",
       "      <td>F00</td>\n",
       "      <td>[Ankylosing spondylitis, Pressure ulcer, Gastric ulcer, Otitis externa, Disorders resulting from impaired renal tubular function, Malignant neoplasm of small intestine, Monocytic leukemia, Vasomotor and allergic rhinitis, Dental caries, Vitamin B12 deficiency anemia]</td>\n",
       "      <td>10</td>\n",
       "    </tr>\n",
       "    <tr>\n",
       "      <th>2</th>\n",
       "      <td>Male_Age_8</td>\n",
       "      <td>F00</td>\n",
       "      <td>[Pressure ulcer, Otitis externa, Disorders resulting from impaired renal tubular function, Malignant neoplasm of small intestine, Monocytic leukemia, Rheumatic aortic valve diseases, Vasomotor and allergic rhinitis, Vitamin B12 deficiency anemia]</td>\n",
       "      <td>8</td>\n",
       "    </tr>\n",
       "    <tr>\n",
       "      <th>3</th>\n",
       "      <td>Male_Age_9</td>\n",
       "      <td>F00</td>\n",
       "      <td>[Ankylosing spondylitis, Pressure ulcer, Otitis externa, Nerve root and plexus disorders, Disorders resulting from impaired renal tubular function, Malignant neoplasm of small intestine, Monocytic leukemia, Vasomotor and allergic rhinitis, Dental caries, Vitamin B12 deficiency anemia]</td>\n",
       "      <td>10</td>\n",
       "    </tr>\n",
       "    <tr>\n",
       "      <th>4</th>\n",
       "      <td>Male_Age_7</td>\n",
       "      <td>F00</td>\n",
       "      <td>[Pressure ulcer, Disorders resulting from impaired renal tubular function, Malignant neoplasm of small intestine, Vitamin B12 deficiency anemia]</td>\n",
       "      <td>4</td>\n",
       "    </tr>\n",
       "    <tr>\n",
       "      <th>5</th>\n",
       "      <td>Male_Age_6</td>\n",
       "      <td>F00</td>\n",
       "      <td>[]</td>\n",
       "      <td>0</td>\n",
       "    </tr>\n",
       "    <tr>\n",
       "      <th>6</th>\n",
       "      <td>Male_Age_5</td>\n",
       "      <td>F00</td>\n",
       "      <td>[]</td>\n",
       "      <td>0</td>\n",
       "    </tr>\n",
       "    <tr>\n",
       "      <th>7</th>\n",
       "      <td>Female_Age_5</td>\n",
       "      <td>F00</td>\n",
       "      <td>[]</td>\n",
       "      <td>0</td>\n",
       "    </tr>\n",
       "    <tr>\n",
       "      <th>8</th>\n",
       "      <td>Female_Age_6</td>\n",
       "      <td>F00</td>\n",
       "      <td>[]</td>\n",
       "      <td>0</td>\n",
       "    </tr>\n",
       "    <tr>\n",
       "      <th>9</th>\n",
       "      <td>Female_Age_7</td>\n",
       "      <td>F00</td>\n",
       "      <td>[Otitis externa, Disorders resulting from impaired renal tubular function, Malignant neoplasm of small intestine, Vitamin B12 deficiency anemia]</td>\n",
       "      <td>4</td>\n",
       "    </tr>\n",
       "    <tr>\n",
       "      <th>10</th>\n",
       "      <td>Female_Age_9</td>\n",
       "      <td>G30</td>\n",
       "      <td>[Pressure ulcer, Monocytic leukemia, Vasomotor and allergic rhinitis, Dental caries, \"Major depressive disorder, Malignant neoplasm of corpus uteri]</td>\n",
       "      <td>6</td>\n",
       "    </tr>\n",
       "    <tr>\n",
       "      <th>11</th>\n",
       "      <td>Female_Age_8</td>\n",
       "      <td>G30</td>\n",
       "      <td>[Ankylosing spondylitis, Pressure ulcer, Monocytic leukemia, Vasomotor and allergic rhinitis, Dental caries, Malignant neoplasm of corpus uteri]</td>\n",
       "      <td>6</td>\n",
       "    </tr>\n",
       "    <tr>\n",
       "      <th>12</th>\n",
       "      <td>Male_Age_8</td>\n",
       "      <td>G30</td>\n",
       "      <td>[Pressure ulcer, Monocytic leukemia, Rheumatic aortic valve diseases, Vasomotor and allergic rhinitis, Dental caries, Malignant neoplasm of corpus uteri]</td>\n",
       "      <td>6</td>\n",
       "    </tr>\n",
       "    <tr>\n",
       "      <th>13</th>\n",
       "      <td>Male_Age_9</td>\n",
       "      <td>G30</td>\n",
       "      <td>[Ankylosing spondylitis, Pressure ulcer, Nerve root and plexus disorders, Monocytic leukemia, Vasomotor and allergic rhinitis, Dental caries, \"Major depressive disorder, Malignant neoplasm of corpus uteri]</td>\n",
       "      <td>8</td>\n",
       "    </tr>\n",
       "    <tr>\n",
       "      <th>14</th>\n",
       "      <td>Male_Age_7</td>\n",
       "      <td>G30</td>\n",
       "      <td>[Pressure ulcer, Vasomotor and allergic rhinitis]</td>\n",
       "      <td>2</td>\n",
       "    </tr>\n",
       "    <tr>\n",
       "      <th>15</th>\n",
       "      <td>Male_Age_6</td>\n",
       "      <td>G30</td>\n",
       "      <td>[]</td>\n",
       "      <td>0</td>\n",
       "    </tr>\n",
       "    <tr>\n",
       "      <th>16</th>\n",
       "      <td>Male_Age_5</td>\n",
       "      <td>G30</td>\n",
       "      <td>[]</td>\n",
       "      <td>0</td>\n",
       "    </tr>\n",
       "    <tr>\n",
       "      <th>17</th>\n",
       "      <td>Female_Age_5</td>\n",
       "      <td>G30</td>\n",
       "      <td>[]</td>\n",
       "      <td>0</td>\n",
       "    </tr>\n",
       "    <tr>\n",
       "      <th>18</th>\n",
       "      <td>Female_Age_6</td>\n",
       "      <td>G30</td>\n",
       "      <td>[]</td>\n",
       "      <td>0</td>\n",
       "    </tr>\n",
       "    <tr>\n",
       "      <th>19</th>\n",
       "      <td>Female_Age_7</td>\n",
       "      <td>G30</td>\n",
       "      <td>[Pressure ulcer]</td>\n",
       "      <td>1</td>\n",
       "    </tr>\n",
       "  </tbody>\n",
       "</table>\n",
       "</div>"
      ],
      "text/plain": [
       "           Graph ICD10  \\\n",
       "0   Female_Age_9   F00   \n",
       "1   Female_Age_8   F00   \n",
       "2     Male_Age_8   F00   \n",
       "3     Male_Age_9   F00   \n",
       "4     Male_Age_7   F00   \n",
       "5     Male_Age_6   F00   \n",
       "6     Male_Age_5   F00   \n",
       "7   Female_Age_5   F00   \n",
       "8   Female_Age_6   F00   \n",
       "9   Female_Age_7   F00   \n",
       "10  Female_Age_9   G30   \n",
       "11  Female_Age_8   G30   \n",
       "12    Male_Age_8   G30   \n",
       "13    Male_Age_9   G30   \n",
       "14    Male_Age_7   G30   \n",
       "15    Male_Age_6   G30   \n",
       "16    Male_Age_5   G30   \n",
       "17  Female_Age_5   G30   \n",
       "18  Female_Age_6   G30   \n",
       "19  Female_Age_7   G30   \n",
       "\n",
       "                                                                                                                                                                                                                                                                               Correlated disease  \\\n",
       "0                                                                                                       [Pressure ulcer, Gastric ulcer, Otitis externa, Malignant neoplasm of small intestine, Monocytic leukemia, Vasomotor and allergic rhinitis, Dental caries, Vitamin B12 deficiency anemia]   \n",
       "1                     [Ankylosing spondylitis, Pressure ulcer, Gastric ulcer, Otitis externa, Disorders resulting from impaired renal tubular function, Malignant neoplasm of small intestine, Monocytic leukemia, Vasomotor and allergic rhinitis, Dental caries, Vitamin B12 deficiency anemia]   \n",
       "2                                          [Pressure ulcer, Otitis externa, Disorders resulting from impaired renal tubular function, Malignant neoplasm of small intestine, Monocytic leukemia, Rheumatic aortic valve diseases, Vasomotor and allergic rhinitis, Vitamin B12 deficiency anemia]   \n",
       "3   [Ankylosing spondylitis, Pressure ulcer, Otitis externa, Nerve root and plexus disorders, Disorders resulting from impaired renal tubular function, Malignant neoplasm of small intestine, Monocytic leukemia, Vasomotor and allergic rhinitis, Dental caries, Vitamin B12 deficiency anemia]   \n",
       "4                                                                                                                                                [Pressure ulcer, Disorders resulting from impaired renal tubular function, Malignant neoplasm of small intestine, Vitamin B12 deficiency anemia]   \n",
       "5                                                                                                                                                                                                                                                                                              []   \n",
       "6                                                                                                                                                                                                                                                                                              []   \n",
       "7                                                                                                                                                                                                                                                                                              []   \n",
       "8                                                                                                                                                                                                                                                                                              []   \n",
       "9                                                                                                                                                [Otitis externa, Disorders resulting from impaired renal tubular function, Malignant neoplasm of small intestine, Vitamin B12 deficiency anemia]   \n",
       "10                                                                                                                                           [Pressure ulcer, Monocytic leukemia, Vasomotor and allergic rhinitis, Dental caries, \"Major depressive disorder, Malignant neoplasm of corpus uteri]   \n",
       "11                                                                                                                                               [Ankylosing spondylitis, Pressure ulcer, Monocytic leukemia, Vasomotor and allergic rhinitis, Dental caries, Malignant neoplasm of corpus uteri]   \n",
       "12                                                                                                                                      [Pressure ulcer, Monocytic leukemia, Rheumatic aortic valve diseases, Vasomotor and allergic rhinitis, Dental caries, Malignant neoplasm of corpus uteri]   \n",
       "13                                                                                  [Ankylosing spondylitis, Pressure ulcer, Nerve root and plexus disorders, Monocytic leukemia, Vasomotor and allergic rhinitis, Dental caries, \"Major depressive disorder, Malignant neoplasm of corpus uteri]   \n",
       "14                                                                                                                                                                                                                                              [Pressure ulcer, Vasomotor and allergic rhinitis]   \n",
       "15                                                                                                                                                                                                                                                                                             []   \n",
       "16                                                                                                                                                                                                                                                                                             []   \n",
       "17                                                                                                                                                                                                                                                                                             []   \n",
       "18                                                                                                                                                                                                                                                                                             []   \n",
       "19                                                                                                                                                                                                                                                                               [Pressure ulcer]   \n",
       "\n",
       "    Num correlated diseases  \n",
       "0                         8  \n",
       "1                        10  \n",
       "2                         8  \n",
       "3                        10  \n",
       "4                         4  \n",
       "5                         0  \n",
       "6                         0  \n",
       "7                         0  \n",
       "8                         0  \n",
       "9                         4  \n",
       "10                        6  \n",
       "11                        6  \n",
       "12                        6  \n",
       "13                        8  \n",
       "14                        2  \n",
       "15                        0  \n",
       "16                        0  \n",
       "17                        0  \n",
       "18                        0  \n",
       "19                        1  "
      ]
     },
     "execution_count": 396,
     "metadata": {},
     "output_type": "execute_result"
    }
   ],
   "source": [
    "df_out"
   ]
  },
  {
   "cell_type": "code",
   "execution_count": 359,
   "id": "8f073e13",
   "metadata": {},
   "outputs": [
    {
     "data": {
      "text/html": [
       "<div>\n",
       "<style scoped>\n",
       "    .dataframe tbody tr th:only-of-type {\n",
       "        vertical-align: middle;\n",
       "    }\n",
       "\n",
       "    .dataframe tbody tr th {\n",
       "        vertical-align: top;\n",
       "    }\n",
       "\n",
       "    .dataframe thead th {\n",
       "        text-align: right;\n",
       "    }\n",
       "</style>\n",
       "<table border=\"1\" class=\"dataframe\">\n",
       "  <thead>\n",
       "    <tr style=\"text-align: right;\">\n",
       "      <th></th>\n",
       "      <th>♀\\n 50s</th>\n",
       "      <th>♀\\n 60s</th>\n",
       "      <th>♀\\n 70s</th>\n",
       "      <th>♀\\n 80s</th>\n",
       "      <th>♀\\n 90s</th>\n",
       "      <th>♂\\n 50s</th>\n",
       "      <th>♂\\n 60s</th>\n",
       "      <th>♂\\n 70s</th>\n",
       "      <th>♂\\n 80s</th>\n",
       "      <th>♂\\n 90s</th>\n",
       "    </tr>\n",
       "  </thead>\n",
       "  <tbody>\n",
       "    <tr>\n",
       "      <th>Otitis externa (0)</th>\n",
       "      <td>0</td>\n",
       "      <td>0</td>\n",
       "      <td>0</td>\n",
       "      <td>0</td>\n",
       "      <td>0</td>\n",
       "      <td>0</td>\n",
       "      <td>0</td>\n",
       "      <td>0</td>\n",
       "      <td>1</td>\n",
       "      <td>1</td>\n",
       "    </tr>\n",
       "    <tr>\n",
       "      <th>Nerve root and plexus disorders (1)</th>\n",
       "      <td>0</td>\n",
       "      <td>0</td>\n",
       "      <td>0</td>\n",
       "      <td>0</td>\n",
       "      <td>0</td>\n",
       "      <td>0</td>\n",
       "      <td>0</td>\n",
       "      <td>0</td>\n",
       "      <td>0</td>\n",
       "      <td>1</td>\n",
       "    </tr>\n",
       "    <tr>\n",
       "      <th>Rheumatic aortic valve diseases (3)</th>\n",
       "      <td>0</td>\n",
       "      <td>0</td>\n",
       "      <td>0</td>\n",
       "      <td>0</td>\n",
       "      <td>0</td>\n",
       "      <td>0</td>\n",
       "      <td>0</td>\n",
       "      <td>0</td>\n",
       "      <td>1</td>\n",
       "      <td>0</td>\n",
       "    </tr>\n",
       "    <tr>\n",
       "      <th>Malignant neoplasm of small intestine (4)</th>\n",
       "      <td>0</td>\n",
       "      <td>0</td>\n",
       "      <td>0</td>\n",
       "      <td>0</td>\n",
       "      <td>0</td>\n",
       "      <td>0</td>\n",
       "      <td>0</td>\n",
       "      <td>1</td>\n",
       "      <td>1</td>\n",
       "      <td>1</td>\n",
       "    </tr>\n",
       "    <tr>\n",
       "      <th>Disorders resulting from impaired renal tubular function (1)</th>\n",
       "      <td>0</td>\n",
       "      <td>0</td>\n",
       "      <td>0</td>\n",
       "      <td>0</td>\n",
       "      <td>0</td>\n",
       "      <td>0</td>\n",
       "      <td>0</td>\n",
       "      <td>1</td>\n",
       "      <td>1</td>\n",
       "      <td>1</td>\n",
       "    </tr>\n",
       "    <tr>\n",
       "      <th>Vitamin B12 deficiency anemia (31)</th>\n",
       "      <td>0</td>\n",
       "      <td>0</td>\n",
       "      <td>0</td>\n",
       "      <td>0</td>\n",
       "      <td>0</td>\n",
       "      <td>0</td>\n",
       "      <td>0</td>\n",
       "      <td>1</td>\n",
       "      <td>1</td>\n",
       "      <td>1</td>\n",
       "    </tr>\n",
       "    <tr>\n",
       "      <th>Monocytic leukemia (10)</th>\n",
       "      <td>0</td>\n",
       "      <td>0</td>\n",
       "      <td>0</td>\n",
       "      <td>1</td>\n",
       "      <td>1</td>\n",
       "      <td>0</td>\n",
       "      <td>0</td>\n",
       "      <td>0</td>\n",
       "      <td>1</td>\n",
       "      <td>1</td>\n",
       "    </tr>\n",
       "    <tr>\n",
       "      <th>Vasomotor and allergic rhinitis (1)</th>\n",
       "      <td>0</td>\n",
       "      <td>0</td>\n",
       "      <td>0</td>\n",
       "      <td>1</td>\n",
       "      <td>1</td>\n",
       "      <td>0</td>\n",
       "      <td>0</td>\n",
       "      <td>0</td>\n",
       "      <td>1</td>\n",
       "      <td>1</td>\n",
       "    </tr>\n",
       "    <tr>\n",
       "      <th>Dental caries (50)</th>\n",
       "      <td>0</td>\n",
       "      <td>0</td>\n",
       "      <td>0</td>\n",
       "      <td>1</td>\n",
       "      <td>1</td>\n",
       "      <td>0</td>\n",
       "      <td>0</td>\n",
       "      <td>0</td>\n",
       "      <td>0</td>\n",
       "      <td>1</td>\n",
       "    </tr>\n",
       "    <tr>\n",
       "      <th>Pressure ulcer (46)</th>\n",
       "      <td>0</td>\n",
       "      <td>0</td>\n",
       "      <td>1</td>\n",
       "      <td>1</td>\n",
       "      <td>1</td>\n",
       "      <td>0</td>\n",
       "      <td>0</td>\n",
       "      <td>1</td>\n",
       "      <td>1</td>\n",
       "      <td>1</td>\n",
       "    </tr>\n",
       "    <tr>\n",
       "      <th>Malignant neoplasm of corpus uteri (0)</th>\n",
       "      <td>0</td>\n",
       "      <td>0</td>\n",
       "      <td>0</td>\n",
       "      <td>1</td>\n",
       "      <td>1</td>\n",
       "      <td>0</td>\n",
       "      <td>0</td>\n",
       "      <td>0</td>\n",
       "      <td>0</td>\n",
       "      <td>0</td>\n",
       "    </tr>\n",
       "    <tr>\n",
       "      <th>Major depressive disorder (2493)</th>\n",
       "      <td>0</td>\n",
       "      <td>0</td>\n",
       "      <td>0</td>\n",
       "      <td>0</td>\n",
       "      <td>1</td>\n",
       "      <td>0</td>\n",
       "      <td>0</td>\n",
       "      <td>0</td>\n",
       "      <td>0</td>\n",
       "      <td>0</td>\n",
       "    </tr>\n",
       "    <tr>\n",
       "      <th>Ankylosing spondylitis (20)</th>\n",
       "      <td>0</td>\n",
       "      <td>0</td>\n",
       "      <td>0</td>\n",
       "      <td>1</td>\n",
       "      <td>0</td>\n",
       "      <td>0</td>\n",
       "      <td>0</td>\n",
       "      <td>0</td>\n",
       "      <td>0</td>\n",
       "      <td>1</td>\n",
       "    </tr>\n",
       "  </tbody>\n",
       "</table>\n",
       "</div>"
      ],
      "text/plain": [
       "                                                              ♀\\n 50s  \\\n",
       "Otitis externa (0)                                                  0   \n",
       "Nerve root and plexus disorders (1)                                 0   \n",
       "Rheumatic aortic valve diseases (3)                                 0   \n",
       "Malignant neoplasm of small intestine (4)                           0   \n",
       "Disorders resulting from impaired renal tubular function (1)        0   \n",
       "Vitamin B12 deficiency anemia (31)                                  0   \n",
       "Monocytic leukemia (10)                                             0   \n",
       "Vasomotor and allergic rhinitis (1)                                 0   \n",
       "Dental caries (50)                                                  0   \n",
       "Pressure ulcer (46)                                                 0   \n",
       "Malignant neoplasm of corpus uteri (0)                              0   \n",
       "Major depressive disorder (2493)                                    0   \n",
       "Ankylosing spondylitis (20)                                         0   \n",
       "\n",
       "                                                              ♀\\n 60s  \\\n",
       "Otitis externa (0)                                                  0   \n",
       "Nerve root and plexus disorders (1)                                 0   \n",
       "Rheumatic aortic valve diseases (3)                                 0   \n",
       "Malignant neoplasm of small intestine (4)                           0   \n",
       "Disorders resulting from impaired renal tubular function (1)        0   \n",
       "Vitamin B12 deficiency anemia (31)                                  0   \n",
       "Monocytic leukemia (10)                                             0   \n",
       "Vasomotor and allergic rhinitis (1)                                 0   \n",
       "Dental caries (50)                                                  0   \n",
       "Pressure ulcer (46)                                                 0   \n",
       "Malignant neoplasm of corpus uteri (0)                              0   \n",
       "Major depressive disorder (2493)                                    0   \n",
       "Ankylosing spondylitis (20)                                         0   \n",
       "\n",
       "                                                              ♀\\n 70s  \\\n",
       "Otitis externa (0)                                                  0   \n",
       "Nerve root and plexus disorders (1)                                 0   \n",
       "Rheumatic aortic valve diseases (3)                                 0   \n",
       "Malignant neoplasm of small intestine (4)                           0   \n",
       "Disorders resulting from impaired renal tubular function (1)        0   \n",
       "Vitamin B12 deficiency anemia (31)                                  0   \n",
       "Monocytic leukemia (10)                                             0   \n",
       "Vasomotor and allergic rhinitis (1)                                 0   \n",
       "Dental caries (50)                                                  0   \n",
       "Pressure ulcer (46)                                                 1   \n",
       "Malignant neoplasm of corpus uteri (0)                              0   \n",
       "Major depressive disorder (2493)                                    0   \n",
       "Ankylosing spondylitis (20)                                         0   \n",
       "\n",
       "                                                              ♀\\n 80s  \\\n",
       "Otitis externa (0)                                                  0   \n",
       "Nerve root and plexus disorders (1)                                 0   \n",
       "Rheumatic aortic valve diseases (3)                                 0   \n",
       "Malignant neoplasm of small intestine (4)                           0   \n",
       "Disorders resulting from impaired renal tubular function (1)        0   \n",
       "Vitamin B12 deficiency anemia (31)                                  0   \n",
       "Monocytic leukemia (10)                                             1   \n",
       "Vasomotor and allergic rhinitis (1)                                 1   \n",
       "Dental caries (50)                                                  1   \n",
       "Pressure ulcer (46)                                                 1   \n",
       "Malignant neoplasm of corpus uteri (0)                              1   \n",
       "Major depressive disorder (2493)                                    0   \n",
       "Ankylosing spondylitis (20)                                         1   \n",
       "\n",
       "                                                              ♀\\n 90s  \\\n",
       "Otitis externa (0)                                                  0   \n",
       "Nerve root and plexus disorders (1)                                 0   \n",
       "Rheumatic aortic valve diseases (3)                                 0   \n",
       "Malignant neoplasm of small intestine (4)                           0   \n",
       "Disorders resulting from impaired renal tubular function (1)        0   \n",
       "Vitamin B12 deficiency anemia (31)                                  0   \n",
       "Monocytic leukemia (10)                                             1   \n",
       "Vasomotor and allergic rhinitis (1)                                 1   \n",
       "Dental caries (50)                                                  1   \n",
       "Pressure ulcer (46)                                                 1   \n",
       "Malignant neoplasm of corpus uteri (0)                              1   \n",
       "Major depressive disorder (2493)                                    1   \n",
       "Ankylosing spondylitis (20)                                         0   \n",
       "\n",
       "                                                              ♂\\n 50s  \\\n",
       "Otitis externa (0)                                                  0   \n",
       "Nerve root and plexus disorders (1)                                 0   \n",
       "Rheumatic aortic valve diseases (3)                                 0   \n",
       "Malignant neoplasm of small intestine (4)                           0   \n",
       "Disorders resulting from impaired renal tubular function (1)        0   \n",
       "Vitamin B12 deficiency anemia (31)                                  0   \n",
       "Monocytic leukemia (10)                                             0   \n",
       "Vasomotor and allergic rhinitis (1)                                 0   \n",
       "Dental caries (50)                                                  0   \n",
       "Pressure ulcer (46)                                                 0   \n",
       "Malignant neoplasm of corpus uteri (0)                              0   \n",
       "Major depressive disorder (2493)                                    0   \n",
       "Ankylosing spondylitis (20)                                         0   \n",
       "\n",
       "                                                              ♂\\n 60s  \\\n",
       "Otitis externa (0)                                                  0   \n",
       "Nerve root and plexus disorders (1)                                 0   \n",
       "Rheumatic aortic valve diseases (3)                                 0   \n",
       "Malignant neoplasm of small intestine (4)                           0   \n",
       "Disorders resulting from impaired renal tubular function (1)        0   \n",
       "Vitamin B12 deficiency anemia (31)                                  0   \n",
       "Monocytic leukemia (10)                                             0   \n",
       "Vasomotor and allergic rhinitis (1)                                 0   \n",
       "Dental caries (50)                                                  0   \n",
       "Pressure ulcer (46)                                                 0   \n",
       "Malignant neoplasm of corpus uteri (0)                              0   \n",
       "Major depressive disorder (2493)                                    0   \n",
       "Ankylosing spondylitis (20)                                         0   \n",
       "\n",
       "                                                              ♂\\n 70s  \\\n",
       "Otitis externa (0)                                                  0   \n",
       "Nerve root and plexus disorders (1)                                 0   \n",
       "Rheumatic aortic valve diseases (3)                                 0   \n",
       "Malignant neoplasm of small intestine (4)                           1   \n",
       "Disorders resulting from impaired renal tubular function (1)        1   \n",
       "Vitamin B12 deficiency anemia (31)                                  1   \n",
       "Monocytic leukemia (10)                                             0   \n",
       "Vasomotor and allergic rhinitis (1)                                 0   \n",
       "Dental caries (50)                                                  0   \n",
       "Pressure ulcer (46)                                                 1   \n",
       "Malignant neoplasm of corpus uteri (0)                              0   \n",
       "Major depressive disorder (2493)                                    0   \n",
       "Ankylosing spondylitis (20)                                         0   \n",
       "\n",
       "                                                              ♂\\n 80s  ♂\\n 90s  \n",
       "Otitis externa (0)                                                  1        1  \n",
       "Nerve root and plexus disorders (1)                                 0        1  \n",
       "Rheumatic aortic valve diseases (3)                                 1        0  \n",
       "Malignant neoplasm of small intestine (4)                           1        1  \n",
       "Disorders resulting from impaired renal tubular function (1)        1        1  \n",
       "Vitamin B12 deficiency anemia (31)                                  1        1  \n",
       "Monocytic leukemia (10)                                             1        1  \n",
       "Vasomotor and allergic rhinitis (1)                                 1        1  \n",
       "Dental caries (50)                                                  0        1  \n",
       "Pressure ulcer (46)                                                 1        1  \n",
       "Malignant neoplasm of corpus uteri (0)                              0        0  \n",
       "Major depressive disorder (2493)                                    0        0  \n",
       "Ankylosing spondylitis (20)                                         0        1  "
      ]
     },
     "execution_count": 359,
     "metadata": {},
     "output_type": "execute_result"
    }
   ],
   "source": [
    "dis_gr_df"
   ]
  },
  {
   "cell_type": "code",
   "execution_count": 328,
   "id": "3931d797",
   "metadata": {},
   "outputs": [
    {
     "data": {
      "text/plain": [
       "array([0.99473739, 0.98341496, 0.97581435, 0.95141306, 0.94741417,\n",
       "       0.94177487, 0.9402794 , 0.92208086, 0.9180229 , 0.9176432 ,\n",
       "       0.91742769, 0.91567463, 0.91473246, 0.91136025, 0.90648098,\n",
       "       0.89668344, 0.89522541, 0.89163074, 0.89050908, 0.88684141,\n",
       "       0.88500876, 0.88475705, 0.87434957, 0.87434957, 0.87370408,\n",
       "       0.86627606, 0.86545704, 0.86545704, 0.86545704, 0.86545704,\n",
       "       0.86515343, 0.86515343, 0.86501601, 0.8559741 , 0.85577904,\n",
       "       0.85475644, 0.84857512, 0.84836135, 0.84836135, 0.84521244,\n",
       "       0.8448599 , 0.84483944, 0.8443168 , 0.84395251, 0.84387283,\n",
       "       0.84205505, 0.84109614, 0.83816152, 0.83708438, 0.83134278,\n",
       "       0.83031867, 0.83021457, 0.82825476, 0.82746136, 0.82739809,\n",
       "       0.82721367, 0.82721367, 0.8235943 , 0.81732117, 0.81307956,\n",
       "       0.80334704, 0.79622048, 0.79047837, 0.79009818, 0.78128163,\n",
       "       0.78098159, 0.77891133, 0.77630863, 0.77496267, 0.77496267,\n",
       "       0.76819016, 0.76709046, 0.761328  , 0.7599135 , 0.7599135 ,\n",
       "       0.7599135 , 0.7599135 , 0.7599135 , 0.75734136, 0.75429891,\n",
       "       0.74701152, 0.74658491, 0.74583979, 0.74455798, 0.74307594,\n",
       "       0.74064882, 0.73815524, 0.7342945 , 0.73342357, 0.73016386,\n",
       "       0.72710035, 0.72710035, 0.72710035, 0.72710035, 0.72710035,\n",
       "       0.72710035, 0.72710035, 0.72703496, 0.72658646, 0.7257434 ,\n",
       "       0.72572882, 0.72124081, 0.71600738, 0.71320921, 0.71302851,\n",
       "       0.70564469, 0.70467989, 0.70404143, 0.70207942, 0.69912042,\n",
       "       0.69912042, 0.69864364, 0.69774535, 0.69608076, 0.69481931,\n",
       "       0.6922689 , 0.68392215, 0.6808958 , 0.68012349, 0.67959089,\n",
       "       0.67907015, 0.67790743, 0.6756402 , 0.67335864, 0.67281556,\n",
       "       0.67069654, 0.67069654, 0.67042477, 0.66849253, 0.6612386 ,\n",
       "       0.66034247, 0.65635962, 0.65366375, 0.65352561, 0.64845522,\n",
       "       0.64845522, 0.64640777, 0.64542847, 0.6400789 , 0.63998395,\n",
       "       0.63821471, 0.63699307, 0.63187151, 0.62832779, 0.62519772,\n",
       "       0.62317043, 0.62317043, 0.62284199, 0.6223212 , 0.62061552,\n",
       "       0.61750571, 0.61596495, 0.6156988 , 0.61431775, 0.61230295,\n",
       "       0.61172502, 0.60969371, 0.6079308 , 0.6079308 , 0.6079308 ,\n",
       "       0.6079308 , 0.6079308 , 0.6079308 , 0.6079308 , 0.6079308 ,\n",
       "       0.6079308 , 0.6079308 , 0.6079308 , 0.6079308 , 0.6079308 ,\n",
       "       0.6079308 , 0.6079308 , 0.6079308 , 0.6079308 , 0.6079308 ,\n",
       "       0.6079308 , 0.6079308 , 0.6079308 , 0.6079308 , 0.6079308 ,\n",
       "       0.6079308 , 0.6079308 , 0.6079308 , 0.6079308 , 0.6079308 ,\n",
       "       0.6079308 , 0.6079308 , 0.6079308 , 0.6079308 , 0.6079308 ,\n",
       "       0.6079308 , 0.6079308 , 0.6079308 , 0.6079308 , 0.60687536,\n",
       "       0.60581993, 0.60581993, 0.60581993, 0.60581993, 0.60581993])"
      ]
     },
     "execution_count": 328,
     "metadata": {},
     "output_type": "execute_result"
    }
   ],
   "source": [
    "row1_subset"
   ]
  },
  {
   "cell_type": "code",
   "execution_count": 325,
   "id": "b24cef2c",
   "metadata": {},
   "outputs": [
    {
     "data": {
      "text/plain": [
       "array([ 0.        ,  0.        ,  0.        ,  0.        ,  0.        ,\n",
       "        0.        ,  3.02771537,  0.        ,  0.        ,  0.        ,\n",
       "        0.        ,  0.        ,  0.        ,  0.        ,  0.        ,\n",
       "        0.        ,  0.        ,  0.        ,  0.        ,  0.        ,\n",
       "        0.        ,  0.        ,  0.        ,  0.        ,  0.        ,\n",
       "        0.        ,  0.        ,  0.        ,  0.        ,  0.        ,\n",
       "        0.        ,  0.        ,  0.        ,  0.        ,  0.        ,\n",
       "        0.        ,  0.        ,  0.        ,  0.        ,  0.        ,\n",
       "        0.        ,  0.        ,  0.        ,  0.        ,  0.        ,\n",
       "        0.        ,  0.        ,  0.        ,  0.        ,  0.        ,\n",
       "        0.        ,  0.        ,  0.        ,  0.        ,  0.        ,\n",
       "        0.        ,  0.        ,  0.        ,  0.        ,  0.        ,\n",
       "        0.        ,  0.        ,  0.        ,  0.        ,  0.        ,\n",
       "        0.        ,  0.        ,  0.        ,  0.        ,  0.        ,\n",
       "        0.        ,  0.        ,  0.        ,  0.        ,  0.        ,\n",
       "        0.        ,  0.        ,  0.        ,  0.        ,  0.        ,\n",
       "        0.        ,  0.        ,  0.        ,  0.        ,  0.        ,\n",
       "        0.        ,  0.        ,  0.        ,  0.        ,  0.        ,\n",
       "        0.        ,  0.        ,  0.        ,  0.        ,  0.        ,\n",
       "        0.        ,  0.        ,  0.        , 14.70497057,  0.        ])"
      ]
     },
     "execution_count": 325,
     "metadata": {},
     "output_type": "execute_result"
    }
   ],
   "source": [
    "row2_subset"
   ]
  },
  {
   "cell_type": "code",
   "execution_count": null,
   "id": "59adeb3e",
   "metadata": {},
   "outputs": [],
   "source": []
  }
 ],
 "metadata": {
  "kernelspec": {
   "display_name": "Python 3 (ipykernel)",
   "language": "python",
   "name": "python3"
  },
  "language_info": {
   "codemirror_mode": {
    "name": "ipython",
    "version": 3
   },
   "file_extension": ".py",
   "mimetype": "text/x-python",
   "name": "python",
   "nbconvert_exporter": "python",
   "pygments_lexer": "ipython3",
   "version": "3.9.12"
  }
 },
 "nbformat": 4,
 "nbformat_minor": 5
}
